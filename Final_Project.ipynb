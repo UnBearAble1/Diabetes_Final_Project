{
  "nbformat": 4,
  "nbformat_minor": 0,
  "metadata": {
    "colab": {
      "provenance": []
    },
    "kernelspec": {
      "name": "python3",
      "display_name": "Python 3"
    },
    "language_info": {
      "name": "python"
    }
  },
  "cells": [
    {
      "cell_type": "code",
      "execution_count": 1,
      "metadata": {
        "colab": {
          "base_uri": "https://localhost:8080/"
        },
        "id": "V58rxea0HqSa",
        "outputId": "4839debf-423c-4011-c081-f2ccf7474b12"
      },
      "outputs": [
        {
          "output_type": "stream",
          "name": "stdout",
          "text": [
            "\r0% [Working]\r            \rHit:1 http://ppa.launchpad.net/c2d4u.team/c2d4u4.0+/ubuntu focal InRelease\n",
            "\r0% [Connecting to archive.ubuntu.com (185.125.190.36)] [Connecting to security.\r                                                                               \rHit:2 http://archive.ubuntu.com/ubuntu focal InRelease\n",
            "\r                                                                               \rHit:3 http://ppa.launchpad.net/cran/libgit2/ubuntu focal InRelease\n",
            "\r0% [Waiting for headers] [Connecting to security.ubuntu.com (91.189.91.38)] [Co\r                                                                               \rGet:4 http://archive.ubuntu.com/ubuntu focal-updates InRelease [114 kB]\n",
            "\r0% [4 InRelease 21.4 kB/114 kB 19%] [Connecting to security.ubuntu.com (91.189.\r                                                                               \rHit:5 http://ppa.launchpad.net/deadsnakes/ppa/ubuntu focal InRelease\n",
            "\r0% [4 InRelease 21.4 kB/114 kB 19%] [Connecting to security.ubuntu.com (91.189.\r                                                                               \rHit:6 http://ppa.launchpad.net/graphics-drivers/ppa/ubuntu focal InRelease\n",
            "\r0% [Waiting for headers] [Waiting for headers] [Waiting for headers] [Connectin\r                                                                               \rGet:7 https://cloud.r-project.org/bin/linux/ubuntu focal-cran40/ InRelease [3,622 B]\n",
            "Get:8 http://archive.ubuntu.com/ubuntu focal-backports InRelease [108 kB]\n",
            "Hit:9 http://ppa.launchpad.net/ubuntugis/ppa/ubuntu focal InRelease\n",
            "Get:10 https://developer.download.nvidia.com/compute/cuda/repos/ubuntu2004/x86_64  InRelease [1,581 B]\n",
            "Get:11 http://security.ubuntu.com/ubuntu focal-security InRelease [114 kB]\n",
            "Get:12 http://archive.ubuntu.com/ubuntu focal-updates/universe amd64 Packages [1,324 kB]\n",
            "Get:13 http://archive.ubuntu.com/ubuntu focal-updates/main amd64 Packages [3,073 kB]\n",
            "Get:14 http://archive.ubuntu.com/ubuntu focal-updates/restricted amd64 Packages [2,203 kB]\n",
            "Get:15 https://developer.download.nvidia.com/compute/cuda/repos/ubuntu2004/x86_64  Packages [973 kB]\n",
            "Get:16 http://security.ubuntu.com/ubuntu focal-security/main amd64 Packages [2,593 kB]\n",
            "Get:17 http://security.ubuntu.com/ubuntu focal-security/restricted amd64 Packages [2,065 kB]\n",
            "Get:18 http://security.ubuntu.com/ubuntu focal-security/universe amd64 Packages [1,028 kB]\n",
            "Fetched 13.6 MB in 4s (3,663 kB/s)\n",
            "Reading package lists... Done\n"
          ]
        }
      ],
      "source": [
        "import os\n",
        "# Find the latest version of spark 3.2 from http://www.apache.org/dist/spark/ and enter as the spark version\n",
        "# For example:\n",
        "# spark_version = 'spark-3.2.3'\n",
        "spark_version = 'spark-3.2.3'\n",
        "os.environ['SPARK_VERSION']=spark_version\n",
        "\n",
        "# Install Spark and Java\n",
        "!apt-get update\n",
        "!apt-get install openjdk-11-jdk-headless -qq > /dev/null\n",
        "!wget -q http://www.apache.org/dist/spark/$SPARK_VERSION/$SPARK_VERSION-bin-hadoop2.7.tgz\n",
        "!tar xf $SPARK_VERSION-bin-hadoop2.7.tgz\n",
        "!pip install -q findspark\n",
        "\n",
        "# Set Environment Variables\n",
        "import os\n",
        "os.environ[\"JAVA_HOME\"] = \"/usr/lib/jvm/java-11-openjdk-amd64\"\n",
        "os.environ[\"SPARK_HOME\"] = f\"/content/{spark_version}-bin-hadoop2.7\"\n",
        "\n",
        "# Start a SparkSession\n",
        "import findspark\n",
        "findspark.init()"
      ]
    },
    {
      "cell_type": "code",
      "execution_count": 2,
      "metadata": {
        "colab": {
          "base_uri": "https://localhost:8080/"
        },
        "id": "_xKwTpATHqSe",
        "outputId": "beb1b918-bc6d-4c59-c6c8-9324d0242071"
      },
      "outputs": [
        {
          "output_type": "stream",
          "name": "stdout",
          "text": [
            "--2023-04-11 17:25:55--  https://jdbc.postgresql.org/download/postgresql-42.2.16.jar\n",
            "Resolving jdbc.postgresql.org (jdbc.postgresql.org)... 72.32.157.228, 2001:4800:3e1:1::228\n",
            "Connecting to jdbc.postgresql.org (jdbc.postgresql.org)|72.32.157.228|:443... connected.\n",
            "HTTP request sent, awaiting response... 200 OK\n",
            "Length: 1002883 (979K) [application/java-archive]\n",
            "Saving to: ‘postgresql-42.2.16.jar’\n",
            "\n",
            "postgresql-42.2.16. 100%[===================>] 979.38K  1.59MB/s    in 0.6s    \n",
            "\n",
            "2023-04-11 17:25:57 (1.59 MB/s) - ‘postgresql-42.2.16.jar’ saved [1002883/1002883]\n",
            "\n"
          ]
        }
      ],
      "source": [
        "# Download the Postgres driver that will allow Spark to interact with Postgres.\n",
        "!wget https://jdbc.postgresql.org/download/postgresql-42.2.16.jar"
      ]
    },
    {
      "cell_type": "code",
      "execution_count": 3,
      "metadata": {
        "id": "MMqDAjVS0KN9"
      },
      "outputs": [],
      "source": [
        "from pyspark.sql import SparkSession\n",
        "spark = SparkSession.builder.appName(\"Final-Project\").config(\"spark.driver.extraClassPath\",\"/content/postgresql-42.2.16.jar\").getOrCreate()"
      ]
    },
    {
      "cell_type": "markdown",
      "metadata": {
        "id": "cyBsySGuY-9V"
      },
      "source": [
        "### Load Amazon Data into Spark DataFrame"
      ]
    },
    {
      "cell_type": "code",
      "execution_count": 5,
      "metadata": {
        "id": "CtCmBhQJY-9Z",
        "colab": {
          "base_uri": "https://localhost:8080/"
        },
        "outputId": "6093c26d-d5be-412c-d0de-1a697a0fa932"
      },
      "outputs": [
        {
          "output_type": "stream",
          "name": "stdout",
          "text": [
            "+----+------------+------------+--------------------+----------------+--------------------+--------------------+-------------------+------------------+-----------+----------+--------------------+---------------------+-------------+---------------+----------------+--------------------------+-------------------+----------+-------+-------+----------+----------+------------------+----------+----------+--------------------+\n",
            "|Year|Locationabbr|Locationdesc|               Class|           Topic|            Question|            Response|          Break_Out|Break_Out_Category|Sample_Size|Data_value|Confidence_limit_Low|Confidence_limit_High|Display_order|Data_value_unit| Data_value_type|Data_Value_Footnote_Symbol|Data_Value_Footnote|DataSource|ClassId|TopicId|LocationID|BreakoutID|BreakOutCategoryID|QuestionID|ResponseID|         GeoLocation|\n",
            "+----+------------+------------+--------------------+----------------+--------------------+--------------------+-------------------+------------------+-----------+----------+--------------------+---------------------+-------------+---------------+----------------+--------------------------+-------------------+----------+-------+-------+----------+----------+------------------+----------+----------+--------------------+\n",
            "|2012|          GU|        Guam|        Demographics|             Age|   What is your age?|         55-64 years|            Overall|           Overall|        296|      13.1|                11.4|                 14.9|         1167|              %|Crude Prevalence|                      null|               null|     BRFSS|CLASS05|Topic02|        66|       BO1|              CAT1|       AGE|   RESP014|(13.444304, 144.7...|\n",
            "|2012|          GU|        Guam|        Demographics|             Age|   What is your age?|         35-44 years|             Female|            Gender|        272|      21.2|                18.1|                 24.2|         1174|              %|Crude Prevalence|                      null|               null|     BRFSS|CLASS05|Topic02|        66|      SEX2|              CAT2|       AGE|   RESP012|(13.444304, 144.7...|\n",
            "|2020|          AL|     Alabama|Chronic Health In...|      Depression|Ever told you tha...|                 Yes|   College graduate|Education Attained|        356|      19.7|                17.4|                 22.0|            1|              %|Crude Prevalence|                      null|               null|     BRFSS|CLASS03|TOPIC17|         1|    EDUCA4|              CAT5|  ADDEPEV3|   RESP046|(32.8405711220004...|\n",
            "|2020|          AL|     Alabama|Chronic Health In...|        Diabetes|Have you ever bee...|Yes, pregnancy-re...|White, non-Hispanic|    Race/Ethnicity|         32|       0.8|                 0.5|                  1.1|            1|              %|Crude Prevalence|                      null|               null|     BRFSS|CLASS03|TOPIC18|         1|    RACE01|              CAT4|  DIABETE4|   RESP051|(32.8405711220004...|\n",
            "|2020|          AL|     Alabama|Chronic Health In...|        Diabetes|Have you ever bee...|No, pre-diabetes ...|            Overall|           Overall|         92|       1.5|                 1.1|                  1.9|            1|              %|Crude Prevalence|                      null|               null|     BRFSS|CLASS03|TOPIC18|         1|       BO1|              CAT1|  DIABETE4|   RESP052|(32.8405711220004...|\n",
            "|2013|          GU|        Guam|       Health Status|  Overall Health|How is your gener...|           Excellent|              18-24|         Age Group|         69|      24.5|                18.4|                 30.7|           16|              %|Crude Prevalence|                      null|               null|     BRFSS|CLASS08|Topic41|        66|     AGE01|              CAT3|   GENHLTH|   RESP056|(13.444304, 144.7...|\n",
            "|2013|          GU|        Guam|        Demographics|  Marital Status|What is your mari...|           Partnered|     H.S. or G.E.D.|Education Attained|         48|       7.8|                 5.2|                 10.5|           96|              %|Crude Prevalence|                      null|               null|     BRFSS|CLASS05|Topic38|        66|    EDUCA2|              CAT5|   MARITAL|   RESP038|(13.444304, 144.7...|\n",
            "|2013|          PR| Puerto Rico|        Demographics|             Age|   What is your age?|         25-34 years|     Some post-H.S.|Education Attained|        183|      20.4|                17.4|                 23.3|           98|              %|Crude Prevalence|                      null|               null|     BRFSS|CLASS05|Topic02|        72|    EDUCA3|              CAT5|       AGE|   RESP011|(18.220833, -66.5...|\n",
            "|2020|          AL|     Alabama|Colorectal Cancer...|Blood Stool Test|Adults aged 50-75...|Had a blood stool...|  Less than $15,000|  Household Income|         25|      10.0|                 5.6|                 14.4|            1|              %|Crude Prevalence|                      null|               null|     BRFSS|CLASS04|TOPIC08|         1|   INCOME1|              CAT6|  _RFBLDS4|   RESP190|(32.8405711220004...|\n",
            "|2011|          GU|        Guam|        Demographics|             Age|   What is your age?|         45-54 years|           Hispanic|    Race/Ethnicity|         29|      18.5|                11.1|                 25.8|           70|              %|Crude Prevalence|                      null|               null|     BRFSS|CLASS05|Topic02|        66|     RACE3|              CAT4|       AGE|   RESP013|(13.444304, 144.7...|\n",
            "|2011|          GU|        Guam|        Demographics|      Employment|What is your empl...|             Homemkr|                65+|         Age Group|         19|      11.0|                 5.3|                 16.8|           69|              %|Crude Prevalence|                      null|               null|     BRFSS|CLASS05|Topic22|        66|     AGE09|              CAT3|    EMPLOY|   RESP029|(13.444304, 144.7...|\n",
            "|2019|          KS|      Kansas|Health Care Acces...|    Last Checkup|About how long ha...|Within the past year|              45-54|         Age Group|       1235|      76.5|                74.1|                 78.9|            1|              %|Crude Prevalence|                      null|               null|     BRFSS|CLASS07|TOPIC36|        20|     AGE04|              CAT3|  CHECKUP1|   RESP063|(38.3477403000004...|\n",
            "|2020|          AL|     Alabama|        Demographics|      Employment|What is your empl...|         No work >yr|            Overall|           Overall|         92|       2.0|                 1.5|                  2.6|            1|              %|Crude Prevalence|                      null|               null|     BRFSS|CLASS05|TOPIC22|         1|       BO1|              CAT1|   EMPLOY1|   RESP028|(32.8405711220004...|\n",
            "|2020|          AL|     Alabama|        Demographics|      Employment|What is your empl...|         No work >yr|             Female|            Gender|         52|       1.7|                 1.2|                  2.2|            1|              %|Crude Prevalence|                      null|               null|     BRFSS|CLASS05|TOPIC22|         1|      SEX2|              CAT2|   EMPLOY1|   RESP028|(32.8405711220004...|\n",
            "|2013|          GU|        Guam|        Demographics|             Age|   What is your age?|         55-64 years|            Overall|           Overall|        242|      13.3|                11.3|                 15.3|            5|              %|Crude Prevalence|                      null|               null|     BRFSS|CLASS05|Topic02|        66|       BO1|              CAT1|       AGE|   RESP014|(13.444304, 144.7...|\n",
            "|2013|          GU|        Guam|        Immunization|    Tetanus Shot|Since 2005, have ...|                  No|              25-34|         Age Group|        109|      35.2|                28.2|                 42.1|           20|              %|Crude Prevalence|                      null|               null|     BRFSS|CLASS11|Topic58|        66|     AGE02|              CAT3|   TETANUS|   RESP054|(13.444304, 144.7...|\n",
            "|2011|          GU|        Guam|Chronic Health In...|          Vision|Ever told you hav...|                  No|                65+|         Age Group|        135|      63.7|                55.4|                 72.0|           26|              %|Crude Prevalence|                      null|               null|     BRFSS|CLASS03|Topic62|        66|     AGE09|              CAT3|  CHCVISON|   RESP054|(13.444304, 144.7...|\n",
            "|2011|          GU|        Guam|        Demographics|             Age|   What is your age?|         45-54 years|    $15,000-$24,999|  Household Income|         46|      15.7|                10.3|                 21.0|          118|              %|Crude Prevalence|                      null|               null|     BRFSS|CLASS05|Topic02|        66|   INCOME2|              CAT6|       AGE|   RESP013|(13.444304, 144.7...|\n",
            "|2020|          AL|     Alabama|        Demographics|            Race|What is your race...|Multiracial, non-...|     Some post-H.S.|Education Attained|         34|       2.0|                 1.1|                  2.9|            1|              %|Crude Prevalence|                      null|               null|     BRFSS|CLASS05|TOPIC48|         1|    EDUCA3|              CAT5|     RACE8|   RESP200|(32.8405711220004...|\n",
            "|2020|          AL|     Alabama|        Demographics|             Sex|Gender of respondent|                Male|              55-64|         Age Group|        401|      47.5|                43.6|                 51.5|            1|              %|Crude Prevalence|                      null|               null|     BRFSS|CLASS05|TOPIC51|         1|     AGE05|              CAT3|       SEX|   RESP001|(32.8405711220004...|\n",
            "+----+------------+------------+--------------------+----------------+--------------------+--------------------+-------------------+------------------+-----------+----------+--------------------+---------------------+-------------+---------------+----------------+--------------------------+-------------------+----------+-------+-------+----------+----------+------------------+----------+----------+--------------------+\n",
            "only showing top 20 rows\n",
            "\n"
          ]
        }
      ],
      "source": [
        "from pyspark import SparkFiles\n",
        "# Load in the review data from S3 into the dataframe\n",
        "url = \"https://unbearable-1-project-bucket.s3.us-east-2.amazonaws.com/Behavioral_Risk_Factor_Surveillance_System__BRFSS__Prevalence_Data__2011_to_present_.csv\"\n",
        "spark.sparkContext.addFile(url)\n",
        "df = spark.read.option(\"encoding\", \"UTF-8\").csv(SparkFiles.get(\"\"), sep=\",\", header=True, inferSchema=True)\n",
        "df.show()"
      ]
    },
    {
      "cell_type": "markdown",
      "metadata": {
        "id": "2yUSe55VY-9t"
      },
      "source": [
        "### Remove unnecessary Columns\n"
      ]
    },
    {
      "cell_type": "code",
      "source": [],
      "metadata": {
        "id": "CtMB6-hlXsBX"
      },
      "execution_count": null,
      "outputs": []
    }
  ]
}