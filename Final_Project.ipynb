{
  "nbformat": 4,
  "nbformat_minor": 0,
  "metadata": {
    "colab": {
      "provenance": []
    },
    "kernelspec": {
      "name": "python3",
      "display_name": "Python 3"
    },
    "language_info": {
      "name": "python"
    }
  },
  "cells": [
    {
      "cell_type": "code",
      "execution_count": 1,
      "metadata": {
        "colab": {
          "base_uri": "https://localhost:8080/"
        },
        "id": "V58rxea0HqSa",
        "outputId": "4839debf-423c-4011-c081-f2ccf7474b12"
      },
      "outputs": [
        {
          "output_type": "stream",
          "name": "stdout",
          "text": [
            "\r0% [Working]\r            \rHit:1 http://ppa.launchpad.net/c2d4u.team/c2d4u4.0+/ubuntu focal InRelease\n",
            "\r0% [Connecting to archive.ubuntu.com (185.125.190.36)] [Connecting to security.\r                                                                               \rHit:2 http://archive.ubuntu.com/ubuntu focal InRelease\n",
            "\r                                                                               \rHit:3 http://ppa.launchpad.net/cran/libgit2/ubuntu focal InRelease\n",
            "\r0% [Waiting for headers] [Connecting to security.ubuntu.com (91.189.91.38)] [Co\r                                                                               \rGet:4 http://archive.ubuntu.com/ubuntu focal-updates InRelease [114 kB]\n",
            "\r0% [4 InRelease 21.4 kB/114 kB 19%] [Connecting to security.ubuntu.com (91.189.\r                                                                               \rHit:5 http://ppa.launchpad.net/deadsnakes/ppa/ubuntu focal InRelease\n",
            "\r0% [4 InRelease 21.4 kB/114 kB 19%] [Connecting to security.ubuntu.com (91.189.\r                                                                               \rHit:6 http://ppa.launchpad.net/graphics-drivers/ppa/ubuntu focal InRelease\n",
            "\r0% [Waiting for headers] [Waiting for headers] [Waiting for headers] [Connectin\r                                                                               \rGet:7 https://cloud.r-project.org/bin/linux/ubuntu focal-cran40/ InRelease [3,622 B]\n",
            "Get:8 http://archive.ubuntu.com/ubuntu focal-backports InRelease [108 kB]\n",
            "Hit:9 http://ppa.launchpad.net/ubuntugis/ppa/ubuntu focal InRelease\n",
            "Get:10 https://developer.download.nvidia.com/compute/cuda/repos/ubuntu2004/x86_64  InRelease [1,581 B]\n",
            "Get:11 http://security.ubuntu.com/ubuntu focal-security InRelease [114 kB]\n",
            "Get:12 http://archive.ubuntu.com/ubuntu focal-updates/universe amd64 Packages [1,324 kB]\n",
            "Get:13 http://archive.ubuntu.com/ubuntu focal-updates/main amd64 Packages [3,073 kB]\n",
            "Get:14 http://archive.ubuntu.com/ubuntu focal-updates/restricted amd64 Packages [2,203 kB]\n",
            "Get:15 https://developer.download.nvidia.com/compute/cuda/repos/ubuntu2004/x86_64  Packages [973 kB]\n",
            "Get:16 http://security.ubuntu.com/ubuntu focal-security/main amd64 Packages [2,593 kB]\n",
            "Get:17 http://security.ubuntu.com/ubuntu focal-security/restricted amd64 Packages [2,065 kB]\n",
            "Get:18 http://security.ubuntu.com/ubuntu focal-security/universe amd64 Packages [1,028 kB]\n",
            "Fetched 13.6 MB in 4s (3,663 kB/s)\n",
            "Reading package lists... Done\n"
          ]
        }
      ],
      "source": [
        "import os\n",
        "# Find the latest version of spark 3.2 from http://www.apache.org/dist/spark/ and enter as the spark version\n",
        "# For example:\n",
        "# spark_version = 'spark-3.2.3'\n",
        "spark_version = 'spark-3.2.3'\n",
        "os.environ['SPARK_VERSION']=spark_version\n",
        "\n",
        "# Install Spark and Java\n",
        "!apt-get update\n",
        "!apt-get install openjdk-11-jdk-headless -qq > /dev/null\n",
        "!wget -q http://www.apache.org/dist/spark/$SPARK_VERSION/$SPARK_VERSION-bin-hadoop2.7.tgz\n",
        "!tar xf $SPARK_VERSION-bin-hadoop2.7.tgz\n",
        "!pip install -q findspark\n",
        "\n",
        "# Set Environment Variables\n",
        "import os\n",
        "os.environ[\"JAVA_HOME\"] = \"/usr/lib/jvm/java-11-openjdk-amd64\"\n",
        "os.environ[\"SPARK_HOME\"] = f\"/content/{spark_version}-bin-hadoop2.7\"\n",
        "\n",
        "# Start a SparkSession\n",
        "import findspark\n",
        "findspark.init()"
      ]
    },
    {
      "cell_type": "code",
      "execution_count": 2,
      "metadata": {
        "colab": {
          "base_uri": "https://localhost:8080/"
        },
        "id": "_xKwTpATHqSe",
        "outputId": "beb1b918-bc6d-4c59-c6c8-9324d0242071"
      },
      "outputs": [
        {
          "output_type": "stream",
          "name": "stdout",
          "text": [
            "--2023-04-11 17:25:55--  https://jdbc.postgresql.org/download/postgresql-42.2.16.jar\n",
            "Resolving jdbc.postgresql.org (jdbc.postgresql.org)... 72.32.157.228, 2001:4800:3e1:1::228\n",
            "Connecting to jdbc.postgresql.org (jdbc.postgresql.org)|72.32.157.228|:443... connected.\n",
            "HTTP request sent, awaiting response... 200 OK\n",
            "Length: 1002883 (979K) [application/java-archive]\n",
            "Saving to: ‘postgresql-42.2.16.jar’\n",
            "\n",
            "postgresql-42.2.16. 100%[===================>] 979.38K  1.59MB/s    in 0.6s    \n",
            "\n",
            "2023-04-11 17:25:57 (1.59 MB/s) - ‘postgresql-42.2.16.jar’ saved [1002883/1002883]\n",
            "\n"
          ]
        }
      ],
      "source": [
        "# Download the Postgres driver that will allow Spark to interact with Postgres.\n",
        "!wget https://jdbc.postgresql.org/download/postgresql-42.2.16.jar"
      ]
    },
    {
      "cell_type": "code",
      "execution_count": 3,
      "metadata": {
        "id": "MMqDAjVS0KN9"
      },
      "outputs": [],
      "source": [
        "from pyspark.sql import SparkSession\n",
        "spark = SparkSession.builder.appName(\"Final-Project\").config(\"spark.driver.extraClassPath\",\"/content/postgresql-42.2.16.jar\").getOrCreate()"
      ]
    },
    {
      "cell_type": "markdown",
      "metadata": {
        "id": "cyBsySGuY-9V"
      },
      "source": [
        "### Load Amazon Data into Spark DataFrame"
      ]
    },
    {
      "cell_type": "code",
      "execution_count": 5,
      "metadata": {
        "id": "CtCmBhQJY-9Z",
        "colab": {
          "base_uri": "https://localhost:8080/"
        },
        "outputId": "6093c26d-d5be-412c-d0de-1a697a0fa932"
      },
      "outputs": [
        {
          "output_type": "stream",
          "name": "stdout",
          "text": [
            "+----+------------+------------+--------------------+----------------+--------------------+--------------------+-------------------+------------------+-----------+----------+--------------------+---------------------+-------------+---------------+----------------+--------------------------+-------------------+----------+-------+-------+----------+----------+------------------+----------+----------+--------------------+\n",
            "|Year|Locationabbr|Locationdesc|               Class|           Topic|            Question|            Response|          Break_Out|Break_Out_Category|Sample_Size|Data_value|Confidence_limit_Low|Confidence_limit_High|Display_order|Data_value_unit| Data_value_type|Data_Value_Footnote_Symbol|Data_Value_Footnote|DataSource|ClassId|TopicId|LocationID|BreakoutID|BreakOutCategoryID|QuestionID|ResponseID|         GeoLocation|\n",
            "+----+------------+------------+--------------------+----------------+--------------------+--------------------+-------------------+------------------+-----------+----------+--------------------+---------------------+-------------+---------------+----------------+--------------------------+-------------------+----------+-------+-------+----------+----------+------------------+----------+----------+--------------------+\n",
            "|2012|          GU|        Guam|        Demographics|             Age|   What is your age?|         55-64 years|            Overall|           Overall|        296|      13.1|                11.4|                 14.9|         1167|              %|Crude Prevalence|                      null|               null|     BRFSS|CLASS05|Topic02|        66|       BO1|              CAT1|       AGE|   RESP014|(13.444304, 144.7...|\n",
            "|2012|          GU|        Guam|        Demographics|             Age|   What is your age?|         35-44 years|             Female|            Gender|        272|      21.2|                18.1|                 24.2|         1174|              %|Crude Prevalence|                      null|               null|     BRFSS|CLASS05|Topic02|        66|      SEX2|              CAT2|       AGE|   RESP012|(13.444304, 144.7...|\n",
            "|2020|          AL|     Alabama|Chronic Health In...|      Depression|Ever told you tha...|                 Yes|   College graduate|Education Attained|        356|      19.7|                17.4|                 22.0|            1|              %|Crude Prevalence|                      null|               null|     BRFSS|CLASS03|TOPIC17|         1|    EDUCA4|              CAT5|  ADDEPEV3|   RESP046|(32.8405711220004...|\n",
            "|2020|          AL|     Alabama|Chronic Health In...|        Diabetes|Have you ever bee...|Yes, pregnancy-re...|White, non-Hispanic|    Race/Ethnicity|         32|       0.8|                 0.5|                  1.1|            1|              %|Crude Prevalence|                      null|               null|     BRFSS|CLASS03|TOPIC18|         1|    RACE01|              CAT4|  DIABETE4|   RESP051|(32.8405711220004...|\n",
            "|2020|          AL|     Alabama|Chronic Health In...|        Diabetes|Have you ever bee...|No, pre-diabetes ...|            Overall|           Overall|         92|       1.5|                 1.1|                  1.9|            1|              %|Crude Prevalence|                      null|               null|     BRFSS|CLASS03|TOPIC18|         1|       BO1|              CAT1|  DIABETE4|   RESP052|(32.8405711220004...|\n",
            "|2013|          GU|        Guam|       Health Status|  Overall Health|How is your gener...|           Excellent|              18-24|         Age Group|         69|      24.5|                18.4|                 30.7|           16|              %|Crude Prevalence|                      null|               null|     BRFSS|CLASS08|Topic41|        66|     AGE01|              CAT3|   GENHLTH|   RESP056|(13.444304, 144.7...|\n",
            "|2013|          GU|        Guam|        Demographics|  Marital Status|What is your mari...|           Partnered|     H.S. or G.E.D.|Education Attained|         48|       7.8|                 5.2|                 10.5|           96|              %|Crude Prevalence|                      null|               null|     BRFSS|CLASS05|Topic38|        66|    EDUCA2|              CAT5|   MARITAL|   RESP038|(13.444304, 144.7...|\n",
            "|2013|          PR| Puerto Rico|        Demographics|             Age|   What is your age?|         25-34 years|     Some post-H.S.|Education Attained|        183|      20.4|                17.4|                 23.3|           98|              %|Crude Prevalence|                      null|               null|     BRFSS|CLASS05|Topic02|        72|    EDUCA3|              CAT5|       AGE|   RESP011|(18.220833, -66.5...|\n",
            "|2020|          AL|     Alabama|Colorectal Cancer...|Blood Stool Test|Adults aged 50-75...|Had a blood stool...|  Less than $15,000|  Household Income|         25|      10.0|                 5.6|                 14.4|            1|              %|Crude Prevalence|                      null|               null|     BRFSS|CLASS04|TOPIC08|         1|   INCOME1|              CAT6|  _RFBLDS4|   RESP190|(32.8405711220004...|\n",
            "|2011|          GU|        Guam|        Demographics|             Age|   What is your age?|         45-54 years|           Hispanic|    Race/Ethnicity|         29|      18.5|                11.1|                 25.8|           70|              %|Crude Prevalence|                      null|               null|     BRFSS|CLASS05|Topic02|        66|     RACE3|              CAT4|       AGE|   RESP013|(13.444304, 144.7...|\n",
            "|2011|          GU|        Guam|        Demographics|      Employment|What is your empl...|             Homemkr|                65+|         Age Group|         19|      11.0|                 5.3|                 16.8|           69|              %|Crude Prevalence|                      null|               null|     BRFSS|CLASS05|Topic22|        66|     AGE09|              CAT3|    EMPLOY|   RESP029|(13.444304, 144.7...|\n",
            "|2019|          KS|      Kansas|Health Care Acces...|    Last Checkup|About how long ha...|Within the past year|              45-54|         Age Group|       1235|      76.5|                74.1|                 78.9|            1|              %|Crude Prevalence|                      null|               null|     BRFSS|CLASS07|TOPIC36|        20|     AGE04|              CAT3|  CHECKUP1|   RESP063|(38.3477403000004...|\n",
            "|2020|          AL|     Alabama|        Demographics|      Employment|What is your empl...|         No work >yr|            Overall|           Overall|         92|       2.0|                 1.5|                  2.6|            1|              %|Crude Prevalence|                      null|               null|     BRFSS|CLASS05|TOPIC22|         1|       BO1|              CAT1|   EMPLOY1|   RESP028|(32.8405711220004...|\n",
            "|2020|          AL|     Alabama|        Demographics|      Employment|What is your empl...|         No work >yr|             Female|            Gender|         52|       1.7|                 1.2|                  2.2|            1|              %|Crude Prevalence|                      null|               null|     BRFSS|CLASS05|TOPIC22|         1|      SEX2|              CAT2|   EMPLOY1|   RESP028|(32.8405711220004...|\n",
            "|2013|          GU|        Guam|        Demographics|             Age|   What is your age?|         55-64 years|            Overall|           Overall|        242|      13.3|                11.3|                 15.3|            5|              %|Crude Prevalence|                      null|               null|     BRFSS|CLASS05|Topic02|        66|       BO1|              CAT1|       AGE|   RESP014|(13.444304, 144.7...|\n",
            "|2013|          GU|        Guam|        Immunization|    Tetanus Shot|Since 2005, have ...|                  No|              25-34|         Age Group|        109|      35.2|                28.2|                 42.1|           20|              %|Crude Prevalence|                      null|               null|     BRFSS|CLASS11|Topic58|        66|     AGE02|              CAT3|   TETANUS|   RESP054|(13.444304, 144.7...|\n",
            "|2011|          GU|        Guam|Chronic Health In...|          Vision|Ever told you hav...|                  No|                65+|         Age Group|        135|      63.7|                55.4|                 72.0|           26|              %|Crude Prevalence|                      null|               null|     BRFSS|CLASS03|Topic62|        66|     AGE09|              CAT3|  CHCVISON|   RESP054|(13.444304, 144.7...|\n",
            "|2011|          GU|        Guam|        Demographics|             Age|   What is your age?|         45-54 years|    $15,000-$24,999|  Household Income|         46|      15.7|                10.3|                 21.0|          118|              %|Crude Prevalence|                      null|               null|     BRFSS|CLASS05|Topic02|        66|   INCOME2|              CAT6|       AGE|   RESP013|(13.444304, 144.7...|\n",
            "|2020|          AL|     Alabama|        Demographics|            Race|What is your race...|Multiracial, non-...|     Some post-H.S.|Education Attained|         34|       2.0|                 1.1|                  2.9|            1|              %|Crude Prevalence|                      null|               null|     BRFSS|CLASS05|TOPIC48|         1|    EDUCA3|              CAT5|     RACE8|   RESP200|(32.8405711220004...|\n",
            "|2020|          AL|     Alabama|        Demographics|             Sex|Gender of respondent|                Male|              55-64|         Age Group|        401|      47.5|                43.6|                 51.5|            1|              %|Crude Prevalence|                      null|               null|     BRFSS|CLASS05|TOPIC51|         1|     AGE05|              CAT3|       SEX|   RESP001|(32.8405711220004...|\n",
            "+----+------------+------------+--------------------+----------------+--------------------+--------------------+-------------------+------------------+-----------+----------+--------------------+---------------------+-------------+---------------+----------------+--------------------------+-------------------+----------+-------+-------+----------+----------+------------------+----------+----------+--------------------+\n",
            "only showing top 20 rows\n",
            "\n"
          ]
        }
      ],
      "source": [
        "from pyspark import SparkFiles\n",
        "# Load in the review data from S3 into the dataframe\n",
        "url = \"https://unbearable-1-project-bucket.s3.us-east-2.amazonaws.com/Behavioral_Risk_Factor_Surveillance_System__BRFSS__Prevalence_Data__2011_to_present_.csv\"\n",
        "spark.sparkContext.addFile(url)\n",
        "df = spark.read.option(\"encoding\", \"UTF-8\").csv(SparkFiles.get(\"\"), sep=\",\", header=True, inferSchema=True)\n",
        "df.show()"
      ]
    },
    {
      "cell_type": "markdown",
      "metadata": {
        "id": "2yUSe55VY-9t"
      },
      "source": [
        "### Clean up Columns"
      ]
    },
    {
      "cell_type": "code",
      "source": [
        "# Keep only most recent year\n",
        "recent_df = df[df['Year']== 2021]\n",
        "recent_df.show()"
      ],
      "metadata": {
        "colab": {
          "base_uri": "https://localhost:8080/"
        },
        "id": "CtMB6-hlXsBX",
        "outputId": "075c0a6a-1bb7-4fe2-c432-3fa0a451a070"
      },
      "execution_count": 14,
      "outputs": [
        {
          "output_type": "stream",
          "name": "stdout",
          "text": [
            "+----+------------+--------------+--------------------+---------+--------------------+--------+--------------------+------------------+-----------+----------+--------------------+---------------------+-------------+---------------+----------------+--------------------------+-------------------+----------+-------+-------+----------+----------+------------------+----------+----------+--------------------+\n",
            "|Year|Locationabbr|  Locationdesc|               Class|    Topic|            Question|Response|           Break_Out|Break_Out_Category|Sample_Size|Data_value|Confidence_limit_Low|Confidence_limit_High|Display_order|Data_value_unit| Data_value_type|Data_Value_Footnote_Symbol|Data_Value_Footnote|DataSource|ClassId|TopicId|LocationID|BreakoutID|BreakOutCategoryID|QuestionID|ResponseID|         GeoLocation|\n",
            "+----+------------+--------------+--------------------+---------+--------------------+--------+--------------------+------------------+-----------+----------+--------------------+---------------------+-------------+---------------+----------------+--------------------------+-------------------+----------+-------+-------+----------+----------+------------------+----------+----------+--------------------+\n",
            "|2021|          NY|      New York|Chronic Health In...|Arthritis|Adults who have b...|      No|Multiracial, non-...|    Race/Ethnicity|        493|      84.0|                79.9|                 88.0|         3255|              %|Crude Prevalence|                      null|               null|     BRFSS|CLASS03|TOPIC05|        36|    RACE07|              CAT4|  _DRDXAR3|   RESP054|(42.8270010320004...|\n",
            "|2021|          NC|North Carolina|Chronic Health In...|Arthritis|Adults who have b...|     Yes|               25-34|         Age Group|         45|       6.2|                 4.1|                  8.2|         3232|              %|Crude Prevalence|                      null|               null|     BRFSS|CLASS03|TOPIC05|        37|     AGE02|              CAT3|  _DRDXAR3|   RESP046|(35.4662209750004...|\n",
            "|2021|          NC|North Carolina|Chronic Health In...|Arthritis|Adults who have b...|      No|American Indian o...|    Race/Ethnicity|         67|      56.7|                43.1|                 70.4|         3247|              %|Crude Prevalence|                      null|               null|     BRFSS|CLASS03|TOPIC05|        37|    RACE03|              CAT4|  _DRDXAR3|   RESP054|(35.4662209750004...|\n",
            "|2021|          ND|  North Dakota|Chronic Health In...|Arthritis|Adults who have b...|     Yes|               35-44|         Age Group|         87|      14.0|                10.9|                 17.1|         3234|              %|Crude Prevalence|                      null|               null|     BRFSS|CLASS03|TOPIC05|        38|     AGE03|              CAT3|  _DRDXAR3|   RESP046|(47.4753197790004...|\n",
            "|2021|          OH|          Ohio|Chronic Health In...|Arthritis|Adults who have b...|      No|               45-54|         Age Group|       1491|      68.2|                65.6|                 70.8|         3237|              %|Crude Prevalence|                      null|               null|     BRFSS|CLASS03|TOPIC05|        39|     AGE04|              CAT3|  _DRDXAR3|   RESP054|(40.0602101410004...|\n",
            "|2021|          OK|      Oklahoma|Chronic Health In...|Arthritis|Adults who have b...|     Yes|               45-54|         Age Group|        218|      27.6|                23.8|                 31.5|         3236|              %|Crude Prevalence|                      null|               null|     BRFSS|CLASS03|TOPIC05|        40|     AGE04|              CAT3|  _DRDXAR3|   RESP046|(35.4720313560004...|\n",
            "|2021|          PR|   Puerto Rico|Chronic Health In...|Arthritis|Adults who have b...|      No|                 65+|         Age Group|        670|      57.1|                52.7|                 61.4|         3241|              %|Crude Prevalence|                      null|               null|     BRFSS|CLASS03|TOPIC05|        72|     AGE09|              CAT3|  _DRDXAR3|   RESP054|(18.220833, -66.5...|\n",
            "|2021|          RI|  Rhode Island|Chronic Health In...|Arthritis|Adults who have b...|      No|      Less than H.S.|Education Attained|        221|      68.9|                63.1|                 74.7|         3259|              %|Crude Prevalence|                      null|               null|     BRFSS|CLASS03|TOPIC05|        44|    EDUCA1|              CAT5|  _DRDXAR3|   RESP054|(41.7082801930004...|\n",
            "|2021|          ID|         Idaho|Chronic Health In...|Arthritis|Adults who have b...|      No|               25-34|         Age Group|        758|      92.4|                90.4|                 94.5|         3233|              %|Crude Prevalence|                      null|               null|     BRFSS|CLASS03|TOPIC05|        16|     AGE02|              CAT3|  _DRDXAR3|   RESP054|(43.6826300050004...|\n",
            "|2021|          KS|        Kansas|Chronic Health In...|Arthritis|Adults who have b...|      No|Multiracial, non-...|    Race/Ethnicity|        229|      72.9|                67.4|                 78.5|         3255|              %|Crude Prevalence|                      null|               null|     BRFSS|CLASS03|TOPIC05|        20|    RACE07|              CAT4|  _DRDXAR3|   RESP054|(38.3477403000004...|\n",
            "|2021|          AK|        Alaska|Chronic Health In...|Arthritis|Adults who have b...|     Yes|     $25,000-$34,999|  Household Income|        141|      23.1|                18.2|                 28.0|         3270|              %|Crude Prevalence|                      null|               null|     BRFSS|CLASS03|TOPIC05|         2|  INCOME03|              CAT6|  _DRDXAR3|   RESP046|(64.8450799570005...|\n",
            "|2021|          SC|South Carolina|Chronic Health In...|Arthritis|Adults who have b...|     Yes|     $50,000-$99,999|  Household Income|        793|      27.4|                24.9|                 29.8|         3274|              %|Crude Prevalence|                      null|               null|     BRFSS|CLASS03|TOPIC05|        45|  INCOME05|              CAT6|  _DRDXAR3|   RESP046|(33.9988213030004...|\n",
            "|2021|          MS|   Mississippi|Chronic Health In...|Arthritis|Adults who have b...|      No|             Overall|           Overall|       2726|      69.4|                67.8|                 71.1|         3225|              %|Crude Prevalence|                      null|               null|     BRFSS|CLASS03|TOPIC05|        28|       BO1|              CAT1|  _DRDXAR3|   RESP054|(32.7455100990004...|\n",
            "|2021|          NJ|    New Jersey|Chronic Health In...|Arthritis|Adults who have b...|      No|     $25,000-$34,999|  Household Income|        483|      76.8|                72.6|                 81.0|         3271|              %|Crude Prevalence|                      null|               null|     BRFSS|CLASS03|TOPIC05|        34|  INCOME03|              CAT6|  _DRDXAR3|   RESP054|(40.1305700480004...|\n",
            "|2021|          ME|         Maine|Chronic Health In...|Arthritis|Adults who have b...|      No|               18-24|         Age Group|        416|      95.7|                93.3|                 98.1|         3231|              %|Crude Prevalence|                      null|               null|     BRFSS|CLASS03|TOPIC05|        23|     AGE01|              CAT3|  _DRDXAR3|   RESP054|(45.2542288940005...|\n",
            "|2021|          GU|          Guam|Chronic Health In...|Arthritis|Adults who have b...|     Yes|Native Hawaiian o...|    Race/Ethnicity|        137|      19.8|                12.6|                 27.0|         3250|              %|Crude Prevalence|                      null|               null|     BRFSS|CLASS03|TOPIC05|        66|    RACE05|              CAT4|  _DRDXAR3|   RESP046|(13.444304, 144.7...|\n",
            "|2021|          WA|    Washington|Chronic Health In...|Arthritis|Adults who have b...|      No|                Male|            Gender|       4400|      78.6|                77.4|                 79.8|         3227|              %|Crude Prevalence|                      null|               null|     BRFSS|CLASS03|TOPIC05|        53|      SEX1|              CAT2|  _DRDXAR3|   RESP054|(47.5222786290004...|\n",
            "|2021|          NH| New Hampshire|Chronic Health In...|Arthritis|Adults who have b...|     Yes| White, non-Hispanic|    Race/Ethnicity|       2428|      29.4|                27.9|                 30.8|         3242|              %|Crude Prevalence|                      null|               null|     BRFSS|CLASS03|TOPIC05|        33|    RACE01|              CAT4|  _DRDXAR3|   RESP046|(43.6559501130004...|\n",
            "|2021|          NE|      Nebraska|Chronic Health In...|Arthritis|Adults who have b...|      No|           $200,000+|  Household Income|        367|      83.8|                79.5|                 88.1|         3279|              %|Crude Prevalence|                      null|               null|     BRFSS|CLASS03|TOPIC05|        31|  INCOME07|              CAT6|  _DRDXAR3|   RESP054|(41.6410409880005...|\n",
            "|2021|          UT|          Utah|Chronic Health In...|Arthritis|Adults who have b...|      No|   $100,000-$199,999|  Household Income|       1588|      81.8|                79.9|                 83.8|         3277|              %|Crude Prevalence|                      null|               null|     BRFSS|CLASS03|TOPIC05|        49|  INCOME06|              CAT6|  _DRDXAR3|   RESP054|(39.3607001710004...|\n",
            "+----+------------+--------------+--------------------+---------+--------------------+--------+--------------------+------------------+-----------+----------+--------------------+---------------------+-------------+---------------+----------------+--------------------------+-------------------+----------+-------+-------+----------+----------+------------------+----------+----------+--------------------+\n",
            "only showing top 20 rows\n",
            "\n"
          ]
        }
      ]
    },
    {
      "cell_type": "code",
      "source": [],
      "metadata": {
        "id": "yXvXQZ2xff24"
      },
      "execution_count": null,
      "outputs": []
    },
    {
      "cell_type": "code",
      "source": [
        "clean_recent_df = recent_df.drop(\"Locationdesc\", \n",
        "                                 \"Data_value\",\n",
        "                                 \"Confidence_limit_Low\", \n",
        "                                 \"Confidence_limit_High\", \n",
        "                                 \"Display_order\", \n",
        "                                 \"Data_value_unit\", \n",
        "                                 \"Data_value_type\", \n",
        "                                 \"Data_Value_Footnote_Symbol\", \n",
        "                                 \"Data_Value_Footnote\",\n",
        "                                 \"DataSource\",\n",
        "                                 \"ClassId\",\n",
        "                                 \"TopicId\",\n",
        "                                 \"LocationID\",\n",
        "                                 \"BreakoutID\",\n",
        "                                 \"BreakOutCategoryID\",\n",
        "                                 \"QuestionID\",\n",
        "                                 \"ResponseID\",\n",
        "                                 \"GeoLocation\"\n",
        "                                 )\n",
        "clean_recent_df.show(truncate=False)"
      ],
      "metadata": {
        "colab": {
          "base_uri": "https://localhost:8080/"
        },
        "id": "F-1wjQ6tcro8",
        "outputId": "17c50a7b-7b7d-42d0-d596-f66bb2b8625a"
      },
      "execution_count": 47,
      "outputs": [
        {
          "output_type": "stream",
          "name": "stdout",
          "text": [
            "+----+------------+-------------------------+---------+----------------------------------------------------------------------------------------------------+--------+-------------------------------------------------------+------------------+-----------+\n",
            "|Year|Locationabbr|Class                    |Topic    |Question                                                                                            |Response|Break_Out                                              |Break_Out_Category|Sample_Size|\n",
            "+----+------------+-------------------------+---------+----------------------------------------------------------------------------------------------------+--------+-------------------------------------------------------+------------------+-----------+\n",
            "|2021|NY          |Chronic Health Indicators|Arthritis|Adults who have been told they have arthritis (variable calculated from one or more BRFSS questions)|No      |Multiracial, non-Hispanic                              |Race/Ethnicity    |493        |\n",
            "|2021|NC          |Chronic Health Indicators|Arthritis|Adults who have been told they have arthritis (variable calculated from one or more BRFSS questions)|Yes     |25-34                                                  |Age Group         |45         |\n",
            "|2021|NC          |Chronic Health Indicators|Arthritis|Adults who have been told they have arthritis (variable calculated from one or more BRFSS questions)|No      |American Indian or Alaskan Native, non-Hispanic        |Race/Ethnicity    |67         |\n",
            "|2021|ND          |Chronic Health Indicators|Arthritis|Adults who have been told they have arthritis (variable calculated from one or more BRFSS questions)|Yes     |35-44                                                  |Age Group         |87         |\n",
            "|2021|OH          |Chronic Health Indicators|Arthritis|Adults who have been told they have arthritis (variable calculated from one or more BRFSS questions)|No      |45-54                                                  |Age Group         |1491       |\n",
            "|2021|OK          |Chronic Health Indicators|Arthritis|Adults who have been told they have arthritis (variable calculated from one or more BRFSS questions)|Yes     |45-54                                                  |Age Group         |218        |\n",
            "|2021|PR          |Chronic Health Indicators|Arthritis|Adults who have been told they have arthritis (variable calculated from one or more BRFSS questions)|No      |65+                                                    |Age Group         |670        |\n",
            "|2021|RI          |Chronic Health Indicators|Arthritis|Adults who have been told they have arthritis (variable calculated from one or more BRFSS questions)|No      |Less than H.S.                                         |Education Attained|221        |\n",
            "|2021|ID          |Chronic Health Indicators|Arthritis|Adults who have been told they have arthritis (variable calculated from one or more BRFSS questions)|No      |25-34                                                  |Age Group         |758        |\n",
            "|2021|KS          |Chronic Health Indicators|Arthritis|Adults who have been told they have arthritis (variable calculated from one or more BRFSS questions)|No      |Multiracial, non-Hispanic                              |Race/Ethnicity    |229        |\n",
            "|2021|AK          |Chronic Health Indicators|Arthritis|Adults who have been told they have arthritis (variable calculated from one or more BRFSS questions)|Yes     |$25,000-$34,999                                        |Household Income  |141        |\n",
            "|2021|SC          |Chronic Health Indicators|Arthritis|Adults who have been told they have arthritis (variable calculated from one or more BRFSS questions)|Yes     |$50,000-$99,999                                        |Household Income  |793        |\n",
            "|2021|MS          |Chronic Health Indicators|Arthritis|Adults who have been told they have arthritis (variable calculated from one or more BRFSS questions)|No      |Overall                                                |Overall           |2726       |\n",
            "|2021|NJ          |Chronic Health Indicators|Arthritis|Adults who have been told they have arthritis (variable calculated from one or more BRFSS questions)|No      |$25,000-$34,999                                        |Household Income  |483        |\n",
            "|2021|ME          |Chronic Health Indicators|Arthritis|Adults who have been told they have arthritis (variable calculated from one or more BRFSS questions)|No      |18-24                                                  |Age Group         |416        |\n",
            "|2021|GU          |Chronic Health Indicators|Arthritis|Adults who have been told they have arthritis (variable calculated from one or more BRFSS questions)|Yes     |Native Hawaiian or other Pacific Islander, non-Hispanic|Race/Ethnicity    |137        |\n",
            "|2021|WA          |Chronic Health Indicators|Arthritis|Adults who have been told they have arthritis (variable calculated from one or more BRFSS questions)|No      |Male                                                   |Gender            |4400       |\n",
            "|2021|NH          |Chronic Health Indicators|Arthritis|Adults who have been told they have arthritis (variable calculated from one or more BRFSS questions)|Yes     |White, non-Hispanic                                    |Race/Ethnicity    |2428       |\n",
            "|2021|NE          |Chronic Health Indicators|Arthritis|Adults who have been told they have arthritis (variable calculated from one or more BRFSS questions)|No      |$200,000+                                              |Household Income  |367        |\n",
            "|2021|UT          |Chronic Health Indicators|Arthritis|Adults who have been told they have arthritis (variable calculated from one or more BRFSS questions)|No      |$100,000-$199,999                                      |Household Income  |1588       |\n",
            "+----+------------+-------------------------+---------+----------------------------------------------------------------------------------------------------+--------+-------------------------------------------------------+------------------+-----------+\n",
            "only showing top 20 rows\n",
            "\n"
          ]
        }
      ]
    },
    {
      "cell_type": "code",
      "source": [
        "# Show distinct topics to narrow analysis\n",
        "topic_df = clean_recent_df.dropDuplicates(['Topic']).select(\"Topic\")\n",
        "topic_df.sort(topic_df.Topic).show(50, truncate=False)"
      ],
      "metadata": {
        "colab": {
          "base_uri": "https://localhost:8080/"
        },
        "id": "X9NcN8yjhk4l",
        "outputId": "200ebae1-b674-4929-e58f-386773dfc0ec"
      },
      "execution_count": 48,
      "outputs": [
        {
          "output_type": "stream",
          "name": "stdout",
          "text": [
            "+----------------------+\n",
            "|Topic                 |\n",
            "+----------------------+\n",
            "|Age                   |\n",
            "|Alcohol Consumption   |\n",
            "|Arthritis             |\n",
            "|Asthma                |\n",
            "|BMI Categories        |\n",
            "|Binge Drinking        |\n",
            "|COPD                  |\n",
            "|Cardiovascular Disease|\n",
            "|Cholesterol Checked   |\n",
            "|Cholesterol High      |\n",
            "|Current Smoker Status |\n",
            "|Depression            |\n",
            "|Diabetes              |\n",
            "|Disability status     |\n",
            "|E-Cigarette Use       |\n",
            "|Education             |\n",
            "|Employment            |\n",
            "|Exercise              |\n",
            "|Fair or Poor Health   |\n",
            "|Flu Shot              |\n",
            "|Fruit Consumption     |\n",
            "|HIV Test              |\n",
            "|Health Care Cost      |\n",
            "|Health Care Coverage  |\n",
            "|Healthy Days          |\n",
            "|Hearing               |\n",
            "|Heavy Drinking        |\n",
            "|High Blood Pressure   |\n",
            "|Income                |\n",
            "|Kidney                |\n",
            "|Last Checkup          |\n",
            "|Marital Status        |\n",
            "|Number of Children    |\n",
            "|Other Cancer          |\n",
            "|Overall Health        |\n",
            "|Personal Care Provider|\n",
            "|Pneumonia Vaccination |\n",
            "|Race                  |\n",
            "|Rent/Own Home         |\n",
            "|Sex                   |\n",
            "|Skin Cancer           |\n",
            "|Smokeless Tobacco     |\n",
            "|Smoker Status         |\n",
            "|Under 65 Coverage     |\n",
            "|Vegetable Consumption |\n",
            "|Veteran Status        |\n",
            "+----------------------+\n",
            "\n"
          ]
        }
      ]
    },
    {
      "cell_type": "code",
      "source": [],
      "metadata": {
        "id": "t4jv5QMtoUfk"
      },
      "execution_count": null,
      "outputs": []
    }
  ]
}