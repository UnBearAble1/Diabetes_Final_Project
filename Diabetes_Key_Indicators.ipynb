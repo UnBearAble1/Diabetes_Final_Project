{
  "nbformat": 4,
  "nbformat_minor": 0,
  "metadata": {
    "colab": {
      "provenance": []
    },
    "kernelspec": {
      "name": "python3",
      "display_name": "Python 3"
    },
    "language_info": {
      "name": "python"
    }
  },
  "cells": [
    {
      "cell_type": "code",
      "execution_count": 1,
      "metadata": {
        "colab": {
          "base_uri": "https://localhost:8080/"
        },
        "id": "V58rxea0HqSa",
        "outputId": "234c149d-18c3-422d-995d-e3aba57314f3"
      },
      "outputs": [
        {
          "output_type": "stream",
          "name": "stdout",
          "text": [
            "Get:1 https://cloud.r-project.org/bin/linux/ubuntu focal-cran40/ InRelease [3,622 B]\n",
            "Get:2 http://security.ubuntu.com/ubuntu focal-security InRelease [114 kB]\n",
            "Hit:3 http://archive.ubuntu.com/ubuntu focal InRelease\n",
            "Get:4 https://developer.download.nvidia.com/compute/cuda/repos/ubuntu2004/x86_64  InRelease [1,581 B]\n",
            "Get:5 http://archive.ubuntu.com/ubuntu focal-updates InRelease [114 kB]\n",
            "Hit:6 http://ppa.launchpad.net/c2d4u.team/c2d4u4.0+/ubuntu focal InRelease\n",
            "Get:7 http://archive.ubuntu.com/ubuntu focal-backports InRelease [108 kB]\n",
            "Hit:8 http://ppa.launchpad.net/cran/libgit2/ubuntu focal InRelease\n",
            "Get:9 https://developer.download.nvidia.com/compute/cuda/repos/ubuntu2004/x86_64  Packages [993 kB]\n",
            "Hit:10 http://ppa.launchpad.net/deadsnakes/ppa/ubuntu focal InRelease\n",
            "Get:11 http://security.ubuntu.com/ubuntu focal-security/restricted amd64 Packages [2,139 kB]\n",
            "Hit:12 http://ppa.launchpad.net/graphics-drivers/ppa/ubuntu focal InRelease\n",
            "Get:13 http://archive.ubuntu.com/ubuntu focal-updates/restricted amd64 Packages [2,277 kB]\n",
            "Get:14 http://security.ubuntu.com/ubuntu focal-security/main amd64 Packages [2,629 kB]\n",
            "Hit:15 http://ppa.launchpad.net/ubuntugis/ppa/ubuntu focal InRelease\n",
            "Get:16 http://security.ubuntu.com/ubuntu focal-security/universe amd64 Packages [1,033 kB]\n",
            "Get:17 http://security.ubuntu.com/ubuntu focal-security/multiverse amd64 Packages [28.5 kB]\n",
            "Get:18 http://archive.ubuntu.com/ubuntu focal-updates/main amd64 Packages [3,111 kB]\n",
            "Get:19 http://archive.ubuntu.com/ubuntu focal-updates/universe amd64 Packages [1,329 kB]\n",
            "Get:20 http://archive.ubuntu.com/ubuntu focal-updates/multiverse amd64 Packages [31.2 kB]\n",
            "Fetched 13.9 MB in 4s (3,860 kB/s)\n",
            "Reading package lists... Done\n"
          ]
        }
      ],
      "source": [
        "import os\n",
        "# Find the latest version of spark 3.2 from http://www.apache.org/dist/spark/ and enter as the spark version\n",
        "# For example:\n",
        "# spark_version = 'spark-3.2.3'\n",
        "spark_version = 'spark-3.2.3'\n",
        "os.environ['SPARK_VERSION']=spark_version\n",
        "\n",
        "# Install Spark and Java\n",
        "!apt-get update\n",
        "!apt-get install openjdk-11-jdk-headless -qq > /dev/null\n",
        "!wget -q http://archive.apache.org/dist/spark/$SPARK_VERSION/$SPARK_VERSION-bin-hadoop2.7.tgz\n",
        "!tar xf $SPARK_VERSION-bin-hadoop2.7.tgz\n",
        "!pip install -q findspark\n",
        "\n",
        "# Set Environment Variables\n",
        "import os\n",
        "os.environ[\"JAVA_HOME\"] = \"/usr/lib/jvm/java-11-openjdk-amd64\"\n",
        "os.environ[\"SPARK_HOME\"] = f\"/content/{spark_version}-bin-hadoop2.7\"\n",
        "\n",
        "# Start a SparkSession\n",
        "import findspark\n",
        "findspark.init()"
      ]
    },
    {
      "cell_type": "code",
      "execution_count": 2,
      "metadata": {
        "colab": {
          "base_uri": "https://localhost:8080/"
        },
        "id": "_xKwTpATHqSe",
        "outputId": "dffd2fc2-a80d-4f16-b72c-5c307d6e277c"
      },
      "outputs": [
        {
          "output_type": "stream",
          "name": "stdout",
          "text": [
            "--2023-04-20 15:37:31--  https://jdbc.postgresql.org/download/postgresql-42.2.16.jar\n",
            "Resolving jdbc.postgresql.org (jdbc.postgresql.org)... 72.32.157.228, 2001:4800:3e1:1::228\n",
            "Connecting to jdbc.postgresql.org (jdbc.postgresql.org)|72.32.157.228|:443... connected.\n",
            "HTTP request sent, awaiting response... 200 OK\n",
            "Length: 1002883 (979K) [application/java-archive]\n",
            "Saving to: ‘postgresql-42.2.16.jar’\n",
            "\n",
            "postgresql-42.2.16. 100%[===================>] 979.38K  6.01MB/s    in 0.2s    \n",
            "\n",
            "2023-04-20 15:37:31 (6.01 MB/s) - ‘postgresql-42.2.16.jar’ saved [1002883/1002883]\n",
            "\n"
          ]
        }
      ],
      "source": [
        "# Download the Postgres driver that will allow Spark to interact with Postgres.\n",
        "!wget https://jdbc.postgresql.org/download/postgresql-42.2.16.jar"
      ]
    },
    {
      "cell_type": "code",
      "execution_count": 3,
      "metadata": {
        "id": "MMqDAjVS0KN9"
      },
      "outputs": [],
      "source": [
        "from pyspark.sql import SparkSession\n",
        "spark = SparkSession.builder.appName(\"Final-Project\").config(\"spark.driver.extraClassPath\",\"/content/postgresql-42.2.16.jar\").getOrCreate()"
      ]
    },
    {
      "cell_type": "markdown",
      "metadata": {
        "id": "cyBsySGuY-9V"
      },
      "source": [
        "### Load Amazon Data into Spark DataFrame"
      ]
    },
    {
      "cell_type": "code",
      "execution_count": 4,
      "metadata": {
        "id": "CtCmBhQJY-9Z",
        "colab": {
          "base_uri": "https://localhost:8080/"
        },
        "outputId": "4eb7e96b-0eaf-4057-983a-2e055235e094"
      },
      "outputs": [
        {
          "output_type": "stream",
          "name": "stdout",
          "text": [
            "+---+------+------+-----------+------+-----+-------+--------+-------------+-------------+--------+--------+--------+--------+--------+-------+-------+--------+-------+--------------------+--------+--------+--------+--------+--------+-------+-------+--------+--------+-------+--------+-------+------+-------+--------+--------+--------+--------+--------+--------+--------+--------+-------+------+--------+-------+--------+--------+--------+--------+-------+-------+--------+--------+--------+--------+--------+--------+--------+--------+--------+-------+--------+--------+--------+-------+-----+--------+--------+--------+--------+--------+-------+--------+-------+--------+-------+-------+----+-----+------+--------+--------+--------+--------+--------+-------+--------+-------+--------+--------+--------+--------+--------+--------+--------+-------+--------+------+--------+--------+--------+--------+--------+--------+--------+--------+--------+--------+--------+--------+-------+--------+-------+-------+-------+-------+-------+--------+--------+--------+--------+--------+--------+--------+--------+--------+--------+--------+-------+--------+--------+------+-------+--------+--------+--------+--------+--------+--------+--------+--------+-------+--------+--------+--------+--------+--------+--------+--------+--------+--------+--------+--------+--------+--------+--------+-------+--------+--------+--------+-------+--------+--------+--------+--------+--------+--------+--------+--------+--------+-------+-------+--------+--------+--------+-------+--------+------+--------+--------+--------+--------+--------+--------+--------+--------+--------+--------+--------+--------+--------+--------+--------+--------+--------+--------+--------+--------+--------+--------+--------+--------+--------+--------+--------+--------+--------+--------+-------+--------+--------+--------+--------+--------+--------+------+--------+--------+------+-------+--------+--------+------+-------+------------------+--------+------------------+--------+--------+-------+--------+-----+--------+--------+------------------+------------------+------------------+-------+--------+--------+--------+--------+--------+--------+--------+--------+------+--------+--------+--------+--------+--------+--------+-------+-------+--------+-----+--------+--------+--------+----+--------+--------+------+------+-----+-----+-------+------+--------+-------+--------+-------+--------+--------+--------+--------+--------+--------------------+--------+--------------------+--------+--------+--------+--------+--------------------+--------+--------------------+--------------------+--------------------+--------+--------------------+--------------------+--------------------+--------------------+--------+--------+--------+--------+-------+-------+--------------------+--------------------+\n",
            "|_c0|_STATE|FMONTH|      IDATE|IMONTH| IDAY|  IYEAR|DISPCODE|        SEQNO|         _PSU|CTELENM1|PVTRESD1|COLGHOUS|STATERE1|CELPHON1|LADULT1|COLGSEX|NUMADULT|LANDSEX|              NUMMEN|NUMWOMEN|RESPSLCT|SAFETIME|CTELNUM1|CELLFON5|CADULT1|CELLSEX|PVTRESD3|CCLGHOUS|CSTATE1|LANDLINE|HHADULT|SEXVAR|GENHLTH|PHYSHLTH|MENTHLTH|POORHLTH|PRIMINSR|PERSDOC3|MEDCOST1|CHECKUP1|EXERANY2|BPHIGH6|BPMEDS|CHOLCHK3|TOLDHI3|CHOLMED3|CVDINFR4|CVDCRHD4|CVDSTRK3|ASTHMA3|ASTHNOW|CHCSCNCR|CHCOCNCR|CHCCOPD3|ADDEPEV3|CHCKDNY2|DIABETE4|DIABAGE3|HAVARTH5|ARTHEXER|ARTHEDU|LMTJOIN3|ARTHDIS2|JOINPAI2|MARITAL|EDUCA|RENTHOM1|NUMHHOL3|NUMPHON3|CPDEMO1B|VETERAN3|EMPLOY1|CHILDREN|INCOME3|PREGNANT|WEIGHT2|HEIGHT3|DEAF|BLIND|DECIDE|DIFFWALK|DIFFDRES|DIFFALON|SMOKE100|SMOKDAY2|USENOW3|ECIGNOW1|ALCDAY5|AVEDRNK3|DRNK3GE5|MAXDRNKS|FLUSHOT7|FLSHTMY3|IMFVPLA2|PNEUVAC4|HIVTST7|HIVTSTD3|FRUIT2|FRUITJU2|FVGREEN1|FRENCHF1|POTATOE1|VEGETAB2|PDIABTST|PREDIAB1|INSULIN1|BLDSUGAR|FEETCHK3|DOCTDIAB|CHKHEMO3|FEETCHK|EYEEXAM1|DIABEYE|DIABEDU|TOLDCFS|HAVECFS|WORKCFS|TOLDHEPC|TRETHEPC|PRIRHEPC|HAVEHEPC|HAVEHEPB|MEDSHEPB|HPVADVC4|HPVADSHT|TETANUS1|SHINGLE2|LCSFIRST|LCSLAST|LCSNUMCG|LCSCTSCN|HADMAM|HOWLONG|CERVSCRN|CRVCLCNC|CRVCLPAP|CRVCLHPV|HADHYST2|PSATEST1|PSATIME1|PCPSARS2|PCSTALK|HADSIGM4|COLNSIGM|COLNTES1|SIGMTES1|LASTSIG4|COLNCNCR|VIRCOLO1|VCLNTES1|SMALSTOL|STOLTEST|STOOLDN1|BLDSTFIT|SDNATES1|CNCRDIFF|CNCRAGE|CNCRTYP1|CSRVTRT3|CSRVDOC1|CSRVSUM|CSRVRTRN|CSRVINST|CSRVINSR|CSRVDEIN|CSRVCLIN|CSRVPAIN|CSRVCTL2|HOMBPCHK|HOMRGCHK|WHEREBP|SHAREBP|WTCHSALT|DRADVISE|CIMEMLOS|CDHOUSE|CDASSIST|CDHELP|CDSOCIAL|CDDISCUS|CAREGIV1|CRGVREL4|CRGVLNG1|CRGVHRS1|CRGVPRB3|CRGVALZD|CRGVPER1|CRGVHOU1|CRGVEXPT|ACEDEPRS|ACEDRINK|ACEDRUGS|ACEPRISN|ACEDIVRC|ACEPUNCH|ACEHURT1|ACESWEAR|ACETOUCH|ACETTHEM|ACEHVSEX|ACEADSAF|ACEADNED|MARIJAN1|USEMRJN3|RSNMRJN2|LASTSMK2|STOPSMK2|FIREARM5|GUNLOAD|LOADULK2|RCSGENDR|RCSRLTN2|CASTHDX2|CASTHNO2|BIRTHSEX|SOMALE|SOFEMALE|TRNSGNDR|QSTVER|QSTLANG|_METSTAT|_URBSTAT|MSCODE| _STSTR|            _STRWT|_RAWRAKE|          _WT2RAKE|_IMPRACE|_CHISPNC|_CRACE1|_CPRACE1|CAGEG|_CLLCPWT|_DUALUSE|          _DUALCOR|          _LLCPWT2|           _LLCPWT|_RFHLTH|_PHYS14D|_MENT14D|_HLTHPLN|_HCVU652|_TOTINDA|_RFHYPE6|_CHOLCH3|_RFCHOL3|_MICHD|_LTASTH1|_CASTHM1|_ASTHMS1|_DRDXAR3|_LMTACT3|_LMTWRK3|_PRACE1|_MRACE1|_HISPANC|_RACE|_RACEG21|_RACEGR3|_RACEPRV|_SEX|_AGEG5YR|_AGE65YR|_AGE80|_AGE_G|HTIN4| HTM4|  WTKG3| _BMI5|_BMI5CAT|_RFBMI5|_CHLDCNT|_EDUCAG|_INCOMG1|_SMOKER3|_RFSMOK3|_CURECI1|DRNKANY5|            DROCDY3_|_RFBING5|            _DRNKWK1|_RFDRHV7|_FLSHOT7|_PNEUMO3|_AIDTST4|            FTJUDA2_|FRUTDA2_|            GRENDA1_|            FRNCHDA_|            POTADA1_|VEGEDA2_|            _MISFRT1|            _MISVEG1|            _FRTRES1|            _VEGRES1|_FRUTSU1|_VEGESU1|_FRTLT1A|_VEGLT1A|_FRT16A|_VEG23A|            _FRUITE1|            _VEGETE1|\n",
            "+---+------+------+-----------+------+-----+-------+--------+-------------+-------------+--------+--------+--------+--------+--------+-------+-------+--------+-------+--------------------+--------+--------+--------+--------+--------+-------+-------+--------+--------+-------+--------+-------+------+-------+--------+--------+--------+--------+--------+--------+--------+--------+-------+------+--------+-------+--------+--------+--------+--------+-------+-------+--------+--------+--------+--------+--------+--------+--------+--------+--------+-------+--------+--------+--------+-------+-----+--------+--------+--------+--------+--------+-------+--------+-------+--------+-------+-------+----+-----+------+--------+--------+--------+--------+--------+-------+--------+-------+--------+--------+--------+--------+--------+--------+--------+-------+--------+------+--------+--------+--------+--------+--------+--------+--------+--------+--------+--------+--------+--------+-------+--------+-------+-------+-------+-------+-------+--------+--------+--------+--------+--------+--------+--------+--------+--------+--------+--------+-------+--------+--------+------+-------+--------+--------+--------+--------+--------+--------+--------+--------+-------+--------+--------+--------+--------+--------+--------+--------+--------+--------+--------+--------+--------+--------+--------+-------+--------+--------+--------+-------+--------+--------+--------+--------+--------+--------+--------+--------+--------+-------+-------+--------+--------+--------+-------+--------+------+--------+--------+--------+--------+--------+--------+--------+--------+--------+--------+--------+--------+--------+--------+--------+--------+--------+--------+--------+--------+--------+--------+--------+--------+--------+--------+--------+--------+--------+--------+-------+--------+--------+--------+--------+--------+--------+------+--------+--------+------+-------+--------+--------+------+-------+------------------+--------+------------------+--------+--------+-------+--------+-----+--------+--------+------------------+------------------+------------------+-------+--------+--------+--------+--------+--------+--------+--------+--------+------+--------+--------+--------+--------+--------+--------+-------+-------+--------+-----+--------+--------+--------+----+--------+--------+------+------+-----+-----+-------+------+--------+-------+--------+-------+--------+--------+--------+--------+--------+--------------------+--------+--------------------+--------+--------+--------+--------+--------------------+--------+--------------------+--------------------+--------------------+--------+--------------------+--------------------+--------------------+--------------------+--------+--------+--------+--------+-------+-------+--------------------+--------------------+\n",
            "|  0|   1.0|   1.0|b'01192021'| b'01'|b'19'|b'2021'|  1100.0|b'2021000001'|2.021000001E9|     1.0|     1.0|    null|     1.0|     2.0|    1.0|   null|     2.0|   null|                 1.0|     1.0|     2.0|    null|    null|    null|   null|   null|    null|    null|   null|    null|   null|   2.0|    5.0|    20.0|    10.0|    88.0|     3.0|     1.0|     2.0|     2.0|     2.0|    3.0|  null|     2.0|    1.0|     1.0|     2.0|     2.0|     2.0|    1.0|    1.0|     2.0|     2.0|     1.0|     2.0|     2.0|     3.0|    null|     1.0|     2.0|    2.0|     2.0|     1.0|     8.0|    1.0|  4.0|     1.0|     1.0|     1.0|     1.0|     2.0|    7.0|    88.0|    5.0|    null|   72.0|  411.0| 2.0|  2.0|   2.0|     2.0|     2.0|     1.0|     1.0|     3.0|    3.0|     3.0|  888.0|    null|    null|    null|     1.0| 92020.0|     1.0|     1.0|    2.0|    null| 101.0|   555.0|   204.0|   203.0|   201.0|   101.0|     2.0|     3.0|    null|    null|    null|    null|    null|   null|    null|   null|   null|   null|   null|   null|    null|    null|    null|    null|    null|    null|    null|    null|    null|    null|    null|   null|    null|    null|  null|   null|    null|    null|    null|    null|    null|    null|    null|    null|   null|    null|    null|    null|    null|    null|    null|    null|    null|    null|    null|    null|    null|    null|    null|   null|    null|    null|    null|   null|    null|    null|    null|    null|    null|    null|    null|    null|    null|   null|   null|    null|    null|    null|   null|    null|  null|    null|    null|     2.0|    null|    null|    null|    null|    null|    null|    null|     2.0|     2.0|     2.0|     2.0|     2.0|     1.0|     1.0|     1.0|     1.0|     1.0|     1.0|     1.0|     5.0|     3.0|    null|    null|    null|    null|    null|    null|   null|    null|    null|    null|    null|    null|    null|  null|    null|    null|  10.0|    1.0|     1.0|     1.0|   1.0|11011.0|39.766157742553204|     2.0| 79.53231548510641|     1.0|     9.0|   null|    null| null|    null|     1.0|0.5190191247367235| 874.2429016362627| 744.7455308997082|    2.0|     3.0|     2.0|     1.0|     9.0|     2.0|     1.0|     1.0|     2.0|   2.0|     2.0|     2.0|     1.0|     1.0|     2.0|     1.0|    1.0|    1.0|     2.0|  1.0|     1.0|     1.0|     1.0| 2.0|    11.0|     2.0|  70.0|   6.0| 59.0|150.0| 3266.0|1454.0|     1.0|    1.0|     1.0|    2.0|     3.0|     3.0|     1.0|     1.0|     2.0|5.397605346934028...|     1.0|5.397605346934028...|     1.0|     1.0|     1.0|     2.0|5.397605346934028...|   100.0|                57.0|                43.0|                14.0|   100.0|5.397605346934028...|5.397605346934028...|                 1.0|                 1.0|   100.0|   214.0|     1.0|     1.0|    1.0|    1.0|5.397605346934028...|5.397605346934028...|\n",
            "|  1|   1.0|   1.0|b'01212021'| b'01'|b'21'|b'2021'|  1100.0|b'2021000002'|2.021000002E9|     1.0|     1.0|    null|     1.0|     2.0|    1.0|   null|     2.0|   null|                 1.0|     1.0|     2.0|    null|    null|    null|   null|   null|    null|    null|   null|    null|   null|   2.0|    3.0|    88.0|    88.0|    null|     1.0|     2.0|     2.0|     1.0|     1.0|    1.0|   1.0|     2.0|    1.0|     1.0|     2.0|     1.0|     2.0|    2.0|   null|     2.0|     2.0|     2.0|     2.0|     1.0|     1.0|    98.0|     1.0|     1.0|    2.0|     1.0|     1.0|    10.0|    9.0|  6.0|     1.0|     2.0|    null|     1.0|     2.0|    8.0|    88.0|   77.0|    null| 7777.0|  506.0| 2.0|  1.0|   1.0|     1.0|     2.0|     1.0|     2.0|    null|    3.0|     3.0|  888.0|    null|    null|    null|     2.0|    null|    null|     2.0|    2.0|    null| 101.0|   555.0|   201.0|   555.0|   201.0|   207.0|    null|    null|    null|    null|    null|    null|    null|   null|    null|   null|   null|   null|   null|   null|    null|    null|    null|    null|    null|    null|    null|    null|    null|    null|    null|   null|    null|    null|  null|   null|    null|    null|    null|    null|    null|    null|    null|    null|   null|    null|    null|    null|    null|    null|    null|    null|    null|    null|    null|    null|    null|    null|    null|   null|    null|    null|    null|   null|    null|    null|    null|    null|    null|    null|    null|    null|    null|   null|   null|    null|    null|    null|   null|    null|  null|    null|    null|     2.0|    null|    null|    null|    null|    null|    null|    null|     2.0|     2.0|     2.0|     2.0|     2.0|     2.0|     1.0|     1.0|     1.0|     1.0|     1.0|     1.0|     5.0|     5.0|    null|    null|    null|    null|    null|    null|   null|    null|    null|    null|    null|    null|    null|  null|    null|    null|  10.0|    1.0|     1.0|     1.0|   2.0|11011.0|39.766157742553204|     2.0| 79.53231548510641|     2.0|     9.0|   null|    null| null|    null|     1.0|0.5190191247367235| 874.2429016362627|299.13739421193344|    1.0|     1.0|     1.0|     1.0|     9.0|     1.0|     2.0|     1.0|     2.0|   1.0|     1.0|     1.0|     3.0|     1.0|     1.0|     1.0|    2.0|    2.0|     2.0|  2.0|     2.0|     2.0|     2.0| 2.0|    10.0|     2.0|  67.0|   6.0| 66.0|168.0|   null|  null|    null|    9.0|     1.0|    4.0|     9.0|     4.0|     1.0|     1.0|     2.0|5.397605346934028...|     1.0|5.397605346934028...|     1.0|     2.0|     2.0|     2.0|5.397605346934028...|   100.0|                14.0|5.397605346934028...|                14.0|   100.0|5.397605346934028...|5.397605346934028...|                 1.0|                 1.0|   100.0|   128.0|     1.0|     1.0|    1.0|    1.0|5.397605346934028...|5.397605346934028...|\n",
            "|  2|   1.0|   1.0|b'01212021'| b'01'|b'21'|b'2021'|  1100.0|b'2021000003'|2.021000003E9|     1.0|     1.0|    null|     1.0|     2.0|    1.0|   null|     2.0|   null|                 1.0|     1.0|     2.0|    null|    null|    null|   null|   null|    null|    null|   null|    null|   null|   2.0|    2.0|    88.0|    88.0|    null|     2.0|     2.0|     2.0|     1.0|     2.0|    1.0|   1.0|     2.0|    2.0|     2.0|     2.0|     1.0|     2.0|    2.0|   null|     2.0|     2.0|     2.0|     2.0|     2.0|     1.0|    98.0|     2.0|    null|   null|    null|    null|    null|    3.0|  4.0|     1.0|     2.0|    null|     1.0|     2.0|    7.0|    88.0|    3.0|    null|  170.0|  505.0| 2.0|  2.0|   2.0|     2.0|     2.0|     2.0|     2.0|    null|    3.0|     3.0|  888.0|    null|    null|    null|     2.0|    null|    null|     2.0|    2.0|    null| 101.0|   555.0|   555.0|   201.0|   201.0|   203.0|    null|    null|    null|    null|    null|    null|    null|   null|    null|   null|   null|   null|   null|   null|    null|    null|    null|    null|    null|    null|    null|    null|    null|    null|    null|   null|    null|    null|  null|   null|    null|    null|    null|    null|    null|    null|    null|    null|   null|    null|    null|    null|    null|    null|    null|    null|    null|    null|    null|    null|    null|    null|    null|   null|    null|    null|    null|   null|    null|    null|    null|    null|    null|    null|    null|    null|    null|   null|   null|    null|    null|    null|   null|    null|  null|    null|    null|     2.0|    null|    null|    null|    null|    null|    null|    null|     2.0|     2.0|     2.0|     2.0|     2.0|     2.0|     1.0|     1.0|     1.0|     1.0|     1.0|     1.0|     5.0|     5.0|    null|    null|    null|    null|    null|    null|   null|    null|    null|    null|    null|    null|    null|  null|    null|    null|  10.0|    1.0|     1.0|     1.0|   1.0|11011.0|39.766157742553204|     2.0| 79.53231548510641|     2.0|     9.0|   null|    null| null|    null|     1.0|0.5190191247367235| 874.2429016362627| 587.8629860681576|    1.0|     1.0|     1.0|     1.0|     9.0|     2.0|     2.0|     1.0|     1.0|   1.0|     1.0|     1.0|     3.0|     2.0|     3.0|     3.0|    2.0|    2.0|     2.0|  2.0|     2.0|     2.0|     2.0| 2.0|    11.0|     2.0|  72.0|   6.0| 65.0|165.0| 7711.0|2829.0|     3.0|    2.0|     1.0|    2.0|     2.0|     4.0|     1.0|     1.0|     2.0|5.397605346934028...|     1.0|5.397605346934028...|     1.0|     2.0|     2.0|     2.0|5.397605346934028...|   100.0|5.397605346934028...|                14.0|                14.0|    43.0|5.397605346934028...|5.397605346934028...|                 1.0|                 1.0|   100.0|    71.0|     1.0|     2.0|    1.0|    1.0|5.397605346934028...|5.397605346934028...|\n",
            "|  3|   1.0|   1.0|b'01172021'| b'01'|b'17'|b'2021'|  1100.0|b'2021000004'|2.021000004E9|     1.0|     1.0|    null|     1.0|     2.0|    1.0|   null|     2.0|   null|                 1.0|     1.0|     2.0|    null|    null|    null|   null|   null|    null|    null|   null|    null|   null|   2.0|    2.0|    88.0|    10.0|    88.0|     2.0|     1.0|     2.0|     1.0|     1.0|    1.0|   1.0|     2.0|    1.0|     2.0|     2.0|     2.0|     2.0|    2.0|   null|     2.0|     2.0|     2.0|     2.0|     2.0|     1.0|    56.0|     2.0|    null|   null|    null|    null|    null|    1.0|  4.0|     1.0|     2.0|    null|     1.0|     2.0|    7.0|    88.0|    7.0|    null|  195.0|  504.0| 2.0|  2.0|   2.0|     2.0|     2.0|     2.0|     2.0|    null|    3.0|     3.0|  101.0|     3.0|     1.0|     6.0|     1.0|102020.0|     1.0|     2.0|    2.0|    null| 203.0|   205.0|   303.0|   204.0|   308.0|   205.0|    null|    null|    null|    null|    null|    null|    null|   null|    null|   null|   null|   null|   null|   null|    null|    null|    null|    null|    null|    null|    null|    null|    null|    null|    null|   null|    null|    null|  null|   null|    null|    null|    null|    null|    null|    null|    null|    null|   null|    null|    null|    null|    null|    null|    null|    null|    null|    null|    null|    null|    null|    null|    null|   null|    null|    null|    null|   null|    null|    null|    null|    null|    null|    null|    null|    null|    null|   null|   null|    null|    null|    null|   null|    null|  null|    null|    null|     2.0|    null|    null|    null|    null|    null|    null|    null|     7.0|     1.0|     2.0|     2.0|     2.0|     2.0|     1.0|     3.0|     1.0|     1.0|     1.0|     1.0|     5.0|     5.0|    null|    null|    null|    null|    null|    null|   null|    null|    null|    null|    null|    null|    null|  null|    null|    null|  10.0|    1.0|     1.0|     1.0|   3.0|11011.0|39.766157742553204|     2.0| 79.53231548510641|     1.0|     9.0|   null|    null| null|    null|     1.0|0.5190191247367235| 874.2429016362627|1099.6215734328375|    1.0|     1.0|     2.0|     1.0|     1.0|     1.0|     2.0|     1.0|     2.0|   2.0|     1.0|     1.0|     3.0|     2.0|     3.0|     3.0|    1.0|    1.0|     2.0|  1.0|     1.0|     1.0|     1.0| 2.0|     9.0|     1.0|  62.0|   5.0| 64.0|163.0| 8845.0|3347.0|     4.0|    2.0|     1.0|    2.0|     5.0|     4.0|     1.0|     1.0|     1.0|                14.0|     2.0|               300.0|     1.0|    null|    null|     2.0|                71.0|    43.0|                10.0|                57.0|                27.0|    71.0|5.397605346934028...|5.397605346934028...|                 1.0|                 1.0|   114.0|   165.0|     1.0|     1.0|    1.0|    1.0|5.397605346934028...|5.397605346934028...|\n",
            "|  4|   1.0|   1.0|b'01152021'| b'01'|b'15'|b'2021'|  1100.0|b'2021000005'|2.021000005E9|     1.0|     1.0|    null|     1.0|     2.0|    1.0|   null|     2.0|   null|                 1.0|     1.0|     1.0|    null|    null|    null|   null|   null|    null|    null|   null|    null|   null|   1.0|    5.0|    30.0|    88.0|    30.0|     3.0|     1.0|     2.0|     1.0|     1.0|    4.0|  null|     2.0|    1.0|     1.0|     1.0|     7.0|     1.0|    2.0|   null|     2.0|     2.0|     2.0|     2.0|     2.0|     1.0|    65.0|     2.0|    null|   null|    null|    null|    null|    1.0|  3.0|     1.0|     2.0|    null|     8.0|     2.0|    8.0|    88.0|    4.0|    null|  206.0|  511.0| 1.0|  2.0|   2.0|     1.0|     2.0|     2.0|     2.0|    null|    2.0|     3.0|  888.0|    null|    null|    null|     1.0| 92020.0|     1.0|     1.0|    1.0|777777.0| 101.0|   555.0|   101.0|   202.0|   202.0|   101.0|    null|    null|    null|    null|    null|    null|    null|   null|    null|   null|   null|   null|   null|   null|    null|    null|    null|    null|    null|    null|    null|    null|    null|    null|    null|   null|    null|    null|  null|   null|    null|    null|    null|    null|    null|    null|    null|    null|   null|    null|    null|    null|    null|    null|    null|    null|    null|    null|    null|    null|    null|    null|    null|   null|    null|    null|    null|   null|    null|    null|    null|    null|    null|    null|    null|    null|    null|   null|   null|    null|    null|    null|   null|    null|  null|    null|    null|     2.0|    null|    null|    null|    null|    null|    null|    null|     2.0|     2.0|     2.0|     2.0|     2.0|     2.0|     1.0|     1.0|     1.0|     1.0|     1.0|     1.0|     5.0|     5.0|    null|    null|    null|    null|    null|    null|   null|    null|    null|    null|    null|    null|    null|  null|    null|    null|  10.0|    1.0|     2.0|     1.0|   2.0|11011.0|39.766157742553204|     2.0| 79.53231548510641|     6.0|     9.0|   null|    null| null|    null|     9.0|              null|2144.7689990885287|1711.8258662824464|    2.0|     3.0|     1.0|     1.0|     9.0|     1.0|     1.0|     1.0|     2.0|   1.0|     1.0|     1.0|     3.0|     2.0|     3.0|     3.0|    1.0|    7.0|     2.0|  7.0|     2.0|     4.0|     7.0| 1.0|    12.0|     2.0|  76.0|   6.0| 71.0|180.0| 9344.0|2873.0|     3.0|    2.0|     1.0|    1.0|     2.0|     4.0|     1.0|     1.0|     2.0|5.397605346934028...|     1.0|5.397605346934028...|     1.0|     1.0|     1.0|     1.0|5.397605346934028...|   100.0|               100.0|                29.0|                29.0|   100.0|5.397605346934028...|5.397605346934028...|                 1.0|                 1.0|   100.0|   258.0|     1.0|     1.0|    1.0|    1.0|5.397605346934028...|5.397605346934028...|\n",
            "|  5|   1.0|   1.0|b'01142021'| b'01'|b'14'|b'2021'|  1100.0|b'2021000006'|2.021000006E9|     1.0|     1.0|    null|     1.0|     2.0|    1.0|   null|     1.0|    1.0|                null|    null|    null|    null|    null|    null|   null|   null|    null|    null|   null|    null|   null|   1.0|    3.0|    88.0|    88.0|    null|     3.0|     1.0|     2.0|     1.0|     2.0|    3.0|  null|     2.0|    2.0|     2.0|     2.0|     2.0|     2.0|    2.0|   null|     2.0|     2.0|     1.0|     2.0|     2.0|     3.0|    null|     2.0|    null|   null|    null|    null|    null|    1.0|  5.0|     1.0|     2.0|    null|     1.0|     2.0|    7.0|    88.0|    6.0|    null|  195.0|  603.0| 2.0|  2.0|   2.0|     1.0|     2.0|     2.0|     1.0|     3.0|    2.0|     3.0|  888.0|    null|    null|    null|     1.0|102020.0|     5.0|     1.0|    2.0|    null| 202.0|   555.0|   201.0|   555.0|   201.0|   201.0|     2.0|     3.0|    null|    null|    null|    null|    null|   null|    null|   null|   null|   null|   null|   null|    null|    null|    null|    null|    null|    null|    null|    null|    null|    null|    null|   null|    null|    null|  null|   null|    null|    null|    null|    null|    null|    null|    null|    null|   null|    null|    null|    null|    null|    null|    null|    null|    null|    null|    null|    null|    null|    null|    null|   null|    null|    null|    null|   null|    null|    null|    null|    null|    null|    null|    null|    null|    null|   null|   null|    null|    null|    null|   null|    null|  null|    null|    null|     2.0|    null|    null|    null|    null|    null|    null|    null|     2.0|     2.0|     2.0|     2.0|     2.0|     2.0|     1.0|     1.0|     1.0|     1.0|     1.0|     1.0|     5.0|     5.0|    null|    null|    null|    null|    null|    null|   null|    null|    null|    null|    null|    null|    null|  null|    null|    null|  10.0|    1.0|     2.0|     2.0|   5.0|11011.0|39.766157742553204|     1.0|39.766157742553204|     1.0|     9.0|   null|    null| null|    null|     1.0|0.5190191247367235|437.12145081813134|499.36515912871187|    1.0|     1.0|     1.0|     1.0|     9.0|     2.0|     1.0|     1.0|     1.0|   2.0|     1.0|     1.0|     3.0|     2.0|     3.0|     3.0|    1.0|    1.0|     2.0|  1.0|     1.0|     1.0|     1.0| 1.0|    13.0|     2.0|  80.0|   6.0| 75.0|191.0| 8845.0|2437.0|     2.0|    1.0|     1.0|    3.0|     4.0|     3.0|     1.0|     1.0|     2.0|5.397605346934028...|     1.0|5.397605346934028...|     1.0|     1.0|     1.0|     2.0|5.397605346934028...|    29.0|                14.0|5.397605346934028...|                14.0|    14.0|5.397605346934028...|5.397605346934028...|                 1.0|                 1.0|    29.0|    42.0|     2.0|     2.0|    1.0|    1.0|5.397605346934028...|5.397605346934028...|\n",
            "|  6|   1.0|   1.0|b'01082021'| b'01'|b'08'|b'2021'|  1100.0|b'2021000007'|2.021000007E9|     1.0|     1.0|    null|     1.0|     2.0|    1.0|   null|     2.0|   null|                 1.0|     1.0|     1.0|    null|    null|    null|   null|   null|    null|    null|   null|    null|   null|   1.0|    3.0|    30.0|    88.0|     2.0|     1.0|     1.0|     2.0|     1.0|     2.0|    1.0|   1.0|     2.0|    2.0|     2.0|     2.0|     2.0|     2.0|    2.0|   null|     2.0|     2.0|     2.0|     1.0|     2.0|     3.0|    null|     1.0|     1.0|    2.0|     1.0|     2.0|     8.0|    1.0|  6.0|     1.0|     2.0|    null|     2.0|     2.0|    8.0|    88.0|   77.0|    null|  340.0|  600.0| 1.0|  2.0|   2.0|     1.0|     1.0|     1.0|     2.0|    null|    3.0|     3.0|  888.0|    null|    null|    null|     1.0|102020.0|     1.0|     2.0|    2.0|    null| 312.0|   301.0|   203.0|   203.0|   302.0|   202.0|     1.0|     3.0|    null|    null|    null|    null|    null|   null|    null|   null|   null|   null|   null|   null|    null|    null|    null|    null|    null|    null|    null|    null|    null|    null|    null|   null|    null|    null|  null|   null|    null|    null|    null|    null|    null|    null|    null|    null|   null|    null|    null|    null|    null|    null|    null|    null|    null|    null|    null|    null|    null|    null|    null|   null|    null|    null|    null|   null|    null|    null|    null|    null|    null|    null|    null|    null|    null|   null|   null|    null|    null|    null|   null|    null|  null|    null|    null|     2.0|    null|    null|    null|    null|    null|    null|    null|     2.0|     2.0|     2.0|     2.0|     2.0|     2.0|     1.0|     1.0|     1.0|     1.0|     1.0|     1.0|     5.0|     5.0|    null|    null|    null|    null|    null|    null|   null|    null|    null|    null|    null|    null|    null|  null|    null|    null|  10.0|    1.0|     2.0|     1.0|   5.0|11011.0|39.766157742553204|     2.0| 79.53231548510641|     1.0|     9.0|   null|    null| null|    null|     1.0|0.5190191247367235| 874.2429016362627| 792.3960286400941|    1.0|     3.0|     1.0|     1.0|     1.0|     2.0|     2.0|     1.0|     1.0|   2.0|     1.0|     1.0|     3.0|     1.0|     1.0|     2.0|    1.0|    1.0|     2.0|  1.0|     1.0|     1.0|     1.0| 1.0|     9.0|     1.0|  63.0|   5.0| 72.0|183.0|15422.0|4611.0|     4.0|    2.0|     1.0|    4.0|     9.0|     4.0|     1.0|     1.0|     2.0|5.397605346934028...|     1.0|5.397605346934028...|     1.0|    null|    null|     2.0|                 3.0|    40.0|                43.0|                43.0|                 7.0|    29.0|5.397605346934028...|5.397605346934028...|                 1.0|                 1.0|    43.0|   122.0|     2.0|     1.0|    1.0|    1.0|5.397605346934028...|5.397605346934028...|\n",
            "|  7|   1.0|   1.0|b'01212021'| b'01'|b'21'|b'2021'|  1100.0|b'2021000008'|2.021000008E9|     1.0|     1.0|    null|     1.0|     2.0|    1.0|   null|     1.0|    1.0|                null|    null|    null|    null|    null|    null|   null|   null|    null|    null|   null|    null|   null|   1.0|    4.0|    88.0|    88.0|    null|     2.0|     1.0|     2.0|     1.0|     1.0|    1.0|   1.0|     2.0|    1.0|     1.0|     1.0|     1.0|     2.0|    2.0|   null|     2.0|     2.0|     1.0|     2.0|     2.0|     3.0|    null|     1.0|     2.0|    2.0|     2.0|     2.0|     8.0|    2.0|  3.0|     1.0|     2.0|    null|     8.0|     2.0|    2.0|    88.0|   99.0|    null|  154.0|  509.0| 2.0|  2.0|   1.0|     2.0|     2.0|     2.0|     1.0|     3.0|    3.0|     3.0|  888.0|    null|    null|    null|     1.0|102020.0|     1.0|     1.0|    2.0|    null| 204.0|   555.0|   202.0|   555.0|   204.0|   204.0|     1.0|     3.0|    null|    null|    null|    null|    null|   null|    null|   null|   null|   null|   null|   null|    null|    null|    null|    null|    null|    null|    null|    null|    null|    null|    null|   null|    null|    null|  null|   null|    null|    null|    null|    null|    null|    null|    null|    null|   null|    null|    null|    null|    null|    null|    null|    null|    null|    null|    null|    null|    null|    null|    null|   null|    null|    null|    null|   null|    null|    null|    null|    null|    null|    null|    null|    null|    null|   null|   null|    null|    null|    null|   null|    null|  null|    null|    null|     2.0|    null|    null|    null|    null|    null|    null|    null|     2.0|     2.0|     2.0|     2.0|     2.0|     2.0|     1.0|     1.0|     1.0|     1.0|     1.0|     1.0|     5.0|     5.0|    null|    null|    null|    null|    null|    null|   null|    null|    null|    null|    null|    null|    null|  null|    null|    null|  10.0|    1.0|     1.0|     1.0|   3.0|11011.0|39.766157742553204|     1.0|39.766157742553204|     1.0|     9.0|   null|    null| null|    null|     9.0|              null|1072.3844995442644|3494.2005713827566|    2.0|     1.0|     1.0|     1.0|     1.0|     1.0|     2.0|     1.0|     2.0|   1.0|     1.0|     1.0|     3.0|     1.0|     2.0|     2.0|    1.0|    1.0|     2.0|  1.0|     1.0|     1.0|     1.0| 1.0|     9.0|     1.0|  62.0|   5.0| 69.0|175.0| 6985.0|2274.0|     2.0|    1.0|     1.0|    1.0|     9.0|     3.0|     1.0|     1.0|     2.0|5.397605346934028...|     1.0|5.397605346934028...|     1.0|    null|    null|     2.0|5.397605346934028...|    57.0|                29.0|5.397605346934028...|                57.0|    57.0|5.397605346934028...|5.397605346934028...|                 1.0|                 1.0|    57.0|   143.0|     2.0|     1.0|    1.0|    1.0|5.397605346934028...|5.397605346934028...|\n",
            "|  8|   1.0|   2.0|b'02202021'| b'02'|b'20'|b'2021'|  1100.0|b'2021000009'|2.021000009E9|     1.0|     1.0|    null|     1.0|     2.0|    1.0|   null|     1.0|    2.0|                null|    null|    null|    null|    null|    null|   null|   null|    null|    null|   null|    null|   null|   2.0|    2.0|    88.0|    88.0|    null|     3.0|     1.0|     2.0|     2.0|     2.0|    3.0|  null|     2.0|    2.0|     2.0|     2.0|     2.0|     2.0|    2.0|   null|     2.0|     2.0|     2.0|     2.0|     2.0|     3.0|    null|     2.0|    null|   null|    null|    null|    null|    2.0|  3.0|     1.0|     2.0|    null|     1.0|     2.0|    7.0|    88.0|   77.0|    null| 7777.0|  503.0| 2.0|  2.0|   2.0|     2.0|     2.0|     1.0|     2.0|    null|    3.0|     3.0|  888.0|    null|    null|    null|     1.0|112020.0|     1.0|     2.0|    2.0|    null| 202.0|   101.0|   555.0|   777.0|   555.0|   202.0|     1.0|     3.0|    null|    null|    null|    null|    null|   null|    null|   null|   null|   null|   null|   null|    null|    null|    null|    null|    null|    null|    null|    null|    null|    null|    null|   null|    null|    null|  null|   null|    null|    null|    null|    null|    null|    null|    null|    null|   null|    null|    null|    null|    null|    null|    null|    null|    null|    null|    null|    null|    null|    null|    null|   null|    null|    null|    null|   null|    null|    null|    null|    null|    null|    null|    null|    null|    null|   null|   null|    null|    null|    null|   null|    null|  null|    null|    null|     2.0|    null|    null|    null|    null|    null|    null|    null|     7.0|     2.0|     2.0|     2.0|     2.0|     2.0|     1.0|     1.0|     1.0|     1.0|     1.0|     1.0|     5.0|     5.0|    null|    null|    null|    null|    null|    null|   null|    null|    null|    null|    null|    null|    null|  null|    null|    null|  10.0|    1.0|     1.0|     1.0|   1.0|11011.0|39.766157742553204|     1.0|39.766157742553204|     1.0|     9.0|   null|    null| null|    null|     1.0|0.5190191247367235|437.12145081813134| 674.1108984794519|    1.0|     1.0|     1.0|     1.0|     9.0|     2.0|     1.0|     1.0|     1.0|   2.0|     1.0|     1.0|     3.0|     2.0|     3.0|     3.0|    1.0|    1.0|     2.0|  1.0|     1.0|     1.0|     1.0| 2.0|    12.0|     2.0|  78.0|   6.0| 63.0|160.0|   null|  null|    null|    9.0|     1.0|    1.0|     9.0|     4.0|     1.0|     1.0|     2.0|5.397605346934028...|     1.0|5.397605346934028...|     1.0|     1.0|     2.0|     2.0|               100.0|    29.0|5.397605346934028...|                null|5.397605346934028...|    29.0|5.397605346934028...|                 1.0|                 1.0|5.397605346934028...|   129.0|    null|     1.0|     9.0|    1.0|    1.0|5.397605346934028...|                 1.0|\n",
            "|  9|   1.0|   2.0|b'02202021'| b'02'|b'20'|b'2021'|  1100.0|b'2021000010'| 2.02100001E9|     1.0|     1.0|    null|     1.0|     2.0|    1.0|   null|     2.0|   null|                 1.0|     1.0|     2.0|    null|    null|    null|   null|   null|    null|    null|   null|    null|   null|   2.0|    3.0|    25.0|     5.0|     5.0|     3.0|     2.0|     2.0|     1.0|     1.0|    1.0|   1.0|     2.0|    2.0|     1.0|     2.0|     2.0|     2.0|    2.0|   null|     2.0|     2.0|     2.0|     2.0|     2.0|     3.0|    null|     1.0|     1.0|    2.0|     2.0|     2.0|     4.0|    1.0|  4.0|     1.0|     2.0|    null|     2.0|     2.0|    7.0|    88.0|    8.0|    null|  240.0|  505.0| 2.0|  2.0|   2.0|     1.0|     2.0|     2.0|     1.0|     3.0|    3.0|     3.0|  203.0|     2.0|    88.0|     2.0|     2.0|    null|    null|     1.0|    2.0|    null| 101.0|   555.0|   202.0|   202.0|   203.0|   204.0|     1.0|     3.0|    null|    null|    null|    null|    null|   null|    null|   null|   null|   null|   null|   null|    null|    null|    null|    null|    null|    null|    null|    null|    null|    null|    null|   null|    null|    null|  null|   null|    null|    null|    null|    null|    null|    null|    null|    null|   null|    null|    null|    null|    null|    null|    null|    null|    null|    null|    null|    null|    null|    null|    null|   null|    null|    null|    null|   null|    null|    null|    null|    null|    null|    null|    null|    null|    null|   null|   null|    null|    null|    null|   null|    null|  null|    null|    null|     1.0|    15.0|     2.0|     1.0|    15.0|     2.0|     2.0|     2.0|    null|     2.0|     2.0|     2.0|     2.0|     2.0|     1.0|     1.0|     3.0|     1.0|     1.0|     1.0|     4.0|     4.0|    null|    null|    null|    null|    null|    null|   null|    null|    null|    null|    null|    null|    null|  null|    null|    null|  10.0|    1.0|     1.0|     1.0|   1.0|11011.0|39.766157742553204|     2.0| 79.53231548510641|     1.0|     9.0|   null|    null| null|    null|     1.0|0.5190191247367235| 874.2429016362627| 744.7455308997082|    1.0|     3.0|     2.0|     1.0|     9.0|     1.0|     2.0|     1.0|     1.0|   2.0|     1.0|     1.0|     3.0|     1.0|     2.0|     2.0|    1.0|    1.0|     2.0|  1.0|     1.0|     1.0|     1.0| 2.0|    10.0|     2.0|  65.0|   6.0| 65.0|165.0|10886.0|3994.0|     4.0|    2.0|     1.0|    2.0|     5.0|     3.0|     1.0|     1.0|     1.0|                10.0|     1.0|               140.0|     1.0|     2.0|     1.0|     2.0|5.397605346934028...|   100.0|                29.0|                29.0|                43.0|    57.0|5.397605346934028...|5.397605346934028...|                 1.0|                 1.0|   100.0|   158.0|     1.0|     1.0|    1.0|    1.0|5.397605346934028...|5.397605346934028...|\n",
            "| 10|   1.0|   2.0|b'03062021'| b'03'|b'06'|b'2021'|  1100.0|b'2021000011'|2.021000011E9|     1.0|     1.0|    null|     1.0|     2.0|    1.0|   null|     1.0|    2.0|                null|    null|    null|    null|    null|    null|   null|   null|    null|    null|   null|    null|   null|   2.0|    4.0|    88.0|    25.0|    88.0|     3.0|     1.0|     2.0|     1.0|     2.0|    1.0|   1.0|     2.0|    1.0|     2.0|     2.0|     2.0|     2.0|    1.0|    1.0|     2.0|     2.0|     1.0|     1.0|     2.0|     3.0|    null|     2.0|    null|   null|    null|    null|    null|    2.0|  5.0|     1.0|     2.0|    null|     8.0|     2.0|    7.0|    88.0|    3.0|    null|  160.0|  504.0| 2.0|  2.0|   2.0|     2.0|     2.0|     2.0|     1.0|     2.0|    3.0|     3.0|  888.0|    null|    null|    null|     1.0|102020.0|     5.0|     1.0|    2.0|    null| 203.0|   555.0|   203.0|   201.0|   555.0|   203.0|     1.0|     3.0|    null|    null|    null|    null|    null|   null|    null|   null|   null|   null|   null|   null|    null|    null|    null|    null|    null|    null|    null|    null|    null|    null|    null|   null|    null|    null|  null|   null|    null|    null|    null|    null|    null|    null|    null|    null|   null|    null|    null|    null|    null|    null|    null|    null|    null|    null|    null|    null|    null|    null|    null|   null|    null|    null|    null|   null|    null|    null|    null|    null|    null|    null|    null|    null|    null|   null|   null|    null|    null|    null|   null|    null|  null|    null|    null|     2.0|    null|    null|    null|    null|    null|    null|    null|     2.0|     2.0|     2.0|     2.0|     2.0|     2.0|     1.0|     1.0|     1.0|     1.0|     1.0|     1.0|     5.0|     5.0|    null|    null|    null|    null|    null|    null|   null|    null|    null|    null|    null|    null|    null|  null|    null|    null|  10.0|    1.0|     1.0|     1.0|   2.0|11011.0|39.766157742553204|     1.0|39.766157742553204|     1.0|     9.0|   null|    null| null|    null|     9.0|              null|1072.3844995442644| 914.6331323385558|    2.0|     1.0|     3.0|     1.0|     9.0|     2.0|     2.0|     1.0|     2.0|   2.0|     2.0|     2.0|     1.0|     2.0|     3.0|     3.0|    1.0|    1.0|     2.0|  1.0|     1.0|     1.0|     1.0| 2.0|    10.0|     2.0|  67.0|   6.0| 64.0|163.0| 7257.0|2746.0|     3.0|    2.0|     1.0|    3.0|     2.0|     2.0|     2.0|     1.0|     2.0|5.397605346934028...|     1.0|5.397605346934028...|     1.0|     1.0|     1.0|     2.0|5.397605346934028...|    43.0|                43.0|                14.0|5.397605346934028...|    43.0|5.397605346934028...|5.397605346934028...|                 1.0|                 1.0|    43.0|   100.0|     2.0|     1.0|    1.0|    1.0|5.397605346934028...|5.397605346934028...|\n",
            "| 11|   1.0|   2.0|b'02282021'| b'02'|b'28'|b'2021'|  1100.0|b'2021000012'|2.021000012E9|     1.0|     1.0|    null|     1.0|     2.0|    1.0|   null|     2.0|   null|5.397605346934028...|     2.0|     2.0|    null|    null|    null|   null|   null|    null|    null|   null|    null|   null|   2.0|    3.0|     7.0|    15.0|    88.0|     3.0|     1.0|     2.0|     1.0|     2.0|    1.0|   1.0|     2.0|    1.0|     1.0|     2.0|     2.0|     7.0|    2.0|   null|     7.0|     2.0|     2.0|     2.0|     2.0|     3.0|    null|     1.0|     2.0|    2.0|     2.0|     2.0|     8.0|    3.0|  4.0|     1.0|     2.0|    null|     1.0|     2.0|    7.0|    88.0|    4.0|    null|  160.0|  410.0| 2.0|  1.0|   2.0|     2.0|     2.0|     2.0|     2.0|    null|    3.0|     3.0|  888.0|    null|    null|    null|     1.0|777777.0|     1.0|     2.0|    2.0|    null| 205.0|   205.0|   555.0|   303.0|   203.0|   101.0|     2.0|     3.0|    null|    null|    null|    null|    null|   null|    null|   null|   null|   null|   null|   null|    null|    null|    null|    null|    null|    null|    null|    null|    null|    null|    null|   null|    null|    null|  null|   null|    null|    null|    null|    null|    null|    null|    null|    null|   null|    null|    null|    null|    null|    null|    null|    null|    null|    null|    null|    null|    null|    null|    null|   null|    null|    null|    null|   null|    null|    null|    null|    null|    null|    null|    null|    null|    null|   null|   null|    null|    null|    null|   null|    null|  null|    null|    null|     2.0|    null|    null|    null|    null|    null|    null|    null|     2.0|     2.0|     2.0|     2.0|     2.0|     2.0|     1.0|     1.0|     1.0|     9.0|     1.0|     1.0|     5.0|     5.0|    null|    null|    null|    null|    null|    null|   null|    null|    null|    null|    null|    null|    null|  null|    null|    null|  10.0|    1.0|     1.0|     1.0|   3.0|11011.0|39.766157742553204|     2.0| 79.53231548510641|     1.0|     9.0|   null|    null| null|    null|     1.0|0.5190191247367235| 874.2429016362627| 796.0383603917575|    1.0|     2.0|     3.0|     1.0|     9.0|     2.0|     2.0|     1.0|     2.0|   2.0|     1.0|     1.0|     3.0|     1.0|     2.0|     2.0|    1.0|    1.0|     9.0|  9.0|     9.0|     9.0|     1.0| 2.0|    12.0|     2.0|  76.0|   6.0| 58.0|147.0| 7257.0|3344.0|     4.0|    2.0|     1.0|    2.0|     2.0|     4.0|     1.0|     1.0|     2.0|5.397605346934028...|     1.0|5.397605346934028...|     1.0|     1.0|     2.0|     2.0|                71.0|    71.0|5.397605346934028...|                10.0|                43.0|   100.0|5.397605346934028...|5.397605346934028...|                 1.0|                 1.0|   142.0|   153.0|     1.0|     1.0|    1.0|    1.0|5.397605346934028...|5.397605346934028...|\n",
            "| 12|   1.0|   2.0|b'03032021'| b'03'|b'03'|b'2021'|  1100.0|b'2021000013'|2.021000013E9|     1.0|     1.0|    null|     1.0|     2.0|    1.0|   null|     2.0|   null|                 1.0|     1.0|     2.0|    null|    null|    null|   null|   null|    null|    null|   null|    null|   null|   2.0|    4.0|    77.0|    77.0|    88.0|    99.0|     2.0|     1.0|     1.0|     2.0|    3.0|  null|     2.0|    1.0|     2.0|     2.0|     2.0|     2.0|    2.0|   null|     1.0|     2.0|     2.0|     1.0|     2.0|     3.0|    null|     1.0|     1.0|    1.0|     1.0|     1.0|    10.0|    1.0|  3.0|     1.0|     2.0|    null|     1.0|     2.0|    5.0|    88.0|   77.0|    null|  134.0|  503.0| 2.0|  1.0|   1.0|     1.0|     2.0|     2.0|     2.0|    null|    3.0|     3.0|  888.0|    null|    null|    null|     1.0|102020.0|     1.0|     1.0|    2.0|    null| 101.0|   555.0|   304.0|   302.0|   302.0|   303.0|     2.0|     3.0|    null|    null|    null|    null|    null|   null|    null|   null|   null|   null|   null|   null|    null|    null|    null|    null|    null|    null|    null|    null|    null|    null|    null|   null|    null|    null|  null|   null|    null|    null|    null|    null|    null|    null|    null|    null|   null|    null|    null|    null|    null|    null|    null|    null|    null|    null|    null|    null|    null|    null|    null|   null|    null|    null|    null|   null|    null|    null|    null|    null|    null|    null|    null|    null|    null|   null|   null|    null|    null|    null|   null|    null|  null|    null|    null|     1.0|     6.0|     3.0|     4.0|    13.0|     2.0|     1.0|     1.0|    null|     2.0|     2.0|     2.0|     2.0|     2.0|     3.0|     3.0|     3.0|     1.0|     1.0|     1.0|     5.0|     5.0|    null|    null|    null|    null|    null|    null|   null|    null|    null|    null|    null|    null|    null|  null|    null|    null|  10.0|    1.0|     1.0|     1.0|   3.0|11011.0|39.766157742553204|     2.0| 79.53231548510641|     1.0|     9.0|   null|    null| null|    null|     1.0|0.5190191247367235| 874.2429016362627|1261.3489599327522|    2.0|     9.0|     9.0|     9.0|     9.0|     2.0|     1.0|     1.0|     2.0|   2.0|     1.0|     1.0|     3.0|     1.0|     1.0|     1.0|    1.0|    1.0|     2.0|  1.0|     1.0|     1.0|     1.0| 2.0|    11.0|     2.0|  73.0|   6.0| 63.0|160.0| 6078.0|2374.0|     2.0|    1.0|     1.0|    1.0|     9.0|     4.0|     1.0|     1.0|     2.0|5.397605346934028...|     1.0|5.397605346934028...|     1.0|     1.0|     1.0|     2.0|5.397605346934028...|   100.0|                13.0|                 7.0|                 7.0|    10.0|5.397605346934028...|5.397605346934028...|                 1.0|                 1.0|   100.0|    37.0|     1.0|     2.0|    1.0|    1.0|5.397605346934028...|5.397605346934028...|\n",
            "| 13|   1.0|   2.0|b'03032021'| b'03'|b'03'|b'2021'|  1100.0|b'2021000014'|2.021000014E9|     1.0|     1.0|    null|     1.0|     2.0|    1.0|   null|     2.0|   null|                 1.0|     1.0|     2.0|    null|    null|    null|   null|   null|    null|    null|   null|    null|   null|   2.0|    4.0|     1.0|    88.0|    88.0|     3.0|     1.0|     2.0|     1.0|     2.0|    1.0|   1.0|     2.0|    2.0|     2.0|     2.0|     2.0|     2.0|    2.0|   null|     2.0|     2.0|     2.0|     2.0|     2.0|     1.0|    50.0|     1.0|     1.0|    1.0|     1.0|     2.0|     5.0|    1.0|  6.0|     1.0|     2.0|    null|     1.0|     2.0|    7.0|    88.0|   77.0|    null|  202.0|  504.0| 2.0|  2.0|   2.0|     1.0|     2.0|     2.0|     2.0|    null|    3.0|     3.0|  888.0|    null|    null|    null|     1.0|102020.0|     5.0|     1.0|    2.0|    null| 203.0|   555.0|   203.0|   301.0|   202.0|   207.0|    null|    null|    null|    null|    null|    null|    null|   null|    null|   null|   null|   null|   null|   null|    null|    null|    null|    null|    null|    null|    null|    null|    null|    null|    null|   null|    null|    null|  null|   null|    null|    null|    null|    null|    null|    null|    null|    null|   null|    null|    null|    null|    null|    null|    null|    null|    null|    null|    null|    null|    null|    null|    null|   null|    null|    null|    null|   null|    null|    null|    null|    null|    null|    null|    null|    null|    null|   null|   null|    null|    null|    null|   null|    null|  null|    null|    null|     2.0|    null|    null|    null|    null|    null|    null|    null|     2.0|     1.0|     2.0|     2.0|     2.0|     2.0|     1.0|     1.0|     1.0|     1.0|     1.0|     1.0|     5.0|     5.0|    null|    null|    null|    null|    null|    null|   null|    null|    null|    null|    null|    null|    null|  null|    null|    null|  10.0|    1.0|     1.0|     1.0|   1.0|11011.0|39.766157742553204|     2.0| 79.53231548510641|     1.0|     9.0|   null|    null| null|    null|     1.0|0.5190191247367235| 874.2429016362627|378.96796148770125|    2.0|     2.0|     1.0|     1.0|     9.0|     2.0|     2.0|     1.0|     1.0|   2.0|     1.0|     1.0|     3.0|     1.0|     1.0|     2.0|    1.0|    1.0|     2.0|  1.0|     1.0|     1.0|     1.0| 2.0|    11.0|     2.0|  73.0|   6.0| 64.0|163.0| 9163.0|3467.0|     4.0|    2.0|     1.0|    4.0|     9.0|     4.0|     1.0|     1.0|     2.0|5.397605346934028...|     1.0|5.397605346934028...|     1.0|     1.0|     1.0|     2.0|5.397605346934028...|    43.0|                43.0|                 3.0|                29.0|   100.0|5.397605346934028...|5.397605346934028...|                 1.0|                 1.0|    43.0|   175.0|     2.0|     1.0|    1.0|    1.0|5.397605346934028...|5.397605346934028...|\n",
            "| 14|   1.0|   2.0|b'02202021'| b'02'|b'20'|b'2021'|  1100.0|b'2021000015'|2.021000015E9|     1.0|     1.0|    null|     1.0|     2.0|    1.0|   null|     1.0|    2.0|                null|    null|    null|    null|    null|    null|   null|   null|    null|    null|   null|    null|   null|   2.0|    4.0|    88.0|    88.0|    null|     3.0|     2.0|     2.0|     1.0|     1.0|    3.0|  null|     2.0|    1.0|     1.0|     1.0|     1.0|     2.0|    2.0|   null|     2.0|     2.0|     2.0|     2.0|     1.0|     3.0|    null|     1.0|     1.0|    2.0|     2.0|     2.0|     4.0|    3.0|  4.0|     1.0|     2.0|    null|     1.0|     2.0|    7.0|    88.0|   77.0|    null|  165.0|  503.0| 2.0|  2.0|   2.0|     2.0|     2.0|     2.0|     2.0|    null|    3.0|     3.0|  888.0|    null|    null|    null|     1.0|102020.0|     5.0|     1.0|    2.0|    null| 101.0|   202.0|   205.0|   302.0|   330.0|   330.0|     1.0|     3.0|    null|    null|    null|    null|    null|   null|    null|   null|   null|   null|   null|   null|    null|    null|    null|    null|    null|    null|    null|    null|    null|    null|    null|   null|    null|    null|  null|   null|    null|    null|    null|    null|    null|    null|    null|    null|   null|    null|    null|    null|    null|    null|    null|    null|    null|    null|    null|    null|    null|    null|    null|   null|    null|    null|    null|   null|    null|    null|    null|    null|    null|    null|    null|    null|    null|   null|   null|    null|    null|    null|   null|    null|  null|    null|    null|     2.0|    null|    null|    null|    null|    null|    null|    null|     2.0|     2.0|     2.0|     2.0|     2.0|     2.0|     1.0|     1.0|     1.0|     1.0|     1.0|     1.0|     5.0|     5.0|    null|    null|    null|    null|    null|    null|   null|    null|    null|    null|    null|    null|    null|  null|    null|    null|  10.0|    1.0|     1.0|     1.0|   1.0|11011.0|39.766157742553204|     1.0|39.766157742553204|     1.0|     9.0|   null|    null| null|    null|     1.0|0.5190191247367235|437.12145081813134|398.01918019587873|    2.0|     1.0|     1.0|     1.0|     9.0|     1.0|     1.0|     1.0|     2.0|   1.0|     1.0|     1.0|     3.0|     1.0|     2.0|     2.0|    1.0|    1.0|     2.0|  1.0|     1.0|     1.0|     1.0| 2.0|    12.0|     2.0|  77.0|   6.0| 63.0|160.0| 7484.0|2923.0|     3.0|    2.0|     1.0|    2.0|     9.0|     4.0|     1.0|     1.0|     2.0|5.397605346934028...|     1.0|5.397605346934028...|     1.0|     1.0|     1.0|     2.0|                29.0|   100.0|                71.0|                 7.0|               100.0|   100.0|5.397605346934028...|5.397605346934028...|                 1.0|                 1.0|   129.0|   278.0|     1.0|     1.0|    1.0|    1.0|5.397605346934028...|5.397605346934028...|\n",
            "| 15|   1.0|   2.0|b'02202021'| b'02'|b'20'|b'2021'|  1100.0|b'2021000016'|2.021000016E9|     1.0|     1.0|    null|     1.0|     2.0|    1.0|   null|     3.0|   null|                 2.0|     1.0|     2.0|    null|    null|    null|   null|   null|    null|    null|   null|    null|   null|   2.0|    2.0|    88.0|    88.0|    null|    10.0|     1.0|     2.0|     1.0|     1.0|    3.0|  null|     2.0|    1.0|     2.0|     2.0|     2.0|     2.0|    2.0|   null|     2.0|     2.0|     2.0|     2.0|     2.0|     3.0|    null|     2.0|    null|   null|    null|    null|    null|    1.0|  6.0|     1.0|     2.0|    null|     1.0|     2.0|    7.0|    88.0|    8.0|    null| 9999.0|  505.0| 2.0|  2.0|   2.0|     2.0|     2.0|     2.0|     1.0|     3.0|    3.0|     3.0|  888.0|    null|    null|    null|     1.0| 92020.0|     5.0|     2.0|    7.0|    null| 315.0|   303.0|   330.0|   301.0|   306.0|   330.0|     1.0|     3.0|    null|    null|    null|    null|    null|   null|    null|   null|   null|   null|   null|   null|    null|    null|    null|    null|    null|    null|    null|    null|    null|    null|    null|   null|    null|    null|  null|   null|    null|    null|    null|    null|    null|    null|    null|    null|   null|    null|    null|    null|    null|    null|    null|    null|    null|    null|    null|    null|    null|    null|    null|   null|    null|    null|    null|   null|    null|    null|    null|    null|    null|    null|    null|    null|    null|   null|   null|    null|    null|    null|   null|    null|  null|    null|    null|     2.0|    null|    null|    null|    null|    null|    null|    null|     7.0|     2.0|     2.0|     1.0|     2.0|     2.0|     1.0|     1.0|     1.0|     1.0|     1.0|     1.0|     5.0|     5.0|    null|    null|    null|    null|    null|    null|   null|    null|    null|    null|    null|    null|    null|  null|    null|    null|  10.0|    1.0|     1.0|     1.0|   1.0|11011.0|39.766157742553204|     3.0|119.29847322765961|     1.0|     9.0|   null|    null| null|    null|     1.0|0.5190191247367235| 1311.364352454394| 839.3229542209751|    1.0|     1.0|     1.0|     1.0|     1.0|     1.0|     1.0|     1.0|     2.0|   2.0|     1.0|     1.0|     3.0|     2.0|     3.0|     3.0|    1.0|    1.0|     2.0|  1.0|     1.0|     1.0|     1.0| 2.0|     9.0|     1.0|  62.0|   5.0| 65.0|165.0|   null|  null|    null|    9.0|     1.0|    4.0|     5.0|     3.0|     1.0|     1.0|     2.0|5.397605346934028...|     1.0|5.397605346934028...|     1.0|    null|    null|     9.0|                10.0|    50.0|               100.0|                 3.0|                20.0|   100.0|5.397605346934028...|5.397605346934028...|                 1.0|                 1.0|    60.0|   223.0|     2.0|     1.0|    1.0|    1.0|5.397605346934028...|5.397605346934028...|\n",
            "| 16|   1.0|   2.0|b'03062021'| b'03'|b'06'|b'2021'|  1100.0|b'2021000017'|2.021000017E9|     1.0|     1.0|    null|     1.0|     2.0|    1.0|   null|     3.0|   null|                 2.0|     1.0|     2.0|    null|    null|    null|   null|   null|    null|    null|   null|    null|   null|   2.0|    4.0|    10.0|    77.0|     2.0|     1.0|     2.0|     1.0|     1.0|     1.0|    3.0|  null|     2.0|    1.0|     1.0|     2.0|     2.0|     2.0|    2.0|   null|     2.0|     2.0|     2.0|     2.0|     2.0|     1.0|    55.0|     1.0|     2.0|    2.0|     1.0|     2.0|     7.0|    1.0|  4.0|     1.0|     2.0|    null|     1.0|     2.0|    5.0|    88.0|    5.0|    null|  104.0|  504.0| 2.0|  2.0|   1.0|     1.0|     2.0|     1.0|     1.0|     3.0|    3.0|     3.0|  888.0|    null|    null|    null|     1.0|777777.0|     1.0|     2.0|    2.0|    null| 101.0|   555.0|   203.0|   202.0|   201.0|   101.0|    null|    null|    null|    null|    null|    null|    null|   null|    null|   null|   null|   null|   null|   null|    null|    null|    null|    null|    null|    null|    null|    null|    null|    null|    null|   null|    null|    null|  null|   null|    null|    null|    null|    null|    null|    null|    null|    null|   null|    null|    null|    null|    null|    null|    null|    null|    null|    null|    null|    null|    null|    null|    null|   null|    null|    null|    null|   null|    null|    null|    null|    null|    null|    null|    null|    null|    null|   null|   null|    null|    null|    null|   null|    null|  null|    null|    null|     1.0|    15.0|     3.0|     1.0|     6.0|     1.0|     1.0|     1.0|    null|     2.0|     2.0|     2.0|     2.0|     2.0|     1.0|     1.0|     1.0|     1.0|     1.0|     1.0|     5.0|     5.0|    null|    null|    null|    null|    null|    null|   null|    null|    null|    null|    null|    null|    null|  null|    null|    null|  10.0|    1.0|     1.0|     1.0|   5.0|11011.0|39.766157742553204|     3.0|119.29847322765961|     1.0|     9.0|   null|    null| null|    null|     1.0|0.5190191247367235| 1311.364352454394|1649.4323601492574|    2.0|     2.0|     9.0|     1.0|     1.0|     1.0|     1.0|     1.0|     2.0|   2.0|     1.0|     1.0|     3.0|     1.0|     1.0|     2.0|    1.0|    1.0|     2.0|  1.0|     1.0|     1.0|     1.0| 2.0|     9.0|     1.0|  62.0|   5.0| 64.0|163.0| 4717.0|1785.0|     1.0|    1.0|     1.0|    2.0|     3.0|     3.0|     1.0|     1.0|     2.0|5.397605346934028...|     1.0|5.397605346934028...|     1.0|    null|    null|     2.0|5.397605346934028...|   100.0|                43.0|                29.0|                14.0|   100.0|5.397605346934028...|5.397605346934028...|                 1.0|                 1.0|   100.0|   186.0|     1.0|     1.0|    1.0|    1.0|5.397605346934028...|5.397605346934028...|\n",
            "| 17|   1.0|   2.0|b'03012021'| b'03'|b'01'|b'2021'|  1100.0|b'2021000018'|2.021000018E9|     1.0|     1.0|    null|     1.0|     2.0|    1.0|   null|     1.0|    1.0|                null|    null|    null|    null|    null|    null|   null|   null|    null|    null|   null|    null|   null|   1.0|    4.0|    88.0|    88.0|    null|     3.0|     2.0|     2.0|     1.0|     2.0|    3.0|  null|     2.0|    2.0|     2.0|     2.0|     1.0|     2.0|    2.0|   null|     1.0|     2.0|     2.0|     2.0|     2.0|     1.0|    62.0|     2.0|    null|   null|    null|    null|    null|    1.0|  6.0|     1.0|     1.0|     2.0|     1.0|     1.0|    7.0|    88.0|    7.0|    null|  162.0|  509.0| 2.0|  2.0|   1.0|     2.0|     2.0|     2.0|     2.0|    null|    3.0|     3.0|  888.0|    null|    null|    null|     1.0|777777.0|     1.0|     1.0|    2.0|    null| 302.0|   302.0|   202.0|   101.0|   302.0|   207.0|    null|    null|    null|    null|    null|    null|    null|   null|    null|   null|   null|   null|   null|   null|    null|    null|    null|    null|    null|    null|    null|    null|    null|    null|    null|   null|    null|    null|  null|   null|    null|    null|    null|    null|    null|    null|    null|    null|   null|    null|    null|    null|    null|    null|    null|    null|    null|    null|    null|    null|    null|    null|    null|   null|    null|    null|    null|   null|    null|    null|    null|    null|    null|    null|    null|    null|    null|   null|   null|    null|    null|    null|   null|    null|  null|    null|    null|     2.0|    null|    null|    null|    null|    null|    null|    null|     2.0|     2.0|     2.0|     2.0|     2.0|     2.0|     1.0|     1.0|     1.0|     1.0|     1.0|     1.0|     5.0|     5.0|    null|    null|    null|    null|    null|    null|   null|    null|    null|    null|    null|    null|    null|  null|    null|    null|  10.0|    1.0|     1.0|     1.0|   3.0|11011.0|39.766157742553204|     0.5|19.883078871276602|     1.0|     9.0|   null|    null| null|    null|     1.0|0.5190191247367235|218.56072540906567|137.06185048128293|    2.0|     1.0|     1.0|     1.0|     9.0|     2.0|     1.0|     1.0|     1.0|   1.0|     1.0|     1.0|     3.0|     2.0|     3.0|     3.0|    1.0|    1.0|     2.0|  1.0|     1.0|     1.0|     1.0| 1.0|    12.0|     2.0|  79.0|   6.0| 69.0|175.0| 7348.0|2392.0|     2.0|    1.0|     1.0|    4.0|     5.0|     4.0|     1.0|     1.0|     2.0|5.397605346934028...|     1.0|5.397605346934028...|     1.0|     1.0|     1.0|     2.0|                 7.0|     7.0|                29.0|               100.0|                 7.0|   100.0|5.397605346934028...|5.397605346934028...|                 1.0|                 1.0|    14.0|   236.0|     2.0|     1.0|    1.0|    1.0|5.397605346934028...|5.397605346934028...|\n",
            "| 18|   1.0|   2.0|b'03012021'| b'03'|b'01'|b'2021'|  1200.0|b'2021000019'|2.021000019E9|     1.0|     1.0|    null|     1.0|     2.0|    1.0|   null|     3.0|   null|5.397605346934028...|     3.0|     2.0|    null|    null|    null|   null|   null|    null|    null|   null|    null|   null|   2.0|    5.0|    30.0|    88.0|    30.0|     3.0|     2.0|     2.0|     2.0|     2.0|    1.0|   1.0|     2.0|    1.0|     2.0|     1.0|     1.0|     2.0|    2.0|   null|     2.0|     1.0|     1.0|     2.0|     1.0|     1.0|    98.0|     1.0|     1.0|    1.0|     1.0|     1.0|     8.0|    2.0|  4.0|     1.0|     2.0|    null|     8.0|     2.0|    7.0|    88.0|   99.0|    null|  200.0|  503.0| 2.0|  2.0|   2.0|     1.0|     1.0|     1.0|     2.0|    null|    3.0|     3.0|  888.0|    null|    null|    null|     2.0|    null|    null|     1.0|    1.0|777777.0| 777.0|   777.0|   201.0|    null|    null|    null|    null|    null|    null|    null|    null|    null|    null|   null|    null|   null|   null|   null|   null|   null|    null|    null|    null|    null|    null|    null|    null|    null|    null|    null|    null|   null|    null|    null|  null|   null|    null|    null|    null|    null|    null|    null|    null|    null|   null|    null|    null|    null|    null|    null|    null|    null|    null|    null|    null|    null|    null|    null|    null|   null|    null|    null|    null|   null|    null|    null|    null|    null|    null|    null|    null|    null|    null|   null|   null|    null|    null|    null|   null|    null|  null|    null|    null|    null|    null|    null|    null|    null|    null|    null|    null|    null|    null|    null|    null|    null|    null|    null|    null|    null|    null|    null|    null|    null|    null|    null|    null|    null|    null|    null|    null|   null|    null|    null|    null|    null|    null|    null|  null|    null|    null|  10.0|    1.0|     2.0|     1.0|   2.0|11011.0|39.766157742553204|     3.0|119.29847322765961|     1.0|     9.0|   null|    null| null|    null|     9.0|              null| 2797.521798468357|2718.7434522008703|    2.0|     3.0|     1.0|     1.0|     9.0|     2.0|     2.0|     1.0|     2.0|   1.0|     1.0|     1.0|     3.0|     1.0|     1.0|     1.0|    1.0|    1.0|     2.0|  1.0|     1.0|     1.0|     1.0| 2.0|    12.0|     2.0|  78.0|   6.0| 63.0|160.0| 9072.0|3543.0|     4.0|    2.0|     1.0|    2.0|     9.0|     4.0|     1.0|     1.0|     2.0|5.397605346934028...|     1.0|5.397605346934028...|     1.0|     2.0|     1.0|     1.0|                null|    null|                14.0|                null|                null|    null|                 2.0|                 3.0|5.397605346934028...|5.397605346934028...|    null|    null|     9.0|     9.0|    1.0|    1.0|                 1.0|                 1.0|\n",
            "| 19|   1.0|   2.0|b'02202021'| b'02'|b'20'|b'2021'|  1100.0|b'2021000020'| 2.02100002E9|     1.0|     1.0|    null|     1.0|     2.0|    1.0|   null|     1.0|    2.0|                null|    null|    null|    null|    null|    null|   null|   null|    null|    null|   null|    null|   null|   2.0|    2.0|    88.0|    88.0|    null|     1.0|     1.0|     2.0|     1.0|     2.0|    1.0|   1.0|     2.0|    1.0|     1.0|     2.0|     2.0|     2.0|    1.0|    1.0|     2.0|     2.0|     2.0|     1.0|     2.0|     3.0|    null|     2.0|    null|   null|    null|    null|    null|    5.0|  4.0|     1.0|     2.0|    null|     1.0|     2.0|    1.0|    88.0|    6.0|    null|  185.0|  506.0| 2.0|  2.0|   2.0|     2.0|     2.0|     2.0|     2.0|    null|    3.0|     3.0|  102.0|     1.0|    88.0|     1.0|     1.0|102020.0|     5.0|     2.0|    2.0|    null| 202.0|   102.0|   555.0|   302.0|   301.0|   207.0|     2.0|     3.0|    null|    null|    null|    null|    null|   null|    null|   null|   null|   null|   null|   null|    null|    null|    null|    null|    null|    null|    null|    null|    null|    null|    null|   null|    null|    null|  null|   null|    null|    null|    null|    null|    null|    null|    null|    null|   null|    null|    null|    null|    null|    null|    null|    null|    null|    null|    null|    null|    null|    null|    null|   null|    null|    null|    null|   null|    null|    null|    null|    null|    null|    null|    null|    null|    null|   null|   null|    null|    null|    null|   null|    null|  null|    null|    null|     2.0|    null|    null|    null|    null|    null|    null|    null|     2.0|     2.0|     2.0|     2.0|     2.0|     2.0|     1.0|     1.0|     1.0|     1.0|     1.0|     1.0|     5.0|     5.0|    null|    null|    null|    null|    null|    null|   null|    null|    null|    null|    null|    null|    null|  null|    null|    null|  10.0|    1.0|     1.0|     1.0|   1.0|11011.0|39.766157742553204|     1.0|39.766157742553204|     1.0|     9.0|   null|    null| null|    null|     1.0|0.5190191247367235|437.12145081813134| 770.2739440779656|    1.0|     1.0|     1.0|     1.0|     1.0|     2.0|     2.0|     1.0|     2.0|   2.0|     2.0|     2.0|     1.0|     2.0|     3.0|     3.0|    1.0|    1.0|     2.0|  1.0|     1.0|     1.0|     1.0| 2.0|     7.0|     1.0|  53.0|   4.0| 66.0|168.0| 8391.0|2986.0|     3.0|    2.0|     1.0|    2.0|     4.0|     4.0|     1.0|     1.0|     1.0|                29.0|     1.0|               200.0|     1.0|    null|    null|     2.0|               200.0|    29.0|5.397605346934028...|                 7.0|                 3.0|   100.0|5.397605346934028...|5.397605346934028...|                 1.0|                 1.0|   229.0|   110.0|     1.0|     1.0|    1.0|    1.0|5.397605346934028...|5.397605346934028...|\n",
            "+---+------+------+-----------+------+-----+-------+--------+-------------+-------------+--------+--------+--------+--------+--------+-------+-------+--------+-------+--------------------+--------+--------+--------+--------+--------+-------+-------+--------+--------+-------+--------+-------+------+-------+--------+--------+--------+--------+--------+--------+--------+--------+-------+------+--------+-------+--------+--------+--------+--------+-------+-------+--------+--------+--------+--------+--------+--------+--------+--------+--------+-------+--------+--------+--------+-------+-----+--------+--------+--------+--------+--------+-------+--------+-------+--------+-------+-------+----+-----+------+--------+--------+--------+--------+--------+-------+--------+-------+--------+--------+--------+--------+--------+--------+--------+-------+--------+------+--------+--------+--------+--------+--------+--------+--------+--------+--------+--------+--------+--------+-------+--------+-------+-------+-------+-------+-------+--------+--------+--------+--------+--------+--------+--------+--------+--------+--------+--------+-------+--------+--------+------+-------+--------+--------+--------+--------+--------+--------+--------+--------+-------+--------+--------+--------+--------+--------+--------+--------+--------+--------+--------+--------+--------+--------+--------+-------+--------+--------+--------+-------+--------+--------+--------+--------+--------+--------+--------+--------+--------+-------+-------+--------+--------+--------+-------+--------+------+--------+--------+--------+--------+--------+--------+--------+--------+--------+--------+--------+--------+--------+--------+--------+--------+--------+--------+--------+--------+--------+--------+--------+--------+--------+--------+--------+--------+--------+--------+-------+--------+--------+--------+--------+--------+--------+------+--------+--------+------+-------+--------+--------+------+-------+------------------+--------+------------------+--------+--------+-------+--------+-----+--------+--------+------------------+------------------+------------------+-------+--------+--------+--------+--------+--------+--------+--------+--------+------+--------+--------+--------+--------+--------+--------+-------+-------+--------+-----+--------+--------+--------+----+--------+--------+------+------+-----+-----+-------+------+--------+-------+--------+-------+--------+--------+--------+--------+--------+--------------------+--------+--------------------+--------+--------+--------+--------+--------------------+--------+--------------------+--------------------+--------------------+--------+--------------------+--------------------+--------------------+--------------------+--------+--------+--------+--------+-------+-------+--------------------+--------------------+\n",
            "only showing top 20 rows\n",
            "\n"
          ]
        }
      ],
      "source": [
        "from pyspark import SparkFiles\n",
        "# Load in the review data from S3 into the dataframe\n",
        "url = \"https://unbearable-1-project-bucket.s3.us-east-2.amazonaws.com/Diabetes_Key_Indicators.csv\"\n",
        "spark.sparkContext.addFile(url)\n",
        "df = spark.read.option(\"encoding\", \"UTF-8\").csv(SparkFiles.get(\"\"), sep=\",\", header=True, inferSchema=True)\n",
        "df.show()"
      ]
    },
    {
      "cell_type": "code",
      "source": [
        "new_df = df.select([\"DIABETE4\",\n",
        "                    \"_RACE\",\n",
        "                    \"TOLDHI3\",\n",
        "                    \"BPHIGH6\",\n",
        "                    \"_BMI5\",\n",
        "                    \"SMOKE100\",\n",
        "                    \"_RFBING5\",\n",
        "                    \"EDUCA\",\n",
        "                    \"GENHLTH\",\n",
        "                    \"_AGEG5YR\",\n",
        "                    \"EXERANY2\",\n",
        "                    \"FRUIT2\",\n",
        "                    \"VEGETAB2\",\n",
        "                    \"_INCOMG1\",\n",
        "                    \"MEDCOST1\",\n",
        "                    \"_SEX\"])\n",
        "new_df.show()"
      ],
      "metadata": {
        "colab": {
          "base_uri": "https://localhost:8080/"
        },
        "id": "UKXZpAUYTp8f",
        "outputId": "794b27e6-db7b-421f-a3a5-78457d086a17"
      },
      "execution_count": 5,
      "outputs": [
        {
          "output_type": "stream",
          "name": "stdout",
          "text": [
            "+--------+-----+-------+-------+------+--------+--------+-----+-------+--------+--------+------+--------+--------+--------+----+\n",
            "|DIABETE4|_RACE|TOLDHI3|BPHIGH6| _BMI5|SMOKE100|_RFBING5|EDUCA|GENHLTH|_AGEG5YR|EXERANY2|FRUIT2|VEGETAB2|_INCOMG1|MEDCOST1|_SEX|\n",
            "+--------+-----+-------+-------+------+--------+--------+-----+-------+--------+--------+------+--------+--------+--------+----+\n",
            "|     3.0|  1.0|    1.0|    3.0|1454.0|     1.0|     1.0|  4.0|    5.0|    11.0|     2.0| 101.0|   101.0|     3.0|     2.0| 2.0|\n",
            "|     1.0|  2.0|    1.0|    1.0|  null|     2.0|     1.0|  6.0|    3.0|    10.0|     1.0| 101.0|   207.0|     9.0|     2.0| 2.0|\n",
            "|     1.0|  2.0|    2.0|    1.0|2829.0|     2.0|     1.0|  4.0|    2.0|    11.0|     2.0| 101.0|   203.0|     2.0|     2.0| 2.0|\n",
            "|     1.0|  1.0|    1.0|    1.0|3347.0|     2.0|     2.0|  4.0|    2.0|     9.0|     1.0| 203.0|   205.0|     5.0|     2.0| 2.0|\n",
            "|     1.0|  7.0|    1.0|    4.0|2873.0|     2.0|     1.0|  3.0|    5.0|    12.0|     1.0| 101.0|   101.0|     2.0|     2.0| 1.0|\n",
            "|     3.0|  1.0|    2.0|    3.0|2437.0|     1.0|     1.0|  5.0|    3.0|    13.0|     2.0| 202.0|   201.0|     4.0|     2.0| 1.0|\n",
            "|     3.0|  1.0|    2.0|    1.0|4611.0|     2.0|     1.0|  6.0|    3.0|     9.0|     2.0| 312.0|   202.0|     9.0|     2.0| 1.0|\n",
            "|     3.0|  1.0|    1.0|    1.0|2274.0|     1.0|     1.0|  3.0|    4.0|     9.0|     1.0| 204.0|   204.0|     9.0|     2.0| 1.0|\n",
            "|     3.0|  1.0|    2.0|    3.0|  null|     2.0|     1.0|  3.0|    2.0|    12.0|     2.0| 202.0|   202.0|     9.0|     2.0| 2.0|\n",
            "|     3.0|  1.0|    2.0|    1.0|3994.0|     1.0|     1.0|  4.0|    3.0|    10.0|     1.0| 101.0|   204.0|     5.0|     2.0| 2.0|\n",
            "|     3.0|  1.0|    1.0|    1.0|2746.0|     1.0|     1.0|  5.0|    4.0|    10.0|     2.0| 203.0|   203.0|     2.0|     2.0| 2.0|\n",
            "|     3.0|  9.0|    1.0|    1.0|3344.0|     2.0|     1.0|  4.0|    3.0|    12.0|     2.0| 205.0|   101.0|     2.0|     2.0| 2.0|\n",
            "|     3.0|  1.0|    1.0|    3.0|2374.0|     2.0|     1.0|  3.0|    4.0|    11.0|     2.0| 101.0|   303.0|     9.0|     1.0| 2.0|\n",
            "|     1.0|  1.0|    2.0|    1.0|3467.0|     2.0|     1.0|  6.0|    4.0|    11.0|     2.0| 203.0|   207.0|     9.0|     2.0| 2.0|\n",
            "|     3.0|  1.0|    1.0|    3.0|2923.0|     2.0|     1.0|  4.0|    4.0|    12.0|     1.0| 101.0|   330.0|     9.0|     2.0| 2.0|\n",
            "|     3.0|  1.0|    1.0|    3.0|  null|     1.0|     1.0|  6.0|    2.0|     9.0|     1.0| 315.0|   330.0|     5.0|     2.0| 2.0|\n",
            "|     1.0|  1.0|    1.0|    3.0|1785.0|     1.0|     1.0|  4.0|    4.0|     9.0|     1.0| 101.0|   101.0|     3.0|     1.0| 2.0|\n",
            "|     1.0|  1.0|    2.0|    3.0|2392.0|     2.0|     1.0|  6.0|    4.0|    12.0|     2.0| 302.0|   207.0|     5.0|     2.0| 1.0|\n",
            "|     1.0|  1.0|    1.0|    1.0|3543.0|     2.0|     1.0|  4.0|    5.0|    12.0|     2.0| 777.0|    null|     9.0|     2.0| 2.0|\n",
            "|     3.0|  1.0|    1.0|    1.0|2986.0|     2.0|     1.0|  4.0|    2.0|     7.0|     2.0| 202.0|   207.0|     4.0|     2.0| 2.0|\n",
            "+--------+-----+-------+-------+------+--------+--------+-----+-------+--------+--------+------+--------+--------+--------+----+\n",
            "only showing top 20 rows\n",
            "\n"
          ]
        }
      ]
    },
    {
      "cell_type": "markdown",
      "metadata": {
        "id": "2yUSe55VY-9t"
      },
      "source": [
        "### Clean up Columns"
      ]
    },
    {
      "cell_type": "code",
      "source": [
        "import pandas as pd\n",
        "pandas_df = new_df.toPandas()\n",
        "pandas_df = pandas_df.dropna()\n",
        "\n",
        "pandas_df"
      ],
      "metadata": {
        "id": "t4jv5QMtoUfk",
        "colab": {
          "base_uri": "https://localhost:8080/",
          "height": 424
        },
        "outputId": "f2300876-f4bf-4a89-9775-e555ec0a487f"
      },
      "execution_count": 6,
      "outputs": [
        {
          "output_type": "execute_result",
          "data": {
            "text/plain": [
              "        DIABETE4  _RACE  TOLDHI3  BPHIGH6   _BMI5  SMOKE100  _RFBING5  EDUCA  \\\n",
              "0            3.0    1.0      1.0      3.0  1454.0       1.0       1.0    4.0   \n",
              "2            1.0    2.0      2.0      1.0  2829.0       2.0       1.0    4.0   \n",
              "3            1.0    1.0      1.0      1.0  3347.0       2.0       2.0    4.0   \n",
              "4            1.0    7.0      1.0      4.0  2873.0       2.0       1.0    3.0   \n",
              "5            3.0    1.0      2.0      3.0  2437.0       1.0       1.0    5.0   \n",
              "...          ...    ...      ...      ...     ...       ...       ...    ...   \n",
              "438687       1.0    8.0      1.0      1.0  2148.0       2.0       2.0    2.0   \n",
              "438688       2.0    9.0      2.0      1.0  2469.0       1.0       1.0    4.0   \n",
              "438690       3.0    2.0      1.0      3.0  3068.0       2.0       1.0    6.0   \n",
              "438691       3.0    9.0      2.0      1.0  2373.0       2.0       1.0    4.0   \n",
              "438692       3.0    2.0      1.0      3.0  3171.0       2.0       1.0    6.0   \n",
              "\n",
              "        GENHLTH  _AGEG5YR  EXERANY2  FRUIT2  VEGETAB2  _INCOMG1  MEDCOST1  \\\n",
              "0           5.0      11.0       2.0   101.0     101.0       3.0       2.0   \n",
              "2           2.0      11.0       2.0   101.0     203.0       2.0       2.0   \n",
              "3           2.0       9.0       1.0   203.0     205.0       5.0       2.0   \n",
              "4           5.0      12.0       1.0   101.0     101.0       2.0       2.0   \n",
              "5           3.0      13.0       2.0   202.0     201.0       4.0       2.0   \n",
              "...         ...       ...       ...     ...       ...       ...       ...   \n",
              "438687      4.0      10.0       1.0   315.0     205.0       2.0       2.0   \n",
              "438688      2.0       3.0       1.0   210.0     103.0       3.0       1.0   \n",
              "438690      2.0       7.0       1.0   102.0     101.0       6.0       2.0   \n",
              "438691      2.0      10.0       1.0   101.0     101.0       4.0       2.0   \n",
              "438692      1.0       6.0       1.0   305.0     305.0       4.0       2.0   \n",
              "\n",
              "        _SEX  \n",
              "0        2.0  \n",
              "2        2.0  \n",
              "3        2.0  \n",
              "4        1.0  \n",
              "5        1.0  \n",
              "...      ...  \n",
              "438687   1.0  \n",
              "438688   2.0  \n",
              "438690   1.0  \n",
              "438691   1.0  \n",
              "438692   2.0  \n",
              "\n",
              "[319363 rows x 16 columns]"
            ],
            "text/html": [
              "\n",
              "  <div id=\"df-a774ac86-df89-4181-8267-889c2a54a016\">\n",
              "    <div class=\"colab-df-container\">\n",
              "      <div>\n",
              "<style scoped>\n",
              "    .dataframe tbody tr th:only-of-type {\n",
              "        vertical-align: middle;\n",
              "    }\n",
              "\n",
              "    .dataframe tbody tr th {\n",
              "        vertical-align: top;\n",
              "    }\n",
              "\n",
              "    .dataframe thead th {\n",
              "        text-align: right;\n",
              "    }\n",
              "</style>\n",
              "<table border=\"1\" class=\"dataframe\">\n",
              "  <thead>\n",
              "    <tr style=\"text-align: right;\">\n",
              "      <th></th>\n",
              "      <th>DIABETE4</th>\n",
              "      <th>_RACE</th>\n",
              "      <th>TOLDHI3</th>\n",
              "      <th>BPHIGH6</th>\n",
              "      <th>_BMI5</th>\n",
              "      <th>SMOKE100</th>\n",
              "      <th>_RFBING5</th>\n",
              "      <th>EDUCA</th>\n",
              "      <th>GENHLTH</th>\n",
              "      <th>_AGEG5YR</th>\n",
              "      <th>EXERANY2</th>\n",
              "      <th>FRUIT2</th>\n",
              "      <th>VEGETAB2</th>\n",
              "      <th>_INCOMG1</th>\n",
              "      <th>MEDCOST1</th>\n",
              "      <th>_SEX</th>\n",
              "    </tr>\n",
              "  </thead>\n",
              "  <tbody>\n",
              "    <tr>\n",
              "      <th>0</th>\n",
              "      <td>3.0</td>\n",
              "      <td>1.0</td>\n",
              "      <td>1.0</td>\n",
              "      <td>3.0</td>\n",
              "      <td>1454.0</td>\n",
              "      <td>1.0</td>\n",
              "      <td>1.0</td>\n",
              "      <td>4.0</td>\n",
              "      <td>5.0</td>\n",
              "      <td>11.0</td>\n",
              "      <td>2.0</td>\n",
              "      <td>101.0</td>\n",
              "      <td>101.0</td>\n",
              "      <td>3.0</td>\n",
              "      <td>2.0</td>\n",
              "      <td>2.0</td>\n",
              "    </tr>\n",
              "    <tr>\n",
              "      <th>2</th>\n",
              "      <td>1.0</td>\n",
              "      <td>2.0</td>\n",
              "      <td>2.0</td>\n",
              "      <td>1.0</td>\n",
              "      <td>2829.0</td>\n",
              "      <td>2.0</td>\n",
              "      <td>1.0</td>\n",
              "      <td>4.0</td>\n",
              "      <td>2.0</td>\n",
              "      <td>11.0</td>\n",
              "      <td>2.0</td>\n",
              "      <td>101.0</td>\n",
              "      <td>203.0</td>\n",
              "      <td>2.0</td>\n",
              "      <td>2.0</td>\n",
              "      <td>2.0</td>\n",
              "    </tr>\n",
              "    <tr>\n",
              "      <th>3</th>\n",
              "      <td>1.0</td>\n",
              "      <td>1.0</td>\n",
              "      <td>1.0</td>\n",
              "      <td>1.0</td>\n",
              "      <td>3347.0</td>\n",
              "      <td>2.0</td>\n",
              "      <td>2.0</td>\n",
              "      <td>4.0</td>\n",
              "      <td>2.0</td>\n",
              "      <td>9.0</td>\n",
              "      <td>1.0</td>\n",
              "      <td>203.0</td>\n",
              "      <td>205.0</td>\n",
              "      <td>5.0</td>\n",
              "      <td>2.0</td>\n",
              "      <td>2.0</td>\n",
              "    </tr>\n",
              "    <tr>\n",
              "      <th>4</th>\n",
              "      <td>1.0</td>\n",
              "      <td>7.0</td>\n",
              "      <td>1.0</td>\n",
              "      <td>4.0</td>\n",
              "      <td>2873.0</td>\n",
              "      <td>2.0</td>\n",
              "      <td>1.0</td>\n",
              "      <td>3.0</td>\n",
              "      <td>5.0</td>\n",
              "      <td>12.0</td>\n",
              "      <td>1.0</td>\n",
              "      <td>101.0</td>\n",
              "      <td>101.0</td>\n",
              "      <td>2.0</td>\n",
              "      <td>2.0</td>\n",
              "      <td>1.0</td>\n",
              "    </tr>\n",
              "    <tr>\n",
              "      <th>5</th>\n",
              "      <td>3.0</td>\n",
              "      <td>1.0</td>\n",
              "      <td>2.0</td>\n",
              "      <td>3.0</td>\n",
              "      <td>2437.0</td>\n",
              "      <td>1.0</td>\n",
              "      <td>1.0</td>\n",
              "      <td>5.0</td>\n",
              "      <td>3.0</td>\n",
              "      <td>13.0</td>\n",
              "      <td>2.0</td>\n",
              "      <td>202.0</td>\n",
              "      <td>201.0</td>\n",
              "      <td>4.0</td>\n",
              "      <td>2.0</td>\n",
              "      <td>1.0</td>\n",
              "    </tr>\n",
              "    <tr>\n",
              "      <th>...</th>\n",
              "      <td>...</td>\n",
              "      <td>...</td>\n",
              "      <td>...</td>\n",
              "      <td>...</td>\n",
              "      <td>...</td>\n",
              "      <td>...</td>\n",
              "      <td>...</td>\n",
              "      <td>...</td>\n",
              "      <td>...</td>\n",
              "      <td>...</td>\n",
              "      <td>...</td>\n",
              "      <td>...</td>\n",
              "      <td>...</td>\n",
              "      <td>...</td>\n",
              "      <td>...</td>\n",
              "      <td>...</td>\n",
              "    </tr>\n",
              "    <tr>\n",
              "      <th>438687</th>\n",
              "      <td>1.0</td>\n",
              "      <td>8.0</td>\n",
              "      <td>1.0</td>\n",
              "      <td>1.0</td>\n",
              "      <td>2148.0</td>\n",
              "      <td>2.0</td>\n",
              "      <td>2.0</td>\n",
              "      <td>2.0</td>\n",
              "      <td>4.0</td>\n",
              "      <td>10.0</td>\n",
              "      <td>1.0</td>\n",
              "      <td>315.0</td>\n",
              "      <td>205.0</td>\n",
              "      <td>2.0</td>\n",
              "      <td>2.0</td>\n",
              "      <td>1.0</td>\n",
              "    </tr>\n",
              "    <tr>\n",
              "      <th>438688</th>\n",
              "      <td>2.0</td>\n",
              "      <td>9.0</td>\n",
              "      <td>2.0</td>\n",
              "      <td>1.0</td>\n",
              "      <td>2469.0</td>\n",
              "      <td>1.0</td>\n",
              "      <td>1.0</td>\n",
              "      <td>4.0</td>\n",
              "      <td>2.0</td>\n",
              "      <td>3.0</td>\n",
              "      <td>1.0</td>\n",
              "      <td>210.0</td>\n",
              "      <td>103.0</td>\n",
              "      <td>3.0</td>\n",
              "      <td>1.0</td>\n",
              "      <td>2.0</td>\n",
              "    </tr>\n",
              "    <tr>\n",
              "      <th>438690</th>\n",
              "      <td>3.0</td>\n",
              "      <td>2.0</td>\n",
              "      <td>1.0</td>\n",
              "      <td>3.0</td>\n",
              "      <td>3068.0</td>\n",
              "      <td>2.0</td>\n",
              "      <td>1.0</td>\n",
              "      <td>6.0</td>\n",
              "      <td>2.0</td>\n",
              "      <td>7.0</td>\n",
              "      <td>1.0</td>\n",
              "      <td>102.0</td>\n",
              "      <td>101.0</td>\n",
              "      <td>6.0</td>\n",
              "      <td>2.0</td>\n",
              "      <td>1.0</td>\n",
              "    </tr>\n",
              "    <tr>\n",
              "      <th>438691</th>\n",
              "      <td>3.0</td>\n",
              "      <td>9.0</td>\n",
              "      <td>2.0</td>\n",
              "      <td>1.0</td>\n",
              "      <td>2373.0</td>\n",
              "      <td>2.0</td>\n",
              "      <td>1.0</td>\n",
              "      <td>4.0</td>\n",
              "      <td>2.0</td>\n",
              "      <td>10.0</td>\n",
              "      <td>1.0</td>\n",
              "      <td>101.0</td>\n",
              "      <td>101.0</td>\n",
              "      <td>4.0</td>\n",
              "      <td>2.0</td>\n",
              "      <td>1.0</td>\n",
              "    </tr>\n",
              "    <tr>\n",
              "      <th>438692</th>\n",
              "      <td>3.0</td>\n",
              "      <td>2.0</td>\n",
              "      <td>1.0</td>\n",
              "      <td>3.0</td>\n",
              "      <td>3171.0</td>\n",
              "      <td>2.0</td>\n",
              "      <td>1.0</td>\n",
              "      <td>6.0</td>\n",
              "      <td>1.0</td>\n",
              "      <td>6.0</td>\n",
              "      <td>1.0</td>\n",
              "      <td>305.0</td>\n",
              "      <td>305.0</td>\n",
              "      <td>4.0</td>\n",
              "      <td>2.0</td>\n",
              "      <td>2.0</td>\n",
              "    </tr>\n",
              "  </tbody>\n",
              "</table>\n",
              "<p>319363 rows × 16 columns</p>\n",
              "</div>\n",
              "      <button class=\"colab-df-convert\" onclick=\"convertToInteractive('df-a774ac86-df89-4181-8267-889c2a54a016')\"\n",
              "              title=\"Convert this dataframe to an interactive table.\"\n",
              "              style=\"display:none;\">\n",
              "        \n",
              "  <svg xmlns=\"http://www.w3.org/2000/svg\" height=\"24px\"viewBox=\"0 0 24 24\"\n",
              "       width=\"24px\">\n",
              "    <path d=\"M0 0h24v24H0V0z\" fill=\"none\"/>\n",
              "    <path d=\"M18.56 5.44l.94 2.06.94-2.06 2.06-.94-2.06-.94-.94-2.06-.94 2.06-2.06.94zm-11 1L8.5 8.5l.94-2.06 2.06-.94-2.06-.94L8.5 2.5l-.94 2.06-2.06.94zm10 10l.94 2.06.94-2.06 2.06-.94-2.06-.94-.94-2.06-.94 2.06-2.06.94z\"/><path d=\"M17.41 7.96l-1.37-1.37c-.4-.4-.92-.59-1.43-.59-.52 0-1.04.2-1.43.59L10.3 9.45l-7.72 7.72c-.78.78-.78 2.05 0 2.83L4 21.41c.39.39.9.59 1.41.59.51 0 1.02-.2 1.41-.59l7.78-7.78 2.81-2.81c.8-.78.8-2.07 0-2.86zM5.41 20L4 18.59l7.72-7.72 1.47 1.35L5.41 20z\"/>\n",
              "  </svg>\n",
              "      </button>\n",
              "      \n",
              "  <style>\n",
              "    .colab-df-container {\n",
              "      display:flex;\n",
              "      flex-wrap:wrap;\n",
              "      gap: 12px;\n",
              "    }\n",
              "\n",
              "    .colab-df-convert {\n",
              "      background-color: #E8F0FE;\n",
              "      border: none;\n",
              "      border-radius: 50%;\n",
              "      cursor: pointer;\n",
              "      display: none;\n",
              "      fill: #1967D2;\n",
              "      height: 32px;\n",
              "      padding: 0 0 0 0;\n",
              "      width: 32px;\n",
              "    }\n",
              "\n",
              "    .colab-df-convert:hover {\n",
              "      background-color: #E2EBFA;\n",
              "      box-shadow: 0px 1px 2px rgba(60, 64, 67, 0.3), 0px 1px 3px 1px rgba(60, 64, 67, 0.15);\n",
              "      fill: #174EA6;\n",
              "    }\n",
              "\n",
              "    [theme=dark] .colab-df-convert {\n",
              "      background-color: #3B4455;\n",
              "      fill: #D2E3FC;\n",
              "    }\n",
              "\n",
              "    [theme=dark] .colab-df-convert:hover {\n",
              "      background-color: #434B5C;\n",
              "      box-shadow: 0px 1px 3px 1px rgba(0, 0, 0, 0.15);\n",
              "      filter: drop-shadow(0px 1px 2px rgba(0, 0, 0, 0.3));\n",
              "      fill: #FFFFFF;\n",
              "    }\n",
              "  </style>\n",
              "\n",
              "      <script>\n",
              "        const buttonEl =\n",
              "          document.querySelector('#df-a774ac86-df89-4181-8267-889c2a54a016 button.colab-df-convert');\n",
              "        buttonEl.style.display =\n",
              "          google.colab.kernel.accessAllowed ? 'block' : 'none';\n",
              "\n",
              "        async function convertToInteractive(key) {\n",
              "          const element = document.querySelector('#df-a774ac86-df89-4181-8267-889c2a54a016');\n",
              "          const dataTable =\n",
              "            await google.colab.kernel.invokeFunction('convertToInteractive',\n",
              "                                                     [key], {});\n",
              "          if (!dataTable) return;\n",
              "\n",
              "          const docLinkHtml = 'Like what you see? Visit the ' +\n",
              "            '<a target=\"_blank\" href=https://colab.research.google.com/notebooks/data_table.ipynb>data table notebook</a>'\n",
              "            + ' to learn more about interactive tables.';\n",
              "          element.innerHTML = '';\n",
              "          dataTable['output_type'] = 'display_data';\n",
              "          await google.colab.output.renderOutput(dataTable, element);\n",
              "          const docLink = document.createElement('div');\n",
              "          docLink.innerHTML = docLinkHtml;\n",
              "          element.appendChild(docLink);\n",
              "        }\n",
              "      </script>\n",
              "    </div>\n",
              "  </div>\n",
              "  "
            ]
          },
          "metadata": {},
          "execution_count": 6
        }
      ]
    },
    {
      "cell_type": "code",
      "source": [
        "# check for unique values to replace for encoding\n",
        "pandas_df.EDUCA.unique()"
      ],
      "metadata": {
        "colab": {
          "base_uri": "https://localhost:8080/"
        },
        "id": "sW3W7Lz4LI2-",
        "outputId": "681191d6-31bb-46b0-9432-57000e512a75"
      },
      "execution_count": 7,
      "outputs": [
        {
          "output_type": "execute_result",
          "data": {
            "text/plain": [
              "array([4., 3., 5., 6., 2., 9., 1.])"
            ]
          },
          "metadata": {},
          "execution_count": 7
        }
      ]
    },
    {
      "cell_type": "code",
      "source": [
        "# Replace Values based on responses provided in survey response form and confirm updated values\n",
        "pandas_df = pandas_df.replace({\"EDUCA\":{4.:\"High School Grad\",\n",
        "                                        6.:\"College Grad\",\n",
        "                                        3.:\"Some High School\",\n",
        "                                        5.:\"Some College\",\n",
        "                                        2.:\"Elementary\",\n",
        "                                        1.:\"None\",\n",
        "                                        9.:\"\"}})\n",
        "pandas_df.EDUCA.unique()\n"
      ],
      "metadata": {
        "id": "ISwtrq1CMdD3",
        "colab": {
          "base_uri": "https://localhost:8080/"
        },
        "outputId": "1289d5e5-d9ab-4264-c945-de53347aa022"
      },
      "execution_count": 8,
      "outputs": [
        {
          "output_type": "execute_result",
          "data": {
            "text/plain": [
              "array(['High School Grad', 'Some High School', 'Some College',\n",
              "       'College Grad', 'Elementary', '', 'None'], dtype=object)"
            ]
          },
          "metadata": {},
          "execution_count": 8
        }
      ]
    },
    {
      "cell_type": "code",
      "source": [
        "pandas_df.GENHLTH.unique()"
      ],
      "metadata": {
        "colab": {
          "base_uri": "https://localhost:8080/"
        },
        "id": "xpqomD58erxi",
        "outputId": "f1b07d99-e93a-4465-c30d-f10d0d799fbb"
      },
      "execution_count": 9,
      "outputs": [
        {
          "output_type": "execute_result",
          "data": {
            "text/plain": [
              "array([5., 2., 3., 4., 1., 7., 9.])"
            ]
          },
          "metadata": {},
          "execution_count": 9
        }
      ]
    },
    {
      "cell_type": "code",
      "source": [
        "# Replace Values based on responses provided in survey response form and confirm confirm updated values\n",
        "pandas_df = pandas_df.replace({\"GENHLTH\":{1.:\"Excellent\",\n",
        "                                          2.:\"Very Good\",\n",
        "                                          3.:\"Good\",\n",
        "                                          4.:\"Fair\",\n",
        "                                          5.:\"Poor\",\n",
        "                                          7.:\"\",\n",
        "                                          9.:\"\"}})\n",
        "pandas_df.GENHLTH.unique()"
      ],
      "metadata": {
        "colab": {
          "base_uri": "https://localhost:8080/"
        },
        "id": "DmMiS7WKevyt",
        "outputId": "63617778-e5a3-4cd5-b00d-de8ab2de280e"
      },
      "execution_count": 10,
      "outputs": [
        {
          "output_type": "execute_result",
          "data": {
            "text/plain": [
              "array(['Poor', 'Very Good', 'Good', 'Fair', 'Excellent', ''], dtype=object)"
            ]
          },
          "metadata": {},
          "execution_count": 10
        }
      ]
    },
    {
      "cell_type": "code",
      "source": [
        "pandas_df._INCOMG1.unique()"
      ],
      "metadata": {
        "colab": {
          "base_uri": "https://localhost:8080/"
        },
        "id": "m3HLm05UARpW",
        "outputId": "6492890c-4431-49a8-a725-abdfcb050ce6"
      },
      "execution_count": 11,
      "outputs": [
        {
          "output_type": "execute_result",
          "data": {
            "text/plain": [
              "array([3., 2., 5., 4., 9., 1., 6., 7.])"
            ]
          },
          "metadata": {},
          "execution_count": 11
        }
      ]
    },
    {
      "cell_type": "code",
      "source": [
        "# Replace Values based on responses provided in survey response form and confirm confirm updated values\n",
        "pandas_df = pandas_df.replace({\"_INCOMG1\":{1.:\"Less than $15,000\",\n",
        "                                           2.:\"$15,000 to < $25,000\",\n",
        "                                           3.:\"$25,000 to < $35,000\",\n",
        "                                           4.:\"$35,000 to < $50,000\",\n",
        "                                           5.:\"$50,000 to < $100,000\",\n",
        "                                           6.:\"$100,000 to < $200,000\",\n",
        "                                           7.:\" > $200,000\",\n",
        "                                           9.:\"\"}})\n",
        "pandas_df._INCOMG1.unique()"
      ],
      "metadata": {
        "colab": {
          "base_uri": "https://localhost:8080/"
        },
        "id": "58OHXxoSAUEX",
        "outputId": "3bae6666-ecb0-4b42-c877-267448e6c524"
      },
      "execution_count": 12,
      "outputs": [
        {
          "output_type": "execute_result",
          "data": {
            "text/plain": [
              "array(['$25,000 to < $35,000', '$15,000 to < $25,000',\n",
              "       '$50,000 to < $100,000', '$35,000 to < $50,000', '',\n",
              "       'Less than $15,000', '$100,000 to < $200,000', ' > $200,000'],\n",
              "      dtype=object)"
            ]
          },
          "metadata": {},
          "execution_count": 12
        }
      ]
    },
    {
      "cell_type": "code",
      "source": [
        "# Check unique values for Race\n",
        "pandas_df._RACE.unique()"
      ],
      "metadata": {
        "colab": {
          "base_uri": "https://localhost:8080/"
        },
        "id": "IsOFjHogTW0o",
        "outputId": "25c9c104-49f5-4636-ef29-884f71d1f70e"
      },
      "execution_count": 13,
      "outputs": [
        {
          "output_type": "execute_result",
          "data": {
            "text/plain": [
              "array([1., 2., 7., 9., 8., 3., 4., 6., 5.])"
            ]
          },
          "metadata": {},
          "execution_count": 13
        }
      ]
    },
    {
      "cell_type": "code",
      "source": [
        "# Replace values based on responses in survey for Race\n",
        "pandas_df = pandas_df.replace({\"_RACE\":{1.:\"White\",\n",
        "                               2.:\"Black\",\n",
        "                               3.:\"American Indian or Alaskan Native\",\n",
        "                               4.:\"Asian\",\n",
        "                               5.:\" Native Hawaiian or other Pacific Islander\",\n",
        "                               6.:\"Other\",\n",
        "                               7.:\"Multiracial\",\n",
        "                               8.:\"Hispanic\",\n",
        "                               9.:\"\"}})\n",
        "pandas_df._RACE.unique()"
      ],
      "metadata": {
        "colab": {
          "base_uri": "https://localhost:8080/"
        },
        "id": "lnE7t84WTxk4",
        "outputId": "8e51522d-e3dc-4499-f2cb-be01e423f7f2"
      },
      "execution_count": 14,
      "outputs": [
        {
          "output_type": "execute_result",
          "data": {
            "text/plain": [
              "array(['White', 'Black', 'Multiracial', '', 'Hispanic',\n",
              "       'American Indian or Alaskan Native', 'Asian', 'Other',\n",
              "       ' Native Hawaiian or other Pacific Islander'], dtype=object)"
            ]
          },
          "metadata": {},
          "execution_count": 14
        }
      ]
    },
    {
      "cell_type": "code",
      "source": [
        "# Check unique values for TOLDHI3 (high cholesterol)\n",
        "pandas_df.TOLDHI3.unique()"
      ],
      "metadata": {
        "colab": {
          "base_uri": "https://localhost:8080/"
        },
        "id": "R5mNm2jpVYoO",
        "outputId": "8663fa54-1f18-4b4d-d2d2-68d318580586"
      },
      "execution_count": 15,
      "outputs": [
        {
          "output_type": "execute_result",
          "data": {
            "text/plain": [
              "array([1., 2., 7., 9.])"
            ]
          },
          "metadata": {},
          "execution_count": 15
        }
      ]
    },
    {
      "cell_type": "code",
      "source": [
        "# Replace values based on responses in survey for cholesterol\n",
        "pandas_df = pandas_df.replace({\"TOLDHI3\":{1.:\"Yes\",\n",
        "                                          2.:\"No\",\n",
        "                                          7.:\"\",\n",
        "                                          9.:\"\"}})\n",
        "pandas_df.TOLDHI3.unique()"
      ],
      "metadata": {
        "colab": {
          "base_uri": "https://localhost:8080/"
        },
        "id": "-KagkYb2WkR5",
        "outputId": "4bd3a135-7f97-4a09-b81d-06e7104f757b"
      },
      "execution_count": 16,
      "outputs": [
        {
          "output_type": "execute_result",
          "data": {
            "text/plain": [
              "array(['Yes', 'No', ''], dtype=object)"
            ]
          },
          "metadata": {},
          "execution_count": 16
        }
      ]
    },
    {
      "cell_type": "code",
      "source": [
        "# BMI Decimal Change\n",
        "pandas_df['_BMI5'] = pandas_df['_BMI5'] / 100.0\n",
        "pandas_df['_BMI5'] = round(pandas_df['_BMI5'], 2)"
      ],
      "metadata": {
        "id": "kIT4DiKA08jB"
      },
      "execution_count": 17,
      "outputs": []
    },
    {
      "cell_type": "code",
      "source": [
        "# Check unique values for SMOKE100 \n",
        "pandas_df.SMOKE100.unique()"
      ],
      "metadata": {
        "colab": {
          "base_uri": "https://localhost:8080/"
        },
        "id": "N7SUyB1uXfTQ",
        "outputId": "bbc5b551-4100-4b11-ff5f-5d2180945f9c"
      },
      "execution_count": 18,
      "outputs": [
        {
          "output_type": "execute_result",
          "data": {
            "text/plain": [
              "array([1., 2., 7., 9.])"
            ]
          },
          "metadata": {},
          "execution_count": 18
        }
      ]
    },
    {
      "cell_type": "code",
      "source": [
        "# Replace values based on responses in survey for SMOKE100\n",
        "pandas_df = pandas_df.replace({\"SMOKE100\":{1.:\"Yes\",\n",
        "                                           2.:\"No\",\n",
        "                                           7.:\"\",\n",
        "                                           9.:\"\"}})\n",
        "pandas_df.SMOKE100.unique()"
      ],
      "metadata": {
        "colab": {
          "base_uri": "https://localhost:8080/"
        },
        "id": "HKBlpzWHXmpU",
        "outputId": "945d3dba-4b31-4b00-d2e7-5596fd38c82a"
      },
      "execution_count": 19,
      "outputs": [
        {
          "output_type": "execute_result",
          "data": {
            "text/plain": [
              "array(['Yes', 'No', ''], dtype=object)"
            ]
          },
          "metadata": {},
          "execution_count": 19
        }
      ]
    },
    {
      "cell_type": "code",
      "source": [
        "# Check unique values for _RFBING5\n",
        "pandas_df._RFBING5.unique()"
      ],
      "metadata": {
        "colab": {
          "base_uri": "https://localhost:8080/"
        },
        "id": "yZiFt6qnX4Dd",
        "outputId": "1c65d98c-e6c0-4a26-ddd5-306b7c7e7471"
      },
      "execution_count": 20,
      "outputs": [
        {
          "output_type": "execute_result",
          "data": {
            "text/plain": [
              "array([1., 2., 9.])"
            ]
          },
          "metadata": {},
          "execution_count": 20
        }
      ]
    },
    {
      "cell_type": "code",
      "source": [
        "# Replace values based on responses in survey for _RFBING5\n",
        "pandas_df = pandas_df.replace({\"_RFBING5\":{1.:\"Yes\",\n",
        "                                           2.:\"No\",\n",
        "                                           9.:\"\"}})\n",
        "pandas_df._RFBING5.unique()"
      ],
      "metadata": {
        "colab": {
          "base_uri": "https://localhost:8080/"
        },
        "id": "US9PaGAkYAUL",
        "outputId": "16c01896-c2d3-4801-f15c-dfdac2cc37b0"
      },
      "execution_count": 21,
      "outputs": [
        {
          "output_type": "execute_result",
          "data": {
            "text/plain": [
              "array(['Yes', 'No', ''], dtype=object)"
            ]
          },
          "metadata": {},
          "execution_count": 21
        }
      ]
    },
    {
      "cell_type": "code",
      "source": [
        "# Check unique values for EXERANY2\n",
        "pandas_df.EXERANY2.unique()"
      ],
      "metadata": {
        "colab": {
          "base_uri": "https://localhost:8080/"
        },
        "id": "Jb2-q-fWYU3b",
        "outputId": "f207d009-9e70-4423-cd43-8bca8d99fe58"
      },
      "execution_count": 22,
      "outputs": [
        {
          "output_type": "execute_result",
          "data": {
            "text/plain": [
              "array([2., 1., 7., 9.])"
            ]
          },
          "metadata": {},
          "execution_count": 22
        }
      ]
    },
    {
      "cell_type": "code",
      "source": [
        "# Replace values based on responses in survey for EXERANY2\n",
        "pandas_df = pandas_df.replace({\"EXERANY2\":{1.:\"Yes\",\n",
        "                                           2.:\"No\",\n",
        "                                           7.:\"\",\n",
        "                                           9.:\"\"}})\n",
        "pandas_df.EXERANY2.unique()"
      ],
      "metadata": {
        "colab": {
          "base_uri": "https://localhost:8080/"
        },
        "id": "EXr7EybZYeC5",
        "outputId": "4727fa62-f1f6-4735-d79b-aad282f52afe"
      },
      "execution_count": 23,
      "outputs": [
        {
          "output_type": "execute_result",
          "data": {
            "text/plain": [
              "array(['No', 'Yes', ''], dtype=object)"
            ]
          },
          "metadata": {},
          "execution_count": 23
        }
      ]
    },
    {
      "cell_type": "code",
      "source": [
        "# Check unique values for DIABETE4\n",
        "pandas_df.DIABETE4.unique()"
      ],
      "metadata": {
        "colab": {
          "base_uri": "https://localhost:8080/"
        },
        "id": "4nvZ4JbWeV4t",
        "outputId": "9a265ac4-1084-4f2d-a636-7b1083e19311"
      },
      "execution_count": 24,
      "outputs": [
        {
          "output_type": "execute_result",
          "data": {
            "text/plain": [
              "array([3., 1., 4., 2., 7., 9.])"
            ]
          },
          "metadata": {},
          "execution_count": 24
        }
      ]
    },
    {
      "cell_type": "code",
      "source": [
        "# Replace values based on responses for DIABETE4\n",
        "pandas_df = pandas_df.replace({\"DIABETE4\":{1.: \"Yes\", \n",
        "                                           2.: \"Yes\", \n",
        "                                           3.: \"No\",\n",
        "                                           4.: \"No\", \n",
        "                                           7.: \"\", \n",
        "                                           9.:\"\"}})\n"
      ],
      "metadata": {
        "id": "rfICeetwdxEp"
      },
      "execution_count": 25,
      "outputs": []
    },
    {
      "cell_type": "code",
      "source": [
        "# Check unique values for FRUIT2\n",
        "pandas_df.FRUIT2.unique()"
      ],
      "metadata": {
        "colab": {
          "base_uri": "https://localhost:8080/"
        },
        "id": "u0GTcbAPgKVU",
        "outputId": "a2c3eb93-2129-4976-d921-427ac1981c57"
      },
      "execution_count": 26,
      "outputs": [
        {
          "output_type": "execute_result",
          "data": {
            "text/plain": [
              "array([101., 203., 202., 312., 204., 205., 302., 102., 301., 330., 555.,\n",
              "       307., 300., 201., 305., 303., 306., 103., 777., 207., 308., 220.,\n",
              "       206., 315., 310., 105., 304., 235., 320., 325., 314., 104., 106.,\n",
              "       208., 107., 316., 309., 317., 390., 360., 999., 345., 210., 340.,\n",
              "       221., 215., 110., 130., 399., 230., 199., 299., 335., 324., 214.,\n",
              "       212., 328., 125., 327., 114., 336., 250., 218., 108., 209., 326.,\n",
              "       350., 323., 318., 321., 342., 322., 115., 120., 109., 118., 123.,\n",
              "       180., 216., 160., 150., 311., 113., 380., 192., 225., 228., 329.,\n",
              "       332., 370., 240., 122., 294., 211., 112., 339., 375., 331., 392.,\n",
              "       363., 127., 111., 333., 121., 384., 226., 131., 313., 241., 134.,\n",
              "       344., 222., 116., 365., 355., 224., 338., 232., 397., 124., 227.,\n",
              "       319., 188., 213., 223., 334., 293., 190., 193., 166., 398., 337.,\n",
              "       217., 260., 396., 119., 117., 198., 341., 275., 261., 128., 191.,\n",
              "       348., 139., 298., 255., 133., 189., 140., 177., 291., 233., 354.,\n",
              "       388., 219., 132., 145., 245., 292., 251., 362., 165., 385., 366.,\n",
              "       352., 135.])"
            ]
          },
          "metadata": {},
          "execution_count": 26
        }
      ]
    },
    {
      "cell_type": "code",
      "source": [
        "import numpy as np\n",
        "pandas_df = pandas_df.replace({\"FRUIT2\":{300.:500.}})\n",
        "pandas_df['FRUIT2'] = np.where(pandas_df['FRUIT2'].between(0,400), \"Yes\", pandas_df['FRUIT2'])\n",
        "pandas_df = pandas_df.replace({\"FRUIT2\":{'500.0': \"No\", '555.0': \"No\", '777.0': \"\", '999.0': \"\"}})\n",
        "pandas_df.FRUIT2.unique()"
      ],
      "metadata": {
        "colab": {
          "base_uri": "https://localhost:8080/"
        },
        "id": "IBAXU2WFX3RY",
        "outputId": "61d8c6f5-4b98-4f0a-d132-7c41c83ee1ed"
      },
      "execution_count": 27,
      "outputs": [
        {
          "output_type": "execute_result",
          "data": {
            "text/plain": [
              "array(['Yes', 'No', ''], dtype=object)"
            ]
          },
          "metadata": {},
          "execution_count": 27
        }
      ]
    },
    {
      "cell_type": "code",
      "source": [
        "# Check unique values for VEGETEB2\n",
        "pandas_df.VEGETAB2.unique()"
      ],
      "metadata": {
        "colab": {
          "base_uri": "https://localhost:8080/"
        },
        "id": "EX5UqwAfgfdR",
        "outputId": "203409eb-d3d9-447a-b3bb-e990742c6468"
      },
      "execution_count": 28,
      "outputs": [
        {
          "output_type": "execute_result",
          "data": {
            "text/plain": [
              "array([101., 203., 205., 201., 202., 204., 303., 207., 330., 306., 102.,\n",
              "       105., 555., 777., 307., 301., 310., 320., 315., 225., 329., 104.,\n",
              "       304., 302., 206., 103., 214., 325., 312., 316., 300., 210., 308.,\n",
              "       328., 305., 314., 360., 209., 107., 327., 212., 333., 318., 324.,\n",
              "       365., 326., 317., 340., 999., 311., 309., 323., 220., 321., 106.,\n",
              "       313., 215., 199., 345., 128., 399., 355., 130., 350., 125., 115.,\n",
              "       356., 223., 114., 112., 332., 208., 331., 109., 322., 335., 250.,\n",
              "       299., 375., 150., 390., 119., 230., 108., 120., 111., 110., 160.,\n",
              "       240., 175., 354., 319., 218., 348., 191., 370., 233., 217., 228.,\n",
              "       221., 127., 245., 129., 380., 165., 211., 260., 124., 123., 339.,\n",
              "       140., 338., 222., 227., 121., 292., 336., 192., 280., 295., 213.,\n",
              "       359., 226., 358., 216., 362., 342., 393., 134., 189., 133., 382.,\n",
              "       122., 231., 166., 275., 116., 139., 131., 352., 294., 180., 117.,\n",
              "       177., 395., 269., 296., 171., 118., 337., 353., 234., 232.])"
            ]
          },
          "metadata": {},
          "execution_count": 28
        }
      ]
    },
    {
      "cell_type": "code",
      "source": [
        "#VEGETEB2!!!! This needs to be updated - see above for values\n",
        "pandas_df = pandas_df.replace({\"VEGETAB2\":{300.:500.}})\n",
        "pandas_df['VEGETAB2'] = np.where(pandas_df['VEGETAB2'].between(0,400), \"Yes\", pandas_df['VEGETAB2'])\n",
        "pandas_df = pandas_df.replace({\"VEGETAB2\":{'500.0': \"No\", '555.0': \"No\", '777.0': \"\", '999.0': \"\"}})\n",
        "pandas_df.VEGETAB2.unique()"
      ],
      "metadata": {
        "id": "IZ3KY1jOg0Xr",
        "colab": {
          "base_uri": "https://localhost:8080/"
        },
        "outputId": "7976c463-4669-4186-d48c-5498be81a22d"
      },
      "execution_count": 29,
      "outputs": [
        {
          "output_type": "execute_result",
          "data": {
            "text/plain": [
              "array(['Yes', 'No', ''], dtype=object)"
            ]
          },
          "metadata": {},
          "execution_count": 29
        }
      ]
    },
    {
      "cell_type": "code",
      "source": [
        "# Check unique values for MEDCOST1\n",
        "pandas_df.MEDCOST1.unique()"
      ],
      "metadata": {
        "colab": {
          "base_uri": "https://localhost:8080/"
        },
        "id": "5z0Qgx5cg7-J",
        "outputId": "590ff5a3-7a14-4eed-a386-9042026b71d6"
      },
      "execution_count": 30,
      "outputs": [
        {
          "output_type": "execute_result",
          "data": {
            "text/plain": [
              "array([2., 1., 7., 9.])"
            ]
          },
          "metadata": {},
          "execution_count": 30
        }
      ]
    },
    {
      "cell_type": "code",
      "source": [
        "#MEDCOST1\tupdates with survey results\n",
        "pandas_df = pandas_df.replace({\"MEDCOST1\":{1.:\"Yes\", 2.:\"No\", 7.:\"\", 9.:\"\"}})\n",
        "pandas_df.MEDCOST1.unique()"
      ],
      "metadata": {
        "id": "2JkmtpNThVOl",
        "colab": {
          "base_uri": "https://localhost:8080/"
        },
        "outputId": "99be2bd6-501b-43b4-c06e-aadc0171bbfc"
      },
      "execution_count": 31,
      "outputs": [
        {
          "output_type": "execute_result",
          "data": {
            "text/plain": [
              "array(['No', 'Yes', ''], dtype=object)"
            ]
          },
          "metadata": {},
          "execution_count": 31
        }
      ]
    },
    {
      "cell_type": "code",
      "source": [
        "# Check unique values for _SEX\n",
        "pandas_df._SEX.unique()"
      ],
      "metadata": {
        "colab": {
          "base_uri": "https://localhost:8080/"
        },
        "id": "d_wVIEAqkmfv",
        "outputId": "da3f2132-46f9-4112-e669-12a01a1e8bda"
      },
      "execution_count": 32,
      "outputs": [
        {
          "output_type": "execute_result",
          "data": {
            "text/plain": [
              "array([2., 1.])"
            ]
          },
          "metadata": {},
          "execution_count": 32
        }
      ]
    },
    {
      "cell_type": "code",
      "source": [
        "#_SEX\n",
        "pandas_df = pandas_df.replace({\"_SEX\":{1.:\"Male\", 2.:\"Female\"}})"
      ],
      "metadata": {
        "id": "YqsvFpnBkmoB"
      },
      "execution_count": 33,
      "outputs": []
    },
    {
      "cell_type": "code",
      "source": [
        "# Check unique values for BPHIGH6\n",
        "pandas_df.BPHIGH6.unique()"
      ],
      "metadata": {
        "colab": {
          "base_uri": "https://localhost:8080/"
        },
        "id": "P4HL1DFRlisZ",
        "outputId": "547fa395-27e1-441d-e9a9-7319ca1139f0"
      },
      "execution_count": 34,
      "outputs": [
        {
          "output_type": "execute_result",
          "data": {
            "text/plain": [
              "array([3., 1., 4., 2., 7., 9.])"
            ]
          },
          "metadata": {},
          "execution_count": 34
        }
      ]
    },
    {
      "cell_type": "code",
      "source": [
        "# Replace values based on responses for BPHIGH6\n",
        "pandas_df = pandas_df.replace({\"BPHIGH6\": {1.: \"Yes\",\n",
        "                                           2.: \"Yes\",\n",
        "                                           3.: \"No\",\n",
        "                                           4.: \"No\", \n",
        "                                           7.: \"\", \n",
        "                                           9.:\"\"}})"
      ],
      "metadata": {
        "id": "40L4T1kgli0Z"
      },
      "execution_count": 35,
      "outputs": []
    },
    {
      "cell_type": "code",
      "source": [
        "pandas_df"
      ],
      "metadata": {
        "colab": {
          "base_uri": "https://localhost:8080/",
          "height": 424
        },
        "id": "EQWYfc47Yq6V",
        "outputId": "c476074b-ca1a-4232-87de-d36f5d8b0c5e"
      },
      "execution_count": 36,
      "outputs": [
        {
          "output_type": "execute_result",
          "data": {
            "text/plain": [
              "       DIABETE4        _RACE TOLDHI3 BPHIGH6  _BMI5 SMOKE100 _RFBING5  \\\n",
              "0            No        White     Yes      No  14.54      Yes      Yes   \n",
              "2           Yes        Black      No     Yes  28.29       No      Yes   \n",
              "3           Yes        White     Yes     Yes  33.47       No       No   \n",
              "4           Yes  Multiracial     Yes      No  28.73       No      Yes   \n",
              "5            No        White      No      No  24.37      Yes      Yes   \n",
              "...         ...          ...     ...     ...    ...      ...      ...   \n",
              "438687      Yes     Hispanic     Yes     Yes  21.48       No       No   \n",
              "438688      Yes                   No     Yes  24.69      Yes      Yes   \n",
              "438690       No        Black     Yes      No  30.68       No      Yes   \n",
              "438691       No                   No     Yes  23.73       No      Yes   \n",
              "438692       No        Black     Yes      No  31.71       No      Yes   \n",
              "\n",
              "                   EDUCA    GENHLTH  _AGEG5YR EXERANY2 FRUIT2 VEGETAB2  \\\n",
              "0       High School Grad       Poor      11.0       No    Yes      Yes   \n",
              "2       High School Grad  Very Good      11.0       No    Yes      Yes   \n",
              "3       High School Grad  Very Good       9.0      Yes    Yes      Yes   \n",
              "4       Some High School       Poor      12.0      Yes    Yes      Yes   \n",
              "5           Some College       Good      13.0       No    Yes      Yes   \n",
              "...                  ...        ...       ...      ...    ...      ...   \n",
              "438687        Elementary       Fair      10.0      Yes    Yes      Yes   \n",
              "438688  High School Grad  Very Good       3.0      Yes    Yes      Yes   \n",
              "438690      College Grad  Very Good       7.0      Yes    Yes      Yes   \n",
              "438691  High School Grad  Very Good      10.0      Yes    Yes      Yes   \n",
              "438692      College Grad  Excellent       6.0      Yes    Yes      Yes   \n",
              "\n",
              "                      _INCOMG1 MEDCOST1    _SEX  \n",
              "0         $25,000 to < $35,000       No  Female  \n",
              "2         $15,000 to < $25,000       No  Female  \n",
              "3        $50,000 to < $100,000       No  Female  \n",
              "4         $15,000 to < $25,000       No    Male  \n",
              "5         $35,000 to < $50,000       No    Male  \n",
              "...                        ...      ...     ...  \n",
              "438687    $15,000 to < $25,000       No    Male  \n",
              "438688    $25,000 to < $35,000      Yes  Female  \n",
              "438690  $100,000 to < $200,000       No    Male  \n",
              "438691    $35,000 to < $50,000       No    Male  \n",
              "438692    $35,000 to < $50,000       No  Female  \n",
              "\n",
              "[319363 rows x 16 columns]"
            ],
            "text/html": [
              "\n",
              "  <div id=\"df-7a8179a9-115f-4e9b-9c9f-7f56dc182be5\">\n",
              "    <div class=\"colab-df-container\">\n",
              "      <div>\n",
              "<style scoped>\n",
              "    .dataframe tbody tr th:only-of-type {\n",
              "        vertical-align: middle;\n",
              "    }\n",
              "\n",
              "    .dataframe tbody tr th {\n",
              "        vertical-align: top;\n",
              "    }\n",
              "\n",
              "    .dataframe thead th {\n",
              "        text-align: right;\n",
              "    }\n",
              "</style>\n",
              "<table border=\"1\" class=\"dataframe\">\n",
              "  <thead>\n",
              "    <tr style=\"text-align: right;\">\n",
              "      <th></th>\n",
              "      <th>DIABETE4</th>\n",
              "      <th>_RACE</th>\n",
              "      <th>TOLDHI3</th>\n",
              "      <th>BPHIGH6</th>\n",
              "      <th>_BMI5</th>\n",
              "      <th>SMOKE100</th>\n",
              "      <th>_RFBING5</th>\n",
              "      <th>EDUCA</th>\n",
              "      <th>GENHLTH</th>\n",
              "      <th>_AGEG5YR</th>\n",
              "      <th>EXERANY2</th>\n",
              "      <th>FRUIT2</th>\n",
              "      <th>VEGETAB2</th>\n",
              "      <th>_INCOMG1</th>\n",
              "      <th>MEDCOST1</th>\n",
              "      <th>_SEX</th>\n",
              "    </tr>\n",
              "  </thead>\n",
              "  <tbody>\n",
              "    <tr>\n",
              "      <th>0</th>\n",
              "      <td>No</td>\n",
              "      <td>White</td>\n",
              "      <td>Yes</td>\n",
              "      <td>No</td>\n",
              "      <td>14.54</td>\n",
              "      <td>Yes</td>\n",
              "      <td>Yes</td>\n",
              "      <td>High School Grad</td>\n",
              "      <td>Poor</td>\n",
              "      <td>11.0</td>\n",
              "      <td>No</td>\n",
              "      <td>Yes</td>\n",
              "      <td>Yes</td>\n",
              "      <td>$25,000 to &lt; $35,000</td>\n",
              "      <td>No</td>\n",
              "      <td>Female</td>\n",
              "    </tr>\n",
              "    <tr>\n",
              "      <th>2</th>\n",
              "      <td>Yes</td>\n",
              "      <td>Black</td>\n",
              "      <td>No</td>\n",
              "      <td>Yes</td>\n",
              "      <td>28.29</td>\n",
              "      <td>No</td>\n",
              "      <td>Yes</td>\n",
              "      <td>High School Grad</td>\n",
              "      <td>Very Good</td>\n",
              "      <td>11.0</td>\n",
              "      <td>No</td>\n",
              "      <td>Yes</td>\n",
              "      <td>Yes</td>\n",
              "      <td>$15,000 to &lt; $25,000</td>\n",
              "      <td>No</td>\n",
              "      <td>Female</td>\n",
              "    </tr>\n",
              "    <tr>\n",
              "      <th>3</th>\n",
              "      <td>Yes</td>\n",
              "      <td>White</td>\n",
              "      <td>Yes</td>\n",
              "      <td>Yes</td>\n",
              "      <td>33.47</td>\n",
              "      <td>No</td>\n",
              "      <td>No</td>\n",
              "      <td>High School Grad</td>\n",
              "      <td>Very Good</td>\n",
              "      <td>9.0</td>\n",
              "      <td>Yes</td>\n",
              "      <td>Yes</td>\n",
              "      <td>Yes</td>\n",
              "      <td>$50,000 to &lt; $100,000</td>\n",
              "      <td>No</td>\n",
              "      <td>Female</td>\n",
              "    </tr>\n",
              "    <tr>\n",
              "      <th>4</th>\n",
              "      <td>Yes</td>\n",
              "      <td>Multiracial</td>\n",
              "      <td>Yes</td>\n",
              "      <td>No</td>\n",
              "      <td>28.73</td>\n",
              "      <td>No</td>\n",
              "      <td>Yes</td>\n",
              "      <td>Some High School</td>\n",
              "      <td>Poor</td>\n",
              "      <td>12.0</td>\n",
              "      <td>Yes</td>\n",
              "      <td>Yes</td>\n",
              "      <td>Yes</td>\n",
              "      <td>$15,000 to &lt; $25,000</td>\n",
              "      <td>No</td>\n",
              "      <td>Male</td>\n",
              "    </tr>\n",
              "    <tr>\n",
              "      <th>5</th>\n",
              "      <td>No</td>\n",
              "      <td>White</td>\n",
              "      <td>No</td>\n",
              "      <td>No</td>\n",
              "      <td>24.37</td>\n",
              "      <td>Yes</td>\n",
              "      <td>Yes</td>\n",
              "      <td>Some College</td>\n",
              "      <td>Good</td>\n",
              "      <td>13.0</td>\n",
              "      <td>No</td>\n",
              "      <td>Yes</td>\n",
              "      <td>Yes</td>\n",
              "      <td>$35,000 to &lt; $50,000</td>\n",
              "      <td>No</td>\n",
              "      <td>Male</td>\n",
              "    </tr>\n",
              "    <tr>\n",
              "      <th>...</th>\n",
              "      <td>...</td>\n",
              "      <td>...</td>\n",
              "      <td>...</td>\n",
              "      <td>...</td>\n",
              "      <td>...</td>\n",
              "      <td>...</td>\n",
              "      <td>...</td>\n",
              "      <td>...</td>\n",
              "      <td>...</td>\n",
              "      <td>...</td>\n",
              "      <td>...</td>\n",
              "      <td>...</td>\n",
              "      <td>...</td>\n",
              "      <td>...</td>\n",
              "      <td>...</td>\n",
              "      <td>...</td>\n",
              "    </tr>\n",
              "    <tr>\n",
              "      <th>438687</th>\n",
              "      <td>Yes</td>\n",
              "      <td>Hispanic</td>\n",
              "      <td>Yes</td>\n",
              "      <td>Yes</td>\n",
              "      <td>21.48</td>\n",
              "      <td>No</td>\n",
              "      <td>No</td>\n",
              "      <td>Elementary</td>\n",
              "      <td>Fair</td>\n",
              "      <td>10.0</td>\n",
              "      <td>Yes</td>\n",
              "      <td>Yes</td>\n",
              "      <td>Yes</td>\n",
              "      <td>$15,000 to &lt; $25,000</td>\n",
              "      <td>No</td>\n",
              "      <td>Male</td>\n",
              "    </tr>\n",
              "    <tr>\n",
              "      <th>438688</th>\n",
              "      <td>Yes</td>\n",
              "      <td></td>\n",
              "      <td>No</td>\n",
              "      <td>Yes</td>\n",
              "      <td>24.69</td>\n",
              "      <td>Yes</td>\n",
              "      <td>Yes</td>\n",
              "      <td>High School Grad</td>\n",
              "      <td>Very Good</td>\n",
              "      <td>3.0</td>\n",
              "      <td>Yes</td>\n",
              "      <td>Yes</td>\n",
              "      <td>Yes</td>\n",
              "      <td>$25,000 to &lt; $35,000</td>\n",
              "      <td>Yes</td>\n",
              "      <td>Female</td>\n",
              "    </tr>\n",
              "    <tr>\n",
              "      <th>438690</th>\n",
              "      <td>No</td>\n",
              "      <td>Black</td>\n",
              "      <td>Yes</td>\n",
              "      <td>No</td>\n",
              "      <td>30.68</td>\n",
              "      <td>No</td>\n",
              "      <td>Yes</td>\n",
              "      <td>College Grad</td>\n",
              "      <td>Very Good</td>\n",
              "      <td>7.0</td>\n",
              "      <td>Yes</td>\n",
              "      <td>Yes</td>\n",
              "      <td>Yes</td>\n",
              "      <td>$100,000 to &lt; $200,000</td>\n",
              "      <td>No</td>\n",
              "      <td>Male</td>\n",
              "    </tr>\n",
              "    <tr>\n",
              "      <th>438691</th>\n",
              "      <td>No</td>\n",
              "      <td></td>\n",
              "      <td>No</td>\n",
              "      <td>Yes</td>\n",
              "      <td>23.73</td>\n",
              "      <td>No</td>\n",
              "      <td>Yes</td>\n",
              "      <td>High School Grad</td>\n",
              "      <td>Very Good</td>\n",
              "      <td>10.0</td>\n",
              "      <td>Yes</td>\n",
              "      <td>Yes</td>\n",
              "      <td>Yes</td>\n",
              "      <td>$35,000 to &lt; $50,000</td>\n",
              "      <td>No</td>\n",
              "      <td>Male</td>\n",
              "    </tr>\n",
              "    <tr>\n",
              "      <th>438692</th>\n",
              "      <td>No</td>\n",
              "      <td>Black</td>\n",
              "      <td>Yes</td>\n",
              "      <td>No</td>\n",
              "      <td>31.71</td>\n",
              "      <td>No</td>\n",
              "      <td>Yes</td>\n",
              "      <td>College Grad</td>\n",
              "      <td>Excellent</td>\n",
              "      <td>6.0</td>\n",
              "      <td>Yes</td>\n",
              "      <td>Yes</td>\n",
              "      <td>Yes</td>\n",
              "      <td>$35,000 to &lt; $50,000</td>\n",
              "      <td>No</td>\n",
              "      <td>Female</td>\n",
              "    </tr>\n",
              "  </tbody>\n",
              "</table>\n",
              "<p>319363 rows × 16 columns</p>\n",
              "</div>\n",
              "      <button class=\"colab-df-convert\" onclick=\"convertToInteractive('df-7a8179a9-115f-4e9b-9c9f-7f56dc182be5')\"\n",
              "              title=\"Convert this dataframe to an interactive table.\"\n",
              "              style=\"display:none;\">\n",
              "        \n",
              "  <svg xmlns=\"http://www.w3.org/2000/svg\" height=\"24px\"viewBox=\"0 0 24 24\"\n",
              "       width=\"24px\">\n",
              "    <path d=\"M0 0h24v24H0V0z\" fill=\"none\"/>\n",
              "    <path d=\"M18.56 5.44l.94 2.06.94-2.06 2.06-.94-2.06-.94-.94-2.06-.94 2.06-2.06.94zm-11 1L8.5 8.5l.94-2.06 2.06-.94-2.06-.94L8.5 2.5l-.94 2.06-2.06.94zm10 10l.94 2.06.94-2.06 2.06-.94-2.06-.94-.94-2.06-.94 2.06-2.06.94z\"/><path d=\"M17.41 7.96l-1.37-1.37c-.4-.4-.92-.59-1.43-.59-.52 0-1.04.2-1.43.59L10.3 9.45l-7.72 7.72c-.78.78-.78 2.05 0 2.83L4 21.41c.39.39.9.59 1.41.59.51 0 1.02-.2 1.41-.59l7.78-7.78 2.81-2.81c.8-.78.8-2.07 0-2.86zM5.41 20L4 18.59l7.72-7.72 1.47 1.35L5.41 20z\"/>\n",
              "  </svg>\n",
              "      </button>\n",
              "      \n",
              "  <style>\n",
              "    .colab-df-container {\n",
              "      display:flex;\n",
              "      flex-wrap:wrap;\n",
              "      gap: 12px;\n",
              "    }\n",
              "\n",
              "    .colab-df-convert {\n",
              "      background-color: #E8F0FE;\n",
              "      border: none;\n",
              "      border-radius: 50%;\n",
              "      cursor: pointer;\n",
              "      display: none;\n",
              "      fill: #1967D2;\n",
              "      height: 32px;\n",
              "      padding: 0 0 0 0;\n",
              "      width: 32px;\n",
              "    }\n",
              "\n",
              "    .colab-df-convert:hover {\n",
              "      background-color: #E2EBFA;\n",
              "      box-shadow: 0px 1px 2px rgba(60, 64, 67, 0.3), 0px 1px 3px 1px rgba(60, 64, 67, 0.15);\n",
              "      fill: #174EA6;\n",
              "    }\n",
              "\n",
              "    [theme=dark] .colab-df-convert {\n",
              "      background-color: #3B4455;\n",
              "      fill: #D2E3FC;\n",
              "    }\n",
              "\n",
              "    [theme=dark] .colab-df-convert:hover {\n",
              "      background-color: #434B5C;\n",
              "      box-shadow: 0px 1px 3px 1px rgba(0, 0, 0, 0.15);\n",
              "      filter: drop-shadow(0px 1px 2px rgba(0, 0, 0, 0.3));\n",
              "      fill: #FFFFFF;\n",
              "    }\n",
              "  </style>\n",
              "\n",
              "      <script>\n",
              "        const buttonEl =\n",
              "          document.querySelector('#df-7a8179a9-115f-4e9b-9c9f-7f56dc182be5 button.colab-df-convert');\n",
              "        buttonEl.style.display =\n",
              "          google.colab.kernel.accessAllowed ? 'block' : 'none';\n",
              "\n",
              "        async function convertToInteractive(key) {\n",
              "          const element = document.querySelector('#df-7a8179a9-115f-4e9b-9c9f-7f56dc182be5');\n",
              "          const dataTable =\n",
              "            await google.colab.kernel.invokeFunction('convertToInteractive',\n",
              "                                                     [key], {});\n",
              "          if (!dataTable) return;\n",
              "\n",
              "          const docLinkHtml = 'Like what you see? Visit the ' +\n",
              "            '<a target=\"_blank\" href=https://colab.research.google.com/notebooks/data_table.ipynb>data table notebook</a>'\n",
              "            + ' to learn more about interactive tables.';\n",
              "          element.innerHTML = '';\n",
              "          dataTable['output_type'] = 'display_data';\n",
              "          await google.colab.output.renderOutput(dataTable, element);\n",
              "          const docLink = document.createElement('div');\n",
              "          docLink.innerHTML = docLinkHtml;\n",
              "          element.appendChild(docLink);\n",
              "        }\n",
              "      </script>\n",
              "    </div>\n",
              "  </div>\n",
              "  "
            ]
          },
          "metadata": {},
          "execution_count": 36
        }
      ]
    },
    {
      "cell_type": "code",
      "source": [
        "pandas_df = pandas_df.replace({\"_AGEG5YR\": {1.: \"Age 18 to 24\",\n",
        "                                            2.: \"Age 25 to 29 \",\n",
        "                                            3.: \"Age 30 to 34 \",\n",
        "                                            4.: \"Age 35 to 39 \",\n",
        "                                            5.: \"Age 40 to 44\",\n",
        "                                            6.: \"Age 45 to 49\",\n",
        "                                            7.: \"Age 50 to 54\",\n",
        "                                            8.: \"Age 55 to 59 \",\n",
        "                                            9.: \"Age 60 to 64 \",\n",
        "                                            10.: \"Age 65 to 69 \",\n",
        "                                            11.: \"Age 70 to 74 \",\n",
        "                                            12.: \"Age 75 to 79\",\n",
        "                                            13.: \"Age 80 or older\",\n",
        "                                            14.: \"\"}})"
      ],
      "metadata": {
        "id": "l1G-Roc5Muzp"
      },
      "execution_count": 37,
      "outputs": []
    },
    {
      "cell_type": "code",
      "source": [
        "pandas_df=pandas_df.mask(pandas_df == \"\")"
      ],
      "metadata": {
        "id": "LDlA6_D8pay9"
      },
      "execution_count": 38,
      "outputs": []
    },
    {
      "cell_type": "code",
      "source": [
        "pandas_df.isna().sum()"
      ],
      "metadata": {
        "id": "cXawS7Dqpa4J",
        "colab": {
          "base_uri": "https://localhost:8080/"
        },
        "outputId": "394b9d3b-be27-4188-9c1a-4db6adfb7dd4"
      },
      "execution_count": 39,
      "outputs": [
        {
          "output_type": "execute_result",
          "data": {
            "text/plain": [
              "DIABETE4      402\n",
              "_RACE        5867\n",
              "TOLDHI3      2425\n",
              "BPHIGH6       842\n",
              "_BMI5           0\n",
              "SMOKE100     1814\n",
              "_RFBING5     5305\n",
              "EDUCA         689\n",
              "GENHLTH       611\n",
              "_AGEG5YR     3690\n",
              "EXERANY2      477\n",
              "FRUIT2       5299\n",
              "VEGETAB2     4572\n",
              "_INCOMG1    51064\n",
              "MEDCOST1      660\n",
              "_SEX            0\n",
              "dtype: int64"
            ]
          },
          "metadata": {},
          "execution_count": 39
        }
      ]
    },
    {
      "cell_type": "code",
      "source": [
        "pandas_df = pandas_df.dropna()"
      ],
      "metadata": {
        "id": "L1HDh35v1rdA"
      },
      "execution_count": 40,
      "outputs": []
    },
    {
      "cell_type": "code",
      "source": [
        "pandas_df.reset_index(drop=True)"
      ],
      "metadata": {
        "colab": {
          "base_uri": "https://localhost:8080/",
          "height": 424
        },
        "id": "lSMLPYRw_jV1",
        "outputId": "a4afc023-78b1-4add-bc2e-48ce50f861c2"
      },
      "execution_count": 41,
      "outputs": [
        {
          "output_type": "execute_result",
          "data": {
            "text/plain": [
              "       DIABETE4        _RACE TOLDHI3 BPHIGH6  _BMI5 SMOKE100 _RFBING5  \\\n",
              "0            No        White     Yes      No  14.54      Yes      Yes   \n",
              "1           Yes        Black      No     Yes  28.29       No      Yes   \n",
              "2           Yes        White     Yes     Yes  33.47       No       No   \n",
              "3           Yes  Multiracial     Yes      No  28.73       No      Yes   \n",
              "4            No        White      No      No  24.37      Yes      Yes   \n",
              "...         ...          ...     ...     ...    ...      ...      ...   \n",
              "250523       No        Black     Yes     Yes  20.98       No      Yes   \n",
              "250524       No        Black      No      No  29.05       No      Yes   \n",
              "250525      Yes     Hispanic     Yes     Yes  21.48       No       No   \n",
              "250526       No        Black     Yes      No  30.68       No      Yes   \n",
              "250527       No        Black     Yes      No  31.71       No      Yes   \n",
              "\n",
              "                   EDUCA    GENHLTH         _AGEG5YR EXERANY2 FRUIT2 VEGETAB2  \\\n",
              "0       High School Grad       Poor    Age 70 to 74        No    Yes      Yes   \n",
              "1       High School Grad  Very Good    Age 70 to 74        No    Yes      Yes   \n",
              "2       High School Grad  Very Good    Age 60 to 64       Yes    Yes      Yes   \n",
              "3       Some High School       Poor     Age 75 to 79      Yes    Yes      Yes   \n",
              "4           Some College       Good  Age 80 or older       No    Yes      Yes   \n",
              "...                  ...        ...              ...      ...    ...      ...   \n",
              "250523  High School Grad       Good    Age 55 to 59       Yes    Yes      Yes   \n",
              "250524      College Grad  Very Good    Age 25 to 29       Yes    Yes      Yes   \n",
              "250525        Elementary       Fair    Age 65 to 69       Yes    Yes      Yes   \n",
              "250526      College Grad  Very Good     Age 50 to 54      Yes    Yes      Yes   \n",
              "250527      College Grad  Excellent     Age 45 to 49      Yes    Yes      Yes   \n",
              "\n",
              "                      _INCOMG1 MEDCOST1    _SEX  \n",
              "0         $25,000 to < $35,000       No  Female  \n",
              "1         $15,000 to < $25,000       No  Female  \n",
              "2        $50,000 to < $100,000       No  Female  \n",
              "3         $15,000 to < $25,000       No    Male  \n",
              "4         $35,000 to < $50,000       No    Male  \n",
              "...                        ...      ...     ...  \n",
              "250523    $25,000 to < $35,000       No    Male  \n",
              "250524              > $200,000       No    Male  \n",
              "250525    $15,000 to < $25,000       No    Male  \n",
              "250526  $100,000 to < $200,000       No    Male  \n",
              "250527    $35,000 to < $50,000       No  Female  \n",
              "\n",
              "[250528 rows x 16 columns]"
            ],
            "text/html": [
              "\n",
              "  <div id=\"df-4e465a0d-6784-4628-ad49-cc8de9e92cf7\">\n",
              "    <div class=\"colab-df-container\">\n",
              "      <div>\n",
              "<style scoped>\n",
              "    .dataframe tbody tr th:only-of-type {\n",
              "        vertical-align: middle;\n",
              "    }\n",
              "\n",
              "    .dataframe tbody tr th {\n",
              "        vertical-align: top;\n",
              "    }\n",
              "\n",
              "    .dataframe thead th {\n",
              "        text-align: right;\n",
              "    }\n",
              "</style>\n",
              "<table border=\"1\" class=\"dataframe\">\n",
              "  <thead>\n",
              "    <tr style=\"text-align: right;\">\n",
              "      <th></th>\n",
              "      <th>DIABETE4</th>\n",
              "      <th>_RACE</th>\n",
              "      <th>TOLDHI3</th>\n",
              "      <th>BPHIGH6</th>\n",
              "      <th>_BMI5</th>\n",
              "      <th>SMOKE100</th>\n",
              "      <th>_RFBING5</th>\n",
              "      <th>EDUCA</th>\n",
              "      <th>GENHLTH</th>\n",
              "      <th>_AGEG5YR</th>\n",
              "      <th>EXERANY2</th>\n",
              "      <th>FRUIT2</th>\n",
              "      <th>VEGETAB2</th>\n",
              "      <th>_INCOMG1</th>\n",
              "      <th>MEDCOST1</th>\n",
              "      <th>_SEX</th>\n",
              "    </tr>\n",
              "  </thead>\n",
              "  <tbody>\n",
              "    <tr>\n",
              "      <th>0</th>\n",
              "      <td>No</td>\n",
              "      <td>White</td>\n",
              "      <td>Yes</td>\n",
              "      <td>No</td>\n",
              "      <td>14.54</td>\n",
              "      <td>Yes</td>\n",
              "      <td>Yes</td>\n",
              "      <td>High School Grad</td>\n",
              "      <td>Poor</td>\n",
              "      <td>Age 70 to 74</td>\n",
              "      <td>No</td>\n",
              "      <td>Yes</td>\n",
              "      <td>Yes</td>\n",
              "      <td>$25,000 to &lt; $35,000</td>\n",
              "      <td>No</td>\n",
              "      <td>Female</td>\n",
              "    </tr>\n",
              "    <tr>\n",
              "      <th>1</th>\n",
              "      <td>Yes</td>\n",
              "      <td>Black</td>\n",
              "      <td>No</td>\n",
              "      <td>Yes</td>\n",
              "      <td>28.29</td>\n",
              "      <td>No</td>\n",
              "      <td>Yes</td>\n",
              "      <td>High School Grad</td>\n",
              "      <td>Very Good</td>\n",
              "      <td>Age 70 to 74</td>\n",
              "      <td>No</td>\n",
              "      <td>Yes</td>\n",
              "      <td>Yes</td>\n",
              "      <td>$15,000 to &lt; $25,000</td>\n",
              "      <td>No</td>\n",
              "      <td>Female</td>\n",
              "    </tr>\n",
              "    <tr>\n",
              "      <th>2</th>\n",
              "      <td>Yes</td>\n",
              "      <td>White</td>\n",
              "      <td>Yes</td>\n",
              "      <td>Yes</td>\n",
              "      <td>33.47</td>\n",
              "      <td>No</td>\n",
              "      <td>No</td>\n",
              "      <td>High School Grad</td>\n",
              "      <td>Very Good</td>\n",
              "      <td>Age 60 to 64</td>\n",
              "      <td>Yes</td>\n",
              "      <td>Yes</td>\n",
              "      <td>Yes</td>\n",
              "      <td>$50,000 to &lt; $100,000</td>\n",
              "      <td>No</td>\n",
              "      <td>Female</td>\n",
              "    </tr>\n",
              "    <tr>\n",
              "      <th>3</th>\n",
              "      <td>Yes</td>\n",
              "      <td>Multiracial</td>\n",
              "      <td>Yes</td>\n",
              "      <td>No</td>\n",
              "      <td>28.73</td>\n",
              "      <td>No</td>\n",
              "      <td>Yes</td>\n",
              "      <td>Some High School</td>\n",
              "      <td>Poor</td>\n",
              "      <td>Age 75 to 79</td>\n",
              "      <td>Yes</td>\n",
              "      <td>Yes</td>\n",
              "      <td>Yes</td>\n",
              "      <td>$15,000 to &lt; $25,000</td>\n",
              "      <td>No</td>\n",
              "      <td>Male</td>\n",
              "    </tr>\n",
              "    <tr>\n",
              "      <th>4</th>\n",
              "      <td>No</td>\n",
              "      <td>White</td>\n",
              "      <td>No</td>\n",
              "      <td>No</td>\n",
              "      <td>24.37</td>\n",
              "      <td>Yes</td>\n",
              "      <td>Yes</td>\n",
              "      <td>Some College</td>\n",
              "      <td>Good</td>\n",
              "      <td>Age 80 or older</td>\n",
              "      <td>No</td>\n",
              "      <td>Yes</td>\n",
              "      <td>Yes</td>\n",
              "      <td>$35,000 to &lt; $50,000</td>\n",
              "      <td>No</td>\n",
              "      <td>Male</td>\n",
              "    </tr>\n",
              "    <tr>\n",
              "      <th>...</th>\n",
              "      <td>...</td>\n",
              "      <td>...</td>\n",
              "      <td>...</td>\n",
              "      <td>...</td>\n",
              "      <td>...</td>\n",
              "      <td>...</td>\n",
              "      <td>...</td>\n",
              "      <td>...</td>\n",
              "      <td>...</td>\n",
              "      <td>...</td>\n",
              "      <td>...</td>\n",
              "      <td>...</td>\n",
              "      <td>...</td>\n",
              "      <td>...</td>\n",
              "      <td>...</td>\n",
              "      <td>...</td>\n",
              "    </tr>\n",
              "    <tr>\n",
              "      <th>250523</th>\n",
              "      <td>No</td>\n",
              "      <td>Black</td>\n",
              "      <td>Yes</td>\n",
              "      <td>Yes</td>\n",
              "      <td>20.98</td>\n",
              "      <td>No</td>\n",
              "      <td>Yes</td>\n",
              "      <td>High School Grad</td>\n",
              "      <td>Good</td>\n",
              "      <td>Age 55 to 59</td>\n",
              "      <td>Yes</td>\n",
              "      <td>Yes</td>\n",
              "      <td>Yes</td>\n",
              "      <td>$25,000 to &lt; $35,000</td>\n",
              "      <td>No</td>\n",
              "      <td>Male</td>\n",
              "    </tr>\n",
              "    <tr>\n",
              "      <th>250524</th>\n",
              "      <td>No</td>\n",
              "      <td>Black</td>\n",
              "      <td>No</td>\n",
              "      <td>No</td>\n",
              "      <td>29.05</td>\n",
              "      <td>No</td>\n",
              "      <td>Yes</td>\n",
              "      <td>College Grad</td>\n",
              "      <td>Very Good</td>\n",
              "      <td>Age 25 to 29</td>\n",
              "      <td>Yes</td>\n",
              "      <td>Yes</td>\n",
              "      <td>Yes</td>\n",
              "      <td>&gt; $200,000</td>\n",
              "      <td>No</td>\n",
              "      <td>Male</td>\n",
              "    </tr>\n",
              "    <tr>\n",
              "      <th>250525</th>\n",
              "      <td>Yes</td>\n",
              "      <td>Hispanic</td>\n",
              "      <td>Yes</td>\n",
              "      <td>Yes</td>\n",
              "      <td>21.48</td>\n",
              "      <td>No</td>\n",
              "      <td>No</td>\n",
              "      <td>Elementary</td>\n",
              "      <td>Fair</td>\n",
              "      <td>Age 65 to 69</td>\n",
              "      <td>Yes</td>\n",
              "      <td>Yes</td>\n",
              "      <td>Yes</td>\n",
              "      <td>$15,000 to &lt; $25,000</td>\n",
              "      <td>No</td>\n",
              "      <td>Male</td>\n",
              "    </tr>\n",
              "    <tr>\n",
              "      <th>250526</th>\n",
              "      <td>No</td>\n",
              "      <td>Black</td>\n",
              "      <td>Yes</td>\n",
              "      <td>No</td>\n",
              "      <td>30.68</td>\n",
              "      <td>No</td>\n",
              "      <td>Yes</td>\n",
              "      <td>College Grad</td>\n",
              "      <td>Very Good</td>\n",
              "      <td>Age 50 to 54</td>\n",
              "      <td>Yes</td>\n",
              "      <td>Yes</td>\n",
              "      <td>Yes</td>\n",
              "      <td>$100,000 to &lt; $200,000</td>\n",
              "      <td>No</td>\n",
              "      <td>Male</td>\n",
              "    </tr>\n",
              "    <tr>\n",
              "      <th>250527</th>\n",
              "      <td>No</td>\n",
              "      <td>Black</td>\n",
              "      <td>Yes</td>\n",
              "      <td>No</td>\n",
              "      <td>31.71</td>\n",
              "      <td>No</td>\n",
              "      <td>Yes</td>\n",
              "      <td>College Grad</td>\n",
              "      <td>Excellent</td>\n",
              "      <td>Age 45 to 49</td>\n",
              "      <td>Yes</td>\n",
              "      <td>Yes</td>\n",
              "      <td>Yes</td>\n",
              "      <td>$35,000 to &lt; $50,000</td>\n",
              "      <td>No</td>\n",
              "      <td>Female</td>\n",
              "    </tr>\n",
              "  </tbody>\n",
              "</table>\n",
              "<p>250528 rows × 16 columns</p>\n",
              "</div>\n",
              "      <button class=\"colab-df-convert\" onclick=\"convertToInteractive('df-4e465a0d-6784-4628-ad49-cc8de9e92cf7')\"\n",
              "              title=\"Convert this dataframe to an interactive table.\"\n",
              "              style=\"display:none;\">\n",
              "        \n",
              "  <svg xmlns=\"http://www.w3.org/2000/svg\" height=\"24px\"viewBox=\"0 0 24 24\"\n",
              "       width=\"24px\">\n",
              "    <path d=\"M0 0h24v24H0V0z\" fill=\"none\"/>\n",
              "    <path d=\"M18.56 5.44l.94 2.06.94-2.06 2.06-.94-2.06-.94-.94-2.06-.94 2.06-2.06.94zm-11 1L8.5 8.5l.94-2.06 2.06-.94-2.06-.94L8.5 2.5l-.94 2.06-2.06.94zm10 10l.94 2.06.94-2.06 2.06-.94-2.06-.94-.94-2.06-.94 2.06-2.06.94z\"/><path d=\"M17.41 7.96l-1.37-1.37c-.4-.4-.92-.59-1.43-.59-.52 0-1.04.2-1.43.59L10.3 9.45l-7.72 7.72c-.78.78-.78 2.05 0 2.83L4 21.41c.39.39.9.59 1.41.59.51 0 1.02-.2 1.41-.59l7.78-7.78 2.81-2.81c.8-.78.8-2.07 0-2.86zM5.41 20L4 18.59l7.72-7.72 1.47 1.35L5.41 20z\"/>\n",
              "  </svg>\n",
              "      </button>\n",
              "      \n",
              "  <style>\n",
              "    .colab-df-container {\n",
              "      display:flex;\n",
              "      flex-wrap:wrap;\n",
              "      gap: 12px;\n",
              "    }\n",
              "\n",
              "    .colab-df-convert {\n",
              "      background-color: #E8F0FE;\n",
              "      border: none;\n",
              "      border-radius: 50%;\n",
              "      cursor: pointer;\n",
              "      display: none;\n",
              "      fill: #1967D2;\n",
              "      height: 32px;\n",
              "      padding: 0 0 0 0;\n",
              "      width: 32px;\n",
              "    }\n",
              "\n",
              "    .colab-df-convert:hover {\n",
              "      background-color: #E2EBFA;\n",
              "      box-shadow: 0px 1px 2px rgba(60, 64, 67, 0.3), 0px 1px 3px 1px rgba(60, 64, 67, 0.15);\n",
              "      fill: #174EA6;\n",
              "    }\n",
              "\n",
              "    [theme=dark] .colab-df-convert {\n",
              "      background-color: #3B4455;\n",
              "      fill: #D2E3FC;\n",
              "    }\n",
              "\n",
              "    [theme=dark] .colab-df-convert:hover {\n",
              "      background-color: #434B5C;\n",
              "      box-shadow: 0px 1px 3px 1px rgba(0, 0, 0, 0.15);\n",
              "      filter: drop-shadow(0px 1px 2px rgba(0, 0, 0, 0.3));\n",
              "      fill: #FFFFFF;\n",
              "    }\n",
              "  </style>\n",
              "\n",
              "      <script>\n",
              "        const buttonEl =\n",
              "          document.querySelector('#df-4e465a0d-6784-4628-ad49-cc8de9e92cf7 button.colab-df-convert');\n",
              "        buttonEl.style.display =\n",
              "          google.colab.kernel.accessAllowed ? 'block' : 'none';\n",
              "\n",
              "        async function convertToInteractive(key) {\n",
              "          const element = document.querySelector('#df-4e465a0d-6784-4628-ad49-cc8de9e92cf7');\n",
              "          const dataTable =\n",
              "            await google.colab.kernel.invokeFunction('convertToInteractive',\n",
              "                                                     [key], {});\n",
              "          if (!dataTable) return;\n",
              "\n",
              "          const docLinkHtml = 'Like what you see? Visit the ' +\n",
              "            '<a target=\"_blank\" href=https://colab.research.google.com/notebooks/data_table.ipynb>data table notebook</a>'\n",
              "            + ' to learn more about interactive tables.';\n",
              "          element.innerHTML = '';\n",
              "          dataTable['output_type'] = 'display_data';\n",
              "          await google.colab.output.renderOutput(dataTable, element);\n",
              "          const docLink = document.createElement('div');\n",
              "          docLink.innerHTML = docLinkHtml;\n",
              "          element.appendChild(docLink);\n",
              "        }\n",
              "      </script>\n",
              "    </div>\n",
              "  </div>\n",
              "  "
            ]
          },
          "metadata": {},
          "execution_count": 41
        }
      ]
    },
    {
      "cell_type": "code",
      "source": [
        "# Identify outliers in BMI data, create summary statistics to identify quartiles\n",
        "# urban_drivers = urban_cities_df['driver_count']\n",
        "bmi_df = pandas_df[\"_BMI5\"]\n",
        "bmi_df"
      ],
      "metadata": {
        "colab": {
          "base_uri": "https://localhost:8080/"
        },
        "id": "1BG4eOI-qVHh",
        "outputId": "7de582b4-4d59-4f27-8c6b-c3443c42208d"
      },
      "execution_count": 42,
      "outputs": [
        {
          "output_type": "execute_result",
          "data": {
            "text/plain": [
              "0         14.54\n",
              "2         28.29\n",
              "3         33.47\n",
              "4         28.73\n",
              "5         24.37\n",
              "          ...  \n",
              "438685    20.98\n",
              "438686    29.05\n",
              "438687    21.48\n",
              "438690    30.68\n",
              "438692    31.71\n",
              "Name: _BMI5, Length: 250528, dtype: float64"
            ]
          },
          "metadata": {},
          "execution_count": 42
        }
      ]
    },
    {
      "cell_type": "code",
      "source": [
        "#get summary statistics\n",
        "bmi_df.describe()"
      ],
      "metadata": {
        "colab": {
          "base_uri": "https://localhost:8080/"
        },
        "id": "Su4TkBVcr5Cs",
        "outputId": "85014aae-a83a-43cb-a2cb-d2a6e84f37c3"
      },
      "execution_count": 43,
      "outputs": [
        {
          "output_type": "execute_result",
          "data": {
            "text/plain": [
              "count    250528.000000\n",
              "mean         28.978447\n",
              "std           6.574445\n",
              "min          12.020000\n",
              "25%          24.410000\n",
              "50%          27.890000\n",
              "75%          32.190000\n",
              "max          99.330000\n",
              "Name: _BMI5, dtype: float64"
            ]
          },
          "metadata": {},
          "execution_count": 43
        }
      ]
    },
    {
      "cell_type": "code",
      "source": [
        "bmi_q1 = bmi_df.quantile(0.25)\n",
        "bmi_q3 = bmi_df.quantile(0.75)\n",
        "bmi_iqr = bmi_q3 - bmi_q1"
      ],
      "metadata": {
        "id": "4BPvgrRWuQkP"
      },
      "execution_count": 44,
      "outputs": []
    },
    {
      "cell_type": "code",
      "source": [
        "filtered_bmi_df = pandas_df.loc[(pandas_df[\"_BMI5\"] > (bmi_q1 - (1.5 * bmi_iqr))) & (pandas_df[\"_BMI5\"] < (bmi_q3 + (1.5 * bmi_iqr)))]\n",
        "filtered_bmi_df"
      ],
      "metadata": {
        "colab": {
          "base_uri": "https://localhost:8080/",
          "height": 424
        },
        "id": "10VWyVbJx1Wi",
        "outputId": "876c4ded-3e58-44c0-f023-c330bad69ac2"
      },
      "execution_count": 45,
      "outputs": [
        {
          "output_type": "execute_result",
          "data": {
            "text/plain": [
              "       DIABETE4        _RACE TOLDHI3 BPHIGH6  _BMI5 SMOKE100 _RFBING5  \\\n",
              "0            No        White     Yes      No  14.54      Yes      Yes   \n",
              "2           Yes        Black      No     Yes  28.29       No      Yes   \n",
              "3           Yes        White     Yes     Yes  33.47       No       No   \n",
              "4           Yes  Multiracial     Yes      No  28.73       No      Yes   \n",
              "5            No        White      No      No  24.37      Yes      Yes   \n",
              "...         ...          ...     ...     ...    ...      ...      ...   \n",
              "438685       No        Black     Yes     Yes  20.98       No      Yes   \n",
              "438686       No        Black      No      No  29.05       No      Yes   \n",
              "438687      Yes     Hispanic     Yes     Yes  21.48       No       No   \n",
              "438690       No        Black     Yes      No  30.68       No      Yes   \n",
              "438692       No        Black     Yes      No  31.71       No      Yes   \n",
              "\n",
              "                   EDUCA    GENHLTH         _AGEG5YR EXERANY2 FRUIT2 VEGETAB2  \\\n",
              "0       High School Grad       Poor    Age 70 to 74        No    Yes      Yes   \n",
              "2       High School Grad  Very Good    Age 70 to 74        No    Yes      Yes   \n",
              "3       High School Grad  Very Good    Age 60 to 64       Yes    Yes      Yes   \n",
              "4       Some High School       Poor     Age 75 to 79      Yes    Yes      Yes   \n",
              "5           Some College       Good  Age 80 or older       No    Yes      Yes   \n",
              "...                  ...        ...              ...      ...    ...      ...   \n",
              "438685  High School Grad       Good    Age 55 to 59       Yes    Yes      Yes   \n",
              "438686      College Grad  Very Good    Age 25 to 29       Yes    Yes      Yes   \n",
              "438687        Elementary       Fair    Age 65 to 69       Yes    Yes      Yes   \n",
              "438690      College Grad  Very Good     Age 50 to 54      Yes    Yes      Yes   \n",
              "438692      College Grad  Excellent     Age 45 to 49      Yes    Yes      Yes   \n",
              "\n",
              "                      _INCOMG1 MEDCOST1    _SEX  \n",
              "0         $25,000 to < $35,000       No  Female  \n",
              "2         $15,000 to < $25,000       No  Female  \n",
              "3        $50,000 to < $100,000       No  Female  \n",
              "4         $15,000 to < $25,000       No    Male  \n",
              "5         $35,000 to < $50,000       No    Male  \n",
              "...                        ...      ...     ...  \n",
              "438685    $25,000 to < $35,000       No    Male  \n",
              "438686              > $200,000       No    Male  \n",
              "438687    $15,000 to < $25,000       No    Male  \n",
              "438690  $100,000 to < $200,000       No    Male  \n",
              "438692    $35,000 to < $50,000       No  Female  \n",
              "\n",
              "[242802 rows x 16 columns]"
            ],
            "text/html": [
              "\n",
              "  <div id=\"df-34717913-ad64-452c-bef6-b17606d72b63\">\n",
              "    <div class=\"colab-df-container\">\n",
              "      <div>\n",
              "<style scoped>\n",
              "    .dataframe tbody tr th:only-of-type {\n",
              "        vertical-align: middle;\n",
              "    }\n",
              "\n",
              "    .dataframe tbody tr th {\n",
              "        vertical-align: top;\n",
              "    }\n",
              "\n",
              "    .dataframe thead th {\n",
              "        text-align: right;\n",
              "    }\n",
              "</style>\n",
              "<table border=\"1\" class=\"dataframe\">\n",
              "  <thead>\n",
              "    <tr style=\"text-align: right;\">\n",
              "      <th></th>\n",
              "      <th>DIABETE4</th>\n",
              "      <th>_RACE</th>\n",
              "      <th>TOLDHI3</th>\n",
              "      <th>BPHIGH6</th>\n",
              "      <th>_BMI5</th>\n",
              "      <th>SMOKE100</th>\n",
              "      <th>_RFBING5</th>\n",
              "      <th>EDUCA</th>\n",
              "      <th>GENHLTH</th>\n",
              "      <th>_AGEG5YR</th>\n",
              "      <th>EXERANY2</th>\n",
              "      <th>FRUIT2</th>\n",
              "      <th>VEGETAB2</th>\n",
              "      <th>_INCOMG1</th>\n",
              "      <th>MEDCOST1</th>\n",
              "      <th>_SEX</th>\n",
              "    </tr>\n",
              "  </thead>\n",
              "  <tbody>\n",
              "    <tr>\n",
              "      <th>0</th>\n",
              "      <td>No</td>\n",
              "      <td>White</td>\n",
              "      <td>Yes</td>\n",
              "      <td>No</td>\n",
              "      <td>14.54</td>\n",
              "      <td>Yes</td>\n",
              "      <td>Yes</td>\n",
              "      <td>High School Grad</td>\n",
              "      <td>Poor</td>\n",
              "      <td>Age 70 to 74</td>\n",
              "      <td>No</td>\n",
              "      <td>Yes</td>\n",
              "      <td>Yes</td>\n",
              "      <td>$25,000 to &lt; $35,000</td>\n",
              "      <td>No</td>\n",
              "      <td>Female</td>\n",
              "    </tr>\n",
              "    <tr>\n",
              "      <th>2</th>\n",
              "      <td>Yes</td>\n",
              "      <td>Black</td>\n",
              "      <td>No</td>\n",
              "      <td>Yes</td>\n",
              "      <td>28.29</td>\n",
              "      <td>No</td>\n",
              "      <td>Yes</td>\n",
              "      <td>High School Grad</td>\n",
              "      <td>Very Good</td>\n",
              "      <td>Age 70 to 74</td>\n",
              "      <td>No</td>\n",
              "      <td>Yes</td>\n",
              "      <td>Yes</td>\n",
              "      <td>$15,000 to &lt; $25,000</td>\n",
              "      <td>No</td>\n",
              "      <td>Female</td>\n",
              "    </tr>\n",
              "    <tr>\n",
              "      <th>3</th>\n",
              "      <td>Yes</td>\n",
              "      <td>White</td>\n",
              "      <td>Yes</td>\n",
              "      <td>Yes</td>\n",
              "      <td>33.47</td>\n",
              "      <td>No</td>\n",
              "      <td>No</td>\n",
              "      <td>High School Grad</td>\n",
              "      <td>Very Good</td>\n",
              "      <td>Age 60 to 64</td>\n",
              "      <td>Yes</td>\n",
              "      <td>Yes</td>\n",
              "      <td>Yes</td>\n",
              "      <td>$50,000 to &lt; $100,000</td>\n",
              "      <td>No</td>\n",
              "      <td>Female</td>\n",
              "    </tr>\n",
              "    <tr>\n",
              "      <th>4</th>\n",
              "      <td>Yes</td>\n",
              "      <td>Multiracial</td>\n",
              "      <td>Yes</td>\n",
              "      <td>No</td>\n",
              "      <td>28.73</td>\n",
              "      <td>No</td>\n",
              "      <td>Yes</td>\n",
              "      <td>Some High School</td>\n",
              "      <td>Poor</td>\n",
              "      <td>Age 75 to 79</td>\n",
              "      <td>Yes</td>\n",
              "      <td>Yes</td>\n",
              "      <td>Yes</td>\n",
              "      <td>$15,000 to &lt; $25,000</td>\n",
              "      <td>No</td>\n",
              "      <td>Male</td>\n",
              "    </tr>\n",
              "    <tr>\n",
              "      <th>5</th>\n",
              "      <td>No</td>\n",
              "      <td>White</td>\n",
              "      <td>No</td>\n",
              "      <td>No</td>\n",
              "      <td>24.37</td>\n",
              "      <td>Yes</td>\n",
              "      <td>Yes</td>\n",
              "      <td>Some College</td>\n",
              "      <td>Good</td>\n",
              "      <td>Age 80 or older</td>\n",
              "      <td>No</td>\n",
              "      <td>Yes</td>\n",
              "      <td>Yes</td>\n",
              "      <td>$35,000 to &lt; $50,000</td>\n",
              "      <td>No</td>\n",
              "      <td>Male</td>\n",
              "    </tr>\n",
              "    <tr>\n",
              "      <th>...</th>\n",
              "      <td>...</td>\n",
              "      <td>...</td>\n",
              "      <td>...</td>\n",
              "      <td>...</td>\n",
              "      <td>...</td>\n",
              "      <td>...</td>\n",
              "      <td>...</td>\n",
              "      <td>...</td>\n",
              "      <td>...</td>\n",
              "      <td>...</td>\n",
              "      <td>...</td>\n",
              "      <td>...</td>\n",
              "      <td>...</td>\n",
              "      <td>...</td>\n",
              "      <td>...</td>\n",
              "      <td>...</td>\n",
              "    </tr>\n",
              "    <tr>\n",
              "      <th>438685</th>\n",
              "      <td>No</td>\n",
              "      <td>Black</td>\n",
              "      <td>Yes</td>\n",
              "      <td>Yes</td>\n",
              "      <td>20.98</td>\n",
              "      <td>No</td>\n",
              "      <td>Yes</td>\n",
              "      <td>High School Grad</td>\n",
              "      <td>Good</td>\n",
              "      <td>Age 55 to 59</td>\n",
              "      <td>Yes</td>\n",
              "      <td>Yes</td>\n",
              "      <td>Yes</td>\n",
              "      <td>$25,000 to &lt; $35,000</td>\n",
              "      <td>No</td>\n",
              "      <td>Male</td>\n",
              "    </tr>\n",
              "    <tr>\n",
              "      <th>438686</th>\n",
              "      <td>No</td>\n",
              "      <td>Black</td>\n",
              "      <td>No</td>\n",
              "      <td>No</td>\n",
              "      <td>29.05</td>\n",
              "      <td>No</td>\n",
              "      <td>Yes</td>\n",
              "      <td>College Grad</td>\n",
              "      <td>Very Good</td>\n",
              "      <td>Age 25 to 29</td>\n",
              "      <td>Yes</td>\n",
              "      <td>Yes</td>\n",
              "      <td>Yes</td>\n",
              "      <td>&gt; $200,000</td>\n",
              "      <td>No</td>\n",
              "      <td>Male</td>\n",
              "    </tr>\n",
              "    <tr>\n",
              "      <th>438687</th>\n",
              "      <td>Yes</td>\n",
              "      <td>Hispanic</td>\n",
              "      <td>Yes</td>\n",
              "      <td>Yes</td>\n",
              "      <td>21.48</td>\n",
              "      <td>No</td>\n",
              "      <td>No</td>\n",
              "      <td>Elementary</td>\n",
              "      <td>Fair</td>\n",
              "      <td>Age 65 to 69</td>\n",
              "      <td>Yes</td>\n",
              "      <td>Yes</td>\n",
              "      <td>Yes</td>\n",
              "      <td>$15,000 to &lt; $25,000</td>\n",
              "      <td>No</td>\n",
              "      <td>Male</td>\n",
              "    </tr>\n",
              "    <tr>\n",
              "      <th>438690</th>\n",
              "      <td>No</td>\n",
              "      <td>Black</td>\n",
              "      <td>Yes</td>\n",
              "      <td>No</td>\n",
              "      <td>30.68</td>\n",
              "      <td>No</td>\n",
              "      <td>Yes</td>\n",
              "      <td>College Grad</td>\n",
              "      <td>Very Good</td>\n",
              "      <td>Age 50 to 54</td>\n",
              "      <td>Yes</td>\n",
              "      <td>Yes</td>\n",
              "      <td>Yes</td>\n",
              "      <td>$100,000 to &lt; $200,000</td>\n",
              "      <td>No</td>\n",
              "      <td>Male</td>\n",
              "    </tr>\n",
              "    <tr>\n",
              "      <th>438692</th>\n",
              "      <td>No</td>\n",
              "      <td>Black</td>\n",
              "      <td>Yes</td>\n",
              "      <td>No</td>\n",
              "      <td>31.71</td>\n",
              "      <td>No</td>\n",
              "      <td>Yes</td>\n",
              "      <td>College Grad</td>\n",
              "      <td>Excellent</td>\n",
              "      <td>Age 45 to 49</td>\n",
              "      <td>Yes</td>\n",
              "      <td>Yes</td>\n",
              "      <td>Yes</td>\n",
              "      <td>$35,000 to &lt; $50,000</td>\n",
              "      <td>No</td>\n",
              "      <td>Female</td>\n",
              "    </tr>\n",
              "  </tbody>\n",
              "</table>\n",
              "<p>242802 rows × 16 columns</p>\n",
              "</div>\n",
              "      <button class=\"colab-df-convert\" onclick=\"convertToInteractive('df-34717913-ad64-452c-bef6-b17606d72b63')\"\n",
              "              title=\"Convert this dataframe to an interactive table.\"\n",
              "              style=\"display:none;\">\n",
              "        \n",
              "  <svg xmlns=\"http://www.w3.org/2000/svg\" height=\"24px\"viewBox=\"0 0 24 24\"\n",
              "       width=\"24px\">\n",
              "    <path d=\"M0 0h24v24H0V0z\" fill=\"none\"/>\n",
              "    <path d=\"M18.56 5.44l.94 2.06.94-2.06 2.06-.94-2.06-.94-.94-2.06-.94 2.06-2.06.94zm-11 1L8.5 8.5l.94-2.06 2.06-.94-2.06-.94L8.5 2.5l-.94 2.06-2.06.94zm10 10l.94 2.06.94-2.06 2.06-.94-2.06-.94-.94-2.06-.94 2.06-2.06.94z\"/><path d=\"M17.41 7.96l-1.37-1.37c-.4-.4-.92-.59-1.43-.59-.52 0-1.04.2-1.43.59L10.3 9.45l-7.72 7.72c-.78.78-.78 2.05 0 2.83L4 21.41c.39.39.9.59 1.41.59.51 0 1.02-.2 1.41-.59l7.78-7.78 2.81-2.81c.8-.78.8-2.07 0-2.86zM5.41 20L4 18.59l7.72-7.72 1.47 1.35L5.41 20z\"/>\n",
              "  </svg>\n",
              "      </button>\n",
              "      \n",
              "  <style>\n",
              "    .colab-df-container {\n",
              "      display:flex;\n",
              "      flex-wrap:wrap;\n",
              "      gap: 12px;\n",
              "    }\n",
              "\n",
              "    .colab-df-convert {\n",
              "      background-color: #E8F0FE;\n",
              "      border: none;\n",
              "      border-radius: 50%;\n",
              "      cursor: pointer;\n",
              "      display: none;\n",
              "      fill: #1967D2;\n",
              "      height: 32px;\n",
              "      padding: 0 0 0 0;\n",
              "      width: 32px;\n",
              "    }\n",
              "\n",
              "    .colab-df-convert:hover {\n",
              "      background-color: #E2EBFA;\n",
              "      box-shadow: 0px 1px 2px rgba(60, 64, 67, 0.3), 0px 1px 3px 1px rgba(60, 64, 67, 0.15);\n",
              "      fill: #174EA6;\n",
              "    }\n",
              "\n",
              "    [theme=dark] .colab-df-convert {\n",
              "      background-color: #3B4455;\n",
              "      fill: #D2E3FC;\n",
              "    }\n",
              "\n",
              "    [theme=dark] .colab-df-convert:hover {\n",
              "      background-color: #434B5C;\n",
              "      box-shadow: 0px 1px 3px 1px rgba(0, 0, 0, 0.15);\n",
              "      filter: drop-shadow(0px 1px 2px rgba(0, 0, 0, 0.3));\n",
              "      fill: #FFFFFF;\n",
              "    }\n",
              "  </style>\n",
              "\n",
              "      <script>\n",
              "        const buttonEl =\n",
              "          document.querySelector('#df-34717913-ad64-452c-bef6-b17606d72b63 button.colab-df-convert');\n",
              "        buttonEl.style.display =\n",
              "          google.colab.kernel.accessAllowed ? 'block' : 'none';\n",
              "\n",
              "        async function convertToInteractive(key) {\n",
              "          const element = document.querySelector('#df-34717913-ad64-452c-bef6-b17606d72b63');\n",
              "          const dataTable =\n",
              "            await google.colab.kernel.invokeFunction('convertToInteractive',\n",
              "                                                     [key], {});\n",
              "          if (!dataTable) return;\n",
              "\n",
              "          const docLinkHtml = 'Like what you see? Visit the ' +\n",
              "            '<a target=\"_blank\" href=https://colab.research.google.com/notebooks/data_table.ipynb>data table notebook</a>'\n",
              "            + ' to learn more about interactive tables.';\n",
              "          element.innerHTML = '';\n",
              "          dataTable['output_type'] = 'display_data';\n",
              "          await google.colab.output.renderOutput(dataTable, element);\n",
              "          const docLink = document.createElement('div');\n",
              "          docLink.innerHTML = docLinkHtml;\n",
              "          element.appendChild(docLink);\n",
              "        }\n",
              "      </script>\n",
              "    </div>\n",
              "  </div>\n",
              "  "
            ]
          },
          "metadata": {},
          "execution_count": 45
        }
      ]
    },
    {
      "cell_type": "code",
      "source": [
        "filtered_bmi_df.rename(columns={\"DIABETE4\": \"Diabetes_Status\", \n",
        "                                \"_RACE\": \"Ethnicity\", \n",
        "                                \"TOLDHI3\": \"High_Cholesterol\", \n",
        "                                \"BPHIGH6\": \"High_Blood_Pressure\",\n",
        "                                \"_BMI5\": \"BMI\", \n",
        "                                \"SMOKE100\": \"Smoked_Cigarettes\",\n",
        "                                \"_RFBING5\": \"Alcohol_Use_30_Days\",\n",
        "                                \"EDUCA\": \"Education\", \n",
        "                                \"GENHLTH\": \"Gen_Health\",\n",
        "                                \"_AGEG5YR\": \"Age_Group\",\n",
        "                                \"EXERANY2\": \"Exercise_Last_30_Days\", \n",
        "                                \"FRUIT2\": \"Fruit_Consumption\", \n",
        "                                \"VEGETAB2\": \"Vegetable_Consumption\",\n",
        "                                \"_INCOMG1\": \"Income\", \n",
        "                                \"MEDCOST1\": \"Unable_to_see_doctor\",\n",
        "                                \"_SEX\": \"Gender\"}, inplace=True)"
      ],
      "metadata": {
        "colab": {
          "base_uri": "https://localhost:8080/"
        },
        "id": "3MraEs5mALkv",
        "outputId": "26f875e5-7afb-44ae-f481-66034e6d0e27"
      },
      "execution_count": 46,
      "outputs": [
        {
          "output_type": "stream",
          "name": "stderr",
          "text": [
            "<ipython-input-46-216d62f73da6>:1: SettingWithCopyWarning: \n",
            "A value is trying to be set on a copy of a slice from a DataFrame\n",
            "\n",
            "See the caveats in the documentation: https://pandas.pydata.org/pandas-docs/stable/user_guide/indexing.html#returning-a-view-versus-a-copy\n",
            "  filtered_bmi_df.rename(columns={\"DIABETE4\": \"Diabetes_Status\",\n"
          ]
        }
      ]
    },
    {
      "cell_type": "code",
      "source": [
        "filtered_bmi_df"
      ],
      "metadata": {
        "colab": {
          "base_uri": "https://localhost:8080/",
          "height": 818
        },
        "id": "IP4EU5s2Dyrc",
        "outputId": "6b4a9dba-bcdb-424a-9655-1d0a65cd48d5"
      },
      "execution_count": 47,
      "outputs": [
        {
          "output_type": "execute_result",
          "data": {
            "text/plain": [
              "       Diabetes_Status    Ethnicity High_Cholesterol High_Blood_Pressure  \\\n",
              "0                   No        White              Yes                  No   \n",
              "2                  Yes        Black               No                 Yes   \n",
              "3                  Yes        White              Yes                 Yes   \n",
              "4                  Yes  Multiracial              Yes                  No   \n",
              "5                   No        White               No                  No   \n",
              "...                ...          ...              ...                 ...   \n",
              "438685              No        Black              Yes                 Yes   \n",
              "438686              No        Black               No                  No   \n",
              "438687             Yes     Hispanic              Yes                 Yes   \n",
              "438690              No        Black              Yes                  No   \n",
              "438692              No        Black              Yes                  No   \n",
              "\n",
              "          BMI Smoked_Cigarettes Alcohol_Use_30_Days         Education  \\\n",
              "0       14.54               Yes                 Yes  High School Grad   \n",
              "2       28.29                No                 Yes  High School Grad   \n",
              "3       33.47                No                  No  High School Grad   \n",
              "4       28.73                No                 Yes  Some High School   \n",
              "5       24.37               Yes                 Yes      Some College   \n",
              "...       ...               ...                 ...               ...   \n",
              "438685  20.98                No                 Yes  High School Grad   \n",
              "438686  29.05                No                 Yes      College Grad   \n",
              "438687  21.48                No                  No        Elementary   \n",
              "438690  30.68                No                 Yes      College Grad   \n",
              "438692  31.71                No                 Yes      College Grad   \n",
              "\n",
              "       Gen_Health        Age_Group Exercise_Last_30_Days Fruit_Consumption  \\\n",
              "0            Poor    Age 70 to 74                     No               Yes   \n",
              "2       Very Good    Age 70 to 74                     No               Yes   \n",
              "3       Very Good    Age 60 to 64                    Yes               Yes   \n",
              "4            Poor     Age 75 to 79                   Yes               Yes   \n",
              "5            Good  Age 80 or older                    No               Yes   \n",
              "...           ...              ...                   ...               ...   \n",
              "438685       Good    Age 55 to 59                    Yes               Yes   \n",
              "438686  Very Good    Age 25 to 29                    Yes               Yes   \n",
              "438687       Fair    Age 65 to 69                    Yes               Yes   \n",
              "438690  Very Good     Age 50 to 54                   Yes               Yes   \n",
              "438692  Excellent     Age 45 to 49                   Yes               Yes   \n",
              "\n",
              "       Vegetable_Consumption                  Income Unable_to_see_doctor  \\\n",
              "0                        Yes    $25,000 to < $35,000                   No   \n",
              "2                        Yes    $15,000 to < $25,000                   No   \n",
              "3                        Yes   $50,000 to < $100,000                   No   \n",
              "4                        Yes    $15,000 to < $25,000                   No   \n",
              "5                        Yes    $35,000 to < $50,000                   No   \n",
              "...                      ...                     ...                  ...   \n",
              "438685                   Yes    $25,000 to < $35,000                   No   \n",
              "438686                   Yes              > $200,000                   No   \n",
              "438687                   Yes    $15,000 to < $25,000                   No   \n",
              "438690                   Yes  $100,000 to < $200,000                   No   \n",
              "438692                   Yes    $35,000 to < $50,000                   No   \n",
              "\n",
              "        Gender  \n",
              "0       Female  \n",
              "2       Female  \n",
              "3       Female  \n",
              "4         Male  \n",
              "5         Male  \n",
              "...        ...  \n",
              "438685    Male  \n",
              "438686    Male  \n",
              "438687    Male  \n",
              "438690    Male  \n",
              "438692  Female  \n",
              "\n",
              "[242802 rows x 16 columns]"
            ],
            "text/html": [
              "\n",
              "  <div id=\"df-5274c2be-bf76-48f9-9fbf-555ee29169fb\">\n",
              "    <div class=\"colab-df-container\">\n",
              "      <div>\n",
              "<style scoped>\n",
              "    .dataframe tbody tr th:only-of-type {\n",
              "        vertical-align: middle;\n",
              "    }\n",
              "\n",
              "    .dataframe tbody tr th {\n",
              "        vertical-align: top;\n",
              "    }\n",
              "\n",
              "    .dataframe thead th {\n",
              "        text-align: right;\n",
              "    }\n",
              "</style>\n",
              "<table border=\"1\" class=\"dataframe\">\n",
              "  <thead>\n",
              "    <tr style=\"text-align: right;\">\n",
              "      <th></th>\n",
              "      <th>Diabetes_Status</th>\n",
              "      <th>Ethnicity</th>\n",
              "      <th>High_Cholesterol</th>\n",
              "      <th>High_Blood_Pressure</th>\n",
              "      <th>BMI</th>\n",
              "      <th>Smoked_Cigarettes</th>\n",
              "      <th>Alcohol_Use_30_Days</th>\n",
              "      <th>Education</th>\n",
              "      <th>Gen_Health</th>\n",
              "      <th>Age_Group</th>\n",
              "      <th>Exercise_Last_30_Days</th>\n",
              "      <th>Fruit_Consumption</th>\n",
              "      <th>Vegetable_Consumption</th>\n",
              "      <th>Income</th>\n",
              "      <th>Unable_to_see_doctor</th>\n",
              "      <th>Gender</th>\n",
              "    </tr>\n",
              "  </thead>\n",
              "  <tbody>\n",
              "    <tr>\n",
              "      <th>0</th>\n",
              "      <td>No</td>\n",
              "      <td>White</td>\n",
              "      <td>Yes</td>\n",
              "      <td>No</td>\n",
              "      <td>14.54</td>\n",
              "      <td>Yes</td>\n",
              "      <td>Yes</td>\n",
              "      <td>High School Grad</td>\n",
              "      <td>Poor</td>\n",
              "      <td>Age 70 to 74</td>\n",
              "      <td>No</td>\n",
              "      <td>Yes</td>\n",
              "      <td>Yes</td>\n",
              "      <td>$25,000 to &lt; $35,000</td>\n",
              "      <td>No</td>\n",
              "      <td>Female</td>\n",
              "    </tr>\n",
              "    <tr>\n",
              "      <th>2</th>\n",
              "      <td>Yes</td>\n",
              "      <td>Black</td>\n",
              "      <td>No</td>\n",
              "      <td>Yes</td>\n",
              "      <td>28.29</td>\n",
              "      <td>No</td>\n",
              "      <td>Yes</td>\n",
              "      <td>High School Grad</td>\n",
              "      <td>Very Good</td>\n",
              "      <td>Age 70 to 74</td>\n",
              "      <td>No</td>\n",
              "      <td>Yes</td>\n",
              "      <td>Yes</td>\n",
              "      <td>$15,000 to &lt; $25,000</td>\n",
              "      <td>No</td>\n",
              "      <td>Female</td>\n",
              "    </tr>\n",
              "    <tr>\n",
              "      <th>3</th>\n",
              "      <td>Yes</td>\n",
              "      <td>White</td>\n",
              "      <td>Yes</td>\n",
              "      <td>Yes</td>\n",
              "      <td>33.47</td>\n",
              "      <td>No</td>\n",
              "      <td>No</td>\n",
              "      <td>High School Grad</td>\n",
              "      <td>Very Good</td>\n",
              "      <td>Age 60 to 64</td>\n",
              "      <td>Yes</td>\n",
              "      <td>Yes</td>\n",
              "      <td>Yes</td>\n",
              "      <td>$50,000 to &lt; $100,000</td>\n",
              "      <td>No</td>\n",
              "      <td>Female</td>\n",
              "    </tr>\n",
              "    <tr>\n",
              "      <th>4</th>\n",
              "      <td>Yes</td>\n",
              "      <td>Multiracial</td>\n",
              "      <td>Yes</td>\n",
              "      <td>No</td>\n",
              "      <td>28.73</td>\n",
              "      <td>No</td>\n",
              "      <td>Yes</td>\n",
              "      <td>Some High School</td>\n",
              "      <td>Poor</td>\n",
              "      <td>Age 75 to 79</td>\n",
              "      <td>Yes</td>\n",
              "      <td>Yes</td>\n",
              "      <td>Yes</td>\n",
              "      <td>$15,000 to &lt; $25,000</td>\n",
              "      <td>No</td>\n",
              "      <td>Male</td>\n",
              "    </tr>\n",
              "    <tr>\n",
              "      <th>5</th>\n",
              "      <td>No</td>\n",
              "      <td>White</td>\n",
              "      <td>No</td>\n",
              "      <td>No</td>\n",
              "      <td>24.37</td>\n",
              "      <td>Yes</td>\n",
              "      <td>Yes</td>\n",
              "      <td>Some College</td>\n",
              "      <td>Good</td>\n",
              "      <td>Age 80 or older</td>\n",
              "      <td>No</td>\n",
              "      <td>Yes</td>\n",
              "      <td>Yes</td>\n",
              "      <td>$35,000 to &lt; $50,000</td>\n",
              "      <td>No</td>\n",
              "      <td>Male</td>\n",
              "    </tr>\n",
              "    <tr>\n",
              "      <th>...</th>\n",
              "      <td>...</td>\n",
              "      <td>...</td>\n",
              "      <td>...</td>\n",
              "      <td>...</td>\n",
              "      <td>...</td>\n",
              "      <td>...</td>\n",
              "      <td>...</td>\n",
              "      <td>...</td>\n",
              "      <td>...</td>\n",
              "      <td>...</td>\n",
              "      <td>...</td>\n",
              "      <td>...</td>\n",
              "      <td>...</td>\n",
              "      <td>...</td>\n",
              "      <td>...</td>\n",
              "      <td>...</td>\n",
              "    </tr>\n",
              "    <tr>\n",
              "      <th>438685</th>\n",
              "      <td>No</td>\n",
              "      <td>Black</td>\n",
              "      <td>Yes</td>\n",
              "      <td>Yes</td>\n",
              "      <td>20.98</td>\n",
              "      <td>No</td>\n",
              "      <td>Yes</td>\n",
              "      <td>High School Grad</td>\n",
              "      <td>Good</td>\n",
              "      <td>Age 55 to 59</td>\n",
              "      <td>Yes</td>\n",
              "      <td>Yes</td>\n",
              "      <td>Yes</td>\n",
              "      <td>$25,000 to &lt; $35,000</td>\n",
              "      <td>No</td>\n",
              "      <td>Male</td>\n",
              "    </tr>\n",
              "    <tr>\n",
              "      <th>438686</th>\n",
              "      <td>No</td>\n",
              "      <td>Black</td>\n",
              "      <td>No</td>\n",
              "      <td>No</td>\n",
              "      <td>29.05</td>\n",
              "      <td>No</td>\n",
              "      <td>Yes</td>\n",
              "      <td>College Grad</td>\n",
              "      <td>Very Good</td>\n",
              "      <td>Age 25 to 29</td>\n",
              "      <td>Yes</td>\n",
              "      <td>Yes</td>\n",
              "      <td>Yes</td>\n",
              "      <td>&gt; $200,000</td>\n",
              "      <td>No</td>\n",
              "      <td>Male</td>\n",
              "    </tr>\n",
              "    <tr>\n",
              "      <th>438687</th>\n",
              "      <td>Yes</td>\n",
              "      <td>Hispanic</td>\n",
              "      <td>Yes</td>\n",
              "      <td>Yes</td>\n",
              "      <td>21.48</td>\n",
              "      <td>No</td>\n",
              "      <td>No</td>\n",
              "      <td>Elementary</td>\n",
              "      <td>Fair</td>\n",
              "      <td>Age 65 to 69</td>\n",
              "      <td>Yes</td>\n",
              "      <td>Yes</td>\n",
              "      <td>Yes</td>\n",
              "      <td>$15,000 to &lt; $25,000</td>\n",
              "      <td>No</td>\n",
              "      <td>Male</td>\n",
              "    </tr>\n",
              "    <tr>\n",
              "      <th>438690</th>\n",
              "      <td>No</td>\n",
              "      <td>Black</td>\n",
              "      <td>Yes</td>\n",
              "      <td>No</td>\n",
              "      <td>30.68</td>\n",
              "      <td>No</td>\n",
              "      <td>Yes</td>\n",
              "      <td>College Grad</td>\n",
              "      <td>Very Good</td>\n",
              "      <td>Age 50 to 54</td>\n",
              "      <td>Yes</td>\n",
              "      <td>Yes</td>\n",
              "      <td>Yes</td>\n",
              "      <td>$100,000 to &lt; $200,000</td>\n",
              "      <td>No</td>\n",
              "      <td>Male</td>\n",
              "    </tr>\n",
              "    <tr>\n",
              "      <th>438692</th>\n",
              "      <td>No</td>\n",
              "      <td>Black</td>\n",
              "      <td>Yes</td>\n",
              "      <td>No</td>\n",
              "      <td>31.71</td>\n",
              "      <td>No</td>\n",
              "      <td>Yes</td>\n",
              "      <td>College Grad</td>\n",
              "      <td>Excellent</td>\n",
              "      <td>Age 45 to 49</td>\n",
              "      <td>Yes</td>\n",
              "      <td>Yes</td>\n",
              "      <td>Yes</td>\n",
              "      <td>$35,000 to &lt; $50,000</td>\n",
              "      <td>No</td>\n",
              "      <td>Female</td>\n",
              "    </tr>\n",
              "  </tbody>\n",
              "</table>\n",
              "<p>242802 rows × 16 columns</p>\n",
              "</div>\n",
              "      <button class=\"colab-df-convert\" onclick=\"convertToInteractive('df-5274c2be-bf76-48f9-9fbf-555ee29169fb')\"\n",
              "              title=\"Convert this dataframe to an interactive table.\"\n",
              "              style=\"display:none;\">\n",
              "        \n",
              "  <svg xmlns=\"http://www.w3.org/2000/svg\" height=\"24px\"viewBox=\"0 0 24 24\"\n",
              "       width=\"24px\">\n",
              "    <path d=\"M0 0h24v24H0V0z\" fill=\"none\"/>\n",
              "    <path d=\"M18.56 5.44l.94 2.06.94-2.06 2.06-.94-2.06-.94-.94-2.06-.94 2.06-2.06.94zm-11 1L8.5 8.5l.94-2.06 2.06-.94-2.06-.94L8.5 2.5l-.94 2.06-2.06.94zm10 10l.94 2.06.94-2.06 2.06-.94-2.06-.94-.94-2.06-.94 2.06-2.06.94z\"/><path d=\"M17.41 7.96l-1.37-1.37c-.4-.4-.92-.59-1.43-.59-.52 0-1.04.2-1.43.59L10.3 9.45l-7.72 7.72c-.78.78-.78 2.05 0 2.83L4 21.41c.39.39.9.59 1.41.59.51 0 1.02-.2 1.41-.59l7.78-7.78 2.81-2.81c.8-.78.8-2.07 0-2.86zM5.41 20L4 18.59l7.72-7.72 1.47 1.35L5.41 20z\"/>\n",
              "  </svg>\n",
              "      </button>\n",
              "      \n",
              "  <style>\n",
              "    .colab-df-container {\n",
              "      display:flex;\n",
              "      flex-wrap:wrap;\n",
              "      gap: 12px;\n",
              "    }\n",
              "\n",
              "    .colab-df-convert {\n",
              "      background-color: #E8F0FE;\n",
              "      border: none;\n",
              "      border-radius: 50%;\n",
              "      cursor: pointer;\n",
              "      display: none;\n",
              "      fill: #1967D2;\n",
              "      height: 32px;\n",
              "      padding: 0 0 0 0;\n",
              "      width: 32px;\n",
              "    }\n",
              "\n",
              "    .colab-df-convert:hover {\n",
              "      background-color: #E2EBFA;\n",
              "      box-shadow: 0px 1px 2px rgba(60, 64, 67, 0.3), 0px 1px 3px 1px rgba(60, 64, 67, 0.15);\n",
              "      fill: #174EA6;\n",
              "    }\n",
              "\n",
              "    [theme=dark] .colab-df-convert {\n",
              "      background-color: #3B4455;\n",
              "      fill: #D2E3FC;\n",
              "    }\n",
              "\n",
              "    [theme=dark] .colab-df-convert:hover {\n",
              "      background-color: #434B5C;\n",
              "      box-shadow: 0px 1px 3px 1px rgba(0, 0, 0, 0.15);\n",
              "      filter: drop-shadow(0px 1px 2px rgba(0, 0, 0, 0.3));\n",
              "      fill: #FFFFFF;\n",
              "    }\n",
              "  </style>\n",
              "\n",
              "      <script>\n",
              "        const buttonEl =\n",
              "          document.querySelector('#df-5274c2be-bf76-48f9-9fbf-555ee29169fb button.colab-df-convert');\n",
              "        buttonEl.style.display =\n",
              "          google.colab.kernel.accessAllowed ? 'block' : 'none';\n",
              "\n",
              "        async function convertToInteractive(key) {\n",
              "          const element = document.querySelector('#df-5274c2be-bf76-48f9-9fbf-555ee29169fb');\n",
              "          const dataTable =\n",
              "            await google.colab.kernel.invokeFunction('convertToInteractive',\n",
              "                                                     [key], {});\n",
              "          if (!dataTable) return;\n",
              "\n",
              "          const docLinkHtml = 'Like what you see? Visit the ' +\n",
              "            '<a target=\"_blank\" href=https://colab.research.google.com/notebooks/data_table.ipynb>data table notebook</a>'\n",
              "            + ' to learn more about interactive tables.';\n",
              "          element.innerHTML = '';\n",
              "          dataTable['output_type'] = 'display_data';\n",
              "          await google.colab.output.renderOutput(dataTable, element);\n",
              "          const docLink = document.createElement('div');\n",
              "          docLink.innerHTML = docLinkHtml;\n",
              "          element.appendChild(docLink);\n",
              "        }\n",
              "      </script>\n",
              "    </div>\n",
              "  </div>\n",
              "  "
            ]
          },
          "metadata": {},
          "execution_count": 47
        }
      ]
    },
    {
      "cell_type": "code",
      "source": [
        "# check summary statistics\n",
        "filtered_bmi_df.describe()"
      ],
      "metadata": {
        "colab": {
          "base_uri": "https://localhost:8080/",
          "height": 300
        },
        "id": "66qoEEvUyk3W",
        "outputId": "fad4ce48-146b-446c-8adf-800a05b09f40"
      },
      "execution_count": 48,
      "outputs": [
        {
          "output_type": "execute_result",
          "data": {
            "text/plain": [
              "                 BMI\n",
              "count  242802.000000\n",
              "mean       28.324162\n",
              "std         5.420467\n",
              "min        12.750000\n",
              "25%        24.390000\n",
              "50%        27.480000\n",
              "75%        31.640000\n",
              "max        43.850000"
            ],
            "text/html": [
              "\n",
              "  <div id=\"df-bd4d003b-e487-4a4c-8832-48826d0e87c5\">\n",
              "    <div class=\"colab-df-container\">\n",
              "      <div>\n",
              "<style scoped>\n",
              "    .dataframe tbody tr th:only-of-type {\n",
              "        vertical-align: middle;\n",
              "    }\n",
              "\n",
              "    .dataframe tbody tr th {\n",
              "        vertical-align: top;\n",
              "    }\n",
              "\n",
              "    .dataframe thead th {\n",
              "        text-align: right;\n",
              "    }\n",
              "</style>\n",
              "<table border=\"1\" class=\"dataframe\">\n",
              "  <thead>\n",
              "    <tr style=\"text-align: right;\">\n",
              "      <th></th>\n",
              "      <th>BMI</th>\n",
              "    </tr>\n",
              "  </thead>\n",
              "  <tbody>\n",
              "    <tr>\n",
              "      <th>count</th>\n",
              "      <td>242802.000000</td>\n",
              "    </tr>\n",
              "    <tr>\n",
              "      <th>mean</th>\n",
              "      <td>28.324162</td>\n",
              "    </tr>\n",
              "    <tr>\n",
              "      <th>std</th>\n",
              "      <td>5.420467</td>\n",
              "    </tr>\n",
              "    <tr>\n",
              "      <th>min</th>\n",
              "      <td>12.750000</td>\n",
              "    </tr>\n",
              "    <tr>\n",
              "      <th>25%</th>\n",
              "      <td>24.390000</td>\n",
              "    </tr>\n",
              "    <tr>\n",
              "      <th>50%</th>\n",
              "      <td>27.480000</td>\n",
              "    </tr>\n",
              "    <tr>\n",
              "      <th>75%</th>\n",
              "      <td>31.640000</td>\n",
              "    </tr>\n",
              "    <tr>\n",
              "      <th>max</th>\n",
              "      <td>43.850000</td>\n",
              "    </tr>\n",
              "  </tbody>\n",
              "</table>\n",
              "</div>\n",
              "      <button class=\"colab-df-convert\" onclick=\"convertToInteractive('df-bd4d003b-e487-4a4c-8832-48826d0e87c5')\"\n",
              "              title=\"Convert this dataframe to an interactive table.\"\n",
              "              style=\"display:none;\">\n",
              "        \n",
              "  <svg xmlns=\"http://www.w3.org/2000/svg\" height=\"24px\"viewBox=\"0 0 24 24\"\n",
              "       width=\"24px\">\n",
              "    <path d=\"M0 0h24v24H0V0z\" fill=\"none\"/>\n",
              "    <path d=\"M18.56 5.44l.94 2.06.94-2.06 2.06-.94-2.06-.94-.94-2.06-.94 2.06-2.06.94zm-11 1L8.5 8.5l.94-2.06 2.06-.94-2.06-.94L8.5 2.5l-.94 2.06-2.06.94zm10 10l.94 2.06.94-2.06 2.06-.94-2.06-.94-.94-2.06-.94 2.06-2.06.94z\"/><path d=\"M17.41 7.96l-1.37-1.37c-.4-.4-.92-.59-1.43-.59-.52 0-1.04.2-1.43.59L10.3 9.45l-7.72 7.72c-.78.78-.78 2.05 0 2.83L4 21.41c.39.39.9.59 1.41.59.51 0 1.02-.2 1.41-.59l7.78-7.78 2.81-2.81c.8-.78.8-2.07 0-2.86zM5.41 20L4 18.59l7.72-7.72 1.47 1.35L5.41 20z\"/>\n",
              "  </svg>\n",
              "      </button>\n",
              "      \n",
              "  <style>\n",
              "    .colab-df-container {\n",
              "      display:flex;\n",
              "      flex-wrap:wrap;\n",
              "      gap: 12px;\n",
              "    }\n",
              "\n",
              "    .colab-df-convert {\n",
              "      background-color: #E8F0FE;\n",
              "      border: none;\n",
              "      border-radius: 50%;\n",
              "      cursor: pointer;\n",
              "      display: none;\n",
              "      fill: #1967D2;\n",
              "      height: 32px;\n",
              "      padding: 0 0 0 0;\n",
              "      width: 32px;\n",
              "    }\n",
              "\n",
              "    .colab-df-convert:hover {\n",
              "      background-color: #E2EBFA;\n",
              "      box-shadow: 0px 1px 2px rgba(60, 64, 67, 0.3), 0px 1px 3px 1px rgba(60, 64, 67, 0.15);\n",
              "      fill: #174EA6;\n",
              "    }\n",
              "\n",
              "    [theme=dark] .colab-df-convert {\n",
              "      background-color: #3B4455;\n",
              "      fill: #D2E3FC;\n",
              "    }\n",
              "\n",
              "    [theme=dark] .colab-df-convert:hover {\n",
              "      background-color: #434B5C;\n",
              "      box-shadow: 0px 1px 3px 1px rgba(0, 0, 0, 0.15);\n",
              "      filter: drop-shadow(0px 1px 2px rgba(0, 0, 0, 0.3));\n",
              "      fill: #FFFFFF;\n",
              "    }\n",
              "  </style>\n",
              "\n",
              "      <script>\n",
              "        const buttonEl =\n",
              "          document.querySelector('#df-bd4d003b-e487-4a4c-8832-48826d0e87c5 button.colab-df-convert');\n",
              "        buttonEl.style.display =\n",
              "          google.colab.kernel.accessAllowed ? 'block' : 'none';\n",
              "\n",
              "        async function convertToInteractive(key) {\n",
              "          const element = document.querySelector('#df-bd4d003b-e487-4a4c-8832-48826d0e87c5');\n",
              "          const dataTable =\n",
              "            await google.colab.kernel.invokeFunction('convertToInteractive',\n",
              "                                                     [key], {});\n",
              "          if (!dataTable) return;\n",
              "\n",
              "          const docLinkHtml = 'Like what you see? Visit the ' +\n",
              "            '<a target=\"_blank\" href=https://colab.research.google.com/notebooks/data_table.ipynb>data table notebook</a>'\n",
              "            + ' to learn more about interactive tables.';\n",
              "          element.innerHTML = '';\n",
              "          dataTable['output_type'] = 'display_data';\n",
              "          await google.colab.output.renderOutput(dataTable, element);\n",
              "          const docLink = document.createElement('div');\n",
              "          docLink.innerHTML = docLinkHtml;\n",
              "          element.appendChild(docLink);\n",
              "        }\n",
              "      </script>\n",
              "    </div>\n",
              "  </div>\n",
              "  "
            ]
          },
          "metadata": {},
          "execution_count": 48
        }
      ]
    },
    {
      "cell_type": "code",
      "source": [
        "filtered_bmi_df.dtypes"
      ],
      "metadata": {
        "colab": {
          "base_uri": "https://localhost:8080/"
        },
        "id": "Y3KgqYEd9dYE",
        "outputId": "06698ff2-4542-4555-fe6d-f977bf606c14"
      },
      "execution_count": 49,
      "outputs": [
        {
          "output_type": "execute_result",
          "data": {
            "text/plain": [
              "Diabetes_Status           object\n",
              "Ethnicity                 object\n",
              "High_Cholesterol          object\n",
              "High_Blood_Pressure       object\n",
              "BMI                      float64\n",
              "Smoked_Cigarettes         object\n",
              "Alcohol_Use_30_Days       object\n",
              "Education                 object\n",
              "Gen_Health                object\n",
              "Age_Group                 object\n",
              "Exercise_Last_30_Days     object\n",
              "Fruit_Consumption         object\n",
              "Vegetable_Consumption     object\n",
              "Income                    object\n",
              "Unable_to_see_doctor      object\n",
              "Gender                    object\n",
              "dtype: object"
            ]
          },
          "metadata": {},
          "execution_count": 49
        }
      ]
    },
    {
      "cell_type": "code",
      "source": [
        "# Create second dataframe\n",
        "visualization_df = filtered_bmi_df.drop(['Alcohol_Use_30_Days', 'Education', 'Gen_Health', 'Exercise_Last_30_Days', 'Fruit_Consumption', 'Vegetable_Consumption', 'Unable_to_see_doctor'], 1)\n"
      ],
      "metadata": {
        "colab": {
          "base_uri": "https://localhost:8080/"
        },
        "id": "PfrwpLtS6vND",
        "outputId": "16589e14-4e15-46f7-8936-ef4eee332d0c"
      },
      "execution_count": 56,
      "outputs": [
        {
          "output_type": "stream",
          "name": "stderr",
          "text": [
            "<ipython-input-56-98a5dedead0d>:2: FutureWarning: In a future version of pandas all arguments of DataFrame.drop except for the argument 'labels' will be keyword-only.\n",
            "  visualization_df = filtered_bmi_df.drop(['Alcohol_Use_30_Days', 'Education', 'Gen_Health', 'Exercise_Last_30_Days', 'Fruit_Consumption', 'Vegetable_Consumption', 'Unable_to_see_doctor'], 1)\n"
          ]
        }
      ]
    },
    {
      "cell_type": "code",
      "source": [
        "visualization_df.head()"
      ],
      "metadata": {
        "colab": {
          "base_uri": "https://localhost:8080/",
          "height": 206
        },
        "id": "862bfjaZOmyl",
        "outputId": "ecc622ec-9d72-44cc-fe20-032c068ecdbb"
      },
      "execution_count": 57,
      "outputs": [
        {
          "output_type": "execute_result",
          "data": {
            "text/plain": [
              "  Diabetes_Status    Ethnicity High_Cholesterol High_Blood_Pressure    BMI  \\\n",
              "0              No        White              Yes                  No  14.54   \n",
              "2             Yes        Black               No                 Yes  28.29   \n",
              "3             Yes        White              Yes                 Yes  33.47   \n",
              "4             Yes  Multiracial              Yes                  No  28.73   \n",
              "5              No        White               No                  No  24.37   \n",
              "\n",
              "  Smoked_Cigarettes        Age_Group                 Income  Gender  \n",
              "0               Yes    Age 70 to 74    $25,000 to < $35,000  Female  \n",
              "2                No    Age 70 to 74    $15,000 to < $25,000  Female  \n",
              "3                No    Age 60 to 64   $50,000 to < $100,000  Female  \n",
              "4                No     Age 75 to 79   $15,000 to < $25,000    Male  \n",
              "5               Yes  Age 80 or older   $35,000 to < $50,000    Male  "
            ],
            "text/html": [
              "\n",
              "  <div id=\"df-86ee660e-7397-4b32-bc67-c289d37f58d0\">\n",
              "    <div class=\"colab-df-container\">\n",
              "      <div>\n",
              "<style scoped>\n",
              "    .dataframe tbody tr th:only-of-type {\n",
              "        vertical-align: middle;\n",
              "    }\n",
              "\n",
              "    .dataframe tbody tr th {\n",
              "        vertical-align: top;\n",
              "    }\n",
              "\n",
              "    .dataframe thead th {\n",
              "        text-align: right;\n",
              "    }\n",
              "</style>\n",
              "<table border=\"1\" class=\"dataframe\">\n",
              "  <thead>\n",
              "    <tr style=\"text-align: right;\">\n",
              "      <th></th>\n",
              "      <th>Diabetes_Status</th>\n",
              "      <th>Ethnicity</th>\n",
              "      <th>High_Cholesterol</th>\n",
              "      <th>High_Blood_Pressure</th>\n",
              "      <th>BMI</th>\n",
              "      <th>Smoked_Cigarettes</th>\n",
              "      <th>Age_Group</th>\n",
              "      <th>Income</th>\n",
              "      <th>Gender</th>\n",
              "    </tr>\n",
              "  </thead>\n",
              "  <tbody>\n",
              "    <tr>\n",
              "      <th>0</th>\n",
              "      <td>No</td>\n",
              "      <td>White</td>\n",
              "      <td>Yes</td>\n",
              "      <td>No</td>\n",
              "      <td>14.54</td>\n",
              "      <td>Yes</td>\n",
              "      <td>Age 70 to 74</td>\n",
              "      <td>$25,000 to &lt; $35,000</td>\n",
              "      <td>Female</td>\n",
              "    </tr>\n",
              "    <tr>\n",
              "      <th>2</th>\n",
              "      <td>Yes</td>\n",
              "      <td>Black</td>\n",
              "      <td>No</td>\n",
              "      <td>Yes</td>\n",
              "      <td>28.29</td>\n",
              "      <td>No</td>\n",
              "      <td>Age 70 to 74</td>\n",
              "      <td>$15,000 to &lt; $25,000</td>\n",
              "      <td>Female</td>\n",
              "    </tr>\n",
              "    <tr>\n",
              "      <th>3</th>\n",
              "      <td>Yes</td>\n",
              "      <td>White</td>\n",
              "      <td>Yes</td>\n",
              "      <td>Yes</td>\n",
              "      <td>33.47</td>\n",
              "      <td>No</td>\n",
              "      <td>Age 60 to 64</td>\n",
              "      <td>$50,000 to &lt; $100,000</td>\n",
              "      <td>Female</td>\n",
              "    </tr>\n",
              "    <tr>\n",
              "      <th>4</th>\n",
              "      <td>Yes</td>\n",
              "      <td>Multiracial</td>\n",
              "      <td>Yes</td>\n",
              "      <td>No</td>\n",
              "      <td>28.73</td>\n",
              "      <td>No</td>\n",
              "      <td>Age 75 to 79</td>\n",
              "      <td>$15,000 to &lt; $25,000</td>\n",
              "      <td>Male</td>\n",
              "    </tr>\n",
              "    <tr>\n",
              "      <th>5</th>\n",
              "      <td>No</td>\n",
              "      <td>White</td>\n",
              "      <td>No</td>\n",
              "      <td>No</td>\n",
              "      <td>24.37</td>\n",
              "      <td>Yes</td>\n",
              "      <td>Age 80 or older</td>\n",
              "      <td>$35,000 to &lt; $50,000</td>\n",
              "      <td>Male</td>\n",
              "    </tr>\n",
              "  </tbody>\n",
              "</table>\n",
              "</div>\n",
              "      <button class=\"colab-df-convert\" onclick=\"convertToInteractive('df-86ee660e-7397-4b32-bc67-c289d37f58d0')\"\n",
              "              title=\"Convert this dataframe to an interactive table.\"\n",
              "              style=\"display:none;\">\n",
              "        \n",
              "  <svg xmlns=\"http://www.w3.org/2000/svg\" height=\"24px\"viewBox=\"0 0 24 24\"\n",
              "       width=\"24px\">\n",
              "    <path d=\"M0 0h24v24H0V0z\" fill=\"none\"/>\n",
              "    <path d=\"M18.56 5.44l.94 2.06.94-2.06 2.06-.94-2.06-.94-.94-2.06-.94 2.06-2.06.94zm-11 1L8.5 8.5l.94-2.06 2.06-.94-2.06-.94L8.5 2.5l-.94 2.06-2.06.94zm10 10l.94 2.06.94-2.06 2.06-.94-2.06-.94-.94-2.06-.94 2.06-2.06.94z\"/><path d=\"M17.41 7.96l-1.37-1.37c-.4-.4-.92-.59-1.43-.59-.52 0-1.04.2-1.43.59L10.3 9.45l-7.72 7.72c-.78.78-.78 2.05 0 2.83L4 21.41c.39.39.9.59 1.41.59.51 0 1.02-.2 1.41-.59l7.78-7.78 2.81-2.81c.8-.78.8-2.07 0-2.86zM5.41 20L4 18.59l7.72-7.72 1.47 1.35L5.41 20z\"/>\n",
              "  </svg>\n",
              "      </button>\n",
              "      \n",
              "  <style>\n",
              "    .colab-df-container {\n",
              "      display:flex;\n",
              "      flex-wrap:wrap;\n",
              "      gap: 12px;\n",
              "    }\n",
              "\n",
              "    .colab-df-convert {\n",
              "      background-color: #E8F0FE;\n",
              "      border: none;\n",
              "      border-radius: 50%;\n",
              "      cursor: pointer;\n",
              "      display: none;\n",
              "      fill: #1967D2;\n",
              "      height: 32px;\n",
              "      padding: 0 0 0 0;\n",
              "      width: 32px;\n",
              "    }\n",
              "\n",
              "    .colab-df-convert:hover {\n",
              "      background-color: #E2EBFA;\n",
              "      box-shadow: 0px 1px 2px rgba(60, 64, 67, 0.3), 0px 1px 3px 1px rgba(60, 64, 67, 0.15);\n",
              "      fill: #174EA6;\n",
              "    }\n",
              "\n",
              "    [theme=dark] .colab-df-convert {\n",
              "      background-color: #3B4455;\n",
              "      fill: #D2E3FC;\n",
              "    }\n",
              "\n",
              "    [theme=dark] .colab-df-convert:hover {\n",
              "      background-color: #434B5C;\n",
              "      box-shadow: 0px 1px 3px 1px rgba(0, 0, 0, 0.15);\n",
              "      filter: drop-shadow(0px 1px 2px rgba(0, 0, 0, 0.3));\n",
              "      fill: #FFFFFF;\n",
              "    }\n",
              "  </style>\n",
              "\n",
              "      <script>\n",
              "        const buttonEl =\n",
              "          document.querySelector('#df-86ee660e-7397-4b32-bc67-c289d37f58d0 button.colab-df-convert');\n",
              "        buttonEl.style.display =\n",
              "          google.colab.kernel.accessAllowed ? 'block' : 'none';\n",
              "\n",
              "        async function convertToInteractive(key) {\n",
              "          const element = document.querySelector('#df-86ee660e-7397-4b32-bc67-c289d37f58d0');\n",
              "          const dataTable =\n",
              "            await google.colab.kernel.invokeFunction('convertToInteractive',\n",
              "                                                     [key], {});\n",
              "          if (!dataTable) return;\n",
              "\n",
              "          const docLinkHtml = 'Like what you see? Visit the ' +\n",
              "            '<a target=\"_blank\" href=https://colab.research.google.com/notebooks/data_table.ipynb>data table notebook</a>'\n",
              "            + ' to learn more about interactive tables.';\n",
              "          element.innerHTML = '';\n",
              "          dataTable['output_type'] = 'display_data';\n",
              "          await google.colab.output.renderOutput(dataTable, element);\n",
              "          const docLink = document.createElement('div');\n",
              "          docLink.innerHTML = docLinkHtml;\n",
              "          element.appendChild(docLink);\n",
              "        }\n",
              "      </script>\n",
              "    </div>\n",
              "  </div>\n",
              "  "
            ]
          },
          "metadata": {},
          "execution_count": 57
        }
      ]
    },
    {
      "cell_type": "code",
      "source": [
        "# convert dataframes to pyspark to load into AWS\n",
        "filtered_bmi_df_py = spark.createDataFrame(filtered_bmi_df)\n",
        "visualization_df_py = spark.createDataFrame(visualization_df)"
      ],
      "metadata": {
        "colab": {
          "base_uri": "https://localhost:8080/"
        },
        "id": "2MEWvKU2JYN_",
        "outputId": "94ce2127-7ecc-4a16-c6b4-8ae4e613693a"
      },
      "execution_count": 58,
      "outputs": [
        {
          "output_type": "stream",
          "name": "stderr",
          "text": [
            "/content/spark-3.2.3-bin-hadoop2.7/python/pyspark/sql/pandas/conversion.py:371: FutureWarning: iteritems is deprecated and will be removed in a future version. Use .items instead.\n",
            "  for column, series in pdf.iteritems():\n"
          ]
        }
      ]
    },
    {
      "cell_type": "code",
      "source": [
        "# Configure settings for RDS\n",
        "#from getpass import getpass\n",
        "mode = \"append\"\n",
        "jdbc_url='jdbc:postgresql://database-2.ch7jmx5vb0uq.us-east-2.rds.amazonaws.com:5432/team_final_project'\n",
        "config = {\"user\":\"postgres\",\n",
        "          \"password\": \"Quizab56()\",\n",
        "          \"driver\":\"org.postgresql.Driver\"}"
      ],
      "metadata": {
        "id": "8HetbVzx7TIt"
      },
      "execution_count": 59,
      "outputs": []
    },
    {
      "cell_type": "code",
      "source": [
        "# Write review_id_df to table in RDS\n",
        "filtered_bmi_df_py.write.jdbc(url=jdbc_url, table='filtered_bmi_df', mode=mode, properties=config)"
      ],
      "metadata": {
        "id": "N1_ZSimh7TEQ"
      },
      "execution_count": 60,
      "outputs": []
    },
    {
      "cell_type": "code",
      "source": [
        "# Write review_id_df to table in RDS\n",
        "visualization_df_py.write.jdbc(url=jdbc_url, table='visualization_df', mode=mode, properties=config)"
      ],
      "metadata": {
        "id": "9ICvlxBd7TG1"
      },
      "execution_count": 61,
      "outputs": []
    }
  ]
}