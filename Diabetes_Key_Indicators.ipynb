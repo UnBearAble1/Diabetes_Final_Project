{
  "nbformat": 4,
  "nbformat_minor": 0,
  "metadata": {
    "colab": {
      "provenance": []
    },
    "kernelspec": {
      "name": "python3",
      "display_name": "Python 3"
    },
    "language_info": {
      "name": "python"
    }
  },
  "cells": [
    {
      "cell_type": "code",
      "execution_count": null,
      "metadata": {
        "colab": {
          "base_uri": "https://localhost:8080/"
        },
        "id": "V58rxea0HqSa",
        "outputId": "cc818b34-6bd5-485c-a2f0-36f20327ce6a"
      },
      "outputs": [
        {
          "output_type": "stream",
          "name": "stdout",
          "text": [
            "\r0% [Working]\r            \rGet:1 https://cloud.r-project.org/bin/linux/ubuntu focal-cran40/ InRelease [3,622 B]\n",
            "\r0% [Connecting to archive.ubuntu.com (185.125.190.39)] [Waiting for headers] [1\r0% [Connecting to archive.ubuntu.com (185.125.190.39)] [Waiting for headers] [C\r                                                                               \rHit:2 https://developer.download.nvidia.com/compute/cuda/repos/ubuntu2004/x86_64  InRelease\n",
            "Get:3 http://security.ubuntu.com/ubuntu focal-security InRelease [114 kB]\n",
            "Hit:4 http://archive.ubuntu.com/ubuntu focal InRelease\n",
            "Get:5 http://archive.ubuntu.com/ubuntu focal-updates InRelease [114 kB]\n",
            "Hit:6 http://ppa.launchpad.net/c2d4u.team/c2d4u4.0+/ubuntu focal InRelease\n",
            "Hit:7 http://ppa.launchpad.net/cran/libgit2/ubuntu focal InRelease\n",
            "Hit:8 http://ppa.launchpad.net/deadsnakes/ppa/ubuntu focal InRelease\n",
            "Get:9 http://archive.ubuntu.com/ubuntu focal-backports InRelease [108 kB]\n",
            "Get:10 http://security.ubuntu.com/ubuntu focal-security/main amd64 Packages [2,593 kB]\n",
            "Hit:11 http://ppa.launchpad.net/graphics-drivers/ppa/ubuntu focal InRelease\n",
            "Hit:12 http://ppa.launchpad.net/ubuntugis/ppa/ubuntu focal InRelease\n",
            "Get:13 http://security.ubuntu.com/ubuntu focal-security/universe amd64 Packages [1,029 kB]\n",
            "Get:14 http://archive.ubuntu.com/ubuntu focal-updates/universe amd64 Packages [1,325 kB]\n",
            "Get:15 http://archive.ubuntu.com/ubuntu focal-updates/main amd64 Packages [3,076 kB]\n",
            "Fetched 8,362 kB in 3s (2,909 kB/s)\n",
            "Reading package lists... Done\n"
          ]
        }
      ],
      "source": [
        "import os\n",
        "# Find the latest version of spark 3.2 from http://www.apache.org/dist/spark/ and enter as the spark version\n",
        "# For example:\n",
        "# spark_version = 'spark-3.2.3'\n",
        "spark_version = 'spark-3.2.3'\n",
        "os.environ['SPARK_VERSION']=spark_version\n",
        "\n",
        "# Install Spark and Java\n",
        "!apt-get update\n",
        "!apt-get install openjdk-11-jdk-headless -qq > /dev/null\n",
        "!wget -q http://archive.apache.org/dist/spark/$SPARK_VERSION/$SPARK_VERSION-bin-hadoop2.7.tgz\n",
        "!tar xf $SPARK_VERSION-bin-hadoop2.7.tgz\n",
        "!pip install -q findspark\n",
        "\n",
        "# Set Environment Variables\n",
        "import os\n",
        "os.environ[\"JAVA_HOME\"] = \"/usr/lib/jvm/java-11-openjdk-amd64\"\n",
        "os.environ[\"SPARK_HOME\"] = f\"/content/{spark_version}-bin-hadoop2.7\"\n",
        "\n",
        "# Start a SparkSession\n",
        "import findspark\n",
        "findspark.init()"
      ]
    },
    {
      "cell_type": "code",
      "execution_count": null,
      "metadata": {
        "colab": {
          "base_uri": "https://localhost:8080/"
        },
        "id": "_xKwTpATHqSe",
        "outputId": "69e0581b-2b77-48f1-da65-f53d5624b023"
      },
      "outputs": [
        {
          "output_type": "stream",
          "name": "stdout",
          "text": [
            "--2023-04-14 01:03:01--  https://jdbc.postgresql.org/download/postgresql-42.2.16.jar\n",
            "Resolving jdbc.postgresql.org (jdbc.postgresql.org)... 72.32.157.228, 2001:4800:3e1:1::228\n",
            "Connecting to jdbc.postgresql.org (jdbc.postgresql.org)|72.32.157.228|:443... connected.\n",
            "HTTP request sent, awaiting response... 200 OK\n",
            "Length: 1002883 (979K) [application/java-archive]\n",
            "Saving to: ‘postgresql-42.2.16.jar’\n",
            "\n",
            "postgresql-42.2.16. 100%[===================>] 979.38K  4.09MB/s    in 0.2s    \n",
            "\n",
            "2023-04-14 01:03:02 (4.09 MB/s) - ‘postgresql-42.2.16.jar’ saved [1002883/1002883]\n",
            "\n"
          ]
        }
      ],
      "source": [
        "# Download the Postgres driver that will allow Spark to interact with Postgres.\n",
        "!wget https://jdbc.postgresql.org/download/postgresql-42.2.16.jar"
      ]
    },
    {
      "cell_type": "code",
      "execution_count": null,
      "metadata": {
        "id": "MMqDAjVS0KN9"
      },
      "outputs": [],
      "source": [
        "from pyspark.sql import SparkSession\n",
        "spark = SparkSession.builder.appName(\"Final-Project\").config(\"spark.driver.extraClassPath\",\"/content/postgresql-42.2.16.jar\").getOrCreate()"
      ]
    },
    {
      "cell_type": "markdown",
      "metadata": {
        "id": "cyBsySGuY-9V"
      },
      "source": [
        "### Load Amazon Data into Spark DataFrame"
      ]
    },
    {
      "cell_type": "code",
      "execution_count": null,
      "metadata": {
        "id": "CtCmBhQJY-9Z",
        "colab": {
          "base_uri": "https://localhost:8080/"
        },
        "outputId": "2caf381a-abda-43e9-da41-e2090ac0b8e7"
      },
      "outputs": [
        {
          "output_type": "stream",
          "name": "stdout",
          "text": [
            "+---+------+------+-----------+------+-----+-------+--------+-------------+-------------+--------+--------+--------+--------+--------+-------+-------+--------+-------+--------------------+--------+--------+--------+--------+--------+-------+-------+--------+--------+-------+--------+-------+------+-------+--------+--------+--------+--------+--------+--------+--------+--------+-------+------+--------+-------+--------+--------+--------+--------+-------+-------+--------+--------+--------+--------+--------+--------+--------+--------+--------+-------+--------+--------+--------+-------+-----+--------+--------+--------+--------+--------+-------+--------+-------+--------+-------+-------+----+-----+------+--------+--------+--------+--------+--------+-------+--------+-------+--------+--------+--------+--------+--------+--------+--------+-------+--------+------+--------+--------+--------+--------+--------+--------+--------+--------+--------+--------+--------+--------+-------+--------+-------+-------+-------+-------+-------+--------+--------+--------+--------+--------+--------+--------+--------+--------+--------+--------+-------+--------+--------+------+-------+--------+--------+--------+--------+--------+--------+--------+--------+-------+--------+--------+--------+--------+--------+--------+--------+--------+--------+--------+--------+--------+--------+--------+-------+--------+--------+--------+-------+--------+--------+--------+--------+--------+--------+--------+--------+--------+-------+-------+--------+--------+--------+-------+--------+------+--------+--------+--------+--------+--------+--------+--------+--------+--------+--------+--------+--------+--------+--------+--------+--------+--------+--------+--------+--------+--------+--------+--------+--------+--------+--------+--------+--------+--------+--------+-------+--------+--------+--------+--------+--------+--------+------+--------+--------+------+-------+--------+--------+------+-------+------------------+--------+------------------+--------+--------+-------+--------+-----+--------+--------+------------------+------------------+------------------+-------+--------+--------+--------+--------+--------+--------+--------+--------+------+--------+--------+--------+--------+--------+--------+-------+-------+--------+-----+--------+--------+--------+----+--------+--------+------+------+-----+-----+-------+------+--------+-------+--------+-------+--------+--------+--------+--------+--------+--------------------+--------+--------------------+--------+--------+--------+--------+--------------------+--------+--------------------+--------------------+--------------------+--------+--------------------+--------------------+--------------------+--------------------+--------+--------+--------+--------+-------+-------+--------------------+--------------------+\n",
            "|_c0|_STATE|FMONTH|      IDATE|IMONTH| IDAY|  IYEAR|DISPCODE|        SEQNO|         _PSU|CTELENM1|PVTRESD1|COLGHOUS|STATERE1|CELPHON1|LADULT1|COLGSEX|NUMADULT|LANDSEX|              NUMMEN|NUMWOMEN|RESPSLCT|SAFETIME|CTELNUM1|CELLFON5|CADULT1|CELLSEX|PVTRESD3|CCLGHOUS|CSTATE1|LANDLINE|HHADULT|SEXVAR|GENHLTH|PHYSHLTH|MENTHLTH|POORHLTH|PRIMINSR|PERSDOC3|MEDCOST1|CHECKUP1|EXERANY2|BPHIGH6|BPMEDS|CHOLCHK3|TOLDHI3|CHOLMED3|CVDINFR4|CVDCRHD4|CVDSTRK3|ASTHMA3|ASTHNOW|CHCSCNCR|CHCOCNCR|CHCCOPD3|ADDEPEV3|CHCKDNY2|DIABETE4|DIABAGE3|HAVARTH5|ARTHEXER|ARTHEDU|LMTJOIN3|ARTHDIS2|JOINPAI2|MARITAL|EDUCA|RENTHOM1|NUMHHOL3|NUMPHON3|CPDEMO1B|VETERAN3|EMPLOY1|CHILDREN|INCOME3|PREGNANT|WEIGHT2|HEIGHT3|DEAF|BLIND|DECIDE|DIFFWALK|DIFFDRES|DIFFALON|SMOKE100|SMOKDAY2|USENOW3|ECIGNOW1|ALCDAY5|AVEDRNK3|DRNK3GE5|MAXDRNKS|FLUSHOT7|FLSHTMY3|IMFVPLA2|PNEUVAC4|HIVTST7|HIVTSTD3|FRUIT2|FRUITJU2|FVGREEN1|FRENCHF1|POTATOE1|VEGETAB2|PDIABTST|PREDIAB1|INSULIN1|BLDSUGAR|FEETCHK3|DOCTDIAB|CHKHEMO3|FEETCHK|EYEEXAM1|DIABEYE|DIABEDU|TOLDCFS|HAVECFS|WORKCFS|TOLDHEPC|TRETHEPC|PRIRHEPC|HAVEHEPC|HAVEHEPB|MEDSHEPB|HPVADVC4|HPVADSHT|TETANUS1|SHINGLE2|LCSFIRST|LCSLAST|LCSNUMCG|LCSCTSCN|HADMAM|HOWLONG|CERVSCRN|CRVCLCNC|CRVCLPAP|CRVCLHPV|HADHYST2|PSATEST1|PSATIME1|PCPSARS2|PCSTALK|HADSIGM4|COLNSIGM|COLNTES1|SIGMTES1|LASTSIG4|COLNCNCR|VIRCOLO1|VCLNTES1|SMALSTOL|STOLTEST|STOOLDN1|BLDSTFIT|SDNATES1|CNCRDIFF|CNCRAGE|CNCRTYP1|CSRVTRT3|CSRVDOC1|CSRVSUM|CSRVRTRN|CSRVINST|CSRVINSR|CSRVDEIN|CSRVCLIN|CSRVPAIN|CSRVCTL2|HOMBPCHK|HOMRGCHK|WHEREBP|SHAREBP|WTCHSALT|DRADVISE|CIMEMLOS|CDHOUSE|CDASSIST|CDHELP|CDSOCIAL|CDDISCUS|CAREGIV1|CRGVREL4|CRGVLNG1|CRGVHRS1|CRGVPRB3|CRGVALZD|CRGVPER1|CRGVHOU1|CRGVEXPT|ACEDEPRS|ACEDRINK|ACEDRUGS|ACEPRISN|ACEDIVRC|ACEPUNCH|ACEHURT1|ACESWEAR|ACETOUCH|ACETTHEM|ACEHVSEX|ACEADSAF|ACEADNED|MARIJAN1|USEMRJN3|RSNMRJN2|LASTSMK2|STOPSMK2|FIREARM5|GUNLOAD|LOADULK2|RCSGENDR|RCSRLTN2|CASTHDX2|CASTHNO2|BIRTHSEX|SOMALE|SOFEMALE|TRNSGNDR|QSTVER|QSTLANG|_METSTAT|_URBSTAT|MSCODE| _STSTR|            _STRWT|_RAWRAKE|          _WT2RAKE|_IMPRACE|_CHISPNC|_CRACE1|_CPRACE1|CAGEG|_CLLCPWT|_DUALUSE|          _DUALCOR|          _LLCPWT2|           _LLCPWT|_RFHLTH|_PHYS14D|_MENT14D|_HLTHPLN|_HCVU652|_TOTINDA|_RFHYPE6|_CHOLCH3|_RFCHOL3|_MICHD|_LTASTH1|_CASTHM1|_ASTHMS1|_DRDXAR3|_LMTACT3|_LMTWRK3|_PRACE1|_MRACE1|_HISPANC|_RACE|_RACEG21|_RACEGR3|_RACEPRV|_SEX|_AGEG5YR|_AGE65YR|_AGE80|_AGE_G|HTIN4| HTM4|  WTKG3| _BMI5|_BMI5CAT|_RFBMI5|_CHLDCNT|_EDUCAG|_INCOMG1|_SMOKER3|_RFSMOK3|_CURECI1|DRNKANY5|            DROCDY3_|_RFBING5|            _DRNKWK1|_RFDRHV7|_FLSHOT7|_PNEUMO3|_AIDTST4|            FTJUDA2_|FRUTDA2_|            GRENDA1_|            FRNCHDA_|            POTADA1_|VEGEDA2_|            _MISFRT1|            _MISVEG1|            _FRTRES1|            _VEGRES1|_FRUTSU1|_VEGESU1|_FRTLT1A|_VEGLT1A|_FRT16A|_VEG23A|            _FRUITE1|            _VEGETE1|\n",
            "+---+------+------+-----------+------+-----+-------+--------+-------------+-------------+--------+--------+--------+--------+--------+-------+-------+--------+-------+--------------------+--------+--------+--------+--------+--------+-------+-------+--------+--------+-------+--------+-------+------+-------+--------+--------+--------+--------+--------+--------+--------+--------+-------+------+--------+-------+--------+--------+--------+--------+-------+-------+--------+--------+--------+--------+--------+--------+--------+--------+--------+-------+--------+--------+--------+-------+-----+--------+--------+--------+--------+--------+-------+--------+-------+--------+-------+-------+----+-----+------+--------+--------+--------+--------+--------+-------+--------+-------+--------+--------+--------+--------+--------+--------+--------+-------+--------+------+--------+--------+--------+--------+--------+--------+--------+--------+--------+--------+--------+--------+-------+--------+-------+-------+-------+-------+-------+--------+--------+--------+--------+--------+--------+--------+--------+--------+--------+--------+-------+--------+--------+------+-------+--------+--------+--------+--------+--------+--------+--------+--------+-------+--------+--------+--------+--------+--------+--------+--------+--------+--------+--------+--------+--------+--------+--------+-------+--------+--------+--------+-------+--------+--------+--------+--------+--------+--------+--------+--------+--------+-------+-------+--------+--------+--------+-------+--------+------+--------+--------+--------+--------+--------+--------+--------+--------+--------+--------+--------+--------+--------+--------+--------+--------+--------+--------+--------+--------+--------+--------+--------+--------+--------+--------+--------+--------+--------+--------+-------+--------+--------+--------+--------+--------+--------+------+--------+--------+------+-------+--------+--------+------+-------+------------------+--------+------------------+--------+--------+-------+--------+-----+--------+--------+------------------+------------------+------------------+-------+--------+--------+--------+--------+--------+--------+--------+--------+------+--------+--------+--------+--------+--------+--------+-------+-------+--------+-----+--------+--------+--------+----+--------+--------+------+------+-----+-----+-------+------+--------+-------+--------+-------+--------+--------+--------+--------+--------+--------------------+--------+--------------------+--------+--------+--------+--------+--------------------+--------+--------------------+--------------------+--------------------+--------+--------------------+--------------------+--------------------+--------------------+--------+--------+--------+--------+-------+-------+--------------------+--------------------+\n",
            "|  0|   1.0|   1.0|b'01192021'| b'01'|b'19'|b'2021'|  1100.0|b'2021000001'|2.021000001E9|     1.0|     1.0|    null|     1.0|     2.0|    1.0|   null|     2.0|   null|                 1.0|     1.0|     2.0|    null|    null|    null|   null|   null|    null|    null|   null|    null|   null|   2.0|    5.0|    20.0|    10.0|    88.0|     3.0|     1.0|     2.0|     2.0|     2.0|    3.0|  null|     2.0|    1.0|     1.0|     2.0|     2.0|     2.0|    1.0|    1.0|     2.0|     2.0|     1.0|     2.0|     2.0|     3.0|    null|     1.0|     2.0|    2.0|     2.0|     1.0|     8.0|    1.0|  4.0|     1.0|     1.0|     1.0|     1.0|     2.0|    7.0|    88.0|    5.0|    null|   72.0|  411.0| 2.0|  2.0|   2.0|     2.0|     2.0|     1.0|     1.0|     3.0|    3.0|     3.0|  888.0|    null|    null|    null|     1.0| 92020.0|     1.0|     1.0|    2.0|    null| 101.0|   555.0|   204.0|   203.0|   201.0|   101.0|     2.0|     3.0|    null|    null|    null|    null|    null|   null|    null|   null|   null|   null|   null|   null|    null|    null|    null|    null|    null|    null|    null|    null|    null|    null|    null|   null|    null|    null|  null|   null|    null|    null|    null|    null|    null|    null|    null|    null|   null|    null|    null|    null|    null|    null|    null|    null|    null|    null|    null|    null|    null|    null|    null|   null|    null|    null|    null|   null|    null|    null|    null|    null|    null|    null|    null|    null|    null|   null|   null|    null|    null|    null|   null|    null|  null|    null|    null|     2.0|    null|    null|    null|    null|    null|    null|    null|     2.0|     2.0|     2.0|     2.0|     2.0|     1.0|     1.0|     1.0|     1.0|     1.0|     1.0|     1.0|     5.0|     3.0|    null|    null|    null|    null|    null|    null|   null|    null|    null|    null|    null|    null|    null|  null|    null|    null|  10.0|    1.0|     1.0|     1.0|   1.0|11011.0|39.766157742553204|     2.0| 79.53231548510641|     1.0|     9.0|   null|    null| null|    null|     1.0|0.5190191247367235| 874.2429016362627| 744.7455308997082|    2.0|     3.0|     2.0|     1.0|     9.0|     2.0|     1.0|     1.0|     2.0|   2.0|     2.0|     2.0|     1.0|     1.0|     2.0|     1.0|    1.0|    1.0|     2.0|  1.0|     1.0|     1.0|     1.0| 2.0|    11.0|     2.0|  70.0|   6.0| 59.0|150.0| 3266.0|1454.0|     1.0|    1.0|     1.0|    2.0|     3.0|     3.0|     1.0|     1.0|     2.0|5.397605346934028...|     1.0|5.397605346934028...|     1.0|     1.0|     1.0|     2.0|5.397605346934028...|   100.0|                57.0|                43.0|                14.0|   100.0|5.397605346934028...|5.397605346934028...|                 1.0|                 1.0|   100.0|   214.0|     1.0|     1.0|    1.0|    1.0|5.397605346934028...|5.397605346934028...|\n",
            "|  1|   1.0|   1.0|b'01212021'| b'01'|b'21'|b'2021'|  1100.0|b'2021000002'|2.021000002E9|     1.0|     1.0|    null|     1.0|     2.0|    1.0|   null|     2.0|   null|                 1.0|     1.0|     2.0|    null|    null|    null|   null|   null|    null|    null|   null|    null|   null|   2.0|    3.0|    88.0|    88.0|    null|     1.0|     2.0|     2.0|     1.0|     1.0|    1.0|   1.0|     2.0|    1.0|     1.0|     2.0|     1.0|     2.0|    2.0|   null|     2.0|     2.0|     2.0|     2.0|     1.0|     1.0|    98.0|     1.0|     1.0|    2.0|     1.0|     1.0|    10.0|    9.0|  6.0|     1.0|     2.0|    null|     1.0|     2.0|    8.0|    88.0|   77.0|    null| 7777.0|  506.0| 2.0|  1.0|   1.0|     1.0|     2.0|     1.0|     2.0|    null|    3.0|     3.0|  888.0|    null|    null|    null|     2.0|    null|    null|     2.0|    2.0|    null| 101.0|   555.0|   201.0|   555.0|   201.0|   207.0|    null|    null|    null|    null|    null|    null|    null|   null|    null|   null|   null|   null|   null|   null|    null|    null|    null|    null|    null|    null|    null|    null|    null|    null|    null|   null|    null|    null|  null|   null|    null|    null|    null|    null|    null|    null|    null|    null|   null|    null|    null|    null|    null|    null|    null|    null|    null|    null|    null|    null|    null|    null|    null|   null|    null|    null|    null|   null|    null|    null|    null|    null|    null|    null|    null|    null|    null|   null|   null|    null|    null|    null|   null|    null|  null|    null|    null|     2.0|    null|    null|    null|    null|    null|    null|    null|     2.0|     2.0|     2.0|     2.0|     2.0|     2.0|     1.0|     1.0|     1.0|     1.0|     1.0|     1.0|     5.0|     5.0|    null|    null|    null|    null|    null|    null|   null|    null|    null|    null|    null|    null|    null|  null|    null|    null|  10.0|    1.0|     1.0|     1.0|   2.0|11011.0|39.766157742553204|     2.0| 79.53231548510641|     2.0|     9.0|   null|    null| null|    null|     1.0|0.5190191247367235| 874.2429016362627|299.13739421193344|    1.0|     1.0|     1.0|     1.0|     9.0|     1.0|     2.0|     1.0|     2.0|   1.0|     1.0|     1.0|     3.0|     1.0|     1.0|     1.0|    2.0|    2.0|     2.0|  2.0|     2.0|     2.0|     2.0| 2.0|    10.0|     2.0|  67.0|   6.0| 66.0|168.0|   null|  null|    null|    9.0|     1.0|    4.0|     9.0|     4.0|     1.0|     1.0|     2.0|5.397605346934028...|     1.0|5.397605346934028...|     1.0|     2.0|     2.0|     2.0|5.397605346934028...|   100.0|                14.0|5.397605346934028...|                14.0|   100.0|5.397605346934028...|5.397605346934028...|                 1.0|                 1.0|   100.0|   128.0|     1.0|     1.0|    1.0|    1.0|5.397605346934028...|5.397605346934028...|\n",
            "|  2|   1.0|   1.0|b'01212021'| b'01'|b'21'|b'2021'|  1100.0|b'2021000003'|2.021000003E9|     1.0|     1.0|    null|     1.0|     2.0|    1.0|   null|     2.0|   null|                 1.0|     1.0|     2.0|    null|    null|    null|   null|   null|    null|    null|   null|    null|   null|   2.0|    2.0|    88.0|    88.0|    null|     2.0|     2.0|     2.0|     1.0|     2.0|    1.0|   1.0|     2.0|    2.0|     2.0|     2.0|     1.0|     2.0|    2.0|   null|     2.0|     2.0|     2.0|     2.0|     2.0|     1.0|    98.0|     2.0|    null|   null|    null|    null|    null|    3.0|  4.0|     1.0|     2.0|    null|     1.0|     2.0|    7.0|    88.0|    3.0|    null|  170.0|  505.0| 2.0|  2.0|   2.0|     2.0|     2.0|     2.0|     2.0|    null|    3.0|     3.0|  888.0|    null|    null|    null|     2.0|    null|    null|     2.0|    2.0|    null| 101.0|   555.0|   555.0|   201.0|   201.0|   203.0|    null|    null|    null|    null|    null|    null|    null|   null|    null|   null|   null|   null|   null|   null|    null|    null|    null|    null|    null|    null|    null|    null|    null|    null|    null|   null|    null|    null|  null|   null|    null|    null|    null|    null|    null|    null|    null|    null|   null|    null|    null|    null|    null|    null|    null|    null|    null|    null|    null|    null|    null|    null|    null|   null|    null|    null|    null|   null|    null|    null|    null|    null|    null|    null|    null|    null|    null|   null|   null|    null|    null|    null|   null|    null|  null|    null|    null|     2.0|    null|    null|    null|    null|    null|    null|    null|     2.0|     2.0|     2.0|     2.0|     2.0|     2.0|     1.0|     1.0|     1.0|     1.0|     1.0|     1.0|     5.0|     5.0|    null|    null|    null|    null|    null|    null|   null|    null|    null|    null|    null|    null|    null|  null|    null|    null|  10.0|    1.0|     1.0|     1.0|   1.0|11011.0|39.766157742553204|     2.0| 79.53231548510641|     2.0|     9.0|   null|    null| null|    null|     1.0|0.5190191247367235| 874.2429016362627| 587.8629860681576|    1.0|     1.0|     1.0|     1.0|     9.0|     2.0|     2.0|     1.0|     1.0|   1.0|     1.0|     1.0|     3.0|     2.0|     3.0|     3.0|    2.0|    2.0|     2.0|  2.0|     2.0|     2.0|     2.0| 2.0|    11.0|     2.0|  72.0|   6.0| 65.0|165.0| 7711.0|2829.0|     3.0|    2.0|     1.0|    2.0|     2.0|     4.0|     1.0|     1.0|     2.0|5.397605346934028...|     1.0|5.397605346934028...|     1.0|     2.0|     2.0|     2.0|5.397605346934028...|   100.0|5.397605346934028...|                14.0|                14.0|    43.0|5.397605346934028...|5.397605346934028...|                 1.0|                 1.0|   100.0|    71.0|     1.0|     2.0|    1.0|    1.0|5.397605346934028...|5.397605346934028...|\n",
            "|  3|   1.0|   1.0|b'01172021'| b'01'|b'17'|b'2021'|  1100.0|b'2021000004'|2.021000004E9|     1.0|     1.0|    null|     1.0|     2.0|    1.0|   null|     2.0|   null|                 1.0|     1.0|     2.0|    null|    null|    null|   null|   null|    null|    null|   null|    null|   null|   2.0|    2.0|    88.0|    10.0|    88.0|     2.0|     1.0|     2.0|     1.0|     1.0|    1.0|   1.0|     2.0|    1.0|     2.0|     2.0|     2.0|     2.0|    2.0|   null|     2.0|     2.0|     2.0|     2.0|     2.0|     1.0|    56.0|     2.0|    null|   null|    null|    null|    null|    1.0|  4.0|     1.0|     2.0|    null|     1.0|     2.0|    7.0|    88.0|    7.0|    null|  195.0|  504.0| 2.0|  2.0|   2.0|     2.0|     2.0|     2.0|     2.0|    null|    3.0|     3.0|  101.0|     3.0|     1.0|     6.0|     1.0|102020.0|     1.0|     2.0|    2.0|    null| 203.0|   205.0|   303.0|   204.0|   308.0|   205.0|    null|    null|    null|    null|    null|    null|    null|   null|    null|   null|   null|   null|   null|   null|    null|    null|    null|    null|    null|    null|    null|    null|    null|    null|    null|   null|    null|    null|  null|   null|    null|    null|    null|    null|    null|    null|    null|    null|   null|    null|    null|    null|    null|    null|    null|    null|    null|    null|    null|    null|    null|    null|    null|   null|    null|    null|    null|   null|    null|    null|    null|    null|    null|    null|    null|    null|    null|   null|   null|    null|    null|    null|   null|    null|  null|    null|    null|     2.0|    null|    null|    null|    null|    null|    null|    null|     7.0|     1.0|     2.0|     2.0|     2.0|     2.0|     1.0|     3.0|     1.0|     1.0|     1.0|     1.0|     5.0|     5.0|    null|    null|    null|    null|    null|    null|   null|    null|    null|    null|    null|    null|    null|  null|    null|    null|  10.0|    1.0|     1.0|     1.0|   3.0|11011.0|39.766157742553204|     2.0| 79.53231548510641|     1.0|     9.0|   null|    null| null|    null|     1.0|0.5190191247367235| 874.2429016362627|1099.6215734328375|    1.0|     1.0|     2.0|     1.0|     1.0|     1.0|     2.0|     1.0|     2.0|   2.0|     1.0|     1.0|     3.0|     2.0|     3.0|     3.0|    1.0|    1.0|     2.0|  1.0|     1.0|     1.0|     1.0| 2.0|     9.0|     1.0|  62.0|   5.0| 64.0|163.0| 8845.0|3347.0|     4.0|    2.0|     1.0|    2.0|     5.0|     4.0|     1.0|     1.0|     1.0|                14.0|     2.0|               300.0|     1.0|    null|    null|     2.0|                71.0|    43.0|                10.0|                57.0|                27.0|    71.0|5.397605346934028...|5.397605346934028...|                 1.0|                 1.0|   114.0|   165.0|     1.0|     1.0|    1.0|    1.0|5.397605346934028...|5.397605346934028...|\n",
            "|  4|   1.0|   1.0|b'01152021'| b'01'|b'15'|b'2021'|  1100.0|b'2021000005'|2.021000005E9|     1.0|     1.0|    null|     1.0|     2.0|    1.0|   null|     2.0|   null|                 1.0|     1.0|     1.0|    null|    null|    null|   null|   null|    null|    null|   null|    null|   null|   1.0|    5.0|    30.0|    88.0|    30.0|     3.0|     1.0|     2.0|     1.0|     1.0|    4.0|  null|     2.0|    1.0|     1.0|     1.0|     7.0|     1.0|    2.0|   null|     2.0|     2.0|     2.0|     2.0|     2.0|     1.0|    65.0|     2.0|    null|   null|    null|    null|    null|    1.0|  3.0|     1.0|     2.0|    null|     8.0|     2.0|    8.0|    88.0|    4.0|    null|  206.0|  511.0| 1.0|  2.0|   2.0|     1.0|     2.0|     2.0|     2.0|    null|    2.0|     3.0|  888.0|    null|    null|    null|     1.0| 92020.0|     1.0|     1.0|    1.0|777777.0| 101.0|   555.0|   101.0|   202.0|   202.0|   101.0|    null|    null|    null|    null|    null|    null|    null|   null|    null|   null|   null|   null|   null|   null|    null|    null|    null|    null|    null|    null|    null|    null|    null|    null|    null|   null|    null|    null|  null|   null|    null|    null|    null|    null|    null|    null|    null|    null|   null|    null|    null|    null|    null|    null|    null|    null|    null|    null|    null|    null|    null|    null|    null|   null|    null|    null|    null|   null|    null|    null|    null|    null|    null|    null|    null|    null|    null|   null|   null|    null|    null|    null|   null|    null|  null|    null|    null|     2.0|    null|    null|    null|    null|    null|    null|    null|     2.0|     2.0|     2.0|     2.0|     2.0|     2.0|     1.0|     1.0|     1.0|     1.0|     1.0|     1.0|     5.0|     5.0|    null|    null|    null|    null|    null|    null|   null|    null|    null|    null|    null|    null|    null|  null|    null|    null|  10.0|    1.0|     2.0|     1.0|   2.0|11011.0|39.766157742553204|     2.0| 79.53231548510641|     6.0|     9.0|   null|    null| null|    null|     9.0|              null|2144.7689990885287|1711.8258662824464|    2.0|     3.0|     1.0|     1.0|     9.0|     1.0|     1.0|     1.0|     2.0|   1.0|     1.0|     1.0|     3.0|     2.0|     3.0|     3.0|    1.0|    7.0|     2.0|  7.0|     2.0|     4.0|     7.0| 1.0|    12.0|     2.0|  76.0|   6.0| 71.0|180.0| 9344.0|2873.0|     3.0|    2.0|     1.0|    1.0|     2.0|     4.0|     1.0|     1.0|     2.0|5.397605346934028...|     1.0|5.397605346934028...|     1.0|     1.0|     1.0|     1.0|5.397605346934028...|   100.0|               100.0|                29.0|                29.0|   100.0|5.397605346934028...|5.397605346934028...|                 1.0|                 1.0|   100.0|   258.0|     1.0|     1.0|    1.0|    1.0|5.397605346934028...|5.397605346934028...|\n",
            "|  5|   1.0|   1.0|b'01142021'| b'01'|b'14'|b'2021'|  1100.0|b'2021000006'|2.021000006E9|     1.0|     1.0|    null|     1.0|     2.0|    1.0|   null|     1.0|    1.0|                null|    null|    null|    null|    null|    null|   null|   null|    null|    null|   null|    null|   null|   1.0|    3.0|    88.0|    88.0|    null|     3.0|     1.0|     2.0|     1.0|     2.0|    3.0|  null|     2.0|    2.0|     2.0|     2.0|     2.0|     2.0|    2.0|   null|     2.0|     2.0|     1.0|     2.0|     2.0|     3.0|    null|     2.0|    null|   null|    null|    null|    null|    1.0|  5.0|     1.0|     2.0|    null|     1.0|     2.0|    7.0|    88.0|    6.0|    null|  195.0|  603.0| 2.0|  2.0|   2.0|     1.0|     2.0|     2.0|     1.0|     3.0|    2.0|     3.0|  888.0|    null|    null|    null|     1.0|102020.0|     5.0|     1.0|    2.0|    null| 202.0|   555.0|   201.0|   555.0|   201.0|   201.0|     2.0|     3.0|    null|    null|    null|    null|    null|   null|    null|   null|   null|   null|   null|   null|    null|    null|    null|    null|    null|    null|    null|    null|    null|    null|    null|   null|    null|    null|  null|   null|    null|    null|    null|    null|    null|    null|    null|    null|   null|    null|    null|    null|    null|    null|    null|    null|    null|    null|    null|    null|    null|    null|    null|   null|    null|    null|    null|   null|    null|    null|    null|    null|    null|    null|    null|    null|    null|   null|   null|    null|    null|    null|   null|    null|  null|    null|    null|     2.0|    null|    null|    null|    null|    null|    null|    null|     2.0|     2.0|     2.0|     2.0|     2.0|     2.0|     1.0|     1.0|     1.0|     1.0|     1.0|     1.0|     5.0|     5.0|    null|    null|    null|    null|    null|    null|   null|    null|    null|    null|    null|    null|    null|  null|    null|    null|  10.0|    1.0|     2.0|     2.0|   5.0|11011.0|39.766157742553204|     1.0|39.766157742553204|     1.0|     9.0|   null|    null| null|    null|     1.0|0.5190191247367235|437.12145081813134|499.36515912871187|    1.0|     1.0|     1.0|     1.0|     9.0|     2.0|     1.0|     1.0|     1.0|   2.0|     1.0|     1.0|     3.0|     2.0|     3.0|     3.0|    1.0|    1.0|     2.0|  1.0|     1.0|     1.0|     1.0| 1.0|    13.0|     2.0|  80.0|   6.0| 75.0|191.0| 8845.0|2437.0|     2.0|    1.0|     1.0|    3.0|     4.0|     3.0|     1.0|     1.0|     2.0|5.397605346934028...|     1.0|5.397605346934028...|     1.0|     1.0|     1.0|     2.0|5.397605346934028...|    29.0|                14.0|5.397605346934028...|                14.0|    14.0|5.397605346934028...|5.397605346934028...|                 1.0|                 1.0|    29.0|    42.0|     2.0|     2.0|    1.0|    1.0|5.397605346934028...|5.397605346934028...|\n",
            "|  6|   1.0|   1.0|b'01082021'| b'01'|b'08'|b'2021'|  1100.0|b'2021000007'|2.021000007E9|     1.0|     1.0|    null|     1.0|     2.0|    1.0|   null|     2.0|   null|                 1.0|     1.0|     1.0|    null|    null|    null|   null|   null|    null|    null|   null|    null|   null|   1.0|    3.0|    30.0|    88.0|     2.0|     1.0|     1.0|     2.0|     1.0|     2.0|    1.0|   1.0|     2.0|    2.0|     2.0|     2.0|     2.0|     2.0|    2.0|   null|     2.0|     2.0|     2.0|     1.0|     2.0|     3.0|    null|     1.0|     1.0|    2.0|     1.0|     2.0|     8.0|    1.0|  6.0|     1.0|     2.0|    null|     2.0|     2.0|    8.0|    88.0|   77.0|    null|  340.0|  600.0| 1.0|  2.0|   2.0|     1.0|     1.0|     1.0|     2.0|    null|    3.0|     3.0|  888.0|    null|    null|    null|     1.0|102020.0|     1.0|     2.0|    2.0|    null| 312.0|   301.0|   203.0|   203.0|   302.0|   202.0|     1.0|     3.0|    null|    null|    null|    null|    null|   null|    null|   null|   null|   null|   null|   null|    null|    null|    null|    null|    null|    null|    null|    null|    null|    null|    null|   null|    null|    null|  null|   null|    null|    null|    null|    null|    null|    null|    null|    null|   null|    null|    null|    null|    null|    null|    null|    null|    null|    null|    null|    null|    null|    null|    null|   null|    null|    null|    null|   null|    null|    null|    null|    null|    null|    null|    null|    null|    null|   null|   null|    null|    null|    null|   null|    null|  null|    null|    null|     2.0|    null|    null|    null|    null|    null|    null|    null|     2.0|     2.0|     2.0|     2.0|     2.0|     2.0|     1.0|     1.0|     1.0|     1.0|     1.0|     1.0|     5.0|     5.0|    null|    null|    null|    null|    null|    null|   null|    null|    null|    null|    null|    null|    null|  null|    null|    null|  10.0|    1.0|     2.0|     1.0|   5.0|11011.0|39.766157742553204|     2.0| 79.53231548510641|     1.0|     9.0|   null|    null| null|    null|     1.0|0.5190191247367235| 874.2429016362627| 792.3960286400941|    1.0|     3.0|     1.0|     1.0|     1.0|     2.0|     2.0|     1.0|     1.0|   2.0|     1.0|     1.0|     3.0|     1.0|     1.0|     2.0|    1.0|    1.0|     2.0|  1.0|     1.0|     1.0|     1.0| 1.0|     9.0|     1.0|  63.0|   5.0| 72.0|183.0|15422.0|4611.0|     4.0|    2.0|     1.0|    4.0|     9.0|     4.0|     1.0|     1.0|     2.0|5.397605346934028...|     1.0|5.397605346934028...|     1.0|    null|    null|     2.0|                 3.0|    40.0|                43.0|                43.0|                 7.0|    29.0|5.397605346934028...|5.397605346934028...|                 1.0|                 1.0|    43.0|   122.0|     2.0|     1.0|    1.0|    1.0|5.397605346934028...|5.397605346934028...|\n",
            "|  7|   1.0|   1.0|b'01212021'| b'01'|b'21'|b'2021'|  1100.0|b'2021000008'|2.021000008E9|     1.0|     1.0|    null|     1.0|     2.0|    1.0|   null|     1.0|    1.0|                null|    null|    null|    null|    null|    null|   null|   null|    null|    null|   null|    null|   null|   1.0|    4.0|    88.0|    88.0|    null|     2.0|     1.0|     2.0|     1.0|     1.0|    1.0|   1.0|     2.0|    1.0|     1.0|     1.0|     1.0|     2.0|    2.0|   null|     2.0|     2.0|     1.0|     2.0|     2.0|     3.0|    null|     1.0|     2.0|    2.0|     2.0|     2.0|     8.0|    2.0|  3.0|     1.0|     2.0|    null|     8.0|     2.0|    2.0|    88.0|   99.0|    null|  154.0|  509.0| 2.0|  2.0|   1.0|     2.0|     2.0|     2.0|     1.0|     3.0|    3.0|     3.0|  888.0|    null|    null|    null|     1.0|102020.0|     1.0|     1.0|    2.0|    null| 204.0|   555.0|   202.0|   555.0|   204.0|   204.0|     1.0|     3.0|    null|    null|    null|    null|    null|   null|    null|   null|   null|   null|   null|   null|    null|    null|    null|    null|    null|    null|    null|    null|    null|    null|    null|   null|    null|    null|  null|   null|    null|    null|    null|    null|    null|    null|    null|    null|   null|    null|    null|    null|    null|    null|    null|    null|    null|    null|    null|    null|    null|    null|    null|   null|    null|    null|    null|   null|    null|    null|    null|    null|    null|    null|    null|    null|    null|   null|   null|    null|    null|    null|   null|    null|  null|    null|    null|     2.0|    null|    null|    null|    null|    null|    null|    null|     2.0|     2.0|     2.0|     2.0|     2.0|     2.0|     1.0|     1.0|     1.0|     1.0|     1.0|     1.0|     5.0|     5.0|    null|    null|    null|    null|    null|    null|   null|    null|    null|    null|    null|    null|    null|  null|    null|    null|  10.0|    1.0|     1.0|     1.0|   3.0|11011.0|39.766157742553204|     1.0|39.766157742553204|     1.0|     9.0|   null|    null| null|    null|     9.0|              null|1072.3844995442644|3494.2005713827566|    2.0|     1.0|     1.0|     1.0|     1.0|     1.0|     2.0|     1.0|     2.0|   1.0|     1.0|     1.0|     3.0|     1.0|     2.0|     2.0|    1.0|    1.0|     2.0|  1.0|     1.0|     1.0|     1.0| 1.0|     9.0|     1.0|  62.0|   5.0| 69.0|175.0| 6985.0|2274.0|     2.0|    1.0|     1.0|    1.0|     9.0|     3.0|     1.0|     1.0|     2.0|5.397605346934028...|     1.0|5.397605346934028...|     1.0|    null|    null|     2.0|5.397605346934028...|    57.0|                29.0|5.397605346934028...|                57.0|    57.0|5.397605346934028...|5.397605346934028...|                 1.0|                 1.0|    57.0|   143.0|     2.0|     1.0|    1.0|    1.0|5.397605346934028...|5.397605346934028...|\n",
            "|  8|   1.0|   2.0|b'02202021'| b'02'|b'20'|b'2021'|  1100.0|b'2021000009'|2.021000009E9|     1.0|     1.0|    null|     1.0|     2.0|    1.0|   null|     1.0|    2.0|                null|    null|    null|    null|    null|    null|   null|   null|    null|    null|   null|    null|   null|   2.0|    2.0|    88.0|    88.0|    null|     3.0|     1.0|     2.0|     2.0|     2.0|    3.0|  null|     2.0|    2.0|     2.0|     2.0|     2.0|     2.0|    2.0|   null|     2.0|     2.0|     2.0|     2.0|     2.0|     3.0|    null|     2.0|    null|   null|    null|    null|    null|    2.0|  3.0|     1.0|     2.0|    null|     1.0|     2.0|    7.0|    88.0|   77.0|    null| 7777.0|  503.0| 2.0|  2.0|   2.0|     2.0|     2.0|     1.0|     2.0|    null|    3.0|     3.0|  888.0|    null|    null|    null|     1.0|112020.0|     1.0|     2.0|    2.0|    null| 202.0|   101.0|   555.0|   777.0|   555.0|   202.0|     1.0|     3.0|    null|    null|    null|    null|    null|   null|    null|   null|   null|   null|   null|   null|    null|    null|    null|    null|    null|    null|    null|    null|    null|    null|    null|   null|    null|    null|  null|   null|    null|    null|    null|    null|    null|    null|    null|    null|   null|    null|    null|    null|    null|    null|    null|    null|    null|    null|    null|    null|    null|    null|    null|   null|    null|    null|    null|   null|    null|    null|    null|    null|    null|    null|    null|    null|    null|   null|   null|    null|    null|    null|   null|    null|  null|    null|    null|     2.0|    null|    null|    null|    null|    null|    null|    null|     7.0|     2.0|     2.0|     2.0|     2.0|     2.0|     1.0|     1.0|     1.0|     1.0|     1.0|     1.0|     5.0|     5.0|    null|    null|    null|    null|    null|    null|   null|    null|    null|    null|    null|    null|    null|  null|    null|    null|  10.0|    1.0|     1.0|     1.0|   1.0|11011.0|39.766157742553204|     1.0|39.766157742553204|     1.0|     9.0|   null|    null| null|    null|     1.0|0.5190191247367235|437.12145081813134| 674.1108984794519|    1.0|     1.0|     1.0|     1.0|     9.0|     2.0|     1.0|     1.0|     1.0|   2.0|     1.0|     1.0|     3.0|     2.0|     3.0|     3.0|    1.0|    1.0|     2.0|  1.0|     1.0|     1.0|     1.0| 2.0|    12.0|     2.0|  78.0|   6.0| 63.0|160.0|   null|  null|    null|    9.0|     1.0|    1.0|     9.0|     4.0|     1.0|     1.0|     2.0|5.397605346934028...|     1.0|5.397605346934028...|     1.0|     1.0|     2.0|     2.0|               100.0|    29.0|5.397605346934028...|                null|5.397605346934028...|    29.0|5.397605346934028...|                 1.0|                 1.0|5.397605346934028...|   129.0|    null|     1.0|     9.0|    1.0|    1.0|5.397605346934028...|                 1.0|\n",
            "|  9|   1.0|   2.0|b'02202021'| b'02'|b'20'|b'2021'|  1100.0|b'2021000010'| 2.02100001E9|     1.0|     1.0|    null|     1.0|     2.0|    1.0|   null|     2.0|   null|                 1.0|     1.0|     2.0|    null|    null|    null|   null|   null|    null|    null|   null|    null|   null|   2.0|    3.0|    25.0|     5.0|     5.0|     3.0|     2.0|     2.0|     1.0|     1.0|    1.0|   1.0|     2.0|    2.0|     1.0|     2.0|     2.0|     2.0|    2.0|   null|     2.0|     2.0|     2.0|     2.0|     2.0|     3.0|    null|     1.0|     1.0|    2.0|     2.0|     2.0|     4.0|    1.0|  4.0|     1.0|     2.0|    null|     2.0|     2.0|    7.0|    88.0|    8.0|    null|  240.0|  505.0| 2.0|  2.0|   2.0|     1.0|     2.0|     2.0|     1.0|     3.0|    3.0|     3.0|  203.0|     2.0|    88.0|     2.0|     2.0|    null|    null|     1.0|    2.0|    null| 101.0|   555.0|   202.0|   202.0|   203.0|   204.0|     1.0|     3.0|    null|    null|    null|    null|    null|   null|    null|   null|   null|   null|   null|   null|    null|    null|    null|    null|    null|    null|    null|    null|    null|    null|    null|   null|    null|    null|  null|   null|    null|    null|    null|    null|    null|    null|    null|    null|   null|    null|    null|    null|    null|    null|    null|    null|    null|    null|    null|    null|    null|    null|    null|   null|    null|    null|    null|   null|    null|    null|    null|    null|    null|    null|    null|    null|    null|   null|   null|    null|    null|    null|   null|    null|  null|    null|    null|     1.0|    15.0|     2.0|     1.0|    15.0|     2.0|     2.0|     2.0|    null|     2.0|     2.0|     2.0|     2.0|     2.0|     1.0|     1.0|     3.0|     1.0|     1.0|     1.0|     4.0|     4.0|    null|    null|    null|    null|    null|    null|   null|    null|    null|    null|    null|    null|    null|  null|    null|    null|  10.0|    1.0|     1.0|     1.0|   1.0|11011.0|39.766157742553204|     2.0| 79.53231548510641|     1.0|     9.0|   null|    null| null|    null|     1.0|0.5190191247367235| 874.2429016362627| 744.7455308997082|    1.0|     3.0|     2.0|     1.0|     9.0|     1.0|     2.0|     1.0|     1.0|   2.0|     1.0|     1.0|     3.0|     1.0|     2.0|     2.0|    1.0|    1.0|     2.0|  1.0|     1.0|     1.0|     1.0| 2.0|    10.0|     2.0|  65.0|   6.0| 65.0|165.0|10886.0|3994.0|     4.0|    2.0|     1.0|    2.0|     5.0|     3.0|     1.0|     1.0|     1.0|                10.0|     1.0|               140.0|     1.0|     2.0|     1.0|     2.0|5.397605346934028...|   100.0|                29.0|                29.0|                43.0|    57.0|5.397605346934028...|5.397605346934028...|                 1.0|                 1.0|   100.0|   158.0|     1.0|     1.0|    1.0|    1.0|5.397605346934028...|5.397605346934028...|\n",
            "| 10|   1.0|   2.0|b'03062021'| b'03'|b'06'|b'2021'|  1100.0|b'2021000011'|2.021000011E9|     1.0|     1.0|    null|     1.0|     2.0|    1.0|   null|     1.0|    2.0|                null|    null|    null|    null|    null|    null|   null|   null|    null|    null|   null|    null|   null|   2.0|    4.0|    88.0|    25.0|    88.0|     3.0|     1.0|     2.0|     1.0|     2.0|    1.0|   1.0|     2.0|    1.0|     2.0|     2.0|     2.0|     2.0|    1.0|    1.0|     2.0|     2.0|     1.0|     1.0|     2.0|     3.0|    null|     2.0|    null|   null|    null|    null|    null|    2.0|  5.0|     1.0|     2.0|    null|     8.0|     2.0|    7.0|    88.0|    3.0|    null|  160.0|  504.0| 2.0|  2.0|   2.0|     2.0|     2.0|     2.0|     1.0|     2.0|    3.0|     3.0|  888.0|    null|    null|    null|     1.0|102020.0|     5.0|     1.0|    2.0|    null| 203.0|   555.0|   203.0|   201.0|   555.0|   203.0|     1.0|     3.0|    null|    null|    null|    null|    null|   null|    null|   null|   null|   null|   null|   null|    null|    null|    null|    null|    null|    null|    null|    null|    null|    null|    null|   null|    null|    null|  null|   null|    null|    null|    null|    null|    null|    null|    null|    null|   null|    null|    null|    null|    null|    null|    null|    null|    null|    null|    null|    null|    null|    null|    null|   null|    null|    null|    null|   null|    null|    null|    null|    null|    null|    null|    null|    null|    null|   null|   null|    null|    null|    null|   null|    null|  null|    null|    null|     2.0|    null|    null|    null|    null|    null|    null|    null|     2.0|     2.0|     2.0|     2.0|     2.0|     2.0|     1.0|     1.0|     1.0|     1.0|     1.0|     1.0|     5.0|     5.0|    null|    null|    null|    null|    null|    null|   null|    null|    null|    null|    null|    null|    null|  null|    null|    null|  10.0|    1.0|     1.0|     1.0|   2.0|11011.0|39.766157742553204|     1.0|39.766157742553204|     1.0|     9.0|   null|    null| null|    null|     9.0|              null|1072.3844995442644| 914.6331323385558|    2.0|     1.0|     3.0|     1.0|     9.0|     2.0|     2.0|     1.0|     2.0|   2.0|     2.0|     2.0|     1.0|     2.0|     3.0|     3.0|    1.0|    1.0|     2.0|  1.0|     1.0|     1.0|     1.0| 2.0|    10.0|     2.0|  67.0|   6.0| 64.0|163.0| 7257.0|2746.0|     3.0|    2.0|     1.0|    3.0|     2.0|     2.0|     2.0|     1.0|     2.0|5.397605346934028...|     1.0|5.397605346934028...|     1.0|     1.0|     1.0|     2.0|5.397605346934028...|    43.0|                43.0|                14.0|5.397605346934028...|    43.0|5.397605346934028...|5.397605346934028...|                 1.0|                 1.0|    43.0|   100.0|     2.0|     1.0|    1.0|    1.0|5.397605346934028...|5.397605346934028...|\n",
            "| 11|   1.0|   2.0|b'02282021'| b'02'|b'28'|b'2021'|  1100.0|b'2021000012'|2.021000012E9|     1.0|     1.0|    null|     1.0|     2.0|    1.0|   null|     2.0|   null|5.397605346934028...|     2.0|     2.0|    null|    null|    null|   null|   null|    null|    null|   null|    null|   null|   2.0|    3.0|     7.0|    15.0|    88.0|     3.0|     1.0|     2.0|     1.0|     2.0|    1.0|   1.0|     2.0|    1.0|     1.0|     2.0|     2.0|     7.0|    2.0|   null|     7.0|     2.0|     2.0|     2.0|     2.0|     3.0|    null|     1.0|     2.0|    2.0|     2.0|     2.0|     8.0|    3.0|  4.0|     1.0|     2.0|    null|     1.0|     2.0|    7.0|    88.0|    4.0|    null|  160.0|  410.0| 2.0|  1.0|   2.0|     2.0|     2.0|     2.0|     2.0|    null|    3.0|     3.0|  888.0|    null|    null|    null|     1.0|777777.0|     1.0|     2.0|    2.0|    null| 205.0|   205.0|   555.0|   303.0|   203.0|   101.0|     2.0|     3.0|    null|    null|    null|    null|    null|   null|    null|   null|   null|   null|   null|   null|    null|    null|    null|    null|    null|    null|    null|    null|    null|    null|    null|   null|    null|    null|  null|   null|    null|    null|    null|    null|    null|    null|    null|    null|   null|    null|    null|    null|    null|    null|    null|    null|    null|    null|    null|    null|    null|    null|    null|   null|    null|    null|    null|   null|    null|    null|    null|    null|    null|    null|    null|    null|    null|   null|   null|    null|    null|    null|   null|    null|  null|    null|    null|     2.0|    null|    null|    null|    null|    null|    null|    null|     2.0|     2.0|     2.0|     2.0|     2.0|     2.0|     1.0|     1.0|     1.0|     9.0|     1.0|     1.0|     5.0|     5.0|    null|    null|    null|    null|    null|    null|   null|    null|    null|    null|    null|    null|    null|  null|    null|    null|  10.0|    1.0|     1.0|     1.0|   3.0|11011.0|39.766157742553204|     2.0| 79.53231548510641|     1.0|     9.0|   null|    null| null|    null|     1.0|0.5190191247367235| 874.2429016362627| 796.0383603917575|    1.0|     2.0|     3.0|     1.0|     9.0|     2.0|     2.0|     1.0|     2.0|   2.0|     1.0|     1.0|     3.0|     1.0|     2.0|     2.0|    1.0|    1.0|     9.0|  9.0|     9.0|     9.0|     1.0| 2.0|    12.0|     2.0|  76.0|   6.0| 58.0|147.0| 7257.0|3344.0|     4.0|    2.0|     1.0|    2.0|     2.0|     4.0|     1.0|     1.0|     2.0|5.397605346934028...|     1.0|5.397605346934028...|     1.0|     1.0|     2.0|     2.0|                71.0|    71.0|5.397605346934028...|                10.0|                43.0|   100.0|5.397605346934028...|5.397605346934028...|                 1.0|                 1.0|   142.0|   153.0|     1.0|     1.0|    1.0|    1.0|5.397605346934028...|5.397605346934028...|\n",
            "| 12|   1.0|   2.0|b'03032021'| b'03'|b'03'|b'2021'|  1100.0|b'2021000013'|2.021000013E9|     1.0|     1.0|    null|     1.0|     2.0|    1.0|   null|     2.0|   null|                 1.0|     1.0|     2.0|    null|    null|    null|   null|   null|    null|    null|   null|    null|   null|   2.0|    4.0|    77.0|    77.0|    88.0|    99.0|     2.0|     1.0|     1.0|     2.0|    3.0|  null|     2.0|    1.0|     2.0|     2.0|     2.0|     2.0|    2.0|   null|     1.0|     2.0|     2.0|     1.0|     2.0|     3.0|    null|     1.0|     1.0|    1.0|     1.0|     1.0|    10.0|    1.0|  3.0|     1.0|     2.0|    null|     1.0|     2.0|    5.0|    88.0|   77.0|    null|  134.0|  503.0| 2.0|  1.0|   1.0|     1.0|     2.0|     2.0|     2.0|    null|    3.0|     3.0|  888.0|    null|    null|    null|     1.0|102020.0|     1.0|     1.0|    2.0|    null| 101.0|   555.0|   304.0|   302.0|   302.0|   303.0|     2.0|     3.0|    null|    null|    null|    null|    null|   null|    null|   null|   null|   null|   null|   null|    null|    null|    null|    null|    null|    null|    null|    null|    null|    null|    null|   null|    null|    null|  null|   null|    null|    null|    null|    null|    null|    null|    null|    null|   null|    null|    null|    null|    null|    null|    null|    null|    null|    null|    null|    null|    null|    null|    null|   null|    null|    null|    null|   null|    null|    null|    null|    null|    null|    null|    null|    null|    null|   null|   null|    null|    null|    null|   null|    null|  null|    null|    null|     1.0|     6.0|     3.0|     4.0|    13.0|     2.0|     1.0|     1.0|    null|     2.0|     2.0|     2.0|     2.0|     2.0|     3.0|     3.0|     3.0|     1.0|     1.0|     1.0|     5.0|     5.0|    null|    null|    null|    null|    null|    null|   null|    null|    null|    null|    null|    null|    null|  null|    null|    null|  10.0|    1.0|     1.0|     1.0|   3.0|11011.0|39.766157742553204|     2.0| 79.53231548510641|     1.0|     9.0|   null|    null| null|    null|     1.0|0.5190191247367235| 874.2429016362627|1261.3489599327522|    2.0|     9.0|     9.0|     9.0|     9.0|     2.0|     1.0|     1.0|     2.0|   2.0|     1.0|     1.0|     3.0|     1.0|     1.0|     1.0|    1.0|    1.0|     2.0|  1.0|     1.0|     1.0|     1.0| 2.0|    11.0|     2.0|  73.0|   6.0| 63.0|160.0| 6078.0|2374.0|     2.0|    1.0|     1.0|    1.0|     9.0|     4.0|     1.0|     1.0|     2.0|5.397605346934028...|     1.0|5.397605346934028...|     1.0|     1.0|     1.0|     2.0|5.397605346934028...|   100.0|                13.0|                 7.0|                 7.0|    10.0|5.397605346934028...|5.397605346934028...|                 1.0|                 1.0|   100.0|    37.0|     1.0|     2.0|    1.0|    1.0|5.397605346934028...|5.397605346934028...|\n",
            "| 13|   1.0|   2.0|b'03032021'| b'03'|b'03'|b'2021'|  1100.0|b'2021000014'|2.021000014E9|     1.0|     1.0|    null|     1.0|     2.0|    1.0|   null|     2.0|   null|                 1.0|     1.0|     2.0|    null|    null|    null|   null|   null|    null|    null|   null|    null|   null|   2.0|    4.0|     1.0|    88.0|    88.0|     3.0|     1.0|     2.0|     1.0|     2.0|    1.0|   1.0|     2.0|    2.0|     2.0|     2.0|     2.0|     2.0|    2.0|   null|     2.0|     2.0|     2.0|     2.0|     2.0|     1.0|    50.0|     1.0|     1.0|    1.0|     1.0|     2.0|     5.0|    1.0|  6.0|     1.0|     2.0|    null|     1.0|     2.0|    7.0|    88.0|   77.0|    null|  202.0|  504.0| 2.0|  2.0|   2.0|     1.0|     2.0|     2.0|     2.0|    null|    3.0|     3.0|  888.0|    null|    null|    null|     1.0|102020.0|     5.0|     1.0|    2.0|    null| 203.0|   555.0|   203.0|   301.0|   202.0|   207.0|    null|    null|    null|    null|    null|    null|    null|   null|    null|   null|   null|   null|   null|   null|    null|    null|    null|    null|    null|    null|    null|    null|    null|    null|    null|   null|    null|    null|  null|   null|    null|    null|    null|    null|    null|    null|    null|    null|   null|    null|    null|    null|    null|    null|    null|    null|    null|    null|    null|    null|    null|    null|    null|   null|    null|    null|    null|   null|    null|    null|    null|    null|    null|    null|    null|    null|    null|   null|   null|    null|    null|    null|   null|    null|  null|    null|    null|     2.0|    null|    null|    null|    null|    null|    null|    null|     2.0|     1.0|     2.0|     2.0|     2.0|     2.0|     1.0|     1.0|     1.0|     1.0|     1.0|     1.0|     5.0|     5.0|    null|    null|    null|    null|    null|    null|   null|    null|    null|    null|    null|    null|    null|  null|    null|    null|  10.0|    1.0|     1.0|     1.0|   1.0|11011.0|39.766157742553204|     2.0| 79.53231548510641|     1.0|     9.0|   null|    null| null|    null|     1.0|0.5190191247367235| 874.2429016362627|378.96796148770125|    2.0|     2.0|     1.0|     1.0|     9.0|     2.0|     2.0|     1.0|     1.0|   2.0|     1.0|     1.0|     3.0|     1.0|     1.0|     2.0|    1.0|    1.0|     2.0|  1.0|     1.0|     1.0|     1.0| 2.0|    11.0|     2.0|  73.0|   6.0| 64.0|163.0| 9163.0|3467.0|     4.0|    2.0|     1.0|    4.0|     9.0|     4.0|     1.0|     1.0|     2.0|5.397605346934028...|     1.0|5.397605346934028...|     1.0|     1.0|     1.0|     2.0|5.397605346934028...|    43.0|                43.0|                 3.0|                29.0|   100.0|5.397605346934028...|5.397605346934028...|                 1.0|                 1.0|    43.0|   175.0|     2.0|     1.0|    1.0|    1.0|5.397605346934028...|5.397605346934028...|\n",
            "| 14|   1.0|   2.0|b'02202021'| b'02'|b'20'|b'2021'|  1100.0|b'2021000015'|2.021000015E9|     1.0|     1.0|    null|     1.0|     2.0|    1.0|   null|     1.0|    2.0|                null|    null|    null|    null|    null|    null|   null|   null|    null|    null|   null|    null|   null|   2.0|    4.0|    88.0|    88.0|    null|     3.0|     2.0|     2.0|     1.0|     1.0|    3.0|  null|     2.0|    1.0|     1.0|     1.0|     1.0|     2.0|    2.0|   null|     2.0|     2.0|     2.0|     2.0|     1.0|     3.0|    null|     1.0|     1.0|    2.0|     2.0|     2.0|     4.0|    3.0|  4.0|     1.0|     2.0|    null|     1.0|     2.0|    7.0|    88.0|   77.0|    null|  165.0|  503.0| 2.0|  2.0|   2.0|     2.0|     2.0|     2.0|     2.0|    null|    3.0|     3.0|  888.0|    null|    null|    null|     1.0|102020.0|     5.0|     1.0|    2.0|    null| 101.0|   202.0|   205.0|   302.0|   330.0|   330.0|     1.0|     3.0|    null|    null|    null|    null|    null|   null|    null|   null|   null|   null|   null|   null|    null|    null|    null|    null|    null|    null|    null|    null|    null|    null|    null|   null|    null|    null|  null|   null|    null|    null|    null|    null|    null|    null|    null|    null|   null|    null|    null|    null|    null|    null|    null|    null|    null|    null|    null|    null|    null|    null|    null|   null|    null|    null|    null|   null|    null|    null|    null|    null|    null|    null|    null|    null|    null|   null|   null|    null|    null|    null|   null|    null|  null|    null|    null|     2.0|    null|    null|    null|    null|    null|    null|    null|     2.0|     2.0|     2.0|     2.0|     2.0|     2.0|     1.0|     1.0|     1.0|     1.0|     1.0|     1.0|     5.0|     5.0|    null|    null|    null|    null|    null|    null|   null|    null|    null|    null|    null|    null|    null|  null|    null|    null|  10.0|    1.0|     1.0|     1.0|   1.0|11011.0|39.766157742553204|     1.0|39.766157742553204|     1.0|     9.0|   null|    null| null|    null|     1.0|0.5190191247367235|437.12145081813134|398.01918019587873|    2.0|     1.0|     1.0|     1.0|     9.0|     1.0|     1.0|     1.0|     2.0|   1.0|     1.0|     1.0|     3.0|     1.0|     2.0|     2.0|    1.0|    1.0|     2.0|  1.0|     1.0|     1.0|     1.0| 2.0|    12.0|     2.0|  77.0|   6.0| 63.0|160.0| 7484.0|2923.0|     3.0|    2.0|     1.0|    2.0|     9.0|     4.0|     1.0|     1.0|     2.0|5.397605346934028...|     1.0|5.397605346934028...|     1.0|     1.0|     1.0|     2.0|                29.0|   100.0|                71.0|                 7.0|               100.0|   100.0|5.397605346934028...|5.397605346934028...|                 1.0|                 1.0|   129.0|   278.0|     1.0|     1.0|    1.0|    1.0|5.397605346934028...|5.397605346934028...|\n",
            "| 15|   1.0|   2.0|b'02202021'| b'02'|b'20'|b'2021'|  1100.0|b'2021000016'|2.021000016E9|     1.0|     1.0|    null|     1.0|     2.0|    1.0|   null|     3.0|   null|                 2.0|     1.0|     2.0|    null|    null|    null|   null|   null|    null|    null|   null|    null|   null|   2.0|    2.0|    88.0|    88.0|    null|    10.0|     1.0|     2.0|     1.0|     1.0|    3.0|  null|     2.0|    1.0|     2.0|     2.0|     2.0|     2.0|    2.0|   null|     2.0|     2.0|     2.0|     2.0|     2.0|     3.0|    null|     2.0|    null|   null|    null|    null|    null|    1.0|  6.0|     1.0|     2.0|    null|     1.0|     2.0|    7.0|    88.0|    8.0|    null| 9999.0|  505.0| 2.0|  2.0|   2.0|     2.0|     2.0|     2.0|     1.0|     3.0|    3.0|     3.0|  888.0|    null|    null|    null|     1.0| 92020.0|     5.0|     2.0|    7.0|    null| 315.0|   303.0|   330.0|   301.0|   306.0|   330.0|     1.0|     3.0|    null|    null|    null|    null|    null|   null|    null|   null|   null|   null|   null|   null|    null|    null|    null|    null|    null|    null|    null|    null|    null|    null|    null|   null|    null|    null|  null|   null|    null|    null|    null|    null|    null|    null|    null|    null|   null|    null|    null|    null|    null|    null|    null|    null|    null|    null|    null|    null|    null|    null|    null|   null|    null|    null|    null|   null|    null|    null|    null|    null|    null|    null|    null|    null|    null|   null|   null|    null|    null|    null|   null|    null|  null|    null|    null|     2.0|    null|    null|    null|    null|    null|    null|    null|     7.0|     2.0|     2.0|     1.0|     2.0|     2.0|     1.0|     1.0|     1.0|     1.0|     1.0|     1.0|     5.0|     5.0|    null|    null|    null|    null|    null|    null|   null|    null|    null|    null|    null|    null|    null|  null|    null|    null|  10.0|    1.0|     1.0|     1.0|   1.0|11011.0|39.766157742553204|     3.0|119.29847322765961|     1.0|     9.0|   null|    null| null|    null|     1.0|0.5190191247367235| 1311.364352454394| 839.3229542209751|    1.0|     1.0|     1.0|     1.0|     1.0|     1.0|     1.0|     1.0|     2.0|   2.0|     1.0|     1.0|     3.0|     2.0|     3.0|     3.0|    1.0|    1.0|     2.0|  1.0|     1.0|     1.0|     1.0| 2.0|     9.0|     1.0|  62.0|   5.0| 65.0|165.0|   null|  null|    null|    9.0|     1.0|    4.0|     5.0|     3.0|     1.0|     1.0|     2.0|5.397605346934028...|     1.0|5.397605346934028...|     1.0|    null|    null|     9.0|                10.0|    50.0|               100.0|                 3.0|                20.0|   100.0|5.397605346934028...|5.397605346934028...|                 1.0|                 1.0|    60.0|   223.0|     2.0|     1.0|    1.0|    1.0|5.397605346934028...|5.397605346934028...|\n",
            "| 16|   1.0|   2.0|b'03062021'| b'03'|b'06'|b'2021'|  1100.0|b'2021000017'|2.021000017E9|     1.0|     1.0|    null|     1.0|     2.0|    1.0|   null|     3.0|   null|                 2.0|     1.0|     2.0|    null|    null|    null|   null|   null|    null|    null|   null|    null|   null|   2.0|    4.0|    10.0|    77.0|     2.0|     1.0|     2.0|     1.0|     1.0|     1.0|    3.0|  null|     2.0|    1.0|     1.0|     2.0|     2.0|     2.0|    2.0|   null|     2.0|     2.0|     2.0|     2.0|     2.0|     1.0|    55.0|     1.0|     2.0|    2.0|     1.0|     2.0|     7.0|    1.0|  4.0|     1.0|     2.0|    null|     1.0|     2.0|    5.0|    88.0|    5.0|    null|  104.0|  504.0| 2.0|  2.0|   1.0|     1.0|     2.0|     1.0|     1.0|     3.0|    3.0|     3.0|  888.0|    null|    null|    null|     1.0|777777.0|     1.0|     2.0|    2.0|    null| 101.0|   555.0|   203.0|   202.0|   201.0|   101.0|    null|    null|    null|    null|    null|    null|    null|   null|    null|   null|   null|   null|   null|   null|    null|    null|    null|    null|    null|    null|    null|    null|    null|    null|    null|   null|    null|    null|  null|   null|    null|    null|    null|    null|    null|    null|    null|    null|   null|    null|    null|    null|    null|    null|    null|    null|    null|    null|    null|    null|    null|    null|    null|   null|    null|    null|    null|   null|    null|    null|    null|    null|    null|    null|    null|    null|    null|   null|   null|    null|    null|    null|   null|    null|  null|    null|    null|     1.0|    15.0|     3.0|     1.0|     6.0|     1.0|     1.0|     1.0|    null|     2.0|     2.0|     2.0|     2.0|     2.0|     1.0|     1.0|     1.0|     1.0|     1.0|     1.0|     5.0|     5.0|    null|    null|    null|    null|    null|    null|   null|    null|    null|    null|    null|    null|    null|  null|    null|    null|  10.0|    1.0|     1.0|     1.0|   5.0|11011.0|39.766157742553204|     3.0|119.29847322765961|     1.0|     9.0|   null|    null| null|    null|     1.0|0.5190191247367235| 1311.364352454394|1649.4323601492574|    2.0|     2.0|     9.0|     1.0|     1.0|     1.0|     1.0|     1.0|     2.0|   2.0|     1.0|     1.0|     3.0|     1.0|     1.0|     2.0|    1.0|    1.0|     2.0|  1.0|     1.0|     1.0|     1.0| 2.0|     9.0|     1.0|  62.0|   5.0| 64.0|163.0| 4717.0|1785.0|     1.0|    1.0|     1.0|    2.0|     3.0|     3.0|     1.0|     1.0|     2.0|5.397605346934028...|     1.0|5.397605346934028...|     1.0|    null|    null|     2.0|5.397605346934028...|   100.0|                43.0|                29.0|                14.0|   100.0|5.397605346934028...|5.397605346934028...|                 1.0|                 1.0|   100.0|   186.0|     1.0|     1.0|    1.0|    1.0|5.397605346934028...|5.397605346934028...|\n",
            "| 17|   1.0|   2.0|b'03012021'| b'03'|b'01'|b'2021'|  1100.0|b'2021000018'|2.021000018E9|     1.0|     1.0|    null|     1.0|     2.0|    1.0|   null|     1.0|    1.0|                null|    null|    null|    null|    null|    null|   null|   null|    null|    null|   null|    null|   null|   1.0|    4.0|    88.0|    88.0|    null|     3.0|     2.0|     2.0|     1.0|     2.0|    3.0|  null|     2.0|    2.0|     2.0|     2.0|     1.0|     2.0|    2.0|   null|     1.0|     2.0|     2.0|     2.0|     2.0|     1.0|    62.0|     2.0|    null|   null|    null|    null|    null|    1.0|  6.0|     1.0|     1.0|     2.0|     1.0|     1.0|    7.0|    88.0|    7.0|    null|  162.0|  509.0| 2.0|  2.0|   1.0|     2.0|     2.0|     2.0|     2.0|    null|    3.0|     3.0|  888.0|    null|    null|    null|     1.0|777777.0|     1.0|     1.0|    2.0|    null| 302.0|   302.0|   202.0|   101.0|   302.0|   207.0|    null|    null|    null|    null|    null|    null|    null|   null|    null|   null|   null|   null|   null|   null|    null|    null|    null|    null|    null|    null|    null|    null|    null|    null|    null|   null|    null|    null|  null|   null|    null|    null|    null|    null|    null|    null|    null|    null|   null|    null|    null|    null|    null|    null|    null|    null|    null|    null|    null|    null|    null|    null|    null|   null|    null|    null|    null|   null|    null|    null|    null|    null|    null|    null|    null|    null|    null|   null|   null|    null|    null|    null|   null|    null|  null|    null|    null|     2.0|    null|    null|    null|    null|    null|    null|    null|     2.0|     2.0|     2.0|     2.0|     2.0|     2.0|     1.0|     1.0|     1.0|     1.0|     1.0|     1.0|     5.0|     5.0|    null|    null|    null|    null|    null|    null|   null|    null|    null|    null|    null|    null|    null|  null|    null|    null|  10.0|    1.0|     1.0|     1.0|   3.0|11011.0|39.766157742553204|     0.5|19.883078871276602|     1.0|     9.0|   null|    null| null|    null|     1.0|0.5190191247367235|218.56072540906567|137.06185048128293|    2.0|     1.0|     1.0|     1.0|     9.0|     2.0|     1.0|     1.0|     1.0|   1.0|     1.0|     1.0|     3.0|     2.0|     3.0|     3.0|    1.0|    1.0|     2.0|  1.0|     1.0|     1.0|     1.0| 1.0|    12.0|     2.0|  79.0|   6.0| 69.0|175.0| 7348.0|2392.0|     2.0|    1.0|     1.0|    4.0|     5.0|     4.0|     1.0|     1.0|     2.0|5.397605346934028...|     1.0|5.397605346934028...|     1.0|     1.0|     1.0|     2.0|                 7.0|     7.0|                29.0|               100.0|                 7.0|   100.0|5.397605346934028...|5.397605346934028...|                 1.0|                 1.0|    14.0|   236.0|     2.0|     1.0|    1.0|    1.0|5.397605346934028...|5.397605346934028...|\n",
            "| 18|   1.0|   2.0|b'03012021'| b'03'|b'01'|b'2021'|  1200.0|b'2021000019'|2.021000019E9|     1.0|     1.0|    null|     1.0|     2.0|    1.0|   null|     3.0|   null|5.397605346934028...|     3.0|     2.0|    null|    null|    null|   null|   null|    null|    null|   null|    null|   null|   2.0|    5.0|    30.0|    88.0|    30.0|     3.0|     2.0|     2.0|     2.0|     2.0|    1.0|   1.0|     2.0|    1.0|     2.0|     1.0|     1.0|     2.0|    2.0|   null|     2.0|     1.0|     1.0|     2.0|     1.0|     1.0|    98.0|     1.0|     1.0|    1.0|     1.0|     1.0|     8.0|    2.0|  4.0|     1.0|     2.0|    null|     8.0|     2.0|    7.0|    88.0|   99.0|    null|  200.0|  503.0| 2.0|  2.0|   2.0|     1.0|     1.0|     1.0|     2.0|    null|    3.0|     3.0|  888.0|    null|    null|    null|     2.0|    null|    null|     1.0|    1.0|777777.0| 777.0|   777.0|   201.0|    null|    null|    null|    null|    null|    null|    null|    null|    null|    null|   null|    null|   null|   null|   null|   null|   null|    null|    null|    null|    null|    null|    null|    null|    null|    null|    null|    null|   null|    null|    null|  null|   null|    null|    null|    null|    null|    null|    null|    null|    null|   null|    null|    null|    null|    null|    null|    null|    null|    null|    null|    null|    null|    null|    null|    null|   null|    null|    null|    null|   null|    null|    null|    null|    null|    null|    null|    null|    null|    null|   null|   null|    null|    null|    null|   null|    null|  null|    null|    null|    null|    null|    null|    null|    null|    null|    null|    null|    null|    null|    null|    null|    null|    null|    null|    null|    null|    null|    null|    null|    null|    null|    null|    null|    null|    null|    null|    null|   null|    null|    null|    null|    null|    null|    null|  null|    null|    null|  10.0|    1.0|     2.0|     1.0|   2.0|11011.0|39.766157742553204|     3.0|119.29847322765961|     1.0|     9.0|   null|    null| null|    null|     9.0|              null| 2797.521798468357|2718.7434522008703|    2.0|     3.0|     1.0|     1.0|     9.0|     2.0|     2.0|     1.0|     2.0|   1.0|     1.0|     1.0|     3.0|     1.0|     1.0|     1.0|    1.0|    1.0|     2.0|  1.0|     1.0|     1.0|     1.0| 2.0|    12.0|     2.0|  78.0|   6.0| 63.0|160.0| 9072.0|3543.0|     4.0|    2.0|     1.0|    2.0|     9.0|     4.0|     1.0|     1.0|     2.0|5.397605346934028...|     1.0|5.397605346934028...|     1.0|     2.0|     1.0|     1.0|                null|    null|                14.0|                null|                null|    null|                 2.0|                 3.0|5.397605346934028...|5.397605346934028...|    null|    null|     9.0|     9.0|    1.0|    1.0|                 1.0|                 1.0|\n",
            "| 19|   1.0|   2.0|b'02202021'| b'02'|b'20'|b'2021'|  1100.0|b'2021000020'| 2.02100002E9|     1.0|     1.0|    null|     1.0|     2.0|    1.0|   null|     1.0|    2.0|                null|    null|    null|    null|    null|    null|   null|   null|    null|    null|   null|    null|   null|   2.0|    2.0|    88.0|    88.0|    null|     1.0|     1.0|     2.0|     1.0|     2.0|    1.0|   1.0|     2.0|    1.0|     1.0|     2.0|     2.0|     2.0|    1.0|    1.0|     2.0|     2.0|     2.0|     1.0|     2.0|     3.0|    null|     2.0|    null|   null|    null|    null|    null|    5.0|  4.0|     1.0|     2.0|    null|     1.0|     2.0|    1.0|    88.0|    6.0|    null|  185.0|  506.0| 2.0|  2.0|   2.0|     2.0|     2.0|     2.0|     2.0|    null|    3.0|     3.0|  102.0|     1.0|    88.0|     1.0|     1.0|102020.0|     5.0|     2.0|    2.0|    null| 202.0|   102.0|   555.0|   302.0|   301.0|   207.0|     2.0|     3.0|    null|    null|    null|    null|    null|   null|    null|   null|   null|   null|   null|   null|    null|    null|    null|    null|    null|    null|    null|    null|    null|    null|    null|   null|    null|    null|  null|   null|    null|    null|    null|    null|    null|    null|    null|    null|   null|    null|    null|    null|    null|    null|    null|    null|    null|    null|    null|    null|    null|    null|    null|   null|    null|    null|    null|   null|    null|    null|    null|    null|    null|    null|    null|    null|    null|   null|   null|    null|    null|    null|   null|    null|  null|    null|    null|     2.0|    null|    null|    null|    null|    null|    null|    null|     2.0|     2.0|     2.0|     2.0|     2.0|     2.0|     1.0|     1.0|     1.0|     1.0|     1.0|     1.0|     5.0|     5.0|    null|    null|    null|    null|    null|    null|   null|    null|    null|    null|    null|    null|    null|  null|    null|    null|  10.0|    1.0|     1.0|     1.0|   1.0|11011.0|39.766157742553204|     1.0|39.766157742553204|     1.0|     9.0|   null|    null| null|    null|     1.0|0.5190191247367235|437.12145081813134| 770.2739440779656|    1.0|     1.0|     1.0|     1.0|     1.0|     2.0|     2.0|     1.0|     2.0|   2.0|     2.0|     2.0|     1.0|     2.0|     3.0|     3.0|    1.0|    1.0|     2.0|  1.0|     1.0|     1.0|     1.0| 2.0|     7.0|     1.0|  53.0|   4.0| 66.0|168.0| 8391.0|2986.0|     3.0|    2.0|     1.0|    2.0|     4.0|     4.0|     1.0|     1.0|     1.0|                29.0|     1.0|               200.0|     1.0|    null|    null|     2.0|               200.0|    29.0|5.397605346934028...|                 7.0|                 3.0|   100.0|5.397605346934028...|5.397605346934028...|                 1.0|                 1.0|   229.0|   110.0|     1.0|     1.0|    1.0|    1.0|5.397605346934028...|5.397605346934028...|\n",
            "+---+------+------+-----------+------+-----+-------+--------+-------------+-------------+--------+--------+--------+--------+--------+-------+-------+--------+-------+--------------------+--------+--------+--------+--------+--------+-------+-------+--------+--------+-------+--------+-------+------+-------+--------+--------+--------+--------+--------+--------+--------+--------+-------+------+--------+-------+--------+--------+--------+--------+-------+-------+--------+--------+--------+--------+--------+--------+--------+--------+--------+-------+--------+--------+--------+-------+-----+--------+--------+--------+--------+--------+-------+--------+-------+--------+-------+-------+----+-----+------+--------+--------+--------+--------+--------+-------+--------+-------+--------+--------+--------+--------+--------+--------+--------+-------+--------+------+--------+--------+--------+--------+--------+--------+--------+--------+--------+--------+--------+--------+-------+--------+-------+-------+-------+-------+-------+--------+--------+--------+--------+--------+--------+--------+--------+--------+--------+--------+-------+--------+--------+------+-------+--------+--------+--------+--------+--------+--------+--------+--------+-------+--------+--------+--------+--------+--------+--------+--------+--------+--------+--------+--------+--------+--------+--------+-------+--------+--------+--------+-------+--------+--------+--------+--------+--------+--------+--------+--------+--------+-------+-------+--------+--------+--------+-------+--------+------+--------+--------+--------+--------+--------+--------+--------+--------+--------+--------+--------+--------+--------+--------+--------+--------+--------+--------+--------+--------+--------+--------+--------+--------+--------+--------+--------+--------+--------+--------+-------+--------+--------+--------+--------+--------+--------+------+--------+--------+------+-------+--------+--------+------+-------+------------------+--------+------------------+--------+--------+-------+--------+-----+--------+--------+------------------+------------------+------------------+-------+--------+--------+--------+--------+--------+--------+--------+--------+------+--------+--------+--------+--------+--------+--------+-------+-------+--------+-----+--------+--------+--------+----+--------+--------+------+------+-----+-----+-------+------+--------+-------+--------+-------+--------+--------+--------+--------+--------+--------------------+--------+--------------------+--------+--------+--------+--------+--------------------+--------+--------------------+--------------------+--------------------+--------+--------------------+--------------------+--------------------+--------------------+--------+--------+--------+--------+-------+-------+--------------------+--------------------+\n",
            "only showing top 20 rows\n",
            "\n"
          ]
        }
      ],
      "source": [
        "from pyspark import SparkFiles\n",
        "# Load in the review data from S3 into the dataframe\n",
        "url = \"https://unbearable-1-project-bucket.s3.us-east-2.amazonaws.com/Diabetes_Key_Indicators.csv\"\n",
        "spark.sparkContext.addFile(url)\n",
        "df = spark.read.option(\"encoding\", \"UTF-8\").csv(SparkFiles.get(\"\"), sep=\",\", header=True, inferSchema=True)\n",
        "df.show()"
      ]
    },
    {
      "cell_type": "code",
      "source": [
        "new_df = df.select([\"DIABETE4\",\n",
        "                    \"_RACE\",\n",
        "                    \"TOLDHI3\",\n",
        "                    \"BPHIGH6\",\n",
        "                    \"_BMI5\",\n",
        "                    \"SMOKE100\",\n",
        "                    \"_RFBING5\",\n",
        "                    \"EDUCA\",\n",
        "                    \"GENHLTH\",\n",
        "                    \"_AGEG5YR\",\n",
        "                    \"EXERANY2\",\n",
        "                    \"FRUIT2\",\n",
        "                    \"VEGETAB2\",\n",
        "                    \"_INCOMG1\",\n",
        "                    \"MEDCOST1\",\n",
        "                    \"_SEX\"])\n",
        "new_df.show()"
      ],
      "metadata": {
        "colab": {
          "base_uri": "https://localhost:8080/"
        },
        "id": "UKXZpAUYTp8f",
        "outputId": "a2a0519a-984b-414b-9603-b790738b56e2"
      },
      "execution_count": null,
      "outputs": [
        {
          "output_type": "stream",
          "name": "stdout",
          "text": [
            "+--------+-----+-------+-------+------+--------+--------+-----+-------+--------+--------+------+--------+--------+--------+----+\n",
            "|DIABETE4|_RACE|TOLDHI3|BPHIGH6| _BMI5|SMOKE100|_RFBING5|EDUCA|GENHLTH|_AGEG5YR|EXERANY2|FRUIT2|VEGETAB2|_INCOMG1|MEDCOST1|_SEX|\n",
            "+--------+-----+-------+-------+------+--------+--------+-----+-------+--------+--------+------+--------+--------+--------+----+\n",
            "|     3.0|  1.0|    1.0|    3.0|1454.0|     1.0|     1.0|  4.0|    5.0|    11.0|     2.0| 101.0|   101.0|     3.0|     2.0| 2.0|\n",
            "|     1.0|  2.0|    1.0|    1.0|  null|     2.0|     1.0|  6.0|    3.0|    10.0|     1.0| 101.0|   207.0|     9.0|     2.0| 2.0|\n",
            "|     1.0|  2.0|    2.0|    1.0|2829.0|     2.0|     1.0|  4.0|    2.0|    11.0|     2.0| 101.0|   203.0|     2.0|     2.0| 2.0|\n",
            "|     1.0|  1.0|    1.0|    1.0|3347.0|     2.0|     2.0|  4.0|    2.0|     9.0|     1.0| 203.0|   205.0|     5.0|     2.0| 2.0|\n",
            "|     1.0|  7.0|    1.0|    4.0|2873.0|     2.0|     1.0|  3.0|    5.0|    12.0|     1.0| 101.0|   101.0|     2.0|     2.0| 1.0|\n",
            "|     3.0|  1.0|    2.0|    3.0|2437.0|     1.0|     1.0|  5.0|    3.0|    13.0|     2.0| 202.0|   201.0|     4.0|     2.0| 1.0|\n",
            "|     3.0|  1.0|    2.0|    1.0|4611.0|     2.0|     1.0|  6.0|    3.0|     9.0|     2.0| 312.0|   202.0|     9.0|     2.0| 1.0|\n",
            "|     3.0|  1.0|    1.0|    1.0|2274.0|     1.0|     1.0|  3.0|    4.0|     9.0|     1.0| 204.0|   204.0|     9.0|     2.0| 1.0|\n",
            "|     3.0|  1.0|    2.0|    3.0|  null|     2.0|     1.0|  3.0|    2.0|    12.0|     2.0| 202.0|   202.0|     9.0|     2.0| 2.0|\n",
            "|     3.0|  1.0|    2.0|    1.0|3994.0|     1.0|     1.0|  4.0|    3.0|    10.0|     1.0| 101.0|   204.0|     5.0|     2.0| 2.0|\n",
            "|     3.0|  1.0|    1.0|    1.0|2746.0|     1.0|     1.0|  5.0|    4.0|    10.0|     2.0| 203.0|   203.0|     2.0|     2.0| 2.0|\n",
            "|     3.0|  9.0|    1.0|    1.0|3344.0|     2.0|     1.0|  4.0|    3.0|    12.0|     2.0| 205.0|   101.0|     2.0|     2.0| 2.0|\n",
            "|     3.0|  1.0|    1.0|    3.0|2374.0|     2.0|     1.0|  3.0|    4.0|    11.0|     2.0| 101.0|   303.0|     9.0|     1.0| 2.0|\n",
            "|     1.0|  1.0|    2.0|    1.0|3467.0|     2.0|     1.0|  6.0|    4.0|    11.0|     2.0| 203.0|   207.0|     9.0|     2.0| 2.0|\n",
            "|     3.0|  1.0|    1.0|    3.0|2923.0|     2.0|     1.0|  4.0|    4.0|    12.0|     1.0| 101.0|   330.0|     9.0|     2.0| 2.0|\n",
            "|     3.0|  1.0|    1.0|    3.0|  null|     1.0|     1.0|  6.0|    2.0|     9.0|     1.0| 315.0|   330.0|     5.0|     2.0| 2.0|\n",
            "|     1.0|  1.0|    1.0|    3.0|1785.0|     1.0|     1.0|  4.0|    4.0|     9.0|     1.0| 101.0|   101.0|     3.0|     1.0| 2.0|\n",
            "|     1.0|  1.0|    2.0|    3.0|2392.0|     2.0|     1.0|  6.0|    4.0|    12.0|     2.0| 302.0|   207.0|     5.0|     2.0| 1.0|\n",
            "|     1.0|  1.0|    1.0|    1.0|3543.0|     2.0|     1.0|  4.0|    5.0|    12.0|     2.0| 777.0|    null|     9.0|     2.0| 2.0|\n",
            "|     3.0|  1.0|    1.0|    1.0|2986.0|     2.0|     1.0|  4.0|    2.0|     7.0|     2.0| 202.0|   207.0|     4.0|     2.0| 2.0|\n",
            "+--------+-----+-------+-------+------+--------+--------+-----+-------+--------+--------+------+--------+--------+--------+----+\n",
            "only showing top 20 rows\n",
            "\n"
          ]
        }
      ]
    },
    {
      "cell_type": "markdown",
      "metadata": {
        "id": "2yUSe55VY-9t"
      },
      "source": [
        "### Clean up Columns"
      ]
    },
    {
      "cell_type": "code",
      "source": [
        "import pandas as pd\n",
        "pandas_df = new_df.toPandas()\n",
        "pandas_df = pandas_df.dropna()\n",
        "\n",
        "pandas_df"
      ],
      "metadata": {
        "id": "t4jv5QMtoUfk",
        "colab": {
          "base_uri": "https://localhost:8080/",
          "height": 424
        },
        "outputId": "5d10360e-dbde-46ca-ded0-d29f0c175edf"
      },
      "execution_count": null,
      "outputs": [
        {
          "output_type": "execute_result",
          "data": {
            "text/plain": [
              "        DIABETE4  _RACE  TOLDHI3  BPHIGH6   _BMI5  SMOKE100  _RFBING5  EDUCA  \\\n",
              "0            3.0    1.0      1.0      3.0  1454.0       1.0       1.0    4.0   \n",
              "2            1.0    2.0      2.0      1.0  2829.0       2.0       1.0    4.0   \n",
              "3            1.0    1.0      1.0      1.0  3347.0       2.0       2.0    4.0   \n",
              "4            1.0    7.0      1.0      4.0  2873.0       2.0       1.0    3.0   \n",
              "5            3.0    1.0      2.0      3.0  2437.0       1.0       1.0    5.0   \n",
              "...          ...    ...      ...      ...     ...       ...       ...    ...   \n",
              "438687       1.0    8.0      1.0      1.0  2148.0       2.0       2.0    2.0   \n",
              "438688       2.0    9.0      2.0      1.0  2469.0       1.0       1.0    4.0   \n",
              "438690       3.0    2.0      1.0      3.0  3068.0       2.0       1.0    6.0   \n",
              "438691       3.0    9.0      2.0      1.0  2373.0       2.0       1.0    4.0   \n",
              "438692       3.0    2.0      1.0      3.0  3171.0       2.0       1.0    6.0   \n",
              "\n",
              "        GENHLTH  _AGEG5YR  EXERANY2  FRUIT2  VEGETAB2  _INCOMG1  MEDCOST1  \\\n",
              "0           5.0      11.0       2.0   101.0     101.0       3.0       2.0   \n",
              "2           2.0      11.0       2.0   101.0     203.0       2.0       2.0   \n",
              "3           2.0       9.0       1.0   203.0     205.0       5.0       2.0   \n",
              "4           5.0      12.0       1.0   101.0     101.0       2.0       2.0   \n",
              "5           3.0      13.0       2.0   202.0     201.0       4.0       2.0   \n",
              "...         ...       ...       ...     ...       ...       ...       ...   \n",
              "438687      4.0      10.0       1.0   315.0     205.0       2.0       2.0   \n",
              "438688      2.0       3.0       1.0   210.0     103.0       3.0       1.0   \n",
              "438690      2.0       7.0       1.0   102.0     101.0       6.0       2.0   \n",
              "438691      2.0      10.0       1.0   101.0     101.0       4.0       2.0   \n",
              "438692      1.0       6.0       1.0   305.0     305.0       4.0       2.0   \n",
              "\n",
              "        _SEX  \n",
              "0        2.0  \n",
              "2        2.0  \n",
              "3        2.0  \n",
              "4        1.0  \n",
              "5        1.0  \n",
              "...      ...  \n",
              "438687   1.0  \n",
              "438688   2.0  \n",
              "438690   1.0  \n",
              "438691   1.0  \n",
              "438692   2.0  \n",
              "\n",
              "[319363 rows x 16 columns]"
            ],
            "text/html": [
              "\n",
              "  <div id=\"df-1bb0a558-8afb-4e03-8f30-2df39c37f13a\">\n",
              "    <div class=\"colab-df-container\">\n",
              "      <div>\n",
              "<style scoped>\n",
              "    .dataframe tbody tr th:only-of-type {\n",
              "        vertical-align: middle;\n",
              "    }\n",
              "\n",
              "    .dataframe tbody tr th {\n",
              "        vertical-align: top;\n",
              "    }\n",
              "\n",
              "    .dataframe thead th {\n",
              "        text-align: right;\n",
              "    }\n",
              "</style>\n",
              "<table border=\"1\" class=\"dataframe\">\n",
              "  <thead>\n",
              "    <tr style=\"text-align: right;\">\n",
              "      <th></th>\n",
              "      <th>DIABETE4</th>\n",
              "      <th>_RACE</th>\n",
              "      <th>TOLDHI3</th>\n",
              "      <th>BPHIGH6</th>\n",
              "      <th>_BMI5</th>\n",
              "      <th>SMOKE100</th>\n",
              "      <th>_RFBING5</th>\n",
              "      <th>EDUCA</th>\n",
              "      <th>GENHLTH</th>\n",
              "      <th>_AGEG5YR</th>\n",
              "      <th>EXERANY2</th>\n",
              "      <th>FRUIT2</th>\n",
              "      <th>VEGETAB2</th>\n",
              "      <th>_INCOMG1</th>\n",
              "      <th>MEDCOST1</th>\n",
              "      <th>_SEX</th>\n",
              "    </tr>\n",
              "  </thead>\n",
              "  <tbody>\n",
              "    <tr>\n",
              "      <th>0</th>\n",
              "      <td>3.0</td>\n",
              "      <td>1.0</td>\n",
              "      <td>1.0</td>\n",
              "      <td>3.0</td>\n",
              "      <td>1454.0</td>\n",
              "      <td>1.0</td>\n",
              "      <td>1.0</td>\n",
              "      <td>4.0</td>\n",
              "      <td>5.0</td>\n",
              "      <td>11.0</td>\n",
              "      <td>2.0</td>\n",
              "      <td>101.0</td>\n",
              "      <td>101.0</td>\n",
              "      <td>3.0</td>\n",
              "      <td>2.0</td>\n",
              "      <td>2.0</td>\n",
              "    </tr>\n",
              "    <tr>\n",
              "      <th>2</th>\n",
              "      <td>1.0</td>\n",
              "      <td>2.0</td>\n",
              "      <td>2.0</td>\n",
              "      <td>1.0</td>\n",
              "      <td>2829.0</td>\n",
              "      <td>2.0</td>\n",
              "      <td>1.0</td>\n",
              "      <td>4.0</td>\n",
              "      <td>2.0</td>\n",
              "      <td>11.0</td>\n",
              "      <td>2.0</td>\n",
              "      <td>101.0</td>\n",
              "      <td>203.0</td>\n",
              "      <td>2.0</td>\n",
              "      <td>2.0</td>\n",
              "      <td>2.0</td>\n",
              "    </tr>\n",
              "    <tr>\n",
              "      <th>3</th>\n",
              "      <td>1.0</td>\n",
              "      <td>1.0</td>\n",
              "      <td>1.0</td>\n",
              "      <td>1.0</td>\n",
              "      <td>3347.0</td>\n",
              "      <td>2.0</td>\n",
              "      <td>2.0</td>\n",
              "      <td>4.0</td>\n",
              "      <td>2.0</td>\n",
              "      <td>9.0</td>\n",
              "      <td>1.0</td>\n",
              "      <td>203.0</td>\n",
              "      <td>205.0</td>\n",
              "      <td>5.0</td>\n",
              "      <td>2.0</td>\n",
              "      <td>2.0</td>\n",
              "    </tr>\n",
              "    <tr>\n",
              "      <th>4</th>\n",
              "      <td>1.0</td>\n",
              "      <td>7.0</td>\n",
              "      <td>1.0</td>\n",
              "      <td>4.0</td>\n",
              "      <td>2873.0</td>\n",
              "      <td>2.0</td>\n",
              "      <td>1.0</td>\n",
              "      <td>3.0</td>\n",
              "      <td>5.0</td>\n",
              "      <td>12.0</td>\n",
              "      <td>1.0</td>\n",
              "      <td>101.0</td>\n",
              "      <td>101.0</td>\n",
              "      <td>2.0</td>\n",
              "      <td>2.0</td>\n",
              "      <td>1.0</td>\n",
              "    </tr>\n",
              "    <tr>\n",
              "      <th>5</th>\n",
              "      <td>3.0</td>\n",
              "      <td>1.0</td>\n",
              "      <td>2.0</td>\n",
              "      <td>3.0</td>\n",
              "      <td>2437.0</td>\n",
              "      <td>1.0</td>\n",
              "      <td>1.0</td>\n",
              "      <td>5.0</td>\n",
              "      <td>3.0</td>\n",
              "      <td>13.0</td>\n",
              "      <td>2.0</td>\n",
              "      <td>202.0</td>\n",
              "      <td>201.0</td>\n",
              "      <td>4.0</td>\n",
              "      <td>2.0</td>\n",
              "      <td>1.0</td>\n",
              "    </tr>\n",
              "    <tr>\n",
              "      <th>...</th>\n",
              "      <td>...</td>\n",
              "      <td>...</td>\n",
              "      <td>...</td>\n",
              "      <td>...</td>\n",
              "      <td>...</td>\n",
              "      <td>...</td>\n",
              "      <td>...</td>\n",
              "      <td>...</td>\n",
              "      <td>...</td>\n",
              "      <td>...</td>\n",
              "      <td>...</td>\n",
              "      <td>...</td>\n",
              "      <td>...</td>\n",
              "      <td>...</td>\n",
              "      <td>...</td>\n",
              "      <td>...</td>\n",
              "    </tr>\n",
              "    <tr>\n",
              "      <th>438687</th>\n",
              "      <td>1.0</td>\n",
              "      <td>8.0</td>\n",
              "      <td>1.0</td>\n",
              "      <td>1.0</td>\n",
              "      <td>2148.0</td>\n",
              "      <td>2.0</td>\n",
              "      <td>2.0</td>\n",
              "      <td>2.0</td>\n",
              "      <td>4.0</td>\n",
              "      <td>10.0</td>\n",
              "      <td>1.0</td>\n",
              "      <td>315.0</td>\n",
              "      <td>205.0</td>\n",
              "      <td>2.0</td>\n",
              "      <td>2.0</td>\n",
              "      <td>1.0</td>\n",
              "    </tr>\n",
              "    <tr>\n",
              "      <th>438688</th>\n",
              "      <td>2.0</td>\n",
              "      <td>9.0</td>\n",
              "      <td>2.0</td>\n",
              "      <td>1.0</td>\n",
              "      <td>2469.0</td>\n",
              "      <td>1.0</td>\n",
              "      <td>1.0</td>\n",
              "      <td>4.0</td>\n",
              "      <td>2.0</td>\n",
              "      <td>3.0</td>\n",
              "      <td>1.0</td>\n",
              "      <td>210.0</td>\n",
              "      <td>103.0</td>\n",
              "      <td>3.0</td>\n",
              "      <td>1.0</td>\n",
              "      <td>2.0</td>\n",
              "    </tr>\n",
              "    <tr>\n",
              "      <th>438690</th>\n",
              "      <td>3.0</td>\n",
              "      <td>2.0</td>\n",
              "      <td>1.0</td>\n",
              "      <td>3.0</td>\n",
              "      <td>3068.0</td>\n",
              "      <td>2.0</td>\n",
              "      <td>1.0</td>\n",
              "      <td>6.0</td>\n",
              "      <td>2.0</td>\n",
              "      <td>7.0</td>\n",
              "      <td>1.0</td>\n",
              "      <td>102.0</td>\n",
              "      <td>101.0</td>\n",
              "      <td>6.0</td>\n",
              "      <td>2.0</td>\n",
              "      <td>1.0</td>\n",
              "    </tr>\n",
              "    <tr>\n",
              "      <th>438691</th>\n",
              "      <td>3.0</td>\n",
              "      <td>9.0</td>\n",
              "      <td>2.0</td>\n",
              "      <td>1.0</td>\n",
              "      <td>2373.0</td>\n",
              "      <td>2.0</td>\n",
              "      <td>1.0</td>\n",
              "      <td>4.0</td>\n",
              "      <td>2.0</td>\n",
              "      <td>10.0</td>\n",
              "      <td>1.0</td>\n",
              "      <td>101.0</td>\n",
              "      <td>101.0</td>\n",
              "      <td>4.0</td>\n",
              "      <td>2.0</td>\n",
              "      <td>1.0</td>\n",
              "    </tr>\n",
              "    <tr>\n",
              "      <th>438692</th>\n",
              "      <td>3.0</td>\n",
              "      <td>2.0</td>\n",
              "      <td>1.0</td>\n",
              "      <td>3.0</td>\n",
              "      <td>3171.0</td>\n",
              "      <td>2.0</td>\n",
              "      <td>1.0</td>\n",
              "      <td>6.0</td>\n",
              "      <td>1.0</td>\n",
              "      <td>6.0</td>\n",
              "      <td>1.0</td>\n",
              "      <td>305.0</td>\n",
              "      <td>305.0</td>\n",
              "      <td>4.0</td>\n",
              "      <td>2.0</td>\n",
              "      <td>2.0</td>\n",
              "    </tr>\n",
              "  </tbody>\n",
              "</table>\n",
              "<p>319363 rows × 16 columns</p>\n",
              "</div>\n",
              "      <button class=\"colab-df-convert\" onclick=\"convertToInteractive('df-1bb0a558-8afb-4e03-8f30-2df39c37f13a')\"\n",
              "              title=\"Convert this dataframe to an interactive table.\"\n",
              "              style=\"display:none;\">\n",
              "        \n",
              "  <svg xmlns=\"http://www.w3.org/2000/svg\" height=\"24px\"viewBox=\"0 0 24 24\"\n",
              "       width=\"24px\">\n",
              "    <path d=\"M0 0h24v24H0V0z\" fill=\"none\"/>\n",
              "    <path d=\"M18.56 5.44l.94 2.06.94-2.06 2.06-.94-2.06-.94-.94-2.06-.94 2.06-2.06.94zm-11 1L8.5 8.5l.94-2.06 2.06-.94-2.06-.94L8.5 2.5l-.94 2.06-2.06.94zm10 10l.94 2.06.94-2.06 2.06-.94-2.06-.94-.94-2.06-.94 2.06-2.06.94z\"/><path d=\"M17.41 7.96l-1.37-1.37c-.4-.4-.92-.59-1.43-.59-.52 0-1.04.2-1.43.59L10.3 9.45l-7.72 7.72c-.78.78-.78 2.05 0 2.83L4 21.41c.39.39.9.59 1.41.59.51 0 1.02-.2 1.41-.59l7.78-7.78 2.81-2.81c.8-.78.8-2.07 0-2.86zM5.41 20L4 18.59l7.72-7.72 1.47 1.35L5.41 20z\"/>\n",
              "  </svg>\n",
              "      </button>\n",
              "      \n",
              "  <style>\n",
              "    .colab-df-container {\n",
              "      display:flex;\n",
              "      flex-wrap:wrap;\n",
              "      gap: 12px;\n",
              "    }\n",
              "\n",
              "    .colab-df-convert {\n",
              "      background-color: #E8F0FE;\n",
              "      border: none;\n",
              "      border-radius: 50%;\n",
              "      cursor: pointer;\n",
              "      display: none;\n",
              "      fill: #1967D2;\n",
              "      height: 32px;\n",
              "      padding: 0 0 0 0;\n",
              "      width: 32px;\n",
              "    }\n",
              "\n",
              "    .colab-df-convert:hover {\n",
              "      background-color: #E2EBFA;\n",
              "      box-shadow: 0px 1px 2px rgba(60, 64, 67, 0.3), 0px 1px 3px 1px rgba(60, 64, 67, 0.15);\n",
              "      fill: #174EA6;\n",
              "    }\n",
              "\n",
              "    [theme=dark] .colab-df-convert {\n",
              "      background-color: #3B4455;\n",
              "      fill: #D2E3FC;\n",
              "    }\n",
              "\n",
              "    [theme=dark] .colab-df-convert:hover {\n",
              "      background-color: #434B5C;\n",
              "      box-shadow: 0px 1px 3px 1px rgba(0, 0, 0, 0.15);\n",
              "      filter: drop-shadow(0px 1px 2px rgba(0, 0, 0, 0.3));\n",
              "      fill: #FFFFFF;\n",
              "    }\n",
              "  </style>\n",
              "\n",
              "      <script>\n",
              "        const buttonEl =\n",
              "          document.querySelector('#df-1bb0a558-8afb-4e03-8f30-2df39c37f13a button.colab-df-convert');\n",
              "        buttonEl.style.display =\n",
              "          google.colab.kernel.accessAllowed ? 'block' : 'none';\n",
              "\n",
              "        async function convertToInteractive(key) {\n",
              "          const element = document.querySelector('#df-1bb0a558-8afb-4e03-8f30-2df39c37f13a');\n",
              "          const dataTable =\n",
              "            await google.colab.kernel.invokeFunction('convertToInteractive',\n",
              "                                                     [key], {});\n",
              "          if (!dataTable) return;\n",
              "\n",
              "          const docLinkHtml = 'Like what you see? Visit the ' +\n",
              "            '<a target=\"_blank\" href=https://colab.research.google.com/notebooks/data_table.ipynb>data table notebook</a>'\n",
              "            + ' to learn more about interactive tables.';\n",
              "          element.innerHTML = '';\n",
              "          dataTable['output_type'] = 'display_data';\n",
              "          await google.colab.output.renderOutput(dataTable, element);\n",
              "          const docLink = document.createElement('div');\n",
              "          docLink.innerHTML = docLinkHtml;\n",
              "          element.appendChild(docLink);\n",
              "        }\n",
              "      </script>\n",
              "    </div>\n",
              "  </div>\n",
              "  "
            ]
          },
          "metadata": {},
          "execution_count": 6
        }
      ]
    },
    {
      "cell_type": "code",
      "source": [
        "# check for unique values to replace for encoding\n",
        "pandas_df.EDUCA.unique()"
      ],
      "metadata": {
        "colab": {
          "base_uri": "https://localhost:8080/"
        },
        "id": "sW3W7Lz4LI2-",
        "outputId": "55d185f4-e27e-4f85-a1c1-6b0b76fcaf46"
      },
      "execution_count": null,
      "outputs": [
        {
          "output_type": "execute_result",
          "data": {
            "text/plain": [
              "array([4., 3., 5., 6., 2., 9., 1.])"
            ]
          },
          "metadata": {},
          "execution_count": 7
        }
      ]
    },
    {
      "cell_type": "code",
      "source": [
        "# Replace Values based on responses provided in survey response form and confirm updated values\n",
        "pandas_df[\"EDUCA\"] = pandas_df[\"EDUCA\"].replace({4.:\"High School Grad\"}).replace({6.:\"College Grad\"}).replace({3.:\"Some High School\"}).replace({5.:\"Some College\"}).replace({2.:\"Elementary\"}).replace({1.:\"None\"}).replace({9.:\"\"})\n",
        "pandas_df.EDUCA.unique()\n"
      ],
      "metadata": {
        "id": "ISwtrq1CMdD3",
        "colab": {
          "base_uri": "https://localhost:8080/"
        },
        "outputId": "e53eb246-8b0f-4652-b69b-d3590e5e6c36"
      },
      "execution_count": null,
      "outputs": [
        {
          "output_type": "execute_result",
          "data": {
            "text/plain": [
              "array(['High School Grad', 'Some High School', 'Some College',\n",
              "       'College Grad', 'Elementary', '', 'None'], dtype=object)"
            ]
          },
          "metadata": {},
          "execution_count": 8
        }
      ]
    },
    {
      "cell_type": "code",
      "source": [
        "pandas_df.GENHLTH.unique()"
      ],
      "metadata": {
        "colab": {
          "base_uri": "https://localhost:8080/"
        },
        "id": "xpqomD58erxi",
        "outputId": "4ded7e25-e1c5-41f0-8aca-f8253f9e02dd"
      },
      "execution_count": null,
      "outputs": [
        {
          "output_type": "execute_result",
          "data": {
            "text/plain": [
              "array([5., 2., 3., 4., 1., 7., 9.])"
            ]
          },
          "metadata": {},
          "execution_count": 9
        }
      ]
    },
    {
      "cell_type": "code",
      "source": [
        "# Replace Values based on responses provided in survey response form and confirm confirm updated values\n",
        "pandas_df[\"GENHLTH\"] = pandas_df[\"GENHLTH\"].replace({1.:\"Excellent\"}).replace({2.:\"Very Good\"}).replace({3.:\"Good\"}).replace({4.:\"Fair\"}).replace({5.:\"Poor\"}).replace({7.:\"\"}).replace({9.:\"\"})\n",
        "pandas_df.GENHLTH.unique()"
      ],
      "metadata": {
        "colab": {
          "base_uri": "https://localhost:8080/"
        },
        "id": "DmMiS7WKevyt",
        "outputId": "86964ee7-c155-492d-be44-f2966131ca08"
      },
      "execution_count": null,
      "outputs": [
        {
          "output_type": "execute_result",
          "data": {
            "text/plain": [
              "array(['Poor', 'Very Good', 'Good', 'Fair', 'Excellent', ''], dtype=object)"
            ]
          },
          "metadata": {},
          "execution_count": 10
        }
      ]
    },
    {
      "cell_type": "code",
      "source": [
        "pandas_df._INCOMG1.unique()"
      ],
      "metadata": {
        "colab": {
          "base_uri": "https://localhost:8080/"
        },
        "id": "m3HLm05UARpW",
        "outputId": "6cecc9ed-32a5-4b79-f3c0-9d241cd25fdb"
      },
      "execution_count": null,
      "outputs": [
        {
          "output_type": "execute_result",
          "data": {
            "text/plain": [
              "array([3., 2., 5., 4., 9., 1., 6., 7.])"
            ]
          },
          "metadata": {},
          "execution_count": 11
        }
      ]
    },
    {
      "cell_type": "code",
      "source": [
        "# Replace Values based on responses provided in survey response form and confirm confirm updated values\n",
        "pandas_df[\"_INCOMG1\"] = pandas_df[\"_INCOMG1\"].replace({1.:\"Less than $15,000\"}).replace({2.:\"$15,000 to < $25,000\"}).replace({3.:\"$25,000 to < $35,000\"}).replace({4.:\"$35,000 to < $50,000\"}).replace({5.:\"$50,000 to < $100,000\"}).replace({6.:\"$100,000 to < $200,000\"}).replace({7.:\" > $200,000\"}).replace({9.:\"\"})\n",
        "pandas_df._INCOMG1.unique()"
      ],
      "metadata": {
        "colab": {
          "base_uri": "https://localhost:8080/"
        },
        "id": "58OHXxoSAUEX",
        "outputId": "c123d2da-25dc-4cbf-a75a-db7c83446e66"
      },
      "execution_count": null,
      "outputs": [
        {
          "output_type": "execute_result",
          "data": {
            "text/plain": [
              "array(['$25,000 to < $35,000', '$15,000 to < $25,000',\n",
              "       '$50,000 to < $100,000', '$35,000 to < $50,000', '',\n",
              "       'Less than $15,000', '$100,000 to < $200,000', ' > $200,000'],\n",
              "      dtype=object)"
            ]
          },
          "metadata": {},
          "execution_count": 12
        }
      ]
    },
    {
      "cell_type": "code",
      "source": [
        "pandas_df"
      ],
      "metadata": {
        "colab": {
          "base_uri": "https://localhost:8080/",
          "height": 641
        },
        "id": "q4o0kQ07BXoj",
        "outputId": "5da404ce-1384-44fa-a06d-aaf94ce5df64"
      },
      "execution_count": null,
      "outputs": [
        {
          "output_type": "execute_result",
          "data": {
            "text/plain": [
              "        DIABETE4  _RACE  TOLDHI3  BPHIGH6   _BMI5  SMOKE100  _RFBING5  \\\n",
              "0            3.0    1.0      1.0      3.0  1454.0       1.0       1.0   \n",
              "2            1.0    2.0      2.0      1.0  2829.0       2.0       1.0   \n",
              "3            1.0    1.0      1.0      1.0  3347.0       2.0       2.0   \n",
              "4            1.0    7.0      1.0      4.0  2873.0       2.0       1.0   \n",
              "5            3.0    1.0      2.0      3.0  2437.0       1.0       1.0   \n",
              "...          ...    ...      ...      ...     ...       ...       ...   \n",
              "438687       1.0    8.0      1.0      1.0  2148.0       2.0       2.0   \n",
              "438688       2.0    9.0      2.0      1.0  2469.0       1.0       1.0   \n",
              "438690       3.0    2.0      1.0      3.0  3068.0       2.0       1.0   \n",
              "438691       3.0    9.0      2.0      1.0  2373.0       2.0       1.0   \n",
              "438692       3.0    2.0      1.0      3.0  3171.0       2.0       1.0   \n",
              "\n",
              "                   EDUCA    GENHLTH  _AGEG5YR  EXERANY2  FRUIT2  VEGETAB2  \\\n",
              "0       High School Grad       Poor      11.0       2.0   101.0     101.0   \n",
              "2       High School Grad  Very Good      11.0       2.0   101.0     203.0   \n",
              "3       High School Grad  Very Good       9.0       1.0   203.0     205.0   \n",
              "4       Some High School       Poor      12.0       1.0   101.0     101.0   \n",
              "5           Some College       Good      13.0       2.0   202.0     201.0   \n",
              "...                  ...        ...       ...       ...     ...       ...   \n",
              "438687        Elementary       Fair      10.0       1.0   315.0     205.0   \n",
              "438688  High School Grad  Very Good       3.0       1.0   210.0     103.0   \n",
              "438690      College Grad  Very Good       7.0       1.0   102.0     101.0   \n",
              "438691  High School Grad  Very Good      10.0       1.0   101.0     101.0   \n",
              "438692      College Grad  Excellent       6.0       1.0   305.0     305.0   \n",
              "\n",
              "                      _INCOMG1  MEDCOST1  _SEX  \n",
              "0         $25,000 to < $35,000       2.0   2.0  \n",
              "2         $15,000 to < $25,000       2.0   2.0  \n",
              "3        $50,000 to < $100,000       2.0   2.0  \n",
              "4         $15,000 to < $25,000       2.0   1.0  \n",
              "5         $35,000 to < $50,000       2.0   1.0  \n",
              "...                        ...       ...   ...  \n",
              "438687    $15,000 to < $25,000       2.0   1.0  \n",
              "438688    $25,000 to < $35,000       1.0   2.0  \n",
              "438690  $100,000 to < $200,000       2.0   1.0  \n",
              "438691    $35,000 to < $50,000       2.0   1.0  \n",
              "438692    $35,000 to < $50,000       2.0   2.0  \n",
              "\n",
              "[319363 rows x 16 columns]"
            ],
            "text/html": [
              "\n",
              "  <div id=\"df-c4faafd0-1be5-4b27-9705-b22bc88abdcb\">\n",
              "    <div class=\"colab-df-container\">\n",
              "      <div>\n",
              "<style scoped>\n",
              "    .dataframe tbody tr th:only-of-type {\n",
              "        vertical-align: middle;\n",
              "    }\n",
              "\n",
              "    .dataframe tbody tr th {\n",
              "        vertical-align: top;\n",
              "    }\n",
              "\n",
              "    .dataframe thead th {\n",
              "        text-align: right;\n",
              "    }\n",
              "</style>\n",
              "<table border=\"1\" class=\"dataframe\">\n",
              "  <thead>\n",
              "    <tr style=\"text-align: right;\">\n",
              "      <th></th>\n",
              "      <th>DIABETE4</th>\n",
              "      <th>_RACE</th>\n",
              "      <th>TOLDHI3</th>\n",
              "      <th>BPHIGH6</th>\n",
              "      <th>_BMI5</th>\n",
              "      <th>SMOKE100</th>\n",
              "      <th>_RFBING5</th>\n",
              "      <th>EDUCA</th>\n",
              "      <th>GENHLTH</th>\n",
              "      <th>_AGEG5YR</th>\n",
              "      <th>EXERANY2</th>\n",
              "      <th>FRUIT2</th>\n",
              "      <th>VEGETAB2</th>\n",
              "      <th>_INCOMG1</th>\n",
              "      <th>MEDCOST1</th>\n",
              "      <th>_SEX</th>\n",
              "    </tr>\n",
              "  </thead>\n",
              "  <tbody>\n",
              "    <tr>\n",
              "      <th>0</th>\n",
              "      <td>3.0</td>\n",
              "      <td>1.0</td>\n",
              "      <td>1.0</td>\n",
              "      <td>3.0</td>\n",
              "      <td>1454.0</td>\n",
              "      <td>1.0</td>\n",
              "      <td>1.0</td>\n",
              "      <td>High School Grad</td>\n",
              "      <td>Poor</td>\n",
              "      <td>11.0</td>\n",
              "      <td>2.0</td>\n",
              "      <td>101.0</td>\n",
              "      <td>101.0</td>\n",
              "      <td>$25,000 to &lt; $35,000</td>\n",
              "      <td>2.0</td>\n",
              "      <td>2.0</td>\n",
              "    </tr>\n",
              "    <tr>\n",
              "      <th>2</th>\n",
              "      <td>1.0</td>\n",
              "      <td>2.0</td>\n",
              "      <td>2.0</td>\n",
              "      <td>1.0</td>\n",
              "      <td>2829.0</td>\n",
              "      <td>2.0</td>\n",
              "      <td>1.0</td>\n",
              "      <td>High School Grad</td>\n",
              "      <td>Very Good</td>\n",
              "      <td>11.0</td>\n",
              "      <td>2.0</td>\n",
              "      <td>101.0</td>\n",
              "      <td>203.0</td>\n",
              "      <td>$15,000 to &lt; $25,000</td>\n",
              "      <td>2.0</td>\n",
              "      <td>2.0</td>\n",
              "    </tr>\n",
              "    <tr>\n",
              "      <th>3</th>\n",
              "      <td>1.0</td>\n",
              "      <td>1.0</td>\n",
              "      <td>1.0</td>\n",
              "      <td>1.0</td>\n",
              "      <td>3347.0</td>\n",
              "      <td>2.0</td>\n",
              "      <td>2.0</td>\n",
              "      <td>High School Grad</td>\n",
              "      <td>Very Good</td>\n",
              "      <td>9.0</td>\n",
              "      <td>1.0</td>\n",
              "      <td>203.0</td>\n",
              "      <td>205.0</td>\n",
              "      <td>$50,000 to &lt; $100,000</td>\n",
              "      <td>2.0</td>\n",
              "      <td>2.0</td>\n",
              "    </tr>\n",
              "    <tr>\n",
              "      <th>4</th>\n",
              "      <td>1.0</td>\n",
              "      <td>7.0</td>\n",
              "      <td>1.0</td>\n",
              "      <td>4.0</td>\n",
              "      <td>2873.0</td>\n",
              "      <td>2.0</td>\n",
              "      <td>1.0</td>\n",
              "      <td>Some High School</td>\n",
              "      <td>Poor</td>\n",
              "      <td>12.0</td>\n",
              "      <td>1.0</td>\n",
              "      <td>101.0</td>\n",
              "      <td>101.0</td>\n",
              "      <td>$15,000 to &lt; $25,000</td>\n",
              "      <td>2.0</td>\n",
              "      <td>1.0</td>\n",
              "    </tr>\n",
              "    <tr>\n",
              "      <th>5</th>\n",
              "      <td>3.0</td>\n",
              "      <td>1.0</td>\n",
              "      <td>2.0</td>\n",
              "      <td>3.0</td>\n",
              "      <td>2437.0</td>\n",
              "      <td>1.0</td>\n",
              "      <td>1.0</td>\n",
              "      <td>Some College</td>\n",
              "      <td>Good</td>\n",
              "      <td>13.0</td>\n",
              "      <td>2.0</td>\n",
              "      <td>202.0</td>\n",
              "      <td>201.0</td>\n",
              "      <td>$35,000 to &lt; $50,000</td>\n",
              "      <td>2.0</td>\n",
              "      <td>1.0</td>\n",
              "    </tr>\n",
              "    <tr>\n",
              "      <th>...</th>\n",
              "      <td>...</td>\n",
              "      <td>...</td>\n",
              "      <td>...</td>\n",
              "      <td>...</td>\n",
              "      <td>...</td>\n",
              "      <td>...</td>\n",
              "      <td>...</td>\n",
              "      <td>...</td>\n",
              "      <td>...</td>\n",
              "      <td>...</td>\n",
              "      <td>...</td>\n",
              "      <td>...</td>\n",
              "      <td>...</td>\n",
              "      <td>...</td>\n",
              "      <td>...</td>\n",
              "      <td>...</td>\n",
              "    </tr>\n",
              "    <tr>\n",
              "      <th>438687</th>\n",
              "      <td>1.0</td>\n",
              "      <td>8.0</td>\n",
              "      <td>1.0</td>\n",
              "      <td>1.0</td>\n",
              "      <td>2148.0</td>\n",
              "      <td>2.0</td>\n",
              "      <td>2.0</td>\n",
              "      <td>Elementary</td>\n",
              "      <td>Fair</td>\n",
              "      <td>10.0</td>\n",
              "      <td>1.0</td>\n",
              "      <td>315.0</td>\n",
              "      <td>205.0</td>\n",
              "      <td>$15,000 to &lt; $25,000</td>\n",
              "      <td>2.0</td>\n",
              "      <td>1.0</td>\n",
              "    </tr>\n",
              "    <tr>\n",
              "      <th>438688</th>\n",
              "      <td>2.0</td>\n",
              "      <td>9.0</td>\n",
              "      <td>2.0</td>\n",
              "      <td>1.0</td>\n",
              "      <td>2469.0</td>\n",
              "      <td>1.0</td>\n",
              "      <td>1.0</td>\n",
              "      <td>High School Grad</td>\n",
              "      <td>Very Good</td>\n",
              "      <td>3.0</td>\n",
              "      <td>1.0</td>\n",
              "      <td>210.0</td>\n",
              "      <td>103.0</td>\n",
              "      <td>$25,000 to &lt; $35,000</td>\n",
              "      <td>1.0</td>\n",
              "      <td>2.0</td>\n",
              "    </tr>\n",
              "    <tr>\n",
              "      <th>438690</th>\n",
              "      <td>3.0</td>\n",
              "      <td>2.0</td>\n",
              "      <td>1.0</td>\n",
              "      <td>3.0</td>\n",
              "      <td>3068.0</td>\n",
              "      <td>2.0</td>\n",
              "      <td>1.0</td>\n",
              "      <td>College Grad</td>\n",
              "      <td>Very Good</td>\n",
              "      <td>7.0</td>\n",
              "      <td>1.0</td>\n",
              "      <td>102.0</td>\n",
              "      <td>101.0</td>\n",
              "      <td>$100,000 to &lt; $200,000</td>\n",
              "      <td>2.0</td>\n",
              "      <td>1.0</td>\n",
              "    </tr>\n",
              "    <tr>\n",
              "      <th>438691</th>\n",
              "      <td>3.0</td>\n",
              "      <td>9.0</td>\n",
              "      <td>2.0</td>\n",
              "      <td>1.0</td>\n",
              "      <td>2373.0</td>\n",
              "      <td>2.0</td>\n",
              "      <td>1.0</td>\n",
              "      <td>High School Grad</td>\n",
              "      <td>Very Good</td>\n",
              "      <td>10.0</td>\n",
              "      <td>1.0</td>\n",
              "      <td>101.0</td>\n",
              "      <td>101.0</td>\n",
              "      <td>$35,000 to &lt; $50,000</td>\n",
              "      <td>2.0</td>\n",
              "      <td>1.0</td>\n",
              "    </tr>\n",
              "    <tr>\n",
              "      <th>438692</th>\n",
              "      <td>3.0</td>\n",
              "      <td>2.0</td>\n",
              "      <td>1.0</td>\n",
              "      <td>3.0</td>\n",
              "      <td>3171.0</td>\n",
              "      <td>2.0</td>\n",
              "      <td>1.0</td>\n",
              "      <td>College Grad</td>\n",
              "      <td>Excellent</td>\n",
              "      <td>6.0</td>\n",
              "      <td>1.0</td>\n",
              "      <td>305.0</td>\n",
              "      <td>305.0</td>\n",
              "      <td>$35,000 to &lt; $50,000</td>\n",
              "      <td>2.0</td>\n",
              "      <td>2.0</td>\n",
              "    </tr>\n",
              "  </tbody>\n",
              "</table>\n",
              "<p>319363 rows × 16 columns</p>\n",
              "</div>\n",
              "      <button class=\"colab-df-convert\" onclick=\"convertToInteractive('df-c4faafd0-1be5-4b27-9705-b22bc88abdcb')\"\n",
              "              title=\"Convert this dataframe to an interactive table.\"\n",
              "              style=\"display:none;\">\n",
              "        \n",
              "  <svg xmlns=\"http://www.w3.org/2000/svg\" height=\"24px\"viewBox=\"0 0 24 24\"\n",
              "       width=\"24px\">\n",
              "    <path d=\"M0 0h24v24H0V0z\" fill=\"none\"/>\n",
              "    <path d=\"M18.56 5.44l.94 2.06.94-2.06 2.06-.94-2.06-.94-.94-2.06-.94 2.06-2.06.94zm-11 1L8.5 8.5l.94-2.06 2.06-.94-2.06-.94L8.5 2.5l-.94 2.06-2.06.94zm10 10l.94 2.06.94-2.06 2.06-.94-2.06-.94-.94-2.06-.94 2.06-2.06.94z\"/><path d=\"M17.41 7.96l-1.37-1.37c-.4-.4-.92-.59-1.43-.59-.52 0-1.04.2-1.43.59L10.3 9.45l-7.72 7.72c-.78.78-.78 2.05 0 2.83L4 21.41c.39.39.9.59 1.41.59.51 0 1.02-.2 1.41-.59l7.78-7.78 2.81-2.81c.8-.78.8-2.07 0-2.86zM5.41 20L4 18.59l7.72-7.72 1.47 1.35L5.41 20z\"/>\n",
              "  </svg>\n",
              "      </button>\n",
              "      \n",
              "  <style>\n",
              "    .colab-df-container {\n",
              "      display:flex;\n",
              "      flex-wrap:wrap;\n",
              "      gap: 12px;\n",
              "    }\n",
              "\n",
              "    .colab-df-convert {\n",
              "      background-color: #E8F0FE;\n",
              "      border: none;\n",
              "      border-radius: 50%;\n",
              "      cursor: pointer;\n",
              "      display: none;\n",
              "      fill: #1967D2;\n",
              "      height: 32px;\n",
              "      padding: 0 0 0 0;\n",
              "      width: 32px;\n",
              "    }\n",
              "\n",
              "    .colab-df-convert:hover {\n",
              "      background-color: #E2EBFA;\n",
              "      box-shadow: 0px 1px 2px rgba(60, 64, 67, 0.3), 0px 1px 3px 1px rgba(60, 64, 67, 0.15);\n",
              "      fill: #174EA6;\n",
              "    }\n",
              "\n",
              "    [theme=dark] .colab-df-convert {\n",
              "      background-color: #3B4455;\n",
              "      fill: #D2E3FC;\n",
              "    }\n",
              "\n",
              "    [theme=dark] .colab-df-convert:hover {\n",
              "      background-color: #434B5C;\n",
              "      box-shadow: 0px 1px 3px 1px rgba(0, 0, 0, 0.15);\n",
              "      filter: drop-shadow(0px 1px 2px rgba(0, 0, 0, 0.3));\n",
              "      fill: #FFFFFF;\n",
              "    }\n",
              "  </style>\n",
              "\n",
              "      <script>\n",
              "        const buttonEl =\n",
              "          document.querySelector('#df-c4faafd0-1be5-4b27-9705-b22bc88abdcb button.colab-df-convert');\n",
              "        buttonEl.style.display =\n",
              "          google.colab.kernel.accessAllowed ? 'block' : 'none';\n",
              "\n",
              "        async function convertToInteractive(key) {\n",
              "          const element = document.querySelector('#df-c4faafd0-1be5-4b27-9705-b22bc88abdcb');\n",
              "          const dataTable =\n",
              "            await google.colab.kernel.invokeFunction('convertToInteractive',\n",
              "                                                     [key], {});\n",
              "          if (!dataTable) return;\n",
              "\n",
              "          const docLinkHtml = 'Like what you see? Visit the ' +\n",
              "            '<a target=\"_blank\" href=https://colab.research.google.com/notebooks/data_table.ipynb>data table notebook</a>'\n",
              "            + ' to learn more about interactive tables.';\n",
              "          element.innerHTML = '';\n",
              "          dataTable['output_type'] = 'display_data';\n",
              "          await google.colab.output.renderOutput(dataTable, element);\n",
              "          const docLink = document.createElement('div');\n",
              "          docLink.innerHTML = docLinkHtml;\n",
              "          element.appendChild(docLink);\n",
              "        }\n",
              "      </script>\n",
              "    </div>\n",
              "  </div>\n",
              "  "
            ]
          },
          "metadata": {},
          "execution_count": 13
        }
      ]
    },
    {
      "cell_type": "code",
      "source": [
        "# Check unique values for Race\n",
        "pandas_df._RACE.unique()"
      ],
      "metadata": {
        "colab": {
          "base_uri": "https://localhost:8080/"
        },
        "id": "IsOFjHogTW0o",
        "outputId": "152c6c64-a98f-42fe-9cb8-03cf820c3717"
      },
      "execution_count": null,
      "outputs": [
        {
          "output_type": "execute_result",
          "data": {
            "text/plain": [
              "array([1., 2., 7., 9., 8., 3., 4., 6., 5.])"
            ]
          },
          "metadata": {},
          "execution_count": 16
        }
      ]
    },
    {
      "cell_type": "code",
      "source": [
        "# Replace values based on responses in survey for Race\n",
        "pandas_df[\"_RACE\"] = pandas_df[\"_RACE\"].replace({1.:\"White\"}).replace({2.:\"Black\"}).replace({3.:\"American Indian or Alaskan Native\"}).replace({4.:\"Asian\"}).replace({5.:\" Native Hawaiian or other Pacific Islander\"}).replace({6.:\"Other\"}).replace({7.:\"Multiracial\"}).replace({8.:\"Hispanic\"}).replace({9.:\"\"})\n",
        "pandas_df._RACE.unique()"
      ],
      "metadata": {
        "colab": {
          "base_uri": "https://localhost:8080/"
        },
        "id": "lnE7t84WTxk4",
        "outputId": "4b330003-de9f-468d-ddc9-341016e868d6"
      },
      "execution_count": null,
      "outputs": [
        {
          "output_type": "execute_result",
          "data": {
            "text/plain": [
              "array(['White', 'Black', 'Multiracial', '', 'Hispanic',\n",
              "       'American Indian or Alaskan Native', 'Asian', 'Other',\n",
              "       ' Native Hawaiian or other Pacific Islander'], dtype=object)"
            ]
          },
          "metadata": {},
          "execution_count": 17
        }
      ]
    },
    {
      "cell_type": "code",
      "source": [
        "# Check unique values for TOLDHI3 (high cholesterol)\n",
        "pandas_df.TOLDHI3.unique()"
      ],
      "metadata": {
        "colab": {
          "base_uri": "https://localhost:8080/"
        },
        "id": "R5mNm2jpVYoO",
        "outputId": "faced0c0-034f-46c7-fcd8-5de9e9e1604e"
      },
      "execution_count": null,
      "outputs": [
        {
          "output_type": "execute_result",
          "data": {
            "text/plain": [
              "array([1., 2., 7., 9.])"
            ]
          },
          "metadata": {},
          "execution_count": 19
        }
      ]
    },
    {
      "cell_type": "code",
      "source": [
        "# Replace values based on responses in survey for cholesterol\n",
        "pandas_df[\"TOLDHI3\"] = pandas_df[\"TOLDHI3\"].replace({1.:\"Yes\"}).replace({2.:\"No\"}).replace({7.:\"\"}).replace({9.:\"\"})\n",
        "pandas_df.TOLDHI3.unique()"
      ],
      "metadata": {
        "colab": {
          "base_uri": "https://localhost:8080/"
        },
        "id": "-KagkYb2WkR5",
        "outputId": "3eea72fe-a287-46a3-99da-0742e10eab9f"
      },
      "execution_count": null,
      "outputs": [
        {
          "output_type": "execute_result",
          "data": {
            "text/plain": [
              "array(['Yes', 'No', ''], dtype=object)"
            ]
          },
          "metadata": {},
          "execution_count": 20
        }
      ]
    },
    {
      "cell_type": "code",
      "source": [
        "# Check unique values for SMOKE100 \n",
        "pandas_df.SMOKE100.unique()"
      ],
      "metadata": {
        "colab": {
          "base_uri": "https://localhost:8080/"
        },
        "id": "N7SUyB1uXfTQ",
        "outputId": "bd48a8ad-1d98-4f50-a2d3-ae6abb7afb40"
      },
      "execution_count": null,
      "outputs": [
        {
          "output_type": "execute_result",
          "data": {
            "text/plain": [
              "array([1., 2., 7., 9.])"
            ]
          },
          "metadata": {},
          "execution_count": 21
        }
      ]
    },
    {
      "cell_type": "code",
      "source": [
        "# Replace values based on responses in survey for SMOKE100\n",
        "pandas_df[\"SMOKE100\"] = pandas_df[\"SMOKE100\"].replace({1.:\"Yes\"}).replace({2.:\"No\"}).replace({7.:\"\"}).replace({9.:\"\"})\n",
        "pandas_df.SMOKE100.unique()"
      ],
      "metadata": {
        "colab": {
          "base_uri": "https://localhost:8080/"
        },
        "id": "HKBlpzWHXmpU",
        "outputId": "ed258ef4-6fd0-4bd5-d742-26f7509148c7"
      },
      "execution_count": null,
      "outputs": [
        {
          "output_type": "execute_result",
          "data": {
            "text/plain": [
              "array(['Yes', 'No', ''], dtype=object)"
            ]
          },
          "metadata": {},
          "execution_count": 23
        }
      ]
    },
    {
      "cell_type": "code",
      "source": [
        "# Check unique values for _RFBING5\n",
        "pandas_df._RFBING5.unique()"
      ],
      "metadata": {
        "colab": {
          "base_uri": "https://localhost:8080/"
        },
        "id": "yZiFt6qnX4Dd",
        "outputId": "71332928-13e6-4364-8644-2d2303c08dbb"
      },
      "execution_count": null,
      "outputs": [
        {
          "output_type": "execute_result",
          "data": {
            "text/plain": [
              "array([1., 2., 9.])"
            ]
          },
          "metadata": {},
          "execution_count": 24
        }
      ]
    },
    {
      "cell_type": "code",
      "source": [
        "# Replace values based on responses in survey for _RFBING5\n",
        "pandas_df[\"_RFBING5\"] = pandas_df[\"_RFBING5\"].replace({1.:\"Yes\"}).replace({2.:\"No\"}).replace({9.:\"\"})\n",
        "pandas_df._RFBING5.unique()"
      ],
      "metadata": {
        "colab": {
          "base_uri": "https://localhost:8080/"
        },
        "id": "US9PaGAkYAUL",
        "outputId": "ba54771e-9e61-4b30-f1bb-27ccb86a2ffc"
      },
      "execution_count": null,
      "outputs": [
        {
          "output_type": "execute_result",
          "data": {
            "text/plain": [
              "array(['Yes', 'No', ''], dtype=object)"
            ]
          },
          "metadata": {},
          "execution_count": 26
        }
      ]
    },
    {
      "cell_type": "code",
      "source": [
        "# Check unique values for EXERANY2\n",
        "pandas_df.EXERANY2.unique()"
      ],
      "metadata": {
        "colab": {
          "base_uri": "https://localhost:8080/"
        },
        "id": "Jb2-q-fWYU3b",
        "outputId": "71c80301-eb45-4eb3-9b10-8fa7cbbe0a04"
      },
      "execution_count": null,
      "outputs": [
        {
          "output_type": "execute_result",
          "data": {
            "text/plain": [
              "array([2., 1., 7., 9.])"
            ]
          },
          "metadata": {},
          "execution_count": 27
        }
      ]
    },
    {
      "cell_type": "code",
      "source": [
        "# Replace values based on responses in survey for EXERANY2\n",
        "pandas_df[\"EXERANY2\"] = pandas_df[\"EXERANY2\"].replace({1.:\"Yes\"}).replace({2.:\"No\"}).replace({7.:\"\"}).replace({9.:\"\"})\n",
        "pandas_df.EXERANY2.unique()"
      ],
      "metadata": {
        "colab": {
          "base_uri": "https://localhost:8080/"
        },
        "id": "EXr7EybZYeC5",
        "outputId": "ec752dcf-ecf3-4c94-b2c7-8a3021a4259d"
      },
      "execution_count": null,
      "outputs": [
        {
          "output_type": "execute_result",
          "data": {
            "text/plain": [
              "array(['No', 'Yes', ''], dtype=object)"
            ]
          },
          "metadata": {},
          "execution_count": 28
        }
      ]
    },
    {
      "cell_type": "code",
      "source": [
        "# Check unique values for DIABETE4\n",
        "pandas_df.DIABETE4.unique()"
      ],
      "metadata": {
        "colab": {
          "base_uri": "https://localhost:8080/"
        },
        "id": "4nvZ4JbWeV4t",
        "outputId": "38389976-4a8a-44e9-f55d-779f3b79d596"
      },
      "execution_count": 33,
      "outputs": [
        {
          "output_type": "execute_result",
          "data": {
            "text/plain": [
              "array([3., 1., 4., 2., 7., 9.])"
            ]
          },
          "metadata": {},
          "execution_count": 33
        }
      ]
    },
    {
      "cell_type": "code",
      "source": [
        "# Replace values based on responses for DIABETE4\n",
        "pandas_df = pandas_df.replace({\"DIABETE4\": {1.: \"Yes\", 2.: \"Yes but female told only during pregnancy\", 3.: \"No\", 4.: \"No, prediabetes or borderline diabetes\", 7.: \"\", 9.:\"\"}})\n"
      ],
      "metadata": {
        "id": "rfICeetwdxEp"
      },
      "execution_count": 36,
      "outputs": []
    },
    {
      "cell_type": "code",
      "source": [
        "# Check unique values for FRUIT2\n",
        "pandas_df.FRUIT2.unique()"
      ],
      "metadata": {
        "colab": {
          "base_uri": "https://localhost:8080/"
        },
        "id": "u0GTcbAPgKVU",
        "outputId": "3b7b22d9-aa7e-49fe-9f3b-3923629685d3"
      },
      "execution_count": 37,
      "outputs": [
        {
          "output_type": "execute_result",
          "data": {
            "text/plain": [
              "array([101., 203., 202., 312., 204., 205., 302., 102., 301., 330., 555.,\n",
              "       307., 300., 201., 305., 303., 306., 103., 777., 207., 308., 220.,\n",
              "       206., 315., 310., 105., 304., 235., 320., 325., 314., 104., 106.,\n",
              "       208., 107., 316., 309., 317., 390., 360., 999., 345., 210., 340.,\n",
              "       221., 215., 110., 130., 399., 230., 199., 299., 335., 324., 214.,\n",
              "       212., 328., 125., 327., 114., 336., 250., 218., 108., 209., 326.,\n",
              "       350., 323., 318., 321., 342., 322., 115., 120., 109., 118., 123.,\n",
              "       180., 216., 160., 150., 311., 113., 380., 192., 225., 228., 329.,\n",
              "       332., 370., 240., 122., 294., 211., 112., 339., 375., 331., 392.,\n",
              "       363., 127., 111., 333., 121., 384., 226., 131., 313., 241., 134.,\n",
              "       344., 222., 116., 365., 355., 224., 338., 232., 397., 124., 227.,\n",
              "       319., 188., 213., 223., 334., 293., 190., 193., 166., 398., 337.,\n",
              "       217., 260., 396., 119., 117., 198., 341., 275., 261., 128., 191.,\n",
              "       348., 139., 298., 255., 133., 189., 140., 177., 291., 233., 354.,\n",
              "       388., 219., 132., 145., 245., 292., 251., 362., 165., 385., 366.,\n",
              "       352., 135.])"
            ]
          },
          "metadata": {},
          "execution_count": 37
        }
      ]
    },
    {
      "cell_type": "code",
      "source": [
        "#FRUIT2\t!!!! This needs to be updated - see above for values\n",
        "pandas_df = pandas_df.replace({\"FRUIT2\":{300:\"Less than once per month\", 555:\"Never\", 777:\"Don't know\", 999:\"Refused\"}})"
      ],
      "metadata": {
        "id": "h2mD7kdOfu8t"
      },
      "execution_count": null,
      "outputs": []
    },
    {
      "cell_type": "code",
      "source": [
        "# Check unique values for VEGETEB2\n",
        "pandas_df.VEGETAB2.unique()"
      ],
      "metadata": {
        "colab": {
          "base_uri": "https://localhost:8080/"
        },
        "id": "EX5UqwAfgfdR",
        "outputId": "cfc217c6-82d2-4787-c81c-220c5c0db42b"
      },
      "execution_count": 39,
      "outputs": [
        {
          "output_type": "execute_result",
          "data": {
            "text/plain": [
              "array([101., 203., 205., 201., 202., 204., 303., 207., 330., 306., 102.,\n",
              "       105., 555., 777., 307., 301., 310., 320., 315., 225., 329., 104.,\n",
              "       304., 302., 206., 103., 214., 325., 312., 316., 300., 210., 308.,\n",
              "       328., 305., 314., 360., 209., 107., 327., 212., 333., 318., 324.,\n",
              "       365., 326., 317., 340., 999., 311., 309., 323., 220., 321., 106.,\n",
              "       313., 215., 199., 345., 128., 399., 355., 130., 350., 125., 115.,\n",
              "       356., 223., 114., 112., 332., 208., 331., 109., 322., 335., 250.,\n",
              "       299., 375., 150., 390., 119., 230., 108., 120., 111., 110., 160.,\n",
              "       240., 175., 354., 319., 218., 348., 191., 370., 233., 217., 228.,\n",
              "       221., 127., 245., 129., 380., 165., 211., 260., 124., 123., 339.,\n",
              "       140., 338., 222., 227., 121., 292., 336., 192., 280., 295., 213.,\n",
              "       359., 226., 358., 216., 362., 342., 393., 134., 189., 133., 382.,\n",
              "       122., 231., 166., 275., 116., 139., 131., 352., 294., 180., 117.,\n",
              "       177., 395., 269., 296., 171., 118., 337., 353., 234., 232.])"
            ]
          },
          "metadata": {},
          "execution_count": 39
        }
      ]
    },
    {
      "cell_type": "code",
      "source": [
        "#VEGETEB2!!!! This needs to be updated - see above for values\n",
        "pandas_df = pandas_df.replace({\"VEGETAB2\":{300.: \"Less than once per month\", 555.: \"Never\", 777.: \"Don't know/not sure\", 999.: \"Refused\"}})"
      ],
      "metadata": {
        "id": "IZ3KY1jOg0Xr"
      },
      "execution_count": null,
      "outputs": []
    },
    {
      "cell_type": "code",
      "source": [
        "# Check unique values for MEDCOST1\n",
        "pandas_df.MEDCOST1.unique()"
      ],
      "metadata": {
        "colab": {
          "base_uri": "https://localhost:8080/"
        },
        "id": "5z0Qgx5cg7-J",
        "outputId": "9fcc3ec6-c0b0-45c7-a200-0b81e0870b85"
      },
      "execution_count": 41,
      "outputs": [
        {
          "output_type": "execute_result",
          "data": {
            "text/plain": [
              "array([2., 1., 7., 9.])"
            ]
          },
          "metadata": {},
          "execution_count": 41
        }
      ]
    },
    {
      "cell_type": "code",
      "source": [
        "#MEDCOST1\tupdates with survey results\n",
        "pandas_df = pandas_df.replace({\"MEDCOST1\":{1.:\"Yes\"}})\n",
        "pandas_df = pandas_df.replace({\"MEDCOST1\":{2.:\"No\"}})\n",
        "pandas_df = pandas_df.replace({\"MEDCOST1\":{7.:\"\"}})\n",
        "pandas_df = pandas_df.replace({\"MEDCOST1\":{9.:\"\"}})"
      ],
      "metadata": {
        "id": "2JkmtpNThVOl"
      },
      "execution_count": 45,
      "outputs": []
    },
    {
      "cell_type": "code",
      "source": [
        "# Check unique values for _SEX\n",
        "pandas_df._SEX.unique()"
      ],
      "metadata": {
        "colab": {
          "base_uri": "https://localhost:8080/"
        },
        "id": "d_wVIEAqkmfv",
        "outputId": "b4b3f43e-a6af-40bd-9f13-df9ae6d3802b"
      },
      "execution_count": 42,
      "outputs": [
        {
          "output_type": "execute_result",
          "data": {
            "text/plain": [
              "array([2., 1.])"
            ]
          },
          "metadata": {},
          "execution_count": 42
        }
      ]
    },
    {
      "cell_type": "code",
      "source": [
        "#_SEX\n",
        "pandas_df = pandas_df.replace({\"_SEX\":{1.:\"Male\", 2.:\"Female\"}})"
      ],
      "metadata": {
        "id": "YqsvFpnBkmoB"
      },
      "execution_count": 43,
      "outputs": []
    },
    {
      "cell_type": "code",
      "source": [
        "# Check unique values for BPHIGH6\n",
        "pandas_df.BPHIGH6.unique()"
      ],
      "metadata": {
        "colab": {
          "base_uri": "https://localhost:8080/"
        },
        "id": "P4HL1DFRlisZ",
        "outputId": "424dd9eb-19cc-4c28-ae39-e28a8911f40e"
      },
      "execution_count": 47,
      "outputs": [
        {
          "output_type": "execute_result",
          "data": {
            "text/plain": [
              "array([3., 1., 4., 2., 7., 9.])"
            ]
          },
          "metadata": {},
          "execution_count": 47
        }
      ]
    },
    {
      "cell_type": "code",
      "source": [
        "# Replace values based on responses for BPHIGH6\n",
        "pandas_df = pandas_df.replace({\"BPHIGH6\": {1.: \"Yes\", 2.: \"Yes but female told only during pregnancy\", 3.: \"No\", 4.: \"No, prediabetes or borderline diabetes\", 7.: \"\", 9.:\"\"}})"
      ],
      "metadata": {
        "id": "40L4T1kgli0Z"
      },
      "execution_count": 48,
      "outputs": []
    },
    {
      "cell_type": "code",
      "source": [
        "pandas_df"
      ],
      "metadata": {
        "colab": {
          "base_uri": "https://localhost:8080/",
          "height": 867
        },
        "id": "EQWYfc47Yq6V",
        "outputId": "caf3716c-32b2-499e-e261-21319abba7be"
      },
      "execution_count": 49,
      "outputs": [
        {
          "output_type": "execute_result",
          "data": {
            "text/plain": [
              "                                         DIABETE4        _RACE TOLDHI3  \\\n",
              "0                                              No        White     Yes   \n",
              "2                                             Yes        Black      No   \n",
              "3                                             Yes        White     Yes   \n",
              "4                                             Yes  Multiracial     Yes   \n",
              "5                                              No        White      No   \n",
              "...                                           ...          ...     ...   \n",
              "438687                                        Yes     Hispanic     Yes   \n",
              "438688  Yes but female told only during pregnancy          NaN      No   \n",
              "438690                                         No        Black     Yes   \n",
              "438691                                         No          NaN      No   \n",
              "438692                                         No        Black     Yes   \n",
              "\n",
              "                                       BPHIGH6   _BMI5 SMOKE100 _RFBING5  \\\n",
              "0                                           No  1454.0      Yes      Yes   \n",
              "2                                          Yes  2829.0       No      Yes   \n",
              "3                                          Yes  3347.0       No       No   \n",
              "4       No, prediabetes or borderline diabetes  2873.0       No      Yes   \n",
              "5                                           No  2437.0      Yes      Yes   \n",
              "...                                        ...     ...      ...      ...   \n",
              "438687                                     Yes  2148.0       No       No   \n",
              "438688                                     Yes  2469.0      Yes      Yes   \n",
              "438690                                      No  3068.0       No      Yes   \n",
              "438691                                     Yes  2373.0       No      Yes   \n",
              "438692                                      No  3171.0       No      Yes   \n",
              "\n",
              "                   EDUCA    GENHLTH  _AGEG5YR EXERANY2  FRUIT2  VEGETAB2  \\\n",
              "0       High School Grad       Poor      11.0       No   101.0     101.0   \n",
              "2       High School Grad  Very Good      11.0       No   101.0     203.0   \n",
              "3       High School Grad  Very Good       9.0      Yes   203.0     205.0   \n",
              "4       Some High School       Poor      12.0      Yes   101.0     101.0   \n",
              "5           Some College       Good      13.0       No   202.0     201.0   \n",
              "...                  ...        ...       ...      ...     ...       ...   \n",
              "438687        Elementary       Fair      10.0      Yes   315.0     205.0   \n",
              "438688  High School Grad  Very Good       3.0      Yes   210.0     103.0   \n",
              "438690      College Grad  Very Good       7.0      Yes   102.0     101.0   \n",
              "438691  High School Grad  Very Good      10.0      Yes   101.0     101.0   \n",
              "438692      College Grad  Excellent       6.0      Yes   305.0     305.0   \n",
              "\n",
              "                      _INCOMG1 MEDCOST1    _SEX  \n",
              "0         $25,000 to < $35,000       No  Female  \n",
              "2         $15,000 to < $25,000       No  Female  \n",
              "3        $50,000 to < $100,000       No  Female  \n",
              "4         $15,000 to < $25,000       No    Male  \n",
              "5         $35,000 to < $50,000       No    Male  \n",
              "...                        ...      ...     ...  \n",
              "438687    $15,000 to < $25,000       No    Male  \n",
              "438688    $25,000 to < $35,000      Yes  Female  \n",
              "438690  $100,000 to < $200,000       No    Male  \n",
              "438691    $35,000 to < $50,000       No    Male  \n",
              "438692    $35,000 to < $50,000       No  Female  \n",
              "\n",
              "[319363 rows x 16 columns]"
            ],
            "text/html": [
              "\n",
              "  <div id=\"df-a64d2d91-80f7-46b7-9bd3-160aad666d1d\">\n",
              "    <div class=\"colab-df-container\">\n",
              "      <div>\n",
              "<style scoped>\n",
              "    .dataframe tbody tr th:only-of-type {\n",
              "        vertical-align: middle;\n",
              "    }\n",
              "\n",
              "    .dataframe tbody tr th {\n",
              "        vertical-align: top;\n",
              "    }\n",
              "\n",
              "    .dataframe thead th {\n",
              "        text-align: right;\n",
              "    }\n",
              "</style>\n",
              "<table border=\"1\" class=\"dataframe\">\n",
              "  <thead>\n",
              "    <tr style=\"text-align: right;\">\n",
              "      <th></th>\n",
              "      <th>DIABETE4</th>\n",
              "      <th>_RACE</th>\n",
              "      <th>TOLDHI3</th>\n",
              "      <th>BPHIGH6</th>\n",
              "      <th>_BMI5</th>\n",
              "      <th>SMOKE100</th>\n",
              "      <th>_RFBING5</th>\n",
              "      <th>EDUCA</th>\n",
              "      <th>GENHLTH</th>\n",
              "      <th>_AGEG5YR</th>\n",
              "      <th>EXERANY2</th>\n",
              "      <th>FRUIT2</th>\n",
              "      <th>VEGETAB2</th>\n",
              "      <th>_INCOMG1</th>\n",
              "      <th>MEDCOST1</th>\n",
              "      <th>_SEX</th>\n",
              "    </tr>\n",
              "  </thead>\n",
              "  <tbody>\n",
              "    <tr>\n",
              "      <th>0</th>\n",
              "      <td>No</td>\n",
              "      <td>White</td>\n",
              "      <td>Yes</td>\n",
              "      <td>No</td>\n",
              "      <td>1454.0</td>\n",
              "      <td>Yes</td>\n",
              "      <td>Yes</td>\n",
              "      <td>High School Grad</td>\n",
              "      <td>Poor</td>\n",
              "      <td>11.0</td>\n",
              "      <td>No</td>\n",
              "      <td>101.0</td>\n",
              "      <td>101.0</td>\n",
              "      <td>$25,000 to &lt; $35,000</td>\n",
              "      <td>No</td>\n",
              "      <td>Female</td>\n",
              "    </tr>\n",
              "    <tr>\n",
              "      <th>2</th>\n",
              "      <td>Yes</td>\n",
              "      <td>Black</td>\n",
              "      <td>No</td>\n",
              "      <td>Yes</td>\n",
              "      <td>2829.0</td>\n",
              "      <td>No</td>\n",
              "      <td>Yes</td>\n",
              "      <td>High School Grad</td>\n",
              "      <td>Very Good</td>\n",
              "      <td>11.0</td>\n",
              "      <td>No</td>\n",
              "      <td>101.0</td>\n",
              "      <td>203.0</td>\n",
              "      <td>$15,000 to &lt; $25,000</td>\n",
              "      <td>No</td>\n",
              "      <td>Female</td>\n",
              "    </tr>\n",
              "    <tr>\n",
              "      <th>3</th>\n",
              "      <td>Yes</td>\n",
              "      <td>White</td>\n",
              "      <td>Yes</td>\n",
              "      <td>Yes</td>\n",
              "      <td>3347.0</td>\n",
              "      <td>No</td>\n",
              "      <td>No</td>\n",
              "      <td>High School Grad</td>\n",
              "      <td>Very Good</td>\n",
              "      <td>9.0</td>\n",
              "      <td>Yes</td>\n",
              "      <td>203.0</td>\n",
              "      <td>205.0</td>\n",
              "      <td>$50,000 to &lt; $100,000</td>\n",
              "      <td>No</td>\n",
              "      <td>Female</td>\n",
              "    </tr>\n",
              "    <tr>\n",
              "      <th>4</th>\n",
              "      <td>Yes</td>\n",
              "      <td>Multiracial</td>\n",
              "      <td>Yes</td>\n",
              "      <td>No, prediabetes or borderline diabetes</td>\n",
              "      <td>2873.0</td>\n",
              "      <td>No</td>\n",
              "      <td>Yes</td>\n",
              "      <td>Some High School</td>\n",
              "      <td>Poor</td>\n",
              "      <td>12.0</td>\n",
              "      <td>Yes</td>\n",
              "      <td>101.0</td>\n",
              "      <td>101.0</td>\n",
              "      <td>$15,000 to &lt; $25,000</td>\n",
              "      <td>No</td>\n",
              "      <td>Male</td>\n",
              "    </tr>\n",
              "    <tr>\n",
              "      <th>5</th>\n",
              "      <td>No</td>\n",
              "      <td>White</td>\n",
              "      <td>No</td>\n",
              "      <td>No</td>\n",
              "      <td>2437.0</td>\n",
              "      <td>Yes</td>\n",
              "      <td>Yes</td>\n",
              "      <td>Some College</td>\n",
              "      <td>Good</td>\n",
              "      <td>13.0</td>\n",
              "      <td>No</td>\n",
              "      <td>202.0</td>\n",
              "      <td>201.0</td>\n",
              "      <td>$35,000 to &lt; $50,000</td>\n",
              "      <td>No</td>\n",
              "      <td>Male</td>\n",
              "    </tr>\n",
              "    <tr>\n",
              "      <th>...</th>\n",
              "      <td>...</td>\n",
              "      <td>...</td>\n",
              "      <td>...</td>\n",
              "      <td>...</td>\n",
              "      <td>...</td>\n",
              "      <td>...</td>\n",
              "      <td>...</td>\n",
              "      <td>...</td>\n",
              "      <td>...</td>\n",
              "      <td>...</td>\n",
              "      <td>...</td>\n",
              "      <td>...</td>\n",
              "      <td>...</td>\n",
              "      <td>...</td>\n",
              "      <td>...</td>\n",
              "      <td>...</td>\n",
              "    </tr>\n",
              "    <tr>\n",
              "      <th>438687</th>\n",
              "      <td>Yes</td>\n",
              "      <td>Hispanic</td>\n",
              "      <td>Yes</td>\n",
              "      <td>Yes</td>\n",
              "      <td>2148.0</td>\n",
              "      <td>No</td>\n",
              "      <td>No</td>\n",
              "      <td>Elementary</td>\n",
              "      <td>Fair</td>\n",
              "      <td>10.0</td>\n",
              "      <td>Yes</td>\n",
              "      <td>315.0</td>\n",
              "      <td>205.0</td>\n",
              "      <td>$15,000 to &lt; $25,000</td>\n",
              "      <td>No</td>\n",
              "      <td>Male</td>\n",
              "    </tr>\n",
              "    <tr>\n",
              "      <th>438688</th>\n",
              "      <td>Yes but female told only during pregnancy</td>\n",
              "      <td>NaN</td>\n",
              "      <td>No</td>\n",
              "      <td>Yes</td>\n",
              "      <td>2469.0</td>\n",
              "      <td>Yes</td>\n",
              "      <td>Yes</td>\n",
              "      <td>High School Grad</td>\n",
              "      <td>Very Good</td>\n",
              "      <td>3.0</td>\n",
              "      <td>Yes</td>\n",
              "      <td>210.0</td>\n",
              "      <td>103.0</td>\n",
              "      <td>$25,000 to &lt; $35,000</td>\n",
              "      <td>Yes</td>\n",
              "      <td>Female</td>\n",
              "    </tr>\n",
              "    <tr>\n",
              "      <th>438690</th>\n",
              "      <td>No</td>\n",
              "      <td>Black</td>\n",
              "      <td>Yes</td>\n",
              "      <td>No</td>\n",
              "      <td>3068.0</td>\n",
              "      <td>No</td>\n",
              "      <td>Yes</td>\n",
              "      <td>College Grad</td>\n",
              "      <td>Very Good</td>\n",
              "      <td>7.0</td>\n",
              "      <td>Yes</td>\n",
              "      <td>102.0</td>\n",
              "      <td>101.0</td>\n",
              "      <td>$100,000 to &lt; $200,000</td>\n",
              "      <td>No</td>\n",
              "      <td>Male</td>\n",
              "    </tr>\n",
              "    <tr>\n",
              "      <th>438691</th>\n",
              "      <td>No</td>\n",
              "      <td>NaN</td>\n",
              "      <td>No</td>\n",
              "      <td>Yes</td>\n",
              "      <td>2373.0</td>\n",
              "      <td>No</td>\n",
              "      <td>Yes</td>\n",
              "      <td>High School Grad</td>\n",
              "      <td>Very Good</td>\n",
              "      <td>10.0</td>\n",
              "      <td>Yes</td>\n",
              "      <td>101.0</td>\n",
              "      <td>101.0</td>\n",
              "      <td>$35,000 to &lt; $50,000</td>\n",
              "      <td>No</td>\n",
              "      <td>Male</td>\n",
              "    </tr>\n",
              "    <tr>\n",
              "      <th>438692</th>\n",
              "      <td>No</td>\n",
              "      <td>Black</td>\n",
              "      <td>Yes</td>\n",
              "      <td>No</td>\n",
              "      <td>3171.0</td>\n",
              "      <td>No</td>\n",
              "      <td>Yes</td>\n",
              "      <td>College Grad</td>\n",
              "      <td>Excellent</td>\n",
              "      <td>6.0</td>\n",
              "      <td>Yes</td>\n",
              "      <td>305.0</td>\n",
              "      <td>305.0</td>\n",
              "      <td>$35,000 to &lt; $50,000</td>\n",
              "      <td>No</td>\n",
              "      <td>Female</td>\n",
              "    </tr>\n",
              "  </tbody>\n",
              "</table>\n",
              "<p>319363 rows × 16 columns</p>\n",
              "</div>\n",
              "      <button class=\"colab-df-convert\" onclick=\"convertToInteractive('df-a64d2d91-80f7-46b7-9bd3-160aad666d1d')\"\n",
              "              title=\"Convert this dataframe to an interactive table.\"\n",
              "              style=\"display:none;\">\n",
              "        \n",
              "  <svg xmlns=\"http://www.w3.org/2000/svg\" height=\"24px\"viewBox=\"0 0 24 24\"\n",
              "       width=\"24px\">\n",
              "    <path d=\"M0 0h24v24H0V0z\" fill=\"none\"/>\n",
              "    <path d=\"M18.56 5.44l.94 2.06.94-2.06 2.06-.94-2.06-.94-.94-2.06-.94 2.06-2.06.94zm-11 1L8.5 8.5l.94-2.06 2.06-.94-2.06-.94L8.5 2.5l-.94 2.06-2.06.94zm10 10l.94 2.06.94-2.06 2.06-.94-2.06-.94-.94-2.06-.94 2.06-2.06.94z\"/><path d=\"M17.41 7.96l-1.37-1.37c-.4-.4-.92-.59-1.43-.59-.52 0-1.04.2-1.43.59L10.3 9.45l-7.72 7.72c-.78.78-.78 2.05 0 2.83L4 21.41c.39.39.9.59 1.41.59.51 0 1.02-.2 1.41-.59l7.78-7.78 2.81-2.81c.8-.78.8-2.07 0-2.86zM5.41 20L4 18.59l7.72-7.72 1.47 1.35L5.41 20z\"/>\n",
              "  </svg>\n",
              "      </button>\n",
              "      \n",
              "  <style>\n",
              "    .colab-df-container {\n",
              "      display:flex;\n",
              "      flex-wrap:wrap;\n",
              "      gap: 12px;\n",
              "    }\n",
              "\n",
              "    .colab-df-convert {\n",
              "      background-color: #E8F0FE;\n",
              "      border: none;\n",
              "      border-radius: 50%;\n",
              "      cursor: pointer;\n",
              "      display: none;\n",
              "      fill: #1967D2;\n",
              "      height: 32px;\n",
              "      padding: 0 0 0 0;\n",
              "      width: 32px;\n",
              "    }\n",
              "\n",
              "    .colab-df-convert:hover {\n",
              "      background-color: #E2EBFA;\n",
              "      box-shadow: 0px 1px 2px rgba(60, 64, 67, 0.3), 0px 1px 3px 1px rgba(60, 64, 67, 0.15);\n",
              "      fill: #174EA6;\n",
              "    }\n",
              "\n",
              "    [theme=dark] .colab-df-convert {\n",
              "      background-color: #3B4455;\n",
              "      fill: #D2E3FC;\n",
              "    }\n",
              "\n",
              "    [theme=dark] .colab-df-convert:hover {\n",
              "      background-color: #434B5C;\n",
              "      box-shadow: 0px 1px 3px 1px rgba(0, 0, 0, 0.15);\n",
              "      filter: drop-shadow(0px 1px 2px rgba(0, 0, 0, 0.3));\n",
              "      fill: #FFFFFF;\n",
              "    }\n",
              "  </style>\n",
              "\n",
              "      <script>\n",
              "        const buttonEl =\n",
              "          document.querySelector('#df-a64d2d91-80f7-46b7-9bd3-160aad666d1d button.colab-df-convert');\n",
              "        buttonEl.style.display =\n",
              "          google.colab.kernel.accessAllowed ? 'block' : 'none';\n",
              "\n",
              "        async function convertToInteractive(key) {\n",
              "          const element = document.querySelector('#df-a64d2d91-80f7-46b7-9bd3-160aad666d1d');\n",
              "          const dataTable =\n",
              "            await google.colab.kernel.invokeFunction('convertToInteractive',\n",
              "                                                     [key], {});\n",
              "          if (!dataTable) return;\n",
              "\n",
              "          const docLinkHtml = 'Like what you see? Visit the ' +\n",
              "            '<a target=\"_blank\" href=https://colab.research.google.com/notebooks/data_table.ipynb>data table notebook</a>'\n",
              "            + ' to learn more about interactive tables.';\n",
              "          element.innerHTML = '';\n",
              "          dataTable['output_type'] = 'display_data';\n",
              "          await google.colab.output.renderOutput(dataTable, element);\n",
              "          const docLink = document.createElement('div');\n",
              "          docLink.innerHTML = docLinkHtml;\n",
              "          element.appendChild(docLink);\n",
              "        }\n",
              "      </script>\n",
              "    </div>\n",
              "  </div>\n",
              "  "
            ]
          },
          "metadata": {},
          "execution_count": 49
        }
      ]
    },
    {
      "cell_type": "code",
      "source": [
        "pandas_df=pandas_df.mask(pandas_df == \"\")"
      ],
      "metadata": {
        "id": "LDlA6_D8pay9"
      },
      "execution_count": 50,
      "outputs": []
    },
    {
      "cell_type": "code",
      "source": [
        "pandas_df.isna().sum()"
      ],
      "metadata": {
        "id": "cXawS7Dqpa4J",
        "colab": {
          "base_uri": "https://localhost:8080/"
        },
        "outputId": "c2e6d3ea-1bce-4c47-dd44-d41b3fa82e2c"
      },
      "execution_count": 51,
      "outputs": [
        {
          "output_type": "execute_result",
          "data": {
            "text/plain": [
              "DIABETE4      402\n",
              "_RACE        5867\n",
              "TOLDHI3      2425\n",
              "BPHIGH6       842\n",
              "_BMI5           0\n",
              "SMOKE100     1814\n",
              "_RFBING5     5305\n",
              "EDUCA         689\n",
              "GENHLTH       611\n",
              "_AGEG5YR        0\n",
              "EXERANY2      477\n",
              "FRUIT2          0\n",
              "VEGETAB2        0\n",
              "_INCOMG1    51064\n",
              "MEDCOST1      660\n",
              "_SEX            0\n",
              "dtype: int64"
            ]
          },
          "metadata": {},
          "execution_count": 51
        }
      ]
    },
    {
      "cell_type": "code",
      "source": [],
      "metadata": {
        "id": "L1HDh35v1rdA"
      },
      "execution_count": null,
      "outputs": []
    }
  ]
}